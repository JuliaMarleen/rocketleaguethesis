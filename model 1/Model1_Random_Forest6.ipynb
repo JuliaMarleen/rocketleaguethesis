{
 "cells": [
  {
   "cell_type": "markdown",
   "metadata": {},
   "source": [
    "# Random forests"
   ]
  },
  {
   "cell_type": "markdown",
   "metadata": {},
   "source": [
    "### Imports"
   ]
  },
  {
   "cell_type": "code",
   "execution_count": 1,
   "metadata": {},
   "outputs": [
    {
     "name": "stdout",
     "output_type": "stream",
     "text": [
      "pandas version: 2.2.3\n",
      "matplotlib version: 3.9.2\n",
      "seaborn version: 0.13.2\n",
      "numpy version: 1.26.4\n",
      "sklearn version: 1.1.3\n",
      "Python version: 3.9.21 (main, Dec 11 2024, 10:23:52) \n",
      "[Clang 14.0.6 ]\n"
     ]
    }
   ],
   "source": [
    "import pandas as pd\n",
    "import matplotlib.pyplot as plt\n",
    "import matplotlib\n",
    "import seaborn as sns\n",
    "import numpy as np\n",
    "\n",
    "print(f\"pandas version: {pd.__version__}\")\n",
    "print(f\"matplotlib version: {matplotlib.__version__}\")\n",
    "print(f\"seaborn version: {sns.__version__}\")\n",
    "print(f\"numpy version: {np.__version__}\")\n",
    "\n",
    "import sklearn\n",
    "print(f\"sklearn version: {sklearn.__version__}\")\n",
    "\n",
    "import sys\n",
    "print(f\"Python version: {sys.version}\")"
   ]
  },
  {
   "cell_type": "markdown",
   "metadata": {},
   "source": [
    "### Import data"
   ]
  },
  {
   "cell_type": "code",
   "execution_count": 2,
   "metadata": {},
   "outputs": [],
   "source": [
    "players_all = pd.read_csv('../games_by_players_all.csv', encoding='utf8')\n",
    "players_ranked = pd.read_csv('../games_by_players_ranked.csv', encoding='utf8')\n",
    "players_pro = pd.read_csv('../games_by_players_pro.csv', encoding='utf8')\n",
    "\n",
    "teams_all = pd.read_csv('../games_by_team_all_added_features.csv', encoding='utf8')\n",
    "teams_ranked = pd.read_csv('../games_by_team_ranked_added_features.csv', encoding='utf8')\n",
    "teams_pro = pd.read_csv('../games_by_team_pro_added_features.csv', encoding='utf8')\n",
    "\n",
    "small_file = pd.read_csv('../small_csv_file.csv', encoding='utf8')"
   ]
  },
  {
   "cell_type": "code",
   "execution_count": 3,
   "metadata": {},
   "outputs": [
    {
     "name": "stdout",
     "output_type": "stream",
     "text": [
      "winner\n",
      "True     0.501909\n",
      "False    0.498091\n",
      "Name: proportion, dtype: float64\n"
     ]
    }
   ],
   "source": [
    "print(players_all['winner'].value_counts(normalize=True))"
   ]
  },
  {
   "cell_type": "code",
   "execution_count": 4,
   "metadata": {},
   "outputs": [],
   "source": [
    "\n",
    "players_all = players_all.drop(columns = ['game_id', 'player_tag', 'pro'])\n",
    "players_ranked = players_ranked.drop(columns = ['game_id', 'player_tag', 'pro'])\n",
    "players_pro = players_pro.drop(columns = ['game_id', 'player_tag', 'pro'])\n",
    "\n",
    "small_file = small_file.drop(columns = ['game_id', 'player_tag', 'pro'])\n",
    "\n",
    "\n",
    "# Team\n",
    "teams_all = teams_all.drop(columns = ['pro'])\n",
    "teams_ranked = teams_ranked.drop(columns = ['pro'])\n",
    "teams_pro = teams_pro.drop(columns = ['pro'])\n"
   ]
  },
  {
   "cell_type": "code",
   "execution_count": 5,
   "metadata": {},
   "outputs": [
    {
     "data": {
      "text/html": [
       "<div>\n",
       "<style scoped>\n",
       "    .dataframe tbody tr th:only-of-type {\n",
       "        vertical-align: middle;\n",
       "    }\n",
       "\n",
       "    .dataframe tbody tr th {\n",
       "        vertical-align: top;\n",
       "    }\n",
       "\n",
       "    .dataframe thead th {\n",
       "        text-align: right;\n",
       "    }\n",
       "</style>\n",
       "<table border=\"1\" class=\"dataframe\">\n",
       "  <thead>\n",
       "    <tr style=\"text-align: right;\">\n",
       "      <th></th>\n",
       "      <th>movement_avg_speed</th>\n",
       "      <th>movement_total_distance</th>\n",
       "      <th>movement_time_supersonic_speed</th>\n",
       "      <th>movement_time_boost_speed</th>\n",
       "      <th>movement_time_slow_speed</th>\n",
       "      <th>movement_time_ground</th>\n",
       "      <th>movement_time_low_air</th>\n",
       "      <th>movement_time_high_air</th>\n",
       "      <th>movement_time_powerslide</th>\n",
       "      <th>movement_count_powerslide</th>\n",
       "      <th>...</th>\n",
       "      <th>positioning_percent_neutral_third</th>\n",
       "      <th>positioning_percent_defensive_half</th>\n",
       "      <th>positioning_percent_offensive_half</th>\n",
       "      <th>positioning_percent_behind_ball</th>\n",
       "      <th>positioning_percent_infront_ball</th>\n",
       "      <th>positioning_percent_most_back</th>\n",
       "      <th>positioning_percent_most_forward</th>\n",
       "      <th>positioning_percent_closest_to_ball</th>\n",
       "      <th>positioning_percent_farthest_from_ball</th>\n",
       "      <th>winner</th>\n",
       "    </tr>\n",
       "  </thead>\n",
       "  <tbody>\n",
       "    <tr>\n",
       "      <th>0</th>\n",
       "      <td>1468.0</td>\n",
       "      <td>505882.0</td>\n",
       "      <td>40.34</td>\n",
       "      <td>142.29</td>\n",
       "      <td>196.16</td>\n",
       "      <td>219.80</td>\n",
       "      <td>143.43</td>\n",
       "      <td>15.56</td>\n",
       "      <td>8.01</td>\n",
       "      <td>68.0</td>\n",
       "      <td>...</td>\n",
       "      <td>26.72</td>\n",
       "      <td>83.53</td>\n",
       "      <td>16.47</td>\n",
       "      <td>75.83</td>\n",
       "      <td>24.17</td>\n",
       "      <td>31.88</td>\n",
       "      <td>28.71</td>\n",
       "      <td>39.66</td>\n",
       "      <td>28.51</td>\n",
       "      <td>False</td>\n",
       "    </tr>\n",
       "    <tr>\n",
       "      <th>1</th>\n",
       "      <td>1410.0</td>\n",
       "      <td>474841.0</td>\n",
       "      <td>41.74</td>\n",
       "      <td>122.11</td>\n",
       "      <td>208.83</td>\n",
       "      <td>248.88</td>\n",
       "      <td>115.01</td>\n",
       "      <td>8.80</td>\n",
       "      <td>5.41</td>\n",
       "      <td>30.0</td>\n",
       "      <td>...</td>\n",
       "      <td>24.45</td>\n",
       "      <td>79.52</td>\n",
       "      <td>20.48</td>\n",
       "      <td>67.56</td>\n",
       "      <td>32.44</td>\n",
       "      <td>31.06</td>\n",
       "      <td>36.93</td>\n",
       "      <td>31.49</td>\n",
       "      <td>32.85</td>\n",
       "      <td>False</td>\n",
       "    </tr>\n",
       "    <tr>\n",
       "      <th>2</th>\n",
       "      <td>1355.0</td>\n",
       "      <td>465999.0</td>\n",
       "      <td>35.87</td>\n",
       "      <td>119.38</td>\n",
       "      <td>223.64</td>\n",
       "      <td>212.03</td>\n",
       "      <td>145.07</td>\n",
       "      <td>21.79</td>\n",
       "      <td>7.24</td>\n",
       "      <td>36.0</td>\n",
       "      <td>...</td>\n",
       "      <td>26.17</td>\n",
       "      <td>80.77</td>\n",
       "      <td>19.23</td>\n",
       "      <td>67.72</td>\n",
       "      <td>32.28</td>\n",
       "      <td>37.22</td>\n",
       "      <td>32.79</td>\n",
       "      <td>27.29</td>\n",
       "      <td>38.78</td>\n",
       "      <td>False</td>\n",
       "    </tr>\n",
       "    <tr>\n",
       "      <th>3</th>\n",
       "      <td>1455.0</td>\n",
       "      <td>500485.0</td>\n",
       "      <td>41.75</td>\n",
       "      <td>130.76</td>\n",
       "      <td>206.38</td>\n",
       "      <td>231.33</td>\n",
       "      <td>123.58</td>\n",
       "      <td>23.97</td>\n",
       "      <td>5.61</td>\n",
       "      <td>49.0</td>\n",
       "      <td>...</td>\n",
       "      <td>29.87</td>\n",
       "      <td>54.02</td>\n",
       "      <td>45.98</td>\n",
       "      <td>77.37</td>\n",
       "      <td>22.63</td>\n",
       "      <td>28.14</td>\n",
       "      <td>44.34</td>\n",
       "      <td>41.22</td>\n",
       "      <td>29.30</td>\n",
       "      <td>True</td>\n",
       "    </tr>\n",
       "    <tr>\n",
       "      <th>4</th>\n",
       "      <td>1518.0</td>\n",
       "      <td>521069.0</td>\n",
       "      <td>50.22</td>\n",
       "      <td>149.49</td>\n",
       "      <td>179.09</td>\n",
       "      <td>241.24</td>\n",
       "      <td>128.04</td>\n",
       "      <td>9.51</td>\n",
       "      <td>3.34</td>\n",
       "      <td>32.0</td>\n",
       "      <td>...</td>\n",
       "      <td>35.38</td>\n",
       "      <td>61.49</td>\n",
       "      <td>38.51</td>\n",
       "      <td>79.66</td>\n",
       "      <td>20.34</td>\n",
       "      <td>29.56</td>\n",
       "      <td>30.44</td>\n",
       "      <td>30.15</td>\n",
       "      <td>34.75</td>\n",
       "      <td>True</td>\n",
       "    </tr>\n",
       "  </tbody>\n",
       "</table>\n",
       "<p>5 rows × 45 columns</p>\n",
       "</div>"
      ],
      "text/plain": [
       "   movement_avg_speed  movement_total_distance  \\\n",
       "0              1468.0                 505882.0   \n",
       "1              1410.0                 474841.0   \n",
       "2              1355.0                 465999.0   \n",
       "3              1455.0                 500485.0   \n",
       "4              1518.0                 521069.0   \n",
       "\n",
       "   movement_time_supersonic_speed  movement_time_boost_speed  \\\n",
       "0                           40.34                     142.29   \n",
       "1                           41.74                     122.11   \n",
       "2                           35.87                     119.38   \n",
       "3                           41.75                     130.76   \n",
       "4                           50.22                     149.49   \n",
       "\n",
       "   movement_time_slow_speed  movement_time_ground  movement_time_low_air  \\\n",
       "0                    196.16                219.80                 143.43   \n",
       "1                    208.83                248.88                 115.01   \n",
       "2                    223.64                212.03                 145.07   \n",
       "3                    206.38                231.33                 123.58   \n",
       "4                    179.09                241.24                 128.04   \n",
       "\n",
       "   movement_time_high_air  movement_time_powerslide  \\\n",
       "0                   15.56                      8.01   \n",
       "1                    8.80                      5.41   \n",
       "2                   21.79                      7.24   \n",
       "3                   23.97                      5.61   \n",
       "4                    9.51                      3.34   \n",
       "\n",
       "   movement_count_powerslide  ...  positioning_percent_neutral_third  \\\n",
       "0                       68.0  ...                              26.72   \n",
       "1                       30.0  ...                              24.45   \n",
       "2                       36.0  ...                              26.17   \n",
       "3                       49.0  ...                              29.87   \n",
       "4                       32.0  ...                              35.38   \n",
       "\n",
       "   positioning_percent_defensive_half  positioning_percent_offensive_half  \\\n",
       "0                               83.53                               16.47   \n",
       "1                               79.52                               20.48   \n",
       "2                               80.77                               19.23   \n",
       "3                               54.02                               45.98   \n",
       "4                               61.49                               38.51   \n",
       "\n",
       "   positioning_percent_behind_ball  positioning_percent_infront_ball  \\\n",
       "0                            75.83                             24.17   \n",
       "1                            67.56                             32.44   \n",
       "2                            67.72                             32.28   \n",
       "3                            77.37                             22.63   \n",
       "4                            79.66                             20.34   \n",
       "\n",
       "   positioning_percent_most_back  positioning_percent_most_forward  \\\n",
       "0                          31.88                             28.71   \n",
       "1                          31.06                             36.93   \n",
       "2                          37.22                             32.79   \n",
       "3                          28.14                             44.34   \n",
       "4                          29.56                             30.44   \n",
       "\n",
       "   positioning_percent_closest_to_ball  \\\n",
       "0                                39.66   \n",
       "1                                31.49   \n",
       "2                                27.29   \n",
       "3                                41.22   \n",
       "4                                30.15   \n",
       "\n",
       "   positioning_percent_farthest_from_ball  winner  \n",
       "0                                   28.51   False  \n",
       "1                                   32.85   False  \n",
       "2                                   38.78   False  \n",
       "3                                   29.30    True  \n",
       "4                                   34.75    True  \n",
       "\n",
       "[5 rows x 45 columns]"
      ]
     },
     "execution_count": 5,
     "metadata": {},
     "output_type": "execute_result"
    }
   ],
   "source": [
    "players_all.head()"
   ]
  },
  {
   "cell_type": "code",
   "execution_count": 6,
   "metadata": {},
   "outputs": [
    {
     "data": {
      "text/html": [
       "<div>\n",
       "<style scoped>\n",
       "    .dataframe tbody tr th:only-of-type {\n",
       "        vertical-align: middle;\n",
       "    }\n",
       "\n",
       "    .dataframe tbody tr th {\n",
       "        vertical-align: top;\n",
       "    }\n",
       "\n",
       "    .dataframe thead th {\n",
       "        text-align: right;\n",
       "    }\n",
       "</style>\n",
       "<table border=\"1\" class=\"dataframe\">\n",
       "  <thead>\n",
       "    <tr style=\"text-align: right;\">\n",
       "      <th></th>\n",
       "      <th>movement_avg_speed_1</th>\n",
       "      <th>movement_total_distance_1</th>\n",
       "      <th>movement_time_supersonic_speed_1</th>\n",
       "      <th>movement_time_boost_speed_1</th>\n",
       "      <th>movement_time_slow_speed_1</th>\n",
       "      <th>movement_time_ground_1</th>\n",
       "      <th>movement_time_low_air_1</th>\n",
       "      <th>movement_time_high_air_1</th>\n",
       "      <th>movement_time_powerslide_1</th>\n",
       "      <th>movement_count_powerslide_1</th>\n",
       "      <th>...</th>\n",
       "      <th>avg_positioning_time_most_back</th>\n",
       "      <th>max_movement_percent_high_air</th>\n",
       "      <th>min_movement_percent_high_air</th>\n",
       "      <th>var_movement_percent_high_air</th>\n",
       "      <th>avg_movement_percent_high_air</th>\n",
       "      <th>max_movement_percent_supersonic_speed</th>\n",
       "      <th>min_movement_percent_supersonic_speed</th>\n",
       "      <th>var_movement_percent_supersonic_speed</th>\n",
       "      <th>avg_movement_percent_supersonic_speed</th>\n",
       "      <th>winner</th>\n",
       "    </tr>\n",
       "  </thead>\n",
       "  <tbody>\n",
       "    <tr>\n",
       "      <th>0</th>\n",
       "      <td>1468.0</td>\n",
       "      <td>505882.0</td>\n",
       "      <td>40.34</td>\n",
       "      <td>142.29</td>\n",
       "      <td>196.16</td>\n",
       "      <td>219.80</td>\n",
       "      <td>143.43</td>\n",
       "      <td>15.56</td>\n",
       "      <td>8.01</td>\n",
       "      <td>68.0</td>\n",
       "      <td>...</td>\n",
       "      <td>117.70</td>\n",
       "      <td>5.75</td>\n",
       "      <td>2.36</td>\n",
       "      <td>1.92</td>\n",
       "      <td>4.07</td>\n",
       "      <td>11.20</td>\n",
       "      <td>9.47</td>\n",
       "      <td>0.52</td>\n",
       "      <td>10.44</td>\n",
       "      <td>False</td>\n",
       "    </tr>\n",
       "    <tr>\n",
       "      <th>1</th>\n",
       "      <td>1455.0</td>\n",
       "      <td>500485.0</td>\n",
       "      <td>41.75</td>\n",
       "      <td>130.76</td>\n",
       "      <td>206.38</td>\n",
       "      <td>231.33</td>\n",
       "      <td>123.58</td>\n",
       "      <td>23.97</td>\n",
       "      <td>5.61</td>\n",
       "      <td>49.0</td>\n",
       "      <td>...</td>\n",
       "      <td>119.37</td>\n",
       "      <td>6.33</td>\n",
       "      <td>0.66</td>\n",
       "      <td>5.57</td>\n",
       "      <td>3.17</td>\n",
       "      <td>13.26</td>\n",
       "      <td>6.27</td>\n",
       "      <td>8.49</td>\n",
       "      <td>10.18</td>\n",
       "      <td>True</td>\n",
       "    </tr>\n",
       "    <tr>\n",
       "      <th>2</th>\n",
       "      <td>1430.0</td>\n",
       "      <td>561540.0</td>\n",
       "      <td>50.30</td>\n",
       "      <td>150.27</td>\n",
       "      <td>216.30</td>\n",
       "      <td>217.17</td>\n",
       "      <td>177.03</td>\n",
       "      <td>22.67</td>\n",
       "      <td>11.74</td>\n",
       "      <td>103.0</td>\n",
       "      <td>...</td>\n",
       "      <td>132.60</td>\n",
       "      <td>5.44</td>\n",
       "      <td>3.86</td>\n",
       "      <td>0.45</td>\n",
       "      <td>4.78</td>\n",
       "      <td>14.12</td>\n",
       "      <td>7.32</td>\n",
       "      <td>8.11</td>\n",
       "      <td>11.17</td>\n",
       "      <td>True</td>\n",
       "    </tr>\n",
       "    <tr>\n",
       "      <th>3</th>\n",
       "      <td>1559.0</td>\n",
       "      <td>609572.0</td>\n",
       "      <td>66.07</td>\n",
       "      <td>166.44</td>\n",
       "      <td>181.22</td>\n",
       "      <td>237.20</td>\n",
       "      <td>165.62</td>\n",
       "      <td>10.91</td>\n",
       "      <td>11.98</td>\n",
       "      <td>120.0</td>\n",
       "      <td>...</td>\n",
       "      <td>133.23</td>\n",
       "      <td>5.50</td>\n",
       "      <td>2.64</td>\n",
       "      <td>1.37</td>\n",
       "      <td>4.14</td>\n",
       "      <td>15.97</td>\n",
       "      <td>7.48</td>\n",
       "      <td>12.22</td>\n",
       "      <td>11.40</td>\n",
       "      <td>False</td>\n",
       "    </tr>\n",
       "    <tr>\n",
       "      <th>4</th>\n",
       "      <td>1486.0</td>\n",
       "      <td>486636.0</td>\n",
       "      <td>27.96</td>\n",
       "      <td>145.74</td>\n",
       "      <td>177.11</td>\n",
       "      <td>218.76</td>\n",
       "      <td>123.81</td>\n",
       "      <td>8.24</td>\n",
       "      <td>7.00</td>\n",
       "      <td>62.0</td>\n",
       "      <td>...</td>\n",
       "      <td>114.97</td>\n",
       "      <td>6.45</td>\n",
       "      <td>1.25</td>\n",
       "      <td>5.01</td>\n",
       "      <td>3.35</td>\n",
       "      <td>11.70</td>\n",
       "      <td>7.29</td>\n",
       "      <td>3.76</td>\n",
       "      <td>8.99</td>\n",
       "      <td>False</td>\n",
       "    </tr>\n",
       "  </tbody>\n",
       "</table>\n",
       "<p>5 rows × 201 columns</p>\n",
       "</div>"
      ],
      "text/plain": [
       "   movement_avg_speed_1  movement_total_distance_1  \\\n",
       "0                1468.0                   505882.0   \n",
       "1                1455.0                   500485.0   \n",
       "2                1430.0                   561540.0   \n",
       "3                1559.0                   609572.0   \n",
       "4                1486.0                   486636.0   \n",
       "\n",
       "   movement_time_supersonic_speed_1  movement_time_boost_speed_1  \\\n",
       "0                             40.34                       142.29   \n",
       "1                             41.75                       130.76   \n",
       "2                             50.30                       150.27   \n",
       "3                             66.07                       166.44   \n",
       "4                             27.96                       145.74   \n",
       "\n",
       "   movement_time_slow_speed_1  movement_time_ground_1  \\\n",
       "0                      196.16                  219.80   \n",
       "1                      206.38                  231.33   \n",
       "2                      216.30                  217.17   \n",
       "3                      181.22                  237.20   \n",
       "4                      177.11                  218.76   \n",
       "\n",
       "   movement_time_low_air_1  movement_time_high_air_1  \\\n",
       "0                   143.43                     15.56   \n",
       "1                   123.58                     23.97   \n",
       "2                   177.03                     22.67   \n",
       "3                   165.62                     10.91   \n",
       "4                   123.81                      8.24   \n",
       "\n",
       "   movement_time_powerslide_1  movement_count_powerslide_1  ...  \\\n",
       "0                        8.01                         68.0  ...   \n",
       "1                        5.61                         49.0  ...   \n",
       "2                       11.74                        103.0  ...   \n",
       "3                       11.98                        120.0  ...   \n",
       "4                        7.00                         62.0  ...   \n",
       "\n",
       "   avg_positioning_time_most_back  max_movement_percent_high_air  \\\n",
       "0                          117.70                           5.75   \n",
       "1                          119.37                           6.33   \n",
       "2                          132.60                           5.44   \n",
       "3                          133.23                           5.50   \n",
       "4                          114.97                           6.45   \n",
       "\n",
       "   min_movement_percent_high_air  var_movement_percent_high_air  \\\n",
       "0                           2.36                           1.92   \n",
       "1                           0.66                           5.57   \n",
       "2                           3.86                           0.45   \n",
       "3                           2.64                           1.37   \n",
       "4                           1.25                           5.01   \n",
       "\n",
       "   avg_movement_percent_high_air  max_movement_percent_supersonic_speed  \\\n",
       "0                           4.07                                  11.20   \n",
       "1                           3.17                                  13.26   \n",
       "2                           4.78                                  14.12   \n",
       "3                           4.14                                  15.97   \n",
       "4                           3.35                                  11.70   \n",
       "\n",
       "   min_movement_percent_supersonic_speed  \\\n",
       "0                                   9.47   \n",
       "1                                   6.27   \n",
       "2                                   7.32   \n",
       "3                                   7.48   \n",
       "4                                   7.29   \n",
       "\n",
       "   var_movement_percent_supersonic_speed  \\\n",
       "0                                   0.52   \n",
       "1                                   8.49   \n",
       "2                                   8.11   \n",
       "3                                  12.22   \n",
       "4                                   3.76   \n",
       "\n",
       "   avg_movement_percent_supersonic_speed  winner  \n",
       "0                                  10.44   False  \n",
       "1                                  10.18    True  \n",
       "2                                  11.17    True  \n",
       "3                                  11.40   False  \n",
       "4                                   8.99   False  \n",
       "\n",
       "[5 rows x 201 columns]"
      ]
     },
     "execution_count": 6,
     "metadata": {},
     "output_type": "execute_result"
    }
   ],
   "source": [
    "teams_all.head()"
   ]
  },
  {
   "cell_type": "markdown",
   "metadata": {},
   "source": [
    "### X,y division"
   ]
  },
  {
   "cell_type": "code",
   "execution_count": 7,
   "metadata": {},
   "outputs": [],
   "source": [
    "X_players_all = players_all.iloc[:, 0:44]\n",
    "X_players_ranked = players_ranked.iloc[:, 0:44]\n",
    "X_players_pro = players_pro.iloc[:, 0:44]\n",
    "X_small_file = small_file.iloc[:, 0:44]"
   ]
  },
  {
   "cell_type": "code",
   "execution_count": 8,
   "metadata": {},
   "outputs": [],
   "source": [
    "y_players_all = players_all.iloc[:, 44]\n",
    "y_players_ranked = players_ranked.iloc[:, 44]\n",
    "y_players_pro = players_pro.iloc[:, 44]\n",
    "y_small_file = small_file.iloc[:, 44]"
   ]
  },
  {
   "cell_type": "code",
   "execution_count": 9,
   "metadata": {},
   "outputs": [],
   "source": [
    "# team\n",
    "X_teams_all = teams_all.iloc[:, 0:200]\n",
    "X_teams_ranked = teams_ranked.iloc[:, 0:200]\n",
    "X_teams_pro = teams_pro.iloc[:, 0:200]"
   ]
  },
  {
   "cell_type": "code",
   "execution_count": 10,
   "metadata": {},
   "outputs": [],
   "source": [
    "# Team\n",
    "y_teams_all = teams_all.iloc[:, 200]\n",
    "y_teams_ranked = teams_ranked.iloc[:, 200]\n",
    "y_teams_pro = teams_pro.iloc[:, 200]"
   ]
  },
  {
   "cell_type": "markdown",
   "metadata": {},
   "source": [
    "### Train-test split"
   ]
  },
  {
   "cell_type": "code",
   "execution_count": 11,
   "metadata": {},
   "outputs": [],
   "source": [
    "from sklearn.model_selection import train_test_split"
   ]
  },
  {
   "cell_type": "code",
   "execution_count": 12,
   "metadata": {},
   "outputs": [],
   "source": [
    "X_train, X_test, y_train, y_test = train_test_split(X_teams_pro, y_teams_pro, random_state=20, test_size=0.2)"
   ]
  },
  {
   "cell_type": "markdown",
   "metadata": {},
   "source": [
    "# Model 1 -----------------------------------------------"
   ]
  },
  {
   "cell_type": "code",
   "execution_count": 14,
   "metadata": {},
   "outputs": [],
   "source": [
    "from sklearn.ensemble import RandomForestClassifier"
   ]
  },
  {
   "cell_type": "code",
   "execution_count": 15,
   "metadata": {},
   "outputs": [],
   "source": [
    "# random forests model\n",
    "rf = RandomForestClassifier(n_estimators=500,\n",
    "                             min_samples_split=10)"
   ]
  },
  {
   "cell_type": "code",
   "execution_count": 16,
   "metadata": {},
   "outputs": [],
   "source": [
    "#40 sec voor individueel / 55 sec voor teams / nu 7 min met extra HP"
   ]
  },
  {
   "cell_type": "code",
   "execution_count": 17,
   "metadata": {},
   "outputs": [
    {
     "data": {
      "text/html": [
       "<style>#sk-container-id-1 {color: black;background-color: white;}#sk-container-id-1 pre{padding: 0;}#sk-container-id-1 div.sk-toggleable {background-color: white;}#sk-container-id-1 label.sk-toggleable__label {cursor: pointer;display: block;width: 100%;margin-bottom: 0;padding: 0.3em;box-sizing: border-box;text-align: center;}#sk-container-id-1 label.sk-toggleable__label-arrow:before {content: \"▸\";float: left;margin-right: 0.25em;color: #696969;}#sk-container-id-1 label.sk-toggleable__label-arrow:hover:before {color: black;}#sk-container-id-1 div.sk-estimator:hover label.sk-toggleable__label-arrow:before {color: black;}#sk-container-id-1 div.sk-toggleable__content {max-height: 0;max-width: 0;overflow: hidden;text-align: left;background-color: #f0f8ff;}#sk-container-id-1 div.sk-toggleable__content pre {margin: 0.2em;color: black;border-radius: 0.25em;background-color: #f0f8ff;}#sk-container-id-1 input.sk-toggleable__control:checked~div.sk-toggleable__content {max-height: 200px;max-width: 100%;overflow: auto;}#sk-container-id-1 input.sk-toggleable__control:checked~label.sk-toggleable__label-arrow:before {content: \"▾\";}#sk-container-id-1 div.sk-estimator input.sk-toggleable__control:checked~label.sk-toggleable__label {background-color: #d4ebff;}#sk-container-id-1 div.sk-label input.sk-toggleable__control:checked~label.sk-toggleable__label {background-color: #d4ebff;}#sk-container-id-1 input.sk-hidden--visually {border: 0;clip: rect(1px 1px 1px 1px);clip: rect(1px, 1px, 1px, 1px);height: 1px;margin: -1px;overflow: hidden;padding: 0;position: absolute;width: 1px;}#sk-container-id-1 div.sk-estimator {font-family: monospace;background-color: #f0f8ff;border: 1px dotted black;border-radius: 0.25em;box-sizing: border-box;margin-bottom: 0.5em;}#sk-container-id-1 div.sk-estimator:hover {background-color: #d4ebff;}#sk-container-id-1 div.sk-parallel-item::after {content: \"\";width: 100%;border-bottom: 1px solid gray;flex-grow: 1;}#sk-container-id-1 div.sk-label:hover label.sk-toggleable__label {background-color: #d4ebff;}#sk-container-id-1 div.sk-serial::before {content: \"\";position: absolute;border-left: 1px solid gray;box-sizing: border-box;top: 0;bottom: 0;left: 50%;z-index: 0;}#sk-container-id-1 div.sk-serial {display: flex;flex-direction: column;align-items: center;background-color: white;padding-right: 0.2em;padding-left: 0.2em;position: relative;}#sk-container-id-1 div.sk-item {position: relative;z-index: 1;}#sk-container-id-1 div.sk-parallel {display: flex;align-items: stretch;justify-content: center;background-color: white;position: relative;}#sk-container-id-1 div.sk-item::before, #sk-container-id-1 div.sk-parallel-item::before {content: \"\";position: absolute;border-left: 1px solid gray;box-sizing: border-box;top: 0;bottom: 0;left: 50%;z-index: -1;}#sk-container-id-1 div.sk-parallel-item {display: flex;flex-direction: column;z-index: 1;position: relative;background-color: white;}#sk-container-id-1 div.sk-parallel-item:first-child::after {align-self: flex-end;width: 50%;}#sk-container-id-1 div.sk-parallel-item:last-child::after {align-self: flex-start;width: 50%;}#sk-container-id-1 div.sk-parallel-item:only-child::after {width: 0;}#sk-container-id-1 div.sk-dashed-wrapped {border: 1px dashed gray;margin: 0 0.4em 0.5em 0.4em;box-sizing: border-box;padding-bottom: 0.4em;background-color: white;}#sk-container-id-1 div.sk-label label {font-family: monospace;font-weight: bold;display: inline-block;line-height: 1.2em;}#sk-container-id-1 div.sk-label-container {text-align: center;}#sk-container-id-1 div.sk-container {/* jupyter's `normalize.less` sets `[hidden] { display: none; }` but bootstrap.min.css set `[hidden] { display: none !important; }` so we also need the `!important` here to be able to override the default hidden behavior on the sphinx rendered scikit-learn.org. See: https://github.com/scikit-learn/scikit-learn/issues/21755 */display: inline-block !important;position: relative;}#sk-container-id-1 div.sk-text-repr-fallback {display: none;}</style><div id=\"sk-container-id-1\" class=\"sk-top-container\"><div class=\"sk-text-repr-fallback\"><pre>RandomForestClassifier(min_samples_split=10, n_estimators=500)</pre><b>In a Jupyter environment, please rerun this cell to show the HTML representation or trust the notebook. <br />On GitHub, the HTML representation is unable to render, please try loading this page with nbviewer.org.</b></div><div class=\"sk-container\" hidden><div class=\"sk-item\"><div class=\"sk-estimator sk-toggleable\"><input class=\"sk-toggleable__control sk-hidden--visually\" id=\"sk-estimator-id-1\" type=\"checkbox\" checked><label for=\"sk-estimator-id-1\" class=\"sk-toggleable__label sk-toggleable__label-arrow\">RandomForestClassifier</label><div class=\"sk-toggleable__content\"><pre>RandomForestClassifier(min_samples_split=10, n_estimators=500)</pre></div></div></div></div></div>"
      ],
      "text/plain": [
       "RandomForestClassifier(min_samples_split=10, n_estimators=500)"
      ]
     },
     "execution_count": 17,
     "metadata": {},
     "output_type": "execute_result"
    }
   ],
   "source": [
    "rf.fit(X_train, y_train)"
   ]
  },
  {
   "cell_type": "markdown",
   "metadata": {},
   "source": [
    "## Scores"
   ]
  },
  {
   "cell_type": "code",
   "execution_count": 18,
   "metadata": {},
   "outputs": [],
   "source": [
    "y_pred = rf.predict(X_test)"
   ]
  },
  {
   "cell_type": "code",
   "execution_count": 19,
   "metadata": {},
   "outputs": [
    {
     "data": {
      "text/plain": [
       "0.7900638750887155"
      ]
     },
     "execution_count": 19,
     "metadata": {},
     "output_type": "execute_result"
    }
   ],
   "source": [
    "rf.score(X_test, y_test)"
   ]
  },
  {
   "cell_type": "markdown",
   "metadata": {},
   "source": [
    "### F1 enzoo metrics"
   ]
  },
  {
   "cell_type": "code",
   "execution_count": 20,
   "metadata": {},
   "outputs": [],
   "source": [
    "from sklearn.metrics import classification_report"
   ]
  },
  {
   "cell_type": "code",
   "execution_count": 21,
   "metadata": {},
   "outputs": [
    {
     "name": "stdout",
     "output_type": "stream",
     "text": [
      "              precision    recall  f1-score   support\n",
      "\n",
      "       False       0.79      0.79      0.79      3537\n",
      "        True       0.79      0.79      0.79      3508\n",
      "\n",
      "    accuracy                           0.79      7045\n",
      "   macro avg       0.79      0.79      0.79      7045\n",
      "weighted avg       0.79      0.79      0.79      7045\n",
      "\n"
     ]
    }
   ],
   "source": [
    "print(classification_report(y_test, y_pred))"
   ]
  },
  {
   "cell_type": "code",
   "execution_count": 22,
   "metadata": {},
   "outputs": [],
   "source": [
    "from sklearn.metrics import accuracy_score, recall_score, precision_score, f1_score"
   ]
  },
  {
   "cell_type": "code",
   "execution_count": 23,
   "metadata": {},
   "outputs": [
    {
     "name": "stdout",
     "output_type": "stream",
     "text": [
      "accuracy 0.7900638750887155\n",
      "recall 0.7913340935005702\n",
      "precision 0.7879648027249503\n",
      "f1 0.7896458540748116\n"
     ]
    }
   ],
   "source": [
    "accuracy = accuracy_score(y_test, y_pred)\n",
    "recall = recall_score(y_test, y_pred)\n",
    "precision = precision_score(y_test, y_pred)\n",
    "f1 = f1_score(y_test, y_pred)\n",
    "\n",
    "print(\"accuracy\", accuracy)\n",
    "print(\"recall\", recall)\n",
    "print(\"precision\", precision)\n",
    "print(\"f1\", f1)"
   ]
  },
  {
   "cell_type": "markdown",
   "metadata": {},
   "source": [
    "## Conf matrix"
   ]
  },
  {
   "cell_type": "code",
   "execution_count": 24,
   "metadata": {},
   "outputs": [],
   "source": [
    "from sklearn.metrics import confusion_matrix"
   ]
  },
  {
   "cell_type": "code",
   "execution_count": 25,
   "metadata": {},
   "outputs": [
    {
     "name": "stdout",
     "output_type": "stream",
     "text": [
      "[[2790  747]\n",
      " [ 732 2776]]\n"
     ]
    }
   ],
   "source": [
    "print(confusion_matrix(y_test, y_pred))"
   ]
  },
  {
   "cell_type": "code",
   "execution_count": 26,
   "metadata": {},
   "outputs": [
    {
     "name": "stdout",
     "output_type": "stream",
     "text": [
      "[[2790  747]\n",
      " [ 732 2776]]\n",
      "0.7900638750887155\n"
     ]
    },
    {
     "data": {
      "image/png": "[encoded data removed]",
      "text/plain": [
       "<Figure size 640x480 with 2 Axes>"
      ]
     },
     "metadata": {},
     "output_type": "display_data"
    }
   ],
   "source": [
    "cm = confusion_matrix(y_test, y_pred)\n",
    "accuracy = accuracy_score(y_test, y_pred)\n",
    "print(cm)\n",
    "print(accuracy)\n",
    "labels = list(y_train.keys())\n",
    "\n",
    "s = sns.heatmap(cm, cmap='YlGnBu', annot=True, fmt=\".0f\")\n",
    "s.set_xlabel(\"predicted\")\n",
    "s.set_ylabel(\"true\")\n",
    "plt.show()"
   ]
  },
  {
   "cell_type": "markdown",
   "metadata": {},
   "source": [
    "## ROC curve"
   ]
  },
  {
   "cell_type": "code",
   "execution_count": 27,
   "metadata": {},
   "outputs": [
    {
     "name": "stdout",
     "output_type": "stream",
     "text": [
      "[0.95252063 0.05826331 0.83932131 0.04422673 0.87409456 0.51380751\n",
      " 0.90599461 0.46253224 0.61850992 0.84172579 0.28977891 0.952807\n",
      " 0.99719351 0.83605532 0.01301538 0.67406194 0.76007788 0.78016692\n",
      " 0.54545898 0.09195471 0.24632039 0.4216303  0.80748458 0.71241045\n",
      " 0.94090326 0.28059631 0.40238064 0.9767068  0.56443271 0.72129981\n",
      " 0.16381653 0.36741682 0.76700772 0.46433301 0.07322036 0.08946104\n",
      " 0.63627582 0.73493775 0.61220925 0.91818153 0.71017404 0.98850361\n",
      " 0.38752642 0.20575271 0.07388453 0.66651711 0.02881551 0.95263498\n",
      " 0.85013736 0.97460945 0.10767596 0.25983017 0.4585565  0.266847\n",
      " 0.09142435 0.85346753 0.06031975 0.06704661 0.75691702 0.07879759\n",
      " 0.93302422 0.96587177 0.45661093 0.45277219 0.96428173 0.56027557\n",
      " 0.18453614 0.59568914 0.69892797 0.47361837 0.32710917 0.6122008\n",
      " 0.46880228 0.3902263  0.86275485 0.40869601 0.95940226 0.43151624\n",
      " 0.48202361 0.15646994 0.48375559 0.73082794 0.56547442 0.4043384\n",
      " 0.71578275 0.57025937 0.19784345 0.80930001 0.07931189 0.30748221\n",
      " 0.52199526 0.14011275 0.73986957 0.9539723  0.83924127 0.73351297\n",
      " 0.78140076 0.04608393 0.99116224 0.11286846]\n",
      "ROC AUC Score: 0.88\n"
     ]
    },
    {
     "data": {
      "image/png": "[encoded data removed]",
      "text/plain": [
       "<Figure size 640x480 with 1 Axes>"
      ]
     },
     "metadata": {},
     "output_type": "display_data"
    }
   ],
   "source": [
    "from sklearn.metrics import roc_auc_score, roc_curve\n",
    "\n",
    "y_pred_proba = rf.predict_proba(X_test)[:, 1]\n",
    "roc_auc = roc_auc_score(y_test, y_pred_proba)\n",
    "print(f\"ROC AUC Score: {roc_auc:.3f}\")\n",
    "\n",
    "fpr, tpr, thresholds = roc_curve(y_test, y_pred_proba)\n",
    "\n",
    "plt.plot(fpr, tpr, label=f\"AUC = {roc_auc:.3f}\")\n",
    "plt.plot([0, 1], [0, 1], 'k--')\n",
    "plt.xlabel('False Positive Rate')\n",
    "plt.ylabel('True Positive Rate')\n",
    "plt.title('ROC Curve')\n",
    "plt.legend()\n",
    "plt.show()"
   ]
  },
  {
   "cell_type": "markdown",
   "metadata": {},
   "source": [
    "## Imporant features"
   ]
  },
  {
   "cell_type": "code",
   "execution_count": 28,
   "metadata": {},
   "outputs": [],
   "source": [
    "features = pd.DataFrame(rf.feature_importances_, index = X_train.columns)"
   ]
  },
  {
   "cell_type": "code",
   "execution_count": 29,
   "metadata": {},
   "outputs": [
    {
     "data": {
      "text/html": [
       "<div>\n",
       "<style scoped>\n",
       "    .dataframe tbody tr th:only-of-type {\n",
       "        vertical-align: middle;\n",
       "    }\n",
       "\n",
       "    .dataframe tbody tr th {\n",
       "        vertical-align: top;\n",
       "    }\n",
       "\n",
       "    .dataframe thead th {\n",
       "        text-align: right;\n",
       "    }\n",
       "</style>\n",
       "<table border=\"1\" class=\"dataframe\">\n",
       "  <thead>\n",
       "    <tr style=\"text-align: right;\">\n",
       "      <th></th>\n",
       "      <th>0</th>\n",
       "    </tr>\n",
       "  </thead>\n",
       "  <tbody>\n",
       "    <tr>\n",
       "      <th>avg_positioning_percent_behind_ball</th>\n",
       "      <td>0.060720</td>\n",
       "    </tr>\n",
       "    <tr>\n",
       "      <th>avg_positioning_percent_infront_ball</th>\n",
       "      <td>0.057959</td>\n",
       "    </tr>\n",
       "    <tr>\n",
       "      <th>avg_positioning_time_front_of_ball</th>\n",
       "      <td>0.041746</td>\n",
       "    </tr>\n",
       "    <tr>\n",
       "      <th>min_positioning_percent_infront_ball</th>\n",
       "      <td>0.037792</td>\n",
       "    </tr>\n",
       "    <tr>\n",
       "      <th>max_positioning_percent_behind_ball</th>\n",
       "      <td>0.032356</td>\n",
       "    </tr>\n",
       "    <tr>\n",
       "      <th>...</th>\n",
       "      <td>...</td>\n",
       "    </tr>\n",
       "    <tr>\n",
       "      <th>min_speed</th>\n",
       "      <td>0.002192</td>\n",
       "    </tr>\n",
       "    <tr>\n",
       "      <th>movement_avg_speed_2</th>\n",
       "      <td>0.002176</td>\n",
       "    </tr>\n",
       "    <tr>\n",
       "      <th>movement_avg_powerslide_duration_1</th>\n",
       "      <td>0.001481</td>\n",
       "    </tr>\n",
       "    <tr>\n",
       "      <th>movement_avg_powerslide_duration_2</th>\n",
       "      <td>0.001430</td>\n",
       "    </tr>\n",
       "    <tr>\n",
       "      <th>movement_avg_powerslide_duration_3</th>\n",
       "      <td>0.001278</td>\n",
       "    </tr>\n",
       "  </tbody>\n",
       "</table>\n",
       "<p>200 rows × 1 columns</p>\n",
       "</div>"
      ],
      "text/plain": [
       "                                             0\n",
       "avg_positioning_percent_behind_ball   0.060720\n",
       "avg_positioning_percent_infront_ball  0.057959\n",
       "avg_positioning_time_front_of_ball    0.041746\n",
       "min_positioning_percent_infront_ball  0.037792\n",
       "max_positioning_percent_behind_ball   0.032356\n",
       "...                                        ...\n",
       "min_speed                             0.002192\n",
       "movement_avg_speed_2                  0.002176\n",
       "movement_avg_powerslide_duration_1    0.001481\n",
       "movement_avg_powerslide_duration_2    0.001430\n",
       "movement_avg_powerslide_duration_3    0.001278\n",
       "\n",
       "[200 rows x 1 columns]"
      ]
     },
     "execution_count": 29,
     "metadata": {},
     "output_type": "execute_result"
    }
   ],
   "source": [
    "features.sort_values(0, ascending=False)"
   ]
  },
  {
   "cell_type": "code",
   "execution_count": 30,
   "metadata": {},
   "outputs": [
    {
     "data": {
      "text/html": [
       "<div>\n",
       "<style scoped>\n",
       "    .dataframe tbody tr th:only-of-type {\n",
       "        vertical-align: middle;\n",
       "    }\n",
       "\n",
       "    .dataframe tbody tr th {\n",
       "        vertical-align: top;\n",
       "    }\n",
       "\n",
       "    .dataframe thead th {\n",
       "        text-align: right;\n",
       "    }\n",
       "</style>\n",
       "<table border=\"1\" class=\"dataframe\">\n",
       "  <thead>\n",
       "    <tr style=\"text-align: right;\">\n",
       "      <th></th>\n",
       "      <th>0</th>\n",
       "    </tr>\n",
       "  </thead>\n",
       "  <tbody>\n",
       "    <tr>\n",
       "      <th>avg_positioning_percent_behind_ball</th>\n",
       "      <td>0.602630</td>\n",
       "    </tr>\n",
       "    <tr>\n",
       "      <th>max_positioning_percent_behind_ball</th>\n",
       "      <td>0.531165</td>\n",
       "    </tr>\n",
       "    <tr>\n",
       "      <th>min_positioning_percent_behind_ball</th>\n",
       "      <td>0.491342</td>\n",
       "    </tr>\n",
       "    <tr>\n",
       "      <th>positioning_percent_behind_ball_2</th>\n",
       "      <td>0.430752</td>\n",
       "    </tr>\n",
       "    <tr>\n",
       "      <th>positioning_percent_behind_ball_3</th>\n",
       "      <td>0.423508</td>\n",
       "    </tr>\n",
       "    <tr>\n",
       "      <th>...</th>\n",
       "      <td>...</td>\n",
       "    </tr>\n",
       "    <tr>\n",
       "      <th>positioning_percent_infront_ball_3</th>\n",
       "      <td>-0.423508</td>\n",
       "    </tr>\n",
       "    <tr>\n",
       "      <th>positioning_percent_infront_ball_2</th>\n",
       "      <td>-0.430752</td>\n",
       "    </tr>\n",
       "    <tr>\n",
       "      <th>max_positioning_percent_infront_ball</th>\n",
       "      <td>-0.491342</td>\n",
       "    </tr>\n",
       "    <tr>\n",
       "      <th>min_positioning_percent_infront_ball</th>\n",
       "      <td>-0.531165</td>\n",
       "    </tr>\n",
       "    <tr>\n",
       "      <th>avg_positioning_percent_infront_ball</th>\n",
       "      <td>-0.602630</td>\n",
       "    </tr>\n",
       "  </tbody>\n",
       "</table>\n",
       "<p>200 rows × 1 columns</p>\n",
       "</div>"
      ],
      "text/plain": [
       "                                             0\n",
       "avg_positioning_percent_behind_ball   0.602630\n",
       "max_positioning_percent_behind_ball   0.531165\n",
       "min_positioning_percent_behind_ball   0.491342\n",
       "positioning_percent_behind_ball_2     0.430752\n",
       "positioning_percent_behind_ball_3     0.423508\n",
       "...                                        ...\n",
       "positioning_percent_infront_ball_3   -0.423508\n",
       "positioning_percent_infront_ball_2   -0.430752\n",
       "max_positioning_percent_infront_ball -0.491342\n",
       "min_positioning_percent_infront_ball -0.531165\n",
       "avg_positioning_percent_infront_ball -0.602630\n",
       "\n",
       "[200 rows x 1 columns]"
      ]
     },
     "execution_count": 30,
     "metadata": {},
     "output_type": "execute_result"
    }
   ],
   "source": [
    "correlations = pd.DataFrame(X_train.corrwith(y_train))\n",
    "correlations.sort_values(0, ascending=False)"
   ]
  },
  {
   "cell_type": "markdown",
   "metadata": {},
   "source": [
    "## statistics"
   ]
  },
  {
   "cell_type": "code",
   "execution_count": 31,
   "metadata": {},
   "outputs": [
    {
     "data": {
      "text/plain": [
       "winner\n",
       "False    69.980104\n",
       "True     74.185603\n",
       "Name: avg_positioning_percent_behind_ball, dtype: float64"
      ]
     },
     "execution_count": 31,
     "metadata": {},
     "output_type": "execute_result"
    }
   ],
   "source": [
    "# average for winners and average for losers\n",
    "X_train['avg_positioning_percent_behind_ball'].groupby(y_train).mean()"
   ]
  },
  {
   "cell_type": "code",
   "execution_count": 32,
   "metadata": {},
   "outputs": [
    {
     "data": {
      "text/plain": [
       "winner\n",
       "False    73.643310\n",
       "True     77.813975\n",
       "Name: max_positioning_percent_behind_ball, dtype: float64"
      ]
     },
     "execution_count": 32,
     "metadata": {},
     "output_type": "execute_result"
    }
   ],
   "source": [
    "# average for winners and average for losers\n",
    "X_train['max_positioning_percent_behind_ball'].groupby(y_train).mean()"
   ]
  },
  {
   "cell_type": "code",
   "execution_count": 33,
   "metadata": {},
   "outputs": [
    {
     "data": {
      "text/plain": [
       "winner\n",
       "False    30.019892\n",
       "True     25.814397\n",
       "Name: avg_positioning_percent_infront_ball, dtype: float64"
      ]
     },
     "execution_count": 33,
     "metadata": {},
     "output_type": "execute_result"
    }
   ],
   "source": [
    "# average for winners and average for losers\n",
    "X_train['avg_positioning_percent_infront_ball'].groupby(y_train).mean()"
   ]
  },
  {
   "cell_type": "code",
   "execution_count": 34,
   "metadata": {},
   "outputs": [
    {
     "data": {
      "text/plain": [
       "winner\n",
       "False    26.356690\n",
       "True     22.186025\n",
       "Name: min_positioning_percent_infront_ball, dtype: float64"
      ]
     },
     "execution_count": 34,
     "metadata": {},
     "output_type": "execute_result"
    }
   ],
   "source": [
    "# average for winners and average for losers\n",
    "X_train['min_positioning_percent_infront_ball'].groupby(y_train).mean()"
   ]
  },
  {
   "cell_type": "markdown",
   "metadata": {},
   "source": [
    "# Model 2 -------------------------------"
   ]
  },
  {
   "cell_type": "markdown",
   "metadata": {},
   "source": [
    "## Model"
   ]
  },
  {
   "cell_type": "code",
   "execution_count": 35,
   "metadata": {},
   "outputs": [],
   "source": [
    "rf2 = RandomForestClassifier(n_estimators=500,\n",
    "                             criterion='entropy',\n",
    "                             min_samples_split=10,\n",
    "                             max_depth = 14,\n",
    "                             random_state = 42\n",
    ")"
   ]
  },
  {
   "cell_type": "code",
   "execution_count": 36,
   "metadata": {},
   "outputs": [],
   "source": [
    "#13 min de volgende / 8 min voor team / 4 op blauwe laptop"
   ]
  },
  {
   "cell_type": "code",
   "execution_count": 37,
   "metadata": {},
   "outputs": [
    {
     "data": {
      "text/html": [
       "<style>#sk-container-id-2 {color: black;background-color: white;}#sk-container-id-2 pre{padding: 0;}#sk-container-id-2 div.sk-toggleable {background-color: white;}#sk-container-id-2 label.sk-toggleable__label {cursor: pointer;display: block;width: 100%;margin-bottom: 0;padding: 0.3em;box-sizing: border-box;text-align: center;}#sk-container-id-2 label.sk-toggleable__label-arrow:before {content: \"▸\";float: left;margin-right: 0.25em;color: #696969;}#sk-container-id-2 label.sk-toggleable__label-arrow:hover:before {color: black;}#sk-container-id-2 div.sk-estimator:hover label.sk-toggleable__label-arrow:before {color: black;}#sk-container-id-2 div.sk-toggleable__content {max-height: 0;max-width: 0;overflow: hidden;text-align: left;background-color: #f0f8ff;}#sk-container-id-2 div.sk-toggleable__content pre {margin: 0.2em;color: black;border-radius: 0.25em;background-color: #f0f8ff;}#sk-container-id-2 input.sk-toggleable__control:checked~div.sk-toggleable__content {max-height: 200px;max-width: 100%;overflow: auto;}#sk-container-id-2 input.sk-toggleable__control:checked~label.sk-toggleable__label-arrow:before {content: \"▾\";}#sk-container-id-2 div.sk-estimator input.sk-toggleable__control:checked~label.sk-toggleable__label {background-color: #d4ebff;}#sk-container-id-2 div.sk-label input.sk-toggleable__control:checked~label.sk-toggleable__label {background-color: #d4ebff;}#sk-container-id-2 input.sk-hidden--visually {border: 0;clip: rect(1px 1px 1px 1px);clip: rect(1px, 1px, 1px, 1px);height: 1px;margin: -1px;overflow: hidden;padding: 0;position: absolute;width: 1px;}#sk-container-id-2 div.sk-estimator {font-family: monospace;background-color: #f0f8ff;border: 1px dotted black;border-radius: 0.25em;box-sizing: border-box;margin-bottom: 0.5em;}#sk-container-id-2 div.sk-estimator:hover {background-color: #d4ebff;}#sk-container-id-2 div.sk-parallel-item::after {content: \"\";width: 100%;border-bottom: 1px solid gray;flex-grow: 1;}#sk-container-id-2 div.sk-label:hover label.sk-toggleable__label {background-color: #d4ebff;}#sk-container-id-2 div.sk-serial::before {content: \"\";position: absolute;border-left: 1px solid gray;box-sizing: border-box;top: 0;bottom: 0;left: 50%;z-index: 0;}#sk-container-id-2 div.sk-serial {display: flex;flex-direction: column;align-items: center;background-color: white;padding-right: 0.2em;padding-left: 0.2em;position: relative;}#sk-container-id-2 div.sk-item {position: relative;z-index: 1;}#sk-container-id-2 div.sk-parallel {display: flex;align-items: stretch;justify-content: center;background-color: white;position: relative;}#sk-container-id-2 div.sk-item::before, #sk-container-id-2 div.sk-parallel-item::before {content: \"\";position: absolute;border-left: 1px solid gray;box-sizing: border-box;top: 0;bottom: 0;left: 50%;z-index: -1;}#sk-container-id-2 div.sk-parallel-item {display: flex;flex-direction: column;z-index: 1;position: relative;background-color: white;}#sk-container-id-2 div.sk-parallel-item:first-child::after {align-self: flex-end;width: 50%;}#sk-container-id-2 div.sk-parallel-item:last-child::after {align-self: flex-start;width: 50%;}#sk-container-id-2 div.sk-parallel-item:only-child::after {width: 0;}#sk-container-id-2 div.sk-dashed-wrapped {border: 1px dashed gray;margin: 0 0.4em 0.5em 0.4em;box-sizing: border-box;padding-bottom: 0.4em;background-color: white;}#sk-container-id-2 div.sk-label label {font-family: monospace;font-weight: bold;display: inline-block;line-height: 1.2em;}#sk-container-id-2 div.sk-label-container {text-align: center;}#sk-container-id-2 div.sk-container {/* jupyter's `normalize.less` sets `[hidden] { display: none; }` but bootstrap.min.css set `[hidden] { display: none !important; }` so we also need the `!important` here to be able to override the default hidden behavior on the sphinx rendered scikit-learn.org. See: https://github.com/scikit-learn/scikit-learn/issues/21755 */display: inline-block !important;position: relative;}#sk-container-id-2 div.sk-text-repr-fallback {display: none;}</style><div id=\"sk-container-id-2\" class=\"sk-top-container\"><div class=\"sk-text-repr-fallback\"><pre>RandomForestClassifier(criterion=&#x27;entropy&#x27;, max_depth=14, min_samples_split=10,\n",
       "                       n_estimators=500, random_state=42)</pre><b>In a Jupyter environment, please rerun this cell to show the HTML representation or trust the notebook. <br />On GitHub, the HTML representation is unable to render, please try loading this page with nbviewer.org.</b></div><div class=\"sk-container\" hidden><div class=\"sk-item\"><div class=\"sk-estimator sk-toggleable\"><input class=\"sk-toggleable__control sk-hidden--visually\" id=\"sk-estimator-id-2\" type=\"checkbox\" checked><label for=\"sk-estimator-id-2\" class=\"sk-toggleable__label sk-toggleable__label-arrow\">RandomForestClassifier</label><div class=\"sk-toggleable__content\"><pre>RandomForestClassifier(criterion=&#x27;entropy&#x27;, max_depth=14, min_samples_split=10,\n",
       "                       n_estimators=500, random_state=42)</pre></div></div></div></div></div>"
      ],
      "text/plain": [
       "RandomForestClassifier(criterion='entropy', max_depth=14, min_samples_split=10,\n",
       "                       n_estimators=500, random_state=42)"
      ]
     },
     "execution_count": 37,
     "metadata": {},
     "output_type": "execute_result"
    }
   ],
   "source": [
    "rf2.fit(X_train, y_train)"
   ]
  },
  {
   "cell_type": "markdown",
   "metadata": {},
   "source": [
    "## Scores"
   ]
  },
  {
   "cell_type": "code",
   "execution_count": 38,
   "metadata": {},
   "outputs": [],
   "source": [
    "y_pred2 = rf2.predict(X_test)"
   ]
  },
  {
   "cell_type": "code",
   "execution_count": 39,
   "metadata": {},
   "outputs": [
    {
     "data": {
      "text/plain": [
       "0.7906316536550745"
      ]
     },
     "execution_count": 39,
     "metadata": {},
     "output_type": "execute_result"
    }
   ],
   "source": [
    "rf2.score(X_test, y_test)"
   ]
  },
  {
   "cell_type": "code",
   "execution_count": 40,
   "metadata": {},
   "outputs": [
    {
     "name": "stdout",
     "output_type": "stream",
     "text": [
      "              precision    recall  f1-score   support\n",
      "\n",
      "       False       0.79      0.79      0.79      3537\n",
      "        True       0.79      0.79      0.79      3508\n",
      "\n",
      "    accuracy                           0.79      7045\n",
      "   macro avg       0.79      0.79      0.79      7045\n",
      "weighted avg       0.79      0.79      0.79      7045\n",
      "\n"
     ]
    }
   ],
   "source": [
    "print(classification_report(y_test, y_pred2))"
   ]
  },
  {
   "cell_type": "code",
   "execution_count": 41,
   "metadata": {},
   "outputs": [],
   "source": [
    "from sklearn.metrics import accuracy_score, recall_score, precision_score, f1_score"
   ]
  },
  {
   "cell_type": "code",
   "execution_count": 42,
   "metadata": {},
   "outputs": [
    {
     "name": "stdout",
     "output_type": "stream",
     "text": [
      "accuracy 0.7906316536550745\n",
      "recall 0.7896237172177879\n",
      "precision 0.789848873681209\n",
      "f1 0.789736279401283\n"
     ]
    }
   ],
   "source": [
    "accuracy = accuracy_score(y_test, y_pred2)\n",
    "recall = recall_score(y_test, y_pred2)\n",
    "precision = precision_score(y_test, y_pred2)\n",
    "f1 = f1_score(y_test, y_pred2)\n",
    "\n",
    "print(\"accuracy\", accuracy)\n",
    "print(\"recall\", recall)\n",
    "print(\"precision\", precision)\n",
    "print(\"f1\", f1)"
   ]
  },
  {
   "cell_type": "code",
   "execution_count": 43,
   "metadata": {},
   "outputs": [],
   "source": [
    "from sklearn.metrics import accuracy_score"
   ]
  },
  {
   "cell_type": "code",
   "execution_count": 44,
   "metadata": {},
   "outputs": [
    {
     "name": "stdout",
     "output_type": "stream",
     "text": [
      "DNN Accuracy: 0.7906316536550745\n"
     ]
    }
   ],
   "source": [
    "y_pred2 = rf2.predict(X_test)\n",
    "y_pred_classes2 = y_pred2\n",
    "y_test_classes2 = y_test\n",
    "print(\"DNN Accuracy:\", accuracy_score(y_test_classes2, y_pred_classes2))"
   ]
  },
  {
   "cell_type": "markdown",
   "metadata": {},
   "source": [
    "### Conf matrix"
   ]
  },
  {
   "cell_type": "code",
   "execution_count": 45,
   "metadata": {},
   "outputs": [],
   "source": [
    "from sklearn.metrics import confusion_matrix"
   ]
  },
  {
   "cell_type": "code",
   "execution_count": 46,
   "metadata": {},
   "outputs": [
    {
     "name": "stdout",
     "output_type": "stream",
     "text": [
      "[[2800  737]\n",
      " [ 738 2770]]\n"
     ]
    }
   ],
   "source": [
    "print(confusion_matrix(y_test, y_pred2))"
   ]
  },
  {
   "cell_type": "code",
   "execution_count": 47,
   "metadata": {},
   "outputs": [
    {
     "name": "stdout",
     "output_type": "stream",
     "text": [
      "[[2800  737]\n",
      " [ 738 2770]]\n",
      "0.7906316536550745\n"
     ]
    },
    {
     "data": {
      "image/png": "[encoded data removed]",
      "text/plain": [
       "<Figure size 640x480 with 2 Axes>"
      ]
     },
     "metadata": {},
     "output_type": "display_data"
    }
   ],
   "source": [
    "cm = confusion_matrix(y_test, y_pred2)\n",
    "accuracy = accuracy_score(y_test, y_pred2)\n",
    "print(cm)\n",
    "print(accuracy)\n",
    "labels = list(y_train.keys())\n",
    "\n",
    "s = sns.heatmap(cm, cmap='YlGnBu', annot=True, fmt=\".0f\")\n",
    "s.set_xlabel(\"predicted\")\n",
    "s.set_ylabel(\"true\")\n",
    "plt.show()\n"
   ]
  },
  {
   "cell_type": "markdown",
   "metadata": {},
   "source": [
    "### roc score"
   ]
  },
  {
   "cell_type": "code",
   "execution_count": 48,
   "metadata": {},
   "outputs": [
    {
     "name": "stdout",
     "output_type": "stream",
     "text": [
      "[0.98129811 0.10939288 0.88916694 0.07271164 0.84896958 0.53135697\n",
      " 0.92470206 0.45976839 0.59751016 0.82524498 0.25023648 0.95115795\n",
      " 0.99368856 0.81584297 0.00450921 0.68541939 0.76188066 0.90422427\n",
      " 0.52143068 0.07902058 0.27414777 0.38246641 0.76670179 0.69739189\n",
      " 0.90620894 0.29163005 0.41649325 0.9718438  0.5579516  0.77560695\n",
      " 0.17053184 0.4267859  0.80965141 0.46763466 0.11434546 0.09571232\n",
      " 0.78849359 0.76530728 0.60597208 0.92624233 0.70234373 0.98334572\n",
      " 0.41907356 0.20849831 0.06220651 0.67240149 0.04495948 0.93972455\n",
      " 0.87373937 0.9780889  0.10367779 0.22945154 0.44952928 0.18634099\n",
      " 0.05002997 0.85267694 0.05034563 0.11868478 0.84391295 0.08140887\n",
      " 0.93676704 0.97096436 0.47546673 0.42638127 0.9309709  0.56420977\n",
      " 0.16480666 0.57126795 0.74589148 0.45310513 0.36429314 0.62917961\n",
      " 0.42895096 0.376567   0.86311513 0.44343641 0.9722772  0.38381083\n",
      " 0.48863153 0.10493237 0.48498041 0.82063997 0.5985615  0.41515252\n",
      " 0.70358272 0.57149657 0.18357387 0.78740911 0.03522499 0.35536027\n",
      " 0.54283391 0.08183835 0.6710131  0.92952978 0.87365137 0.77383802\n",
      " 0.76372156 0.06876479 0.99095743 0.12658396]\n",
      "ROC AUC Score: 0.88\n"
     ]
    },
    {
     "data": {
      "image/png": "[encoded data removed]",
      "text/plain": [
       "<Figure size 640x480 with 1 Axes>"
      ]
     },
     "metadata": {},
     "output_type": "display_data"
    }
   ],
   "source": [
    "from sklearn.metrics import roc_auc_score, roc_curve\n",
    "\n",
    "y_pred_proba = rf2.predict_proba(X_test)[:, 1]\n",
    "roc_auc = roc_auc_score(y_test, y_pred_proba)\n",
    "print(f\"ROC AUC Score: {roc_auc:.3f}\")\n",
    "\n",
    "fpr, tpr, thresholds = roc_curve(y_test, y_pred_proba)\n",
    "\n",
    "plt.plot(fpr, tpr, label=f\"AUC = {roc_auc:.3f}\")\n",
    "plt.plot([0, 1], [0, 1], 'k--')\n",
    "plt.xlabel('False Positive Rate')\n",
    "plt.ylabel('True Positive Rate')\n",
    "plt.title('ROC Curve')\n",
    "plt.legend()\n",
    "plt.show()"
   ]
  },
  {
   "cell_type": "markdown",
   "metadata": {},
   "source": [
    "### Important features"
   ]
  },
  {
   "cell_type": "code",
   "execution_count": 50,
   "metadata": {},
   "outputs": [],
   "source": [
    "features = pd.DataFrame(rf2.feature_importances_, index = X_train.columns)"
   ]
  },
  {
   "cell_type": "code",
   "execution_count": 51,
   "metadata": {},
   "outputs": [
    {
     "data": {
      "text/html": [
       "<div>\n",
       "<style scoped>\n",
       "    .dataframe tbody tr th:only-of-type {\n",
       "        vertical-align: middle;\n",
       "    }\n",
       "\n",
       "    .dataframe tbody tr th {\n",
       "        vertical-align: top;\n",
       "    }\n",
       "\n",
       "    .dataframe thead th {\n",
       "        text-align: right;\n",
       "    }\n",
       "</style>\n",
       "<table border=\"1\" class=\"dataframe\">\n",
       "  <thead>\n",
       "    <tr style=\"text-align: right;\">\n",
       "      <th></th>\n",
       "      <th>0</th>\n",
       "    </tr>\n",
       "  </thead>\n",
       "  <tbody>\n",
       "    <tr>\n",
       "      <th>avg_positioning_percent_infront_ball</th>\n",
       "      <td>0.068701</td>\n",
       "    </tr>\n",
       "    <tr>\n",
       "      <th>avg_positioning_percent_behind_ball</th>\n",
       "      <td>0.068630</td>\n",
       "    </tr>\n",
       "    <tr>\n",
       "      <th>avg_positioning_time_front_of_ball</th>\n",
       "      <td>0.044228</td>\n",
       "    </tr>\n",
       "    <tr>\n",
       "      <th>max_positioning_percent_behind_ball</th>\n",
       "      <td>0.039687</td>\n",
       "    </tr>\n",
       "    <tr>\n",
       "      <th>min_positioning_percent_infront_ball</th>\n",
       "      <td>0.028249</td>\n",
       "    </tr>\n",
       "    <tr>\n",
       "      <th>...</th>\n",
       "      <td>...</td>\n",
       "    </tr>\n",
       "    <tr>\n",
       "      <th>movement_avg_speed_percentage_3</th>\n",
       "      <td>0.002232</td>\n",
       "    </tr>\n",
       "    <tr>\n",
       "      <th>min_speed</th>\n",
       "      <td>0.002138</td>\n",
       "    </tr>\n",
       "    <tr>\n",
       "      <th>movement_avg_powerslide_duration_1</th>\n",
       "      <td>0.001220</td>\n",
       "    </tr>\n",
       "    <tr>\n",
       "      <th>movement_avg_powerslide_duration_2</th>\n",
       "      <td>0.001195</td>\n",
       "    </tr>\n",
       "    <tr>\n",
       "      <th>movement_avg_powerslide_duration_3</th>\n",
       "      <td>0.001108</td>\n",
       "    </tr>\n",
       "  </tbody>\n",
       "</table>\n",
       "<p>200 rows × 1 columns</p>\n",
       "</div>"
      ],
      "text/plain": [
       "                                             0\n",
       "avg_positioning_percent_infront_ball  0.068701\n",
       "avg_positioning_percent_behind_ball   0.068630\n",
       "avg_positioning_time_front_of_ball    0.044228\n",
       "max_positioning_percent_behind_ball   0.039687\n",
       "min_positioning_percent_infront_ball  0.028249\n",
       "...                                        ...\n",
       "movement_avg_speed_percentage_3       0.002232\n",
       "min_speed                             0.002138\n",
       "movement_avg_powerslide_duration_1    0.001220\n",
       "movement_avg_powerslide_duration_2    0.001195\n",
       "movement_avg_powerslide_duration_3    0.001108\n",
       "\n",
       "[200 rows x 1 columns]"
      ]
     },
     "execution_count": 51,
     "metadata": {},
     "output_type": "execute_result"
    }
   ],
   "source": [
    "features.sort_values(0, ascending=False)"
   ]
  }
 ],
 "metadata": {
  "kernelspec": {
   "display_name": "marleen-rocket-league-env",
   "language": "python",
   "name": "python3"
  },
  "language_info": {
   "codemirror_mode": {
    "name": "ipython",
    "version": 3
   },
   "file_extension": ".py",
   "mimetype": "text/x-python",
   "name": "python",
   "nbconvert_exporter": "python",
   "pygments_lexer": "ipython3",
   "version": "3.9.21"
  }
 },
 "nbformat": 4,
 "nbformat_minor": 2
}
