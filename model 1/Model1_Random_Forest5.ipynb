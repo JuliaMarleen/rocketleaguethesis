{
 "cells": [
  {
   "cell_type": "markdown",
   "metadata": {},
   "source": [
    "# Random forests"
   ]
  },
  {
   "cell_type": "markdown",
   "metadata": {},
   "source": [
    "### Imports"
   ]
  },
  {
   "cell_type": "code",
   "execution_count": 1,
   "metadata": {},
   "outputs": [
    {
     "name": "stdout",
     "output_type": "stream",
     "text": [
      "pandas version: 2.2.3\n",
      "matplotlib version: 3.9.2\n",
      "seaborn version: 0.13.2\n",
      "numpy version: 1.26.4\n",
      "sklearn version: 1.1.3\n",
      "Python version: 3.9.21 (main, Dec 11 2024, 10:23:52) \n",
      "[Clang 14.0.6 ]\n"
     ]
    }
   ],
   "source": [
    "import pandas as pd\n",
    "import matplotlib.pyplot as plt\n",
    "import matplotlib\n",
    "import seaborn as sns\n",
    "import numpy as np\n",
    "\n",
    "print(f\"pandas version: {pd.__version__}\")\n",
    "print(f\"matplotlib version: {matplotlib.__version__}\")\n",
    "print(f\"seaborn version: {sns.__version__}\")\n",
    "print(f\"numpy version: {np.__version__}\")\n",
    "\n",
    "import sklearn\n",
    "print(f\"sklearn version: {sklearn.__version__}\")\n",
    "\n",
    "import sys\n",
    "print(f\"Python version: {sys.version}\")"
   ]
  },
  {
   "cell_type": "markdown",
   "metadata": {},
   "source": [
    "### Import data"
   ]
  },
  {
   "cell_type": "code",
   "execution_count": 2,
   "metadata": {},
   "outputs": [],
   "source": [
    "players_all = pd.read_csv('../games_by_players_all.csv', encoding='utf8')\n",
    "players_ranked = pd.read_csv('../games_by_players_ranked.csv', encoding='utf8')\n",
    "players_pro = pd.read_csv('../games_by_players_pro.csv', encoding='utf8')\n",
    "\n",
    "teams_all = pd.read_csv('../games_by_team_all_added_features.csv', encoding='utf8')\n",
    "teams_ranked = pd.read_csv('../games_by_team_ranked_added_features.csv', encoding='utf8')\n",
    "teams_pro = pd.read_csv('../games_by_team_pro_added_features.csv', encoding='utf8')\n",
    "\n",
    "small_file = pd.read_csv('../small_csv_file.csv', encoding='utf8')"
   ]
  },
  {
   "cell_type": "code",
   "execution_count": 3,
   "metadata": {},
   "outputs": [
    {
     "name": "stdout",
     "output_type": "stream",
     "text": [
      "winner\n",
      "True     0.501909\n",
      "False    0.498091\n",
      "Name: proportion, dtype: float64\n"
     ]
    }
   ],
   "source": [
    "print(players_all['winner'].value_counts(normalize=True))"
   ]
  },
  {
   "cell_type": "code",
   "execution_count": 4,
   "metadata": {},
   "outputs": [],
   "source": [
    "\n",
    "players_all = players_all.drop(columns = ['game_id', 'player_tag', 'pro'])\n",
    "players_ranked = players_ranked.drop(columns = ['game_id', 'player_tag', 'pro'])\n",
    "players_pro = players_pro.drop(columns = ['game_id', 'player_tag', 'pro'])\n",
    "\n",
    "small_file = small_file.drop(columns = ['game_id', 'player_tag', 'pro'])\n",
    "\n",
    "\n",
    "# Team\n",
    "teams_all = teams_all.drop(columns = ['pro'])\n",
    "teams_ranked = teams_ranked.drop(columns = ['pro'])\n",
    "teams_pro = teams_pro.drop(columns = ['pro'])\n"
   ]
  },
  {
   "cell_type": "code",
   "execution_count": 5,
   "metadata": {},
   "outputs": [
    {
     "data": {
      "text/html": [
       "<div>\n",
       "<style scoped>\n",
       "    .dataframe tbody tr th:only-of-type {\n",
       "        vertical-align: middle;\n",
       "    }\n",
       "\n",
       "    .dataframe tbody tr th {\n",
       "        vertical-align: top;\n",
       "    }\n",
       "\n",
       "    .dataframe thead th {\n",
       "        text-align: right;\n",
       "    }\n",
       "</style>\n",
       "<table border=\"1\" class=\"dataframe\">\n",
       "  <thead>\n",
       "    <tr style=\"text-align: right;\">\n",
       "      <th></th>\n",
       "      <th>movement_avg_speed</th>\n",
       "      <th>movement_total_distance</th>\n",
       "      <th>movement_time_supersonic_speed</th>\n",
       "      <th>movement_time_boost_speed</th>\n",
       "      <th>movement_time_slow_speed</th>\n",
       "      <th>movement_time_ground</th>\n",
       "      <th>movement_time_low_air</th>\n",
       "      <th>movement_time_high_air</th>\n",
       "      <th>movement_time_powerslide</th>\n",
       "      <th>movement_count_powerslide</th>\n",
       "      <th>...</th>\n",
       "      <th>positioning_percent_neutral_third</th>\n",
       "      <th>positioning_percent_defensive_half</th>\n",
       "      <th>positioning_percent_offensive_half</th>\n",
       "      <th>positioning_percent_behind_ball</th>\n",
       "      <th>positioning_percent_infront_ball</th>\n",
       "      <th>positioning_percent_most_back</th>\n",
       "      <th>positioning_percent_most_forward</th>\n",
       "      <th>positioning_percent_closest_to_ball</th>\n",
       "      <th>positioning_percent_farthest_from_ball</th>\n",
       "      <th>winner</th>\n",
       "    </tr>\n",
       "  </thead>\n",
       "  <tbody>\n",
       "    <tr>\n",
       "      <th>0</th>\n",
       "      <td>1468.0</td>\n",
       "      <td>505882.0</td>\n",
       "      <td>40.34</td>\n",
       "      <td>142.29</td>\n",
       "      <td>196.16</td>\n",
       "      <td>219.80</td>\n",
       "      <td>143.43</td>\n",
       "      <td>15.56</td>\n",
       "      <td>8.01</td>\n",
       "      <td>68.0</td>\n",
       "      <td>...</td>\n",
       "      <td>26.72</td>\n",
       "      <td>83.53</td>\n",
       "      <td>16.47</td>\n",
       "      <td>75.83</td>\n",
       "      <td>24.17</td>\n",
       "      <td>31.88</td>\n",
       "      <td>28.71</td>\n",
       "      <td>39.66</td>\n",
       "      <td>28.51</td>\n",
       "      <td>False</td>\n",
       "    </tr>\n",
       "    <tr>\n",
       "      <th>1</th>\n",
       "      <td>1410.0</td>\n",
       "      <td>474841.0</td>\n",
       "      <td>41.74</td>\n",
       "      <td>122.11</td>\n",
       "      <td>208.83</td>\n",
       "      <td>248.88</td>\n",
       "      <td>115.01</td>\n",
       "      <td>8.80</td>\n",
       "      <td>5.41</td>\n",
       "      <td>30.0</td>\n",
       "      <td>...</td>\n",
       "      <td>24.45</td>\n",
       "      <td>79.52</td>\n",
       "      <td>20.48</td>\n",
       "      <td>67.56</td>\n",
       "      <td>32.44</td>\n",
       "      <td>31.06</td>\n",
       "      <td>36.93</td>\n",
       "      <td>31.49</td>\n",
       "      <td>32.85</td>\n",
       "      <td>False</td>\n",
       "    </tr>\n",
       "    <tr>\n",
       "      <th>2</th>\n",
       "      <td>1355.0</td>\n",
       "      <td>465999.0</td>\n",
       "      <td>35.87</td>\n",
       "      <td>119.38</td>\n",
       "      <td>223.64</td>\n",
       "      <td>212.03</td>\n",
       "      <td>145.07</td>\n",
       "      <td>21.79</td>\n",
       "      <td>7.24</td>\n",
       "      <td>36.0</td>\n",
       "      <td>...</td>\n",
       "      <td>26.17</td>\n",
       "      <td>80.77</td>\n",
       "      <td>19.23</td>\n",
       "      <td>67.72</td>\n",
       "      <td>32.28</td>\n",
       "      <td>37.22</td>\n",
       "      <td>32.79</td>\n",
       "      <td>27.29</td>\n",
       "      <td>38.78</td>\n",
       "      <td>False</td>\n",
       "    </tr>\n",
       "    <tr>\n",
       "      <th>3</th>\n",
       "      <td>1455.0</td>\n",
       "      <td>500485.0</td>\n",
       "      <td>41.75</td>\n",
       "      <td>130.76</td>\n",
       "      <td>206.38</td>\n",
       "      <td>231.33</td>\n",
       "      <td>123.58</td>\n",
       "      <td>23.97</td>\n",
       "      <td>5.61</td>\n",
       "      <td>49.0</td>\n",
       "      <td>...</td>\n",
       "      <td>29.87</td>\n",
       "      <td>54.02</td>\n",
       "      <td>45.98</td>\n",
       "      <td>77.37</td>\n",
       "      <td>22.63</td>\n",
       "      <td>28.14</td>\n",
       "      <td>44.34</td>\n",
       "      <td>41.22</td>\n",
       "      <td>29.30</td>\n",
       "      <td>True</td>\n",
       "    </tr>\n",
       "    <tr>\n",
       "      <th>4</th>\n",
       "      <td>1518.0</td>\n",
       "      <td>521069.0</td>\n",
       "      <td>50.22</td>\n",
       "      <td>149.49</td>\n",
       "      <td>179.09</td>\n",
       "      <td>241.24</td>\n",
       "      <td>128.04</td>\n",
       "      <td>9.51</td>\n",
       "      <td>3.34</td>\n",
       "      <td>32.0</td>\n",
       "      <td>...</td>\n",
       "      <td>35.38</td>\n",
       "      <td>61.49</td>\n",
       "      <td>38.51</td>\n",
       "      <td>79.66</td>\n",
       "      <td>20.34</td>\n",
       "      <td>29.56</td>\n",
       "      <td>30.44</td>\n",
       "      <td>30.15</td>\n",
       "      <td>34.75</td>\n",
       "      <td>True</td>\n",
       "    </tr>\n",
       "  </tbody>\n",
       "</table>\n",
       "<p>5 rows × 45 columns</p>\n",
       "</div>"
      ],
      "text/plain": [
       "   movement_avg_speed  movement_total_distance  \\\n",
       "0              1468.0                 505882.0   \n",
       "1              1410.0                 474841.0   \n",
       "2              1355.0                 465999.0   \n",
       "3              1455.0                 500485.0   \n",
       "4              1518.0                 521069.0   \n",
       "\n",
       "   movement_time_supersonic_speed  movement_time_boost_speed  \\\n",
       "0                           40.34                     142.29   \n",
       "1                           41.74                     122.11   \n",
       "2                           35.87                     119.38   \n",
       "3                           41.75                     130.76   \n",
       "4                           50.22                     149.49   \n",
       "\n",
       "   movement_time_slow_speed  movement_time_ground  movement_time_low_air  \\\n",
       "0                    196.16                219.80                 143.43   \n",
       "1                    208.83                248.88                 115.01   \n",
       "2                    223.64                212.03                 145.07   \n",
       "3                    206.38                231.33                 123.58   \n",
       "4                    179.09                241.24                 128.04   \n",
       "\n",
       "   movement_time_high_air  movement_time_powerslide  \\\n",
       "0                   15.56                      8.01   \n",
       "1                    8.80                      5.41   \n",
       "2                   21.79                      7.24   \n",
       "3                   23.97                      5.61   \n",
       "4                    9.51                      3.34   \n",
       "\n",
       "   movement_count_powerslide  ...  positioning_percent_neutral_third  \\\n",
       "0                       68.0  ...                              26.72   \n",
       "1                       30.0  ...                              24.45   \n",
       "2                       36.0  ...                              26.17   \n",
       "3                       49.0  ...                              29.87   \n",
       "4                       32.0  ...                              35.38   \n",
       "\n",
       "   positioning_percent_defensive_half  positioning_percent_offensive_half  \\\n",
       "0                               83.53                               16.47   \n",
       "1                               79.52                               20.48   \n",
       "2                               80.77                               19.23   \n",
       "3                               54.02                               45.98   \n",
       "4                               61.49                               38.51   \n",
       "\n",
       "   positioning_percent_behind_ball  positioning_percent_infront_ball  \\\n",
       "0                            75.83                             24.17   \n",
       "1                            67.56                             32.44   \n",
       "2                            67.72                             32.28   \n",
       "3                            77.37                             22.63   \n",
       "4                            79.66                             20.34   \n",
       "\n",
       "   positioning_percent_most_back  positioning_percent_most_forward  \\\n",
       "0                          31.88                             28.71   \n",
       "1                          31.06                             36.93   \n",
       "2                          37.22                             32.79   \n",
       "3                          28.14                             44.34   \n",
       "4                          29.56                             30.44   \n",
       "\n",
       "   positioning_percent_closest_to_ball  \\\n",
       "0                                39.66   \n",
       "1                                31.49   \n",
       "2                                27.29   \n",
       "3                                41.22   \n",
       "4                                30.15   \n",
       "\n",
       "   positioning_percent_farthest_from_ball  winner  \n",
       "0                                   28.51   False  \n",
       "1                                   32.85   False  \n",
       "2                                   38.78   False  \n",
       "3                                   29.30    True  \n",
       "4                                   34.75    True  \n",
       "\n",
       "[5 rows x 45 columns]"
      ]
     },
     "execution_count": 5,
     "metadata": {},
     "output_type": "execute_result"
    }
   ],
   "source": [
    "players_all.head()"
   ]
  },
  {
   "cell_type": "code",
   "execution_count": 6,
   "metadata": {},
   "outputs": [
    {
     "data": {
      "text/html": [
       "<div>\n",
       "<style scoped>\n",
       "    .dataframe tbody tr th:only-of-type {\n",
       "        vertical-align: middle;\n",
       "    }\n",
       "\n",
       "    .dataframe tbody tr th {\n",
       "        vertical-align: top;\n",
       "    }\n",
       "\n",
       "    .dataframe thead th {\n",
       "        text-align: right;\n",
       "    }\n",
       "</style>\n",
       "<table border=\"1\" class=\"dataframe\">\n",
       "  <thead>\n",
       "    <tr style=\"text-align: right;\">\n",
       "      <th></th>\n",
       "      <th>movement_avg_speed_1</th>\n",
       "      <th>movement_total_distance_1</th>\n",
       "      <th>movement_time_supersonic_speed_1</th>\n",
       "      <th>movement_time_boost_speed_1</th>\n",
       "      <th>movement_time_slow_speed_1</th>\n",
       "      <th>movement_time_ground_1</th>\n",
       "      <th>movement_time_low_air_1</th>\n",
       "      <th>movement_time_high_air_1</th>\n",
       "      <th>movement_time_powerslide_1</th>\n",
       "      <th>movement_count_powerslide_1</th>\n",
       "      <th>...</th>\n",
       "      <th>avg_positioning_time_most_back</th>\n",
       "      <th>max_movement_percent_high_air</th>\n",
       "      <th>min_movement_percent_high_air</th>\n",
       "      <th>var_movement_percent_high_air</th>\n",
       "      <th>avg_movement_percent_high_air</th>\n",
       "      <th>max_movement_percent_supersonic_speed</th>\n",
       "      <th>min_movement_percent_supersonic_speed</th>\n",
       "      <th>var_movement_percent_supersonic_speed</th>\n",
       "      <th>avg_movement_percent_supersonic_speed</th>\n",
       "      <th>winner</th>\n",
       "    </tr>\n",
       "  </thead>\n",
       "  <tbody>\n",
       "    <tr>\n",
       "      <th>0</th>\n",
       "      <td>1468.0</td>\n",
       "      <td>505882.0</td>\n",
       "      <td>40.34</td>\n",
       "      <td>142.29</td>\n",
       "      <td>196.16</td>\n",
       "      <td>219.80</td>\n",
       "      <td>143.43</td>\n",
       "      <td>15.56</td>\n",
       "      <td>8.01</td>\n",
       "      <td>68.0</td>\n",
       "      <td>...</td>\n",
       "      <td>117.70</td>\n",
       "      <td>5.75</td>\n",
       "      <td>2.36</td>\n",
       "      <td>1.92</td>\n",
       "      <td>4.07</td>\n",
       "      <td>11.20</td>\n",
       "      <td>9.47</td>\n",
       "      <td>0.52</td>\n",
       "      <td>10.44</td>\n",
       "      <td>False</td>\n",
       "    </tr>\n",
       "    <tr>\n",
       "      <th>1</th>\n",
       "      <td>1455.0</td>\n",
       "      <td>500485.0</td>\n",
       "      <td>41.75</td>\n",
       "      <td>130.76</td>\n",
       "      <td>206.38</td>\n",
       "      <td>231.33</td>\n",
       "      <td>123.58</td>\n",
       "      <td>23.97</td>\n",
       "      <td>5.61</td>\n",
       "      <td>49.0</td>\n",
       "      <td>...</td>\n",
       "      <td>119.37</td>\n",
       "      <td>6.33</td>\n",
       "      <td>0.66</td>\n",
       "      <td>5.57</td>\n",
       "      <td>3.17</td>\n",
       "      <td>13.26</td>\n",
       "      <td>6.27</td>\n",
       "      <td>8.49</td>\n",
       "      <td>10.18</td>\n",
       "      <td>True</td>\n",
       "    </tr>\n",
       "    <tr>\n",
       "      <th>2</th>\n",
       "      <td>1430.0</td>\n",
       "      <td>561540.0</td>\n",
       "      <td>50.30</td>\n",
       "      <td>150.27</td>\n",
       "      <td>216.30</td>\n",
       "      <td>217.17</td>\n",
       "      <td>177.03</td>\n",
       "      <td>22.67</td>\n",
       "      <td>11.74</td>\n",
       "      <td>103.0</td>\n",
       "      <td>...</td>\n",
       "      <td>132.60</td>\n",
       "      <td>5.44</td>\n",
       "      <td>3.86</td>\n",
       "      <td>0.45</td>\n",
       "      <td>4.78</td>\n",
       "      <td>14.12</td>\n",
       "      <td>7.32</td>\n",
       "      <td>8.11</td>\n",
       "      <td>11.17</td>\n",
       "      <td>True</td>\n",
       "    </tr>\n",
       "    <tr>\n",
       "      <th>3</th>\n",
       "      <td>1559.0</td>\n",
       "      <td>609572.0</td>\n",
       "      <td>66.07</td>\n",
       "      <td>166.44</td>\n",
       "      <td>181.22</td>\n",
       "      <td>237.20</td>\n",
       "      <td>165.62</td>\n",
       "      <td>10.91</td>\n",
       "      <td>11.98</td>\n",
       "      <td>120.0</td>\n",
       "      <td>...</td>\n",
       "      <td>133.23</td>\n",
       "      <td>5.50</td>\n",
       "      <td>2.64</td>\n",
       "      <td>1.37</td>\n",
       "      <td>4.14</td>\n",
       "      <td>15.97</td>\n",
       "      <td>7.48</td>\n",
       "      <td>12.22</td>\n",
       "      <td>11.40</td>\n",
       "      <td>False</td>\n",
       "    </tr>\n",
       "    <tr>\n",
       "      <th>4</th>\n",
       "      <td>1486.0</td>\n",
       "      <td>486636.0</td>\n",
       "      <td>27.96</td>\n",
       "      <td>145.74</td>\n",
       "      <td>177.11</td>\n",
       "      <td>218.76</td>\n",
       "      <td>123.81</td>\n",
       "      <td>8.24</td>\n",
       "      <td>7.00</td>\n",
       "      <td>62.0</td>\n",
       "      <td>...</td>\n",
       "      <td>114.97</td>\n",
       "      <td>6.45</td>\n",
       "      <td>1.25</td>\n",
       "      <td>5.01</td>\n",
       "      <td>3.35</td>\n",
       "      <td>11.70</td>\n",
       "      <td>7.29</td>\n",
       "      <td>3.76</td>\n",
       "      <td>8.99</td>\n",
       "      <td>False</td>\n",
       "    </tr>\n",
       "  </tbody>\n",
       "</table>\n",
       "<p>5 rows × 201 columns</p>\n",
       "</div>"
      ],
      "text/plain": [
       "   movement_avg_speed_1  movement_total_distance_1  \\\n",
       "0                1468.0                   505882.0   \n",
       "1                1455.0                   500485.0   \n",
       "2                1430.0                   561540.0   \n",
       "3                1559.0                   609572.0   \n",
       "4                1486.0                   486636.0   \n",
       "\n",
       "   movement_time_supersonic_speed_1  movement_time_boost_speed_1  \\\n",
       "0                             40.34                       142.29   \n",
       "1                             41.75                       130.76   \n",
       "2                             50.30                       150.27   \n",
       "3                             66.07                       166.44   \n",
       "4                             27.96                       145.74   \n",
       "\n",
       "   movement_time_slow_speed_1  movement_time_ground_1  \\\n",
       "0                      196.16                  219.80   \n",
       "1                      206.38                  231.33   \n",
       "2                      216.30                  217.17   \n",
       "3                      181.22                  237.20   \n",
       "4                      177.11                  218.76   \n",
       "\n",
       "   movement_time_low_air_1  movement_time_high_air_1  \\\n",
       "0                   143.43                     15.56   \n",
       "1                   123.58                     23.97   \n",
       "2                   177.03                     22.67   \n",
       "3                   165.62                     10.91   \n",
       "4                   123.81                      8.24   \n",
       "\n",
       "   movement_time_powerslide_1  movement_count_powerslide_1  ...  \\\n",
       "0                        8.01                         68.0  ...   \n",
       "1                        5.61                         49.0  ...   \n",
       "2                       11.74                        103.0  ...   \n",
       "3                       11.98                        120.0  ...   \n",
       "4                        7.00                         62.0  ...   \n",
       "\n",
       "   avg_positioning_time_most_back  max_movement_percent_high_air  \\\n",
       "0                          117.70                           5.75   \n",
       "1                          119.37                           6.33   \n",
       "2                          132.60                           5.44   \n",
       "3                          133.23                           5.50   \n",
       "4                          114.97                           6.45   \n",
       "\n",
       "   min_movement_percent_high_air  var_movement_percent_high_air  \\\n",
       "0                           2.36                           1.92   \n",
       "1                           0.66                           5.57   \n",
       "2                           3.86                           0.45   \n",
       "3                           2.64                           1.37   \n",
       "4                           1.25                           5.01   \n",
       "\n",
       "   avg_movement_percent_high_air  max_movement_percent_supersonic_speed  \\\n",
       "0                           4.07                                  11.20   \n",
       "1                           3.17                                  13.26   \n",
       "2                           4.78                                  14.12   \n",
       "3                           4.14                                  15.97   \n",
       "4                           3.35                                  11.70   \n",
       "\n",
       "   min_movement_percent_supersonic_speed  \\\n",
       "0                                   9.47   \n",
       "1                                   6.27   \n",
       "2                                   7.32   \n",
       "3                                   7.48   \n",
       "4                                   7.29   \n",
       "\n",
       "   var_movement_percent_supersonic_speed  \\\n",
       "0                                   0.52   \n",
       "1                                   8.49   \n",
       "2                                   8.11   \n",
       "3                                  12.22   \n",
       "4                                   3.76   \n",
       "\n",
       "   avg_movement_percent_supersonic_speed  winner  \n",
       "0                                  10.44   False  \n",
       "1                                  10.18    True  \n",
       "2                                  11.17    True  \n",
       "3                                  11.40   False  \n",
       "4                                   8.99   False  \n",
       "\n",
       "[5 rows x 201 columns]"
      ]
     },
     "execution_count": 6,
     "metadata": {},
     "output_type": "execute_result"
    }
   ],
   "source": [
    "teams_all.head()"
   ]
  },
  {
   "cell_type": "markdown",
   "metadata": {},
   "source": [
    "### X,y division"
   ]
  },
  {
   "cell_type": "code",
   "execution_count": 7,
   "metadata": {},
   "outputs": [],
   "source": [
    "X_players_all = players_all.iloc[:, 0:44]\n",
    "X_players_ranked = players_ranked.iloc[:, 0:44]\n",
    "X_players_pro = players_pro.iloc[:, 0:44]\n",
    "X_small_file = small_file.iloc[:, 0:44]"
   ]
  },
  {
   "cell_type": "code",
   "execution_count": 8,
   "metadata": {},
   "outputs": [],
   "source": [
    "y_players_all = players_all.iloc[:, 44]\n",
    "y_players_ranked = players_ranked.iloc[:, 44]\n",
    "y_players_pro = players_pro.iloc[:, 44]\n",
    "y_small_file = small_file.iloc[:, 44]"
   ]
  },
  {
   "cell_type": "code",
   "execution_count": 9,
   "metadata": {},
   "outputs": [],
   "source": [
    "# team\n",
    "X_teams_all = teams_all.iloc[:, 0:200]\n",
    "X_teams_ranked = teams_ranked.iloc[:, 0:200]\n",
    "X_teams_pro = teams_pro.iloc[:, 0:200]"
   ]
  },
  {
   "cell_type": "code",
   "execution_count": 10,
   "metadata": {},
   "outputs": [],
   "source": [
    "# Team\n",
    "y_teams_all = teams_all.iloc[:, 200]\n",
    "y_teams_ranked = teams_ranked.iloc[:, 200]\n",
    "y_teams_pro = teams_pro.iloc[:, 200]"
   ]
  },
  {
   "cell_type": "markdown",
   "metadata": {},
   "source": [
    "### Train-test split"
   ]
  },
  {
   "cell_type": "code",
   "execution_count": 11,
   "metadata": {},
   "outputs": [],
   "source": [
    "from sklearn.model_selection import train_test_split"
   ]
  },
  {
   "cell_type": "code",
   "execution_count": 12,
   "metadata": {},
   "outputs": [],
   "source": [
    "X_train, X_test, y_train, y_test = train_test_split(X_teams_ranked, y_teams_ranked, random_state=20, test_size=0.2)"
   ]
  },
  {
   "cell_type": "code",
   "execution_count": 13,
   "metadata": {},
   "outputs": [],
   "source": [
    "### Wat ga ik met die test ding doen"
   ]
  },
  {
   "cell_type": "markdown",
   "metadata": {},
   "source": [
    "# Model 1 -----------------------------------------------"
   ]
  },
  {
   "cell_type": "code",
   "execution_count": 14,
   "metadata": {},
   "outputs": [],
   "source": [
    "from sklearn.ensemble import RandomForestClassifier"
   ]
  },
  {
   "cell_type": "code",
   "execution_count": 15,
   "metadata": {},
   "outputs": [],
   "source": [
    "# random forests model\n",
    "rf = RandomForestClassifier(n_estimators=500,\n",
    "                             min_samples_split=10)"
   ]
  },
  {
   "cell_type": "code",
   "execution_count": 16,
   "metadata": {},
   "outputs": [],
   "source": [
    "#40 sec voor individueel / 55 sec voor teams / nu 7 min met extra HP"
   ]
  },
  {
   "cell_type": "code",
   "execution_count": 17,
   "metadata": {},
   "outputs": [
    {
     "data": {
      "text/html": [
       "<style>#sk-container-id-1 {color: black;background-color: white;}#sk-container-id-1 pre{padding: 0;}#sk-container-id-1 div.sk-toggleable {background-color: white;}#sk-container-id-1 label.sk-toggleable__label {cursor: pointer;display: block;width: 100%;margin-bottom: 0;padding: 0.3em;box-sizing: border-box;text-align: center;}#sk-container-id-1 label.sk-toggleable__label-arrow:before {content: \"▸\";float: left;margin-right: 0.25em;color: #696969;}#sk-container-id-1 label.sk-toggleable__label-arrow:hover:before {color: black;}#sk-container-id-1 div.sk-estimator:hover label.sk-toggleable__label-arrow:before {color: black;}#sk-container-id-1 div.sk-toggleable__content {max-height: 0;max-width: 0;overflow: hidden;text-align: left;background-color: #f0f8ff;}#sk-container-id-1 div.sk-toggleable__content pre {margin: 0.2em;color: black;border-radius: 0.25em;background-color: #f0f8ff;}#sk-container-id-1 input.sk-toggleable__control:checked~div.sk-toggleable__content {max-height: 200px;max-width: 100%;overflow: auto;}#sk-container-id-1 input.sk-toggleable__control:checked~label.sk-toggleable__label-arrow:before {content: \"▾\";}#sk-container-id-1 div.sk-estimator input.sk-toggleable__control:checked~label.sk-toggleable__label {background-color: #d4ebff;}#sk-container-id-1 div.sk-label input.sk-toggleable__control:checked~label.sk-toggleable__label {background-color: #d4ebff;}#sk-container-id-1 input.sk-hidden--visually {border: 0;clip: rect(1px 1px 1px 1px);clip: rect(1px, 1px, 1px, 1px);height: 1px;margin: -1px;overflow: hidden;padding: 0;position: absolute;width: 1px;}#sk-container-id-1 div.sk-estimator {font-family: monospace;background-color: #f0f8ff;border: 1px dotted black;border-radius: 0.25em;box-sizing: border-box;margin-bottom: 0.5em;}#sk-container-id-1 div.sk-estimator:hover {background-color: #d4ebff;}#sk-container-id-1 div.sk-parallel-item::after {content: \"\";width: 100%;border-bottom: 1px solid gray;flex-grow: 1;}#sk-container-id-1 div.sk-label:hover label.sk-toggleable__label {background-color: #d4ebff;}#sk-container-id-1 div.sk-serial::before {content: \"\";position: absolute;border-left: 1px solid gray;box-sizing: border-box;top: 0;bottom: 0;left: 50%;z-index: 0;}#sk-container-id-1 div.sk-serial {display: flex;flex-direction: column;align-items: center;background-color: white;padding-right: 0.2em;padding-left: 0.2em;position: relative;}#sk-container-id-1 div.sk-item {position: relative;z-index: 1;}#sk-container-id-1 div.sk-parallel {display: flex;align-items: stretch;justify-content: center;background-color: white;position: relative;}#sk-container-id-1 div.sk-item::before, #sk-container-id-1 div.sk-parallel-item::before {content: \"\";position: absolute;border-left: 1px solid gray;box-sizing: border-box;top: 0;bottom: 0;left: 50%;z-index: -1;}#sk-container-id-1 div.sk-parallel-item {display: flex;flex-direction: column;z-index: 1;position: relative;background-color: white;}#sk-container-id-1 div.sk-parallel-item:first-child::after {align-self: flex-end;width: 50%;}#sk-container-id-1 div.sk-parallel-item:last-child::after {align-self: flex-start;width: 50%;}#sk-container-id-1 div.sk-parallel-item:only-child::after {width: 0;}#sk-container-id-1 div.sk-dashed-wrapped {border: 1px dashed gray;margin: 0 0.4em 0.5em 0.4em;box-sizing: border-box;padding-bottom: 0.4em;background-color: white;}#sk-container-id-1 div.sk-label label {font-family: monospace;font-weight: bold;display: inline-block;line-height: 1.2em;}#sk-container-id-1 div.sk-label-container {text-align: center;}#sk-container-id-1 div.sk-container {/* jupyter's `normalize.less` sets `[hidden] { display: none; }` but bootstrap.min.css set `[hidden] { display: none !important; }` so we also need the `!important` here to be able to override the default hidden behavior on the sphinx rendered scikit-learn.org. See: https://github.com/scikit-learn/scikit-learn/issues/21755 */display: inline-block !important;position: relative;}#sk-container-id-1 div.sk-text-repr-fallback {display: none;}</style><div id=\"sk-container-id-1\" class=\"sk-top-container\"><div class=\"sk-text-repr-fallback\"><pre>RandomForestClassifier(min_samples_split=10, n_estimators=500)</pre><b>In a Jupyter environment, please rerun this cell to show the HTML representation or trust the notebook. <br />On GitHub, the HTML representation is unable to render, please try loading this page with nbviewer.org.</b></div><div class=\"sk-container\" hidden><div class=\"sk-item\"><div class=\"sk-estimator sk-toggleable\"><input class=\"sk-toggleable__control sk-hidden--visually\" id=\"sk-estimator-id-1\" type=\"checkbox\" checked><label for=\"sk-estimator-id-1\" class=\"sk-toggleable__label sk-toggleable__label-arrow\">RandomForestClassifier</label><div class=\"sk-toggleable__content\"><pre>RandomForestClassifier(min_samples_split=10, n_estimators=500)</pre></div></div></div></div></div>"
      ],
      "text/plain": [
       "RandomForestClassifier(min_samples_split=10, n_estimators=500)"
      ]
     },
     "execution_count": 17,
     "metadata": {},
     "output_type": "execute_result"
    }
   ],
   "source": [
    "rf.fit(X_train, y_train)"
   ]
  },
  {
   "cell_type": "markdown",
   "metadata": {},
   "source": [
    "## Scores"
   ]
  },
  {
   "cell_type": "code",
   "execution_count": 18,
   "metadata": {},
   "outputs": [],
   "source": [
    "y_pred = rf.predict(X_test)"
   ]
  },
  {
   "cell_type": "code",
   "execution_count": 19,
   "metadata": {},
   "outputs": [
    {
     "data": {
      "text/plain": [
       "0.7589736197203402"
      ]
     },
     "execution_count": 19,
     "metadata": {},
     "output_type": "execute_result"
    }
   ],
   "source": [
    "rf.score(X_test, y_test)"
   ]
  },
  {
   "cell_type": "markdown",
   "metadata": {},
   "source": [
    "### F1 enzoo metrics"
   ]
  },
  {
   "cell_type": "code",
   "execution_count": 20,
   "metadata": {},
   "outputs": [],
   "source": [
    "from sklearn.metrics import classification_report"
   ]
  },
  {
   "cell_type": "code",
   "execution_count": 21,
   "metadata": {},
   "outputs": [
    {
     "name": "stdout",
     "output_type": "stream",
     "text": [
      "              precision    recall  f1-score   support\n",
      "\n",
      "       False       0.77      0.75      0.76      3486\n",
      "        True       0.75      0.77      0.76      3451\n",
      "\n",
      "    accuracy                           0.76      6937\n",
      "   macro avg       0.76      0.76      0.76      6937\n",
      "weighted avg       0.76      0.76      0.76      6937\n",
      "\n"
     ]
    }
   ],
   "source": [
    "print(classification_report(y_test, y_pred))"
   ]
  },
  {
   "cell_type": "code",
   "execution_count": 22,
   "metadata": {},
   "outputs": [],
   "source": [
    "from sklearn.metrics import accuracy_score, recall_score, precision_score, f1_score"
   ]
  },
  {
   "cell_type": "code",
   "execution_count": 23,
   "metadata": {},
   "outputs": [
    {
     "name": "stdout",
     "output_type": "stream",
     "text": [
      "accuracy 0.7589736197203402\n",
      "recall 0.7678933642422486\n",
      "precision 0.7526270945754047\n",
      "f1 0.7601835915088927\n"
     ]
    }
   ],
   "source": [
    "accuracy = accuracy_score(y_test, y_pred)\n",
    "recall = recall_score(y_test, y_pred)\n",
    "precision = precision_score(y_test, y_pred)\n",
    "f1 = f1_score(y_test, y_pred)\n",
    "\n",
    "print(\"accuracy\", accuracy)\n",
    "print(\"recall\", recall)\n",
    "print(\"precision\", precision)\n",
    "print(\"f1\", f1)"
   ]
  },
  {
   "cell_type": "markdown",
   "metadata": {},
   "source": [
    "## Conf matrix"
   ]
  },
  {
   "cell_type": "code",
   "execution_count": 24,
   "metadata": {},
   "outputs": [],
   "source": [
    "from sklearn.metrics import confusion_matrix"
   ]
  },
  {
   "cell_type": "code",
   "execution_count": 25,
   "metadata": {},
   "outputs": [
    {
     "name": "stdout",
     "output_type": "stream",
     "text": [
      "[[2615  871]\n",
      " [ 801 2650]]\n"
     ]
    }
   ],
   "source": [
    "print(confusion_matrix(y_test, y_pred))"
   ]
  },
  {
   "cell_type": "code",
   "execution_count": 26,
   "metadata": {},
   "outputs": [
    {
     "name": "stdout",
     "output_type": "stream",
     "text": [
      "[[2615  871]\n",
      " [ 801 2650]]\n",
      "0.7589736197203402\n"
     ]
    },
    {
     "data": {
      "image/png": "[encoded data removed]",
      "text/plain": [
       "<Figure size 640x480 with 2 Axes>"
      ]
     },
     "metadata": {},
     "output_type": "display_data"
    }
   ],
   "source": [
    "cm = confusion_matrix(y_test, y_pred)\n",
    "accuracy = accuracy_score(y_test, y_pred)\n",
    "print(cm)\n",
    "print(accuracy)\n",
    "labels = list(y_train.keys())\n",
    "\n",
    "s = sns.heatmap(cm, cmap='YlGnBu', annot=True, fmt=\".0f\")\n",
    "s.set_xlabel(\"predicted\")\n",
    "s.set_ylabel(\"true\")\n",
    "plt.show()"
   ]
  },
  {
   "cell_type": "markdown",
   "metadata": {},
   "source": [
    "## ROC curve"
   ]
  },
  {
   "cell_type": "code",
   "execution_count": 27,
   "metadata": {},
   "outputs": [
    {
     "name": "stdout",
     "output_type": "stream",
     "text": [
      "[0.07105264 0.80595616 0.83707026 0.27896328 0.55474352 0.96842038\n",
      " 0.31204103 0.56748008 0.08154838 0.49637642 0.30509005 0.73608104\n",
      " 0.61827243 0.8909597  0.73732477 0.48577922 0.49862435 0.03048425\n",
      " 0.46655585 0.289486   0.33713604 0.93061906 0.51342663 0.60458972\n",
      " 0.29024609 0.55426953 0.49960539 0.45932938 0.46632703 0.43321802\n",
      " 0.08533834 0.52640854 0.44118476 0.26597523 0.12143645 0.41214184\n",
      " 0.91938745 0.1155345  0.71823403 0.5375871  0.82227885 0.27390306\n",
      " 0.72739166 0.10076635 0.27224364 0.51607156 0.47264352 0.22591641\n",
      " 0.91987881 0.82869185 0.80197595 0.64119991 0.27546787 0.18315292\n",
      " 0.46533407 0.93983591 0.67699234 0.68835288 0.52747538 0.47299777\n",
      " 0.59506555 0.91473481 0.56167961 0.55395157 0.75331792 0.51846882\n",
      " 0.4436693  0.39827057 0.85363421 0.32827595 0.89274165 0.54490519\n",
      " 0.43067074 0.70836628 0.52167006 0.69549144 0.25746721 0.58501475\n",
      " 0.88634356 0.64682943 0.43900266 0.27157375 0.49233819 0.24935324\n",
      " 0.95628314 0.52083159 0.2027686  0.92211006 0.6080985  0.21906369\n",
      " 0.6078811  0.73605771 0.0836124  0.33841891 0.16429992 0.40580571\n",
      " 0.87205754 0.60236817 0.52689246 0.70877197]\n",
      "ROC AUC Score: 0.84\n"
     ]
    },
    {
     "data": {
      "image/png": "[encoded data removed]",
      "text/plain": [
       "<Figure size 640x480 with 1 Axes>"
      ]
     },
     "metadata": {},
     "output_type": "display_data"
    }
   ],
   "source": [
    "from sklearn.metrics import roc_auc_score, roc_curve\n",
    "\n",
    "y_pred_proba = rf.predict_proba(X_test)[:, 1]\n",
    "roc_auc = roc_auc_score(y_test, y_pred_proba)\n",
    "print(f\"ROC AUC Score: {roc_auc:.3f}\")\n",
    "\n",
    "fpr, tpr, thresholds = roc_curve(y_test, y_pred_proba)\n",
    "\n",
    "plt.plot(fpr, tpr, label=f\"AUC = {roc_auc:.3f}\")\n",
    "plt.plot([0, 1], [0, 1], 'k--')\n",
    "plt.xlabel('False Positive Rate')\n",
    "plt.ylabel('True Positive Rate')\n",
    "plt.title('ROC Curve')\n",
    "plt.legend()\n",
    "plt.show()"
   ]
  },
  {
   "cell_type": "markdown",
   "metadata": {},
   "source": [
    "## Imporant features"
   ]
  },
  {
   "cell_type": "code",
   "execution_count": 28,
   "metadata": {},
   "outputs": [],
   "source": [
    "features = pd.DataFrame(rf.feature_importances_, index = X_train.columns)"
   ]
  },
  {
   "cell_type": "code",
   "execution_count": 29,
   "metadata": {},
   "outputs": [
    {
     "data": {
      "text/html": [
       "<div>\n",
       "<style scoped>\n",
       "    .dataframe tbody tr th:only-of-type {\n",
       "        vertical-align: middle;\n",
       "    }\n",
       "\n",
       "    .dataframe tbody tr th {\n",
       "        vertical-align: top;\n",
       "    }\n",
       "\n",
       "    .dataframe thead th {\n",
       "        text-align: right;\n",
       "    }\n",
       "</style>\n",
       "<table border=\"1\" class=\"dataframe\">\n",
       "  <thead>\n",
       "    <tr style=\"text-align: right;\">\n",
       "      <th></th>\n",
       "      <th>0</th>\n",
       "    </tr>\n",
       "  </thead>\n",
       "  <tbody>\n",
       "    <tr>\n",
       "      <th>avg_positioning_percent_infront_ball</th>\n",
       "      <td>0.046393</td>\n",
       "    </tr>\n",
       "    <tr>\n",
       "      <th>avg_positioning_percent_behind_ball</th>\n",
       "      <td>0.042238</td>\n",
       "    </tr>\n",
       "    <tr>\n",
       "      <th>max_positioning_percent_behind_ball</th>\n",
       "      <td>0.026866</td>\n",
       "    </tr>\n",
       "    <tr>\n",
       "      <th>avg_positioning_time_front_of_ball</th>\n",
       "      <td>0.025881</td>\n",
       "    </tr>\n",
       "    <tr>\n",
       "      <th>min_positioning_percent_infront_ball</th>\n",
       "      <td>0.023107</td>\n",
       "    </tr>\n",
       "    <tr>\n",
       "      <th>...</th>\n",
       "      <td>...</td>\n",
       "    </tr>\n",
       "    <tr>\n",
       "      <th>avg_speed</th>\n",
       "      <td>0.002981</td>\n",
       "    </tr>\n",
       "    <tr>\n",
       "      <th>movement_avg_speed_percentage_1</th>\n",
       "      <td>0.002937</td>\n",
       "    </tr>\n",
       "    <tr>\n",
       "      <th>movement_avg_powerslide_duration_3</th>\n",
       "      <td>0.002335</td>\n",
       "    </tr>\n",
       "    <tr>\n",
       "      <th>movement_avg_powerslide_duration_2</th>\n",
       "      <td>0.002304</td>\n",
       "    </tr>\n",
       "    <tr>\n",
       "      <th>movement_avg_powerslide_duration_1</th>\n",
       "      <td>0.002233</td>\n",
       "    </tr>\n",
       "  </tbody>\n",
       "</table>\n",
       "<p>200 rows × 1 columns</p>\n",
       "</div>"
      ],
      "text/plain": [
       "                                             0\n",
       "avg_positioning_percent_infront_ball  0.046393\n",
       "avg_positioning_percent_behind_ball   0.042238\n",
       "max_positioning_percent_behind_ball   0.026866\n",
       "avg_positioning_time_front_of_ball    0.025881\n",
       "min_positioning_percent_infront_ball  0.023107\n",
       "...                                        ...\n",
       "avg_speed                             0.002981\n",
       "movement_avg_speed_percentage_1       0.002937\n",
       "movement_avg_powerslide_duration_3    0.002335\n",
       "movement_avg_powerslide_duration_2    0.002304\n",
       "movement_avg_powerslide_duration_1    0.002233\n",
       "\n",
       "[200 rows x 1 columns]"
      ]
     },
     "execution_count": 29,
     "metadata": {},
     "output_type": "execute_result"
    }
   ],
   "source": [
    "features.sort_values(0, ascending=False)"
   ]
  },
  {
   "cell_type": "code",
   "execution_count": 30,
   "metadata": {},
   "outputs": [
    {
     "data": {
      "text/html": [
       "<div>\n",
       "<style scoped>\n",
       "    .dataframe tbody tr th:only-of-type {\n",
       "        vertical-align: middle;\n",
       "    }\n",
       "\n",
       "    .dataframe tbody tr th {\n",
       "        vertical-align: top;\n",
       "    }\n",
       "\n",
       "    .dataframe thead th {\n",
       "        text-align: right;\n",
       "    }\n",
       "</style>\n",
       "<table border=\"1\" class=\"dataframe\">\n",
       "  <thead>\n",
       "    <tr style=\"text-align: right;\">\n",
       "      <th></th>\n",
       "      <th>0</th>\n",
       "    </tr>\n",
       "  </thead>\n",
       "  <tbody>\n",
       "    <tr>\n",
       "      <th>avg_positioning_percent_behind_ball</th>\n",
       "      <td>0.485684</td>\n",
       "    </tr>\n",
       "    <tr>\n",
       "      <th>max_positioning_percent_behind_ball</th>\n",
       "      <td>0.419508</td>\n",
       "    </tr>\n",
       "    <tr>\n",
       "      <th>min_positioning_percent_behind_ball</th>\n",
       "      <td>0.389609</td>\n",
       "    </tr>\n",
       "    <tr>\n",
       "      <th>positioning_percent_behind_ball_1</th>\n",
       "      <td>0.328927</td>\n",
       "    </tr>\n",
       "    <tr>\n",
       "      <th>positioning_percent_behind_ball_3</th>\n",
       "      <td>0.328921</td>\n",
       "    </tr>\n",
       "    <tr>\n",
       "      <th>...</th>\n",
       "      <td>...</td>\n",
       "    </tr>\n",
       "    <tr>\n",
       "      <th>positioning_percent_infront_ball_3</th>\n",
       "      <td>-0.328922</td>\n",
       "    </tr>\n",
       "    <tr>\n",
       "      <th>positioning_percent_infront_ball_1</th>\n",
       "      <td>-0.328927</td>\n",
       "    </tr>\n",
       "    <tr>\n",
       "      <th>max_positioning_percent_infront_ball</th>\n",
       "      <td>-0.389609</td>\n",
       "    </tr>\n",
       "    <tr>\n",
       "      <th>min_positioning_percent_infront_ball</th>\n",
       "      <td>-0.419508</td>\n",
       "    </tr>\n",
       "    <tr>\n",
       "      <th>avg_positioning_percent_infront_ball</th>\n",
       "      <td>-0.485684</td>\n",
       "    </tr>\n",
       "  </tbody>\n",
       "</table>\n",
       "<p>200 rows × 1 columns</p>\n",
       "</div>"
      ],
      "text/plain": [
       "                                             0\n",
       "avg_positioning_percent_behind_ball   0.485684\n",
       "max_positioning_percent_behind_ball   0.419508\n",
       "min_positioning_percent_behind_ball   0.389609\n",
       "positioning_percent_behind_ball_1     0.328927\n",
       "positioning_percent_behind_ball_3     0.328921\n",
       "...                                        ...\n",
       "positioning_percent_infront_ball_3   -0.328922\n",
       "positioning_percent_infront_ball_1   -0.328927\n",
       "max_positioning_percent_infront_ball -0.389609\n",
       "min_positioning_percent_infront_ball -0.419508\n",
       "avg_positioning_percent_infront_ball -0.485684\n",
       "\n",
       "[200 rows x 1 columns]"
      ]
     },
     "execution_count": 30,
     "metadata": {},
     "output_type": "execute_result"
    }
   ],
   "source": [
    "correlations = pd.DataFrame(X_train.corrwith(y_train))\n",
    "correlations.sort_values(0, ascending=False)"
   ]
  },
  {
   "cell_type": "markdown",
   "metadata": {},
   "source": [
    "## statistics"
   ]
  },
  {
   "cell_type": "code",
   "execution_count": 31,
   "metadata": {},
   "outputs": [
    {
     "data": {
      "text/plain": [
       "winner\n",
       "False    69.800027\n",
       "True     73.143630\n",
       "Name: avg_positioning_percent_behind_ball, dtype: float64"
      ]
     },
     "execution_count": 31,
     "metadata": {},
     "output_type": "execute_result"
    }
   ],
   "source": [
    "# average for winners and average for losers\n",
    "X_train['avg_positioning_percent_behind_ball'].groupby(y_train).mean()"
   ]
  },
  {
   "cell_type": "code",
   "execution_count": 32,
   "metadata": {},
   "outputs": [
    {
     "data": {
      "text/plain": [
       "winner\n",
       "False    73.714321\n",
       "True     77.002326\n",
       "Name: max_positioning_percent_behind_ball, dtype: float64"
      ]
     },
     "execution_count": 32,
     "metadata": {},
     "output_type": "execute_result"
    }
   ],
   "source": [
    "# average for winners and average for losers\n",
    "X_train['max_positioning_percent_behind_ball'].groupby(y_train).mean()"
   ]
  },
  {
   "cell_type": "code",
   "execution_count": 33,
   "metadata": {},
   "outputs": [
    {
     "data": {
      "text/plain": [
       "winner\n",
       "False    30.199970\n",
       "True     26.856369\n",
       "Name: avg_positioning_percent_infront_ball, dtype: float64"
      ]
     },
     "execution_count": 33,
     "metadata": {},
     "output_type": "execute_result"
    }
   ],
   "source": [
    "# average for winners and average for losers\n",
    "X_train['avg_positioning_percent_infront_ball'].groupby(y_train).mean()"
   ]
  },
  {
   "cell_type": "code",
   "execution_count": 34,
   "metadata": {},
   "outputs": [
    {
     "data": {
      "text/plain": [
       "winner\n",
       "False    26.285679\n",
       "True     22.997672\n",
       "Name: min_positioning_percent_infront_ball, dtype: float64"
      ]
     },
     "execution_count": 34,
     "metadata": {},
     "output_type": "execute_result"
    }
   ],
   "source": [
    "# average for winners and average for losers\n",
    "X_train['min_positioning_percent_infront_ball'].groupby(y_train).mean()"
   ]
  },
  {
   "cell_type": "markdown",
   "metadata": {},
   "source": [
    "# Model 2 -------------------------------"
   ]
  },
  {
   "cell_type": "markdown",
   "metadata": {},
   "source": [
    "## Model"
   ]
  },
  {
   "cell_type": "code",
   "execution_count": 35,
   "metadata": {},
   "outputs": [],
   "source": [
    "rf2 = RandomForestClassifier(n_estimators=500,\n",
    "                             criterion='entropy',\n",
    "                             min_samples_split=10,\n",
    "                             max_depth = 14,\n",
    "                             random_state = 42\n",
    ")"
   ]
  },
  {
   "cell_type": "code",
   "execution_count": 36,
   "metadata": {},
   "outputs": [],
   "source": [
    "#13 min de volgende / 8 min voor team / 4 op blauwe laptop"
   ]
  },
  {
   "cell_type": "code",
   "execution_count": 37,
   "metadata": {},
   "outputs": [
    {
     "data": {
      "text/html": [
       "<style>#sk-container-id-2 {color: black;background-color: white;}#sk-container-id-2 pre{padding: 0;}#sk-container-id-2 div.sk-toggleable {background-color: white;}#sk-container-id-2 label.sk-toggleable__label {cursor: pointer;display: block;width: 100%;margin-bottom: 0;padding: 0.3em;box-sizing: border-box;text-align: center;}#sk-container-id-2 label.sk-toggleable__label-arrow:before {content: \"▸\";float: left;margin-right: 0.25em;color: #696969;}#sk-container-id-2 label.sk-toggleable__label-arrow:hover:before {color: black;}#sk-container-id-2 div.sk-estimator:hover label.sk-toggleable__label-arrow:before {color: black;}#sk-container-id-2 div.sk-toggleable__content {max-height: 0;max-width: 0;overflow: hidden;text-align: left;background-color: #f0f8ff;}#sk-container-id-2 div.sk-toggleable__content pre {margin: 0.2em;color: black;border-radius: 0.25em;background-color: #f0f8ff;}#sk-container-id-2 input.sk-toggleable__control:checked~div.sk-toggleable__content {max-height: 200px;max-width: 100%;overflow: auto;}#sk-container-id-2 input.sk-toggleable__control:checked~label.sk-toggleable__label-arrow:before {content: \"▾\";}#sk-container-id-2 div.sk-estimator input.sk-toggleable__control:checked~label.sk-toggleable__label {background-color: #d4ebff;}#sk-container-id-2 div.sk-label input.sk-toggleable__control:checked~label.sk-toggleable__label {background-color: #d4ebff;}#sk-container-id-2 input.sk-hidden--visually {border: 0;clip: rect(1px 1px 1px 1px);clip: rect(1px, 1px, 1px, 1px);height: 1px;margin: -1px;overflow: hidden;padding: 0;position: absolute;width: 1px;}#sk-container-id-2 div.sk-estimator {font-family: monospace;background-color: #f0f8ff;border: 1px dotted black;border-radius: 0.25em;box-sizing: border-box;margin-bottom: 0.5em;}#sk-container-id-2 div.sk-estimator:hover {background-color: #d4ebff;}#sk-container-id-2 div.sk-parallel-item::after {content: \"\";width: 100%;border-bottom: 1px solid gray;flex-grow: 1;}#sk-container-id-2 div.sk-label:hover label.sk-toggleable__label {background-color: #d4ebff;}#sk-container-id-2 div.sk-serial::before {content: \"\";position: absolute;border-left: 1px solid gray;box-sizing: border-box;top: 0;bottom: 0;left: 50%;z-index: 0;}#sk-container-id-2 div.sk-serial {display: flex;flex-direction: column;align-items: center;background-color: white;padding-right: 0.2em;padding-left: 0.2em;position: relative;}#sk-container-id-2 div.sk-item {position: relative;z-index: 1;}#sk-container-id-2 div.sk-parallel {display: flex;align-items: stretch;justify-content: center;background-color: white;position: relative;}#sk-container-id-2 div.sk-item::before, #sk-container-id-2 div.sk-parallel-item::before {content: \"\";position: absolute;border-left: 1px solid gray;box-sizing: border-box;top: 0;bottom: 0;left: 50%;z-index: -1;}#sk-container-id-2 div.sk-parallel-item {display: flex;flex-direction: column;z-index: 1;position: relative;background-color: white;}#sk-container-id-2 div.sk-parallel-item:first-child::after {align-self: flex-end;width: 50%;}#sk-container-id-2 div.sk-parallel-item:last-child::after {align-self: flex-start;width: 50%;}#sk-container-id-2 div.sk-parallel-item:only-child::after {width: 0;}#sk-container-id-2 div.sk-dashed-wrapped {border: 1px dashed gray;margin: 0 0.4em 0.5em 0.4em;box-sizing: border-box;padding-bottom: 0.4em;background-color: white;}#sk-container-id-2 div.sk-label label {font-family: monospace;font-weight: bold;display: inline-block;line-height: 1.2em;}#sk-container-id-2 div.sk-label-container {text-align: center;}#sk-container-id-2 div.sk-container {/* jupyter's `normalize.less` sets `[hidden] { display: none; }` but bootstrap.min.css set `[hidden] { display: none !important; }` so we also need the `!important` here to be able to override the default hidden behavior on the sphinx rendered scikit-learn.org. See: https://github.com/scikit-learn/scikit-learn/issues/21755 */display: inline-block !important;position: relative;}#sk-container-id-2 div.sk-text-repr-fallback {display: none;}</style><div id=\"sk-container-id-2\" class=\"sk-top-container\"><div class=\"sk-text-repr-fallback\"><pre>RandomForestClassifier(criterion=&#x27;entropy&#x27;, max_depth=14, min_samples_split=10,\n",
       "                       n_estimators=500, random_state=42)</pre><b>In a Jupyter environment, please rerun this cell to show the HTML representation or trust the notebook. <br />On GitHub, the HTML representation is unable to render, please try loading this page with nbviewer.org.</b></div><div class=\"sk-container\" hidden><div class=\"sk-item\"><div class=\"sk-estimator sk-toggleable\"><input class=\"sk-toggleable__control sk-hidden--visually\" id=\"sk-estimator-id-2\" type=\"checkbox\" checked><label for=\"sk-estimator-id-2\" class=\"sk-toggleable__label sk-toggleable__label-arrow\">RandomForestClassifier</label><div class=\"sk-toggleable__content\"><pre>RandomForestClassifier(criterion=&#x27;entropy&#x27;, max_depth=14, min_samples_split=10,\n",
       "                       n_estimators=500, random_state=42)</pre></div></div></div></div></div>"
      ],
      "text/plain": [
       "RandomForestClassifier(criterion='entropy', max_depth=14, min_samples_split=10,\n",
       "                       n_estimators=500, random_state=42)"
      ]
     },
     "execution_count": 37,
     "metadata": {},
     "output_type": "execute_result"
    }
   ],
   "source": [
    "rf2.fit(X_train, y_train)"
   ]
  },
  {
   "cell_type": "markdown",
   "metadata": {},
   "source": [
    "## Scores"
   ]
  },
  {
   "cell_type": "code",
   "execution_count": 38,
   "metadata": {},
   "outputs": [],
   "source": [
    "y_pred2 = rf2.predict(X_test)"
   ]
  },
  {
   "cell_type": "code",
   "execution_count": 39,
   "metadata": {},
   "outputs": [
    {
     "data": {
      "text/plain": [
       "0.7547931382441978"
      ]
     },
     "execution_count": 39,
     "metadata": {},
     "output_type": "execute_result"
    }
   ],
   "source": [
    "rf2.score(X_test, y_test)"
   ]
  },
  {
   "cell_type": "code",
   "execution_count": 40,
   "metadata": {},
   "outputs": [
    {
     "name": "stdout",
     "output_type": "stream",
     "text": [
      "              precision    recall  f1-score   support\n",
      "\n",
      "       False       0.76      0.74      0.75      3486\n",
      "        True       0.75      0.77      0.76      3451\n",
      "\n",
      "    accuracy                           0.75      6937\n",
      "   macro avg       0.76      0.75      0.75      6937\n",
      "weighted avg       0.76      0.75      0.75      6937\n",
      "\n"
     ]
    }
   ],
   "source": [
    "print(classification_report(y_test, y_pred2))"
   ]
  },
  {
   "cell_type": "code",
   "execution_count": 41,
   "metadata": {},
   "outputs": [],
   "source": [
    "from sklearn.metrics import accuracy_score, recall_score, precision_score, f1_score"
   ]
  },
  {
   "cell_type": "code",
   "execution_count": 42,
   "metadata": {},
   "outputs": [
    {
     "name": "stdout",
     "output_type": "stream",
     "text": [
      "accuracy 0.7547931382441978\n",
      "recall 0.7690524485656332\n",
      "precision 0.7459246767847105\n",
      "f1 0.7573120273933515\n"
     ]
    }
   ],
   "source": [
    "accuracy = accuracy_score(y_test, y_pred2)\n",
    "recall = recall_score(y_test, y_pred2)\n",
    "precision = precision_score(y_test, y_pred2)\n",
    "f1 = f1_score(y_test, y_pred2)\n",
    "\n",
    "print(\"accuracy\", accuracy)\n",
    "print(\"recall\", recall)\n",
    "print(\"precision\", precision)\n",
    "print(\"f1\", f1)"
   ]
  },
  {
   "cell_type": "code",
   "execution_count": 43,
   "metadata": {},
   "outputs": [],
   "source": [
    "from sklearn.metrics import accuracy_score"
   ]
  },
  {
   "cell_type": "code",
   "execution_count": 44,
   "metadata": {},
   "outputs": [
    {
     "name": "stdout",
     "output_type": "stream",
     "text": [
      "DNN Accuracy: 0.7547931382441978\n"
     ]
    }
   ],
   "source": [
    "y_pred2 = rf2.predict(X_test)\n",
    "y_pred_classes2 = y_pred2\n",
    "y_test_classes2 = y_test\n",
    "print(\"DNN Accuracy:\", accuracy_score(y_test_classes2, y_pred_classes2))"
   ]
  },
  {
   "cell_type": "markdown",
   "metadata": {},
   "source": [
    "### Conf matrix"
   ]
  },
  {
   "cell_type": "code",
   "execution_count": 45,
   "metadata": {},
   "outputs": [],
   "source": [
    "from sklearn.metrics import confusion_matrix"
   ]
  },
  {
   "cell_type": "code",
   "execution_count": 46,
   "metadata": {},
   "outputs": [
    {
     "name": "stdout",
     "output_type": "stream",
     "text": [
      "[[2582  904]\n",
      " [ 797 2654]]\n"
     ]
    }
   ],
   "source": [
    "print(confusion_matrix(y_test, y_pred2))"
   ]
  },
  {
   "cell_type": "code",
   "execution_count": 47,
   "metadata": {},
   "outputs": [
    {
     "name": "stdout",
     "output_type": "stream",
     "text": [
      "[[2582  904]\n",
      " [ 797 2654]]\n",
      "0.7547931382441978\n"
     ]
    },
    {
     "data": {
      "image/png": "[encoded data removed]",
      "text/plain": [
       "<Figure size 640x480 with 2 Axes>"
      ]
     },
     "metadata": {},
     "output_type": "display_data"
    }
   ],
   "source": [
    "cm = confusion_matrix(y_test, y_pred2)\n",
    "accuracy = accuracy_score(y_test, y_pred2)\n",
    "print(cm)\n",
    "print(accuracy)\n",
    "labels = list(y_train.keys())\n",
    "\n",
    "s = sns.heatmap(cm, cmap='YlGnBu', annot=True, fmt=\".0f\")\n",
    "s.set_xlabel(\"predicted\")\n",
    "s.set_ylabel(\"true\")\n",
    "plt.show()\n"
   ]
  },
  {
   "cell_type": "markdown",
   "metadata": {},
   "source": [
    "### roc score"
   ]
  },
  {
   "cell_type": "code",
   "execution_count": 48,
   "metadata": {},
   "outputs": [
    {
     "name": "stdout",
     "output_type": "stream",
     "text": [
      "[0.03924938 0.79147765 0.84080328 0.24808446 0.58543974 0.95249045\n",
      " 0.41406193 0.55663435 0.09694476 0.5189034  0.33624859 0.77720935\n",
      " 0.5854449  0.95326373 0.74503664 0.42906175 0.49697199 0.04274247\n",
      " 0.49904547 0.30491053 0.3515031  0.91499246 0.51175391 0.60585542\n",
      " 0.26581766 0.53730477 0.6228106  0.47210567 0.47168788 0.41123898\n",
      " 0.05383745 0.51489122 0.48710944 0.22992778 0.13252934 0.44098954\n",
      " 0.9295826  0.1139193  0.74515814 0.54807781 0.76554163 0.23428509\n",
      " 0.71284438 0.05369652 0.29756322 0.52005759 0.45543149 0.24924114\n",
      " 0.9562072  0.86263791 0.8358401  0.6424739  0.17963877 0.2875721\n",
      " 0.40671303 0.95293448 0.64943445 0.6755236  0.55954975 0.51790292\n",
      " 0.5928759  0.93459808 0.5413328  0.56131958 0.73121174 0.48658594\n",
      " 0.43707009 0.35537732 0.79436593 0.2695548  0.87164151 0.57213252\n",
      " 0.42330513 0.73665671 0.52857371 0.70354097 0.24134056 0.62472882\n",
      " 0.833023   0.64590343 0.47926461 0.27367114 0.49609338 0.21969044\n",
      " 0.9392583  0.54222425 0.17345185 0.93359362 0.60759879 0.21529373\n",
      " 0.56943142 0.7922583  0.13109153 0.32640923 0.14512265 0.43611537\n",
      " 0.82685743 0.65557277 0.48158851 0.69581244]\n",
      "ROC AUC Score: 0.84\n"
     ]
    },
    {
     "data": {
      "image/png": "[encoded data removed]",
      "text/plain": [
       "<Figure size 640x480 with 1 Axes>"
      ]
     },
     "metadata": {},
     "output_type": "display_data"
    }
   ],
   "source": [
    "from sklearn.metrics import roc_auc_score, roc_curve\n",
    "\n",
    "y_pred_proba = rf2.predict_proba(X_test)[:, 1]\n",
    "roc_auc = roc_auc_score(y_test, y_pred_proba)\n",
    "print(f\"ROC AUC Score: {roc_auc:.3f}\")\n",
    "\n",
    "fpr, tpr, thresholds = roc_curve(y_test, y_pred_proba)\n",
    "\n",
    "plt.plot(fpr, tpr, label=f\"AUC = {roc_auc:.3f}\")\n",
    "plt.plot([0, 1], [0, 1], 'k--')\n",
    "plt.xlabel('False Positive Rate')\n",
    "plt.ylabel('True Positive Rate')\n",
    "plt.title('ROC Curve')\n",
    "plt.legend()\n",
    "plt.show()"
   ]
  },
  {
   "cell_type": "markdown",
   "metadata": {},
   "source": [
    "### Important features"
   ]
  },
  {
   "cell_type": "code",
   "execution_count": 50,
   "metadata": {},
   "outputs": [],
   "source": [
    "features = pd.DataFrame(rf2.feature_importances_, index = X_train.columns)"
   ]
  },
  {
   "cell_type": "code",
   "execution_count": 51,
   "metadata": {},
   "outputs": [
    {
     "data": {
      "text/html": [
       "<div>\n",
       "<style scoped>\n",
       "    .dataframe tbody tr th:only-of-type {\n",
       "        vertical-align: middle;\n",
       "    }\n",
       "\n",
       "    .dataframe tbody tr th {\n",
       "        vertical-align: top;\n",
       "    }\n",
       "\n",
       "    .dataframe thead th {\n",
       "        text-align: right;\n",
       "    }\n",
       "</style>\n",
       "<table border=\"1\" class=\"dataframe\">\n",
       "  <thead>\n",
       "    <tr style=\"text-align: right;\">\n",
       "      <th></th>\n",
       "      <th>0</th>\n",
       "    </tr>\n",
       "  </thead>\n",
       "  <tbody>\n",
       "    <tr>\n",
       "      <th>avg_positioning_percent_behind_ball</th>\n",
       "      <td>0.050607</td>\n",
       "    </tr>\n",
       "    <tr>\n",
       "      <th>avg_positioning_percent_infront_ball</th>\n",
       "      <td>0.048868</td>\n",
       "    </tr>\n",
       "    <tr>\n",
       "      <th>avg_positioning_time_front_of_ball</th>\n",
       "      <td>0.033332</td>\n",
       "    </tr>\n",
       "    <tr>\n",
       "      <th>max_positioning_percent_behind_ball</th>\n",
       "      <td>0.029491</td>\n",
       "    </tr>\n",
       "    <tr>\n",
       "      <th>min_positioning_percent_infront_ball</th>\n",
       "      <td>0.024754</td>\n",
       "    </tr>\n",
       "    <tr>\n",
       "      <th>...</th>\n",
       "      <td>...</td>\n",
       "    </tr>\n",
       "    <tr>\n",
       "      <th>movement_avg_speed_2</th>\n",
       "      <td>0.002794</td>\n",
       "    </tr>\n",
       "    <tr>\n",
       "      <th>movement_avg_speed_1</th>\n",
       "      <td>0.002738</td>\n",
       "    </tr>\n",
       "    <tr>\n",
       "      <th>movement_avg_powerslide_duration_2</th>\n",
       "      <td>0.001997</td>\n",
       "    </tr>\n",
       "    <tr>\n",
       "      <th>movement_avg_powerslide_duration_3</th>\n",
       "      <td>0.001957</td>\n",
       "    </tr>\n",
       "    <tr>\n",
       "      <th>movement_avg_powerslide_duration_1</th>\n",
       "      <td>0.001875</td>\n",
       "    </tr>\n",
       "  </tbody>\n",
       "</table>\n",
       "<p>200 rows × 1 columns</p>\n",
       "</div>"
      ],
      "text/plain": [
       "                                             0\n",
       "avg_positioning_percent_behind_ball   0.050607\n",
       "avg_positioning_percent_infront_ball  0.048868\n",
       "avg_positioning_time_front_of_ball    0.033332\n",
       "max_positioning_percent_behind_ball   0.029491\n",
       "min_positioning_percent_infront_ball  0.024754\n",
       "...                                        ...\n",
       "movement_avg_speed_2                  0.002794\n",
       "movement_avg_speed_1                  0.002738\n",
       "movement_avg_powerslide_duration_2    0.001997\n",
       "movement_avg_powerslide_duration_3    0.001957\n",
       "movement_avg_powerslide_duration_1    0.001875\n",
       "\n",
       "[200 rows x 1 columns]"
      ]
     },
     "execution_count": 51,
     "metadata": {},
     "output_type": "execute_result"
    }
   ],
   "source": [
    "features.sort_values(0, ascending=False)"
   ]
  }
 ],
 "metadata": {
  "kernelspec": {
   "display_name": "marleen-rocket-league-env",
   "language": "python",
   "name": "python3"
  },
  "language_info": {
   "codemirror_mode": {
    "name": "ipython",
    "version": 3
   },
   "file_extension": ".py",
   "mimetype": "text/x-python",
   "name": "python",
   "nbconvert_exporter": "python",
   "pygments_lexer": "ipython3",
   "version": "3.9.21"
  }
 },
 "nbformat": 4,
 "nbformat_minor": 2
}
