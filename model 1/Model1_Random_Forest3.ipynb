{
 "cells": [
  {
   "cell_type": "markdown",
   "metadata": {},
   "source": [
    "# Random forests"
   ]
  },
  {
   "cell_type": "markdown",
   "metadata": {},
   "source": [
    "### Imports"
   ]
  },
  {
   "cell_type": "code",
   "execution_count": 1,
   "metadata": {},
   "outputs": [
    {
     "name": "stdout",
     "output_type": "stream",
     "text": [
      "pandas version: 2.2.3\n",
      "matplotlib version: 3.9.2\n",
      "seaborn version: 0.13.2\n",
      "numpy version: 1.26.4\n",
      "sklearn version: 1.1.3\n",
      "Python version: 3.9.21 (main, Dec 11 2024, 10:23:52) \n",
      "[Clang 14.0.6 ]\n"
     ]
    }
   ],
   "source": [
    "import pandas as pd\n",
    "import matplotlib.pyplot as plt\n",
    "import matplotlib\n",
    "import seaborn as sns\n",
    "import numpy as np\n",
    "\n",
    "print(f\"pandas version: {pd.__version__}\")\n",
    "print(f\"matplotlib version: {matplotlib.__version__}\")\n",
    "print(f\"seaborn version: {sns.__version__}\")\n",
    "print(f\"numpy version: {np.__version__}\")\n",
    "\n",
    "import sklearn\n",
    "print(f\"sklearn version: {sklearn.__version__}\")\n",
    "\n",
    "import sys\n",
    "print(f\"Python version: {sys.version}\")"
   ]
  },
  {
   "cell_type": "markdown",
   "metadata": {},
   "source": [
    "### Import data"
   ]
  },
  {
   "cell_type": "code",
   "execution_count": 2,
   "metadata": {},
   "outputs": [],
   "source": [
    "players_all = pd.read_csv('../games_by_players_all.csv', encoding='utf8')\n",
    "players_ranked = pd.read_csv('../games_by_players_ranked.csv', encoding='utf8')\n",
    "players_pro = pd.read_csv('../games_by_players_pro.csv', encoding='utf8')\n",
    "\n",
    "teams_all = pd.read_csv('../games_by_team_all_added_features.csv', encoding='utf8')\n",
    "teams_ranked = pd.read_csv('../games_by_team_ranked_added_features.csv', encoding='utf8')\n",
    "teams_pro = pd.read_csv('../games_by_team_pro_added_features.csv', encoding='utf8')\n",
    "\n",
    "small_file = pd.read_csv('../small_csv_file.csv', encoding='utf8')"
   ]
  },
  {
   "cell_type": "code",
   "execution_count": 3,
   "metadata": {},
   "outputs": [
    {
     "name": "stdout",
     "output_type": "stream",
     "text": [
      "winner\n",
      "True     0.501909\n",
      "False    0.498091\n",
      "Name: proportion, dtype: float64\n"
     ]
    }
   ],
   "source": [
    "print(players_all['winner'].value_counts(normalize=True))"
   ]
  },
  {
   "cell_type": "code",
   "execution_count": 4,
   "metadata": {},
   "outputs": [],
   "source": [
    "\n",
    "players_all = players_all.drop(columns = ['game_id', 'player_tag', 'pro'])\n",
    "players_ranked = players_ranked.drop(columns = ['game_id', 'player_tag', 'pro'])\n",
    "players_pro = players_pro.drop(columns = ['game_id', 'player_tag', 'pro'])\n",
    "\n",
    "small_file = small_file.drop(columns = ['game_id', 'player_tag', 'pro'])\n",
    "\n",
    "\n",
    "# Team\n",
    "teams_all = teams_all.drop(columns = ['pro'])\n",
    "teams_ranked = teams_ranked.drop(columns = ['pro'])\n",
    "teams_pro = teams_pro.drop(columns = ['pro'])\n"
   ]
  },
  {
   "cell_type": "code",
   "execution_count": 5,
   "metadata": {},
   "outputs": [
    {
     "data": {
      "text/html": [
       "<div>\n",
       "<style scoped>\n",
       "    .dataframe tbody tr th:only-of-type {\n",
       "        vertical-align: middle;\n",
       "    }\n",
       "\n",
       "    .dataframe tbody tr th {\n",
       "        vertical-align: top;\n",
       "    }\n",
       "\n",
       "    .dataframe thead th {\n",
       "        text-align: right;\n",
       "    }\n",
       "</style>\n",
       "<table border=\"1\" class=\"dataframe\">\n",
       "  <thead>\n",
       "    <tr style=\"text-align: right;\">\n",
       "      <th></th>\n",
       "      <th>movement_avg_speed</th>\n",
       "      <th>movement_total_distance</th>\n",
       "      <th>movement_time_supersonic_speed</th>\n",
       "      <th>movement_time_boost_speed</th>\n",
       "      <th>movement_time_slow_speed</th>\n",
       "      <th>movement_time_ground</th>\n",
       "      <th>movement_time_low_air</th>\n",
       "      <th>movement_time_high_air</th>\n",
       "      <th>movement_time_powerslide</th>\n",
       "      <th>movement_count_powerslide</th>\n",
       "      <th>...</th>\n",
       "      <th>positioning_percent_neutral_third</th>\n",
       "      <th>positioning_percent_defensive_half</th>\n",
       "      <th>positioning_percent_offensive_half</th>\n",
       "      <th>positioning_percent_behind_ball</th>\n",
       "      <th>positioning_percent_infront_ball</th>\n",
       "      <th>positioning_percent_most_back</th>\n",
       "      <th>positioning_percent_most_forward</th>\n",
       "      <th>positioning_percent_closest_to_ball</th>\n",
       "      <th>positioning_percent_farthest_from_ball</th>\n",
       "      <th>winner</th>\n",
       "    </tr>\n",
       "  </thead>\n",
       "  <tbody>\n",
       "    <tr>\n",
       "      <th>0</th>\n",
       "      <td>1468.0</td>\n",
       "      <td>505882.0</td>\n",
       "      <td>40.34</td>\n",
       "      <td>142.29</td>\n",
       "      <td>196.16</td>\n",
       "      <td>219.80</td>\n",
       "      <td>143.43</td>\n",
       "      <td>15.56</td>\n",
       "      <td>8.01</td>\n",
       "      <td>68.0</td>\n",
       "      <td>...</td>\n",
       "      <td>26.72</td>\n",
       "      <td>83.53</td>\n",
       "      <td>16.47</td>\n",
       "      <td>75.83</td>\n",
       "      <td>24.17</td>\n",
       "      <td>31.88</td>\n",
       "      <td>28.71</td>\n",
       "      <td>39.66</td>\n",
       "      <td>28.51</td>\n",
       "      <td>False</td>\n",
       "    </tr>\n",
       "    <tr>\n",
       "      <th>1</th>\n",
       "      <td>1410.0</td>\n",
       "      <td>474841.0</td>\n",
       "      <td>41.74</td>\n",
       "      <td>122.11</td>\n",
       "      <td>208.83</td>\n",
       "      <td>248.88</td>\n",
       "      <td>115.01</td>\n",
       "      <td>8.80</td>\n",
       "      <td>5.41</td>\n",
       "      <td>30.0</td>\n",
       "      <td>...</td>\n",
       "      <td>24.45</td>\n",
       "      <td>79.52</td>\n",
       "      <td>20.48</td>\n",
       "      <td>67.56</td>\n",
       "      <td>32.44</td>\n",
       "      <td>31.06</td>\n",
       "      <td>36.93</td>\n",
       "      <td>31.49</td>\n",
       "      <td>32.85</td>\n",
       "      <td>False</td>\n",
       "    </tr>\n",
       "    <tr>\n",
       "      <th>2</th>\n",
       "      <td>1355.0</td>\n",
       "      <td>465999.0</td>\n",
       "      <td>35.87</td>\n",
       "      <td>119.38</td>\n",
       "      <td>223.64</td>\n",
       "      <td>212.03</td>\n",
       "      <td>145.07</td>\n",
       "      <td>21.79</td>\n",
       "      <td>7.24</td>\n",
       "      <td>36.0</td>\n",
       "      <td>...</td>\n",
       "      <td>26.17</td>\n",
       "      <td>80.77</td>\n",
       "      <td>19.23</td>\n",
       "      <td>67.72</td>\n",
       "      <td>32.28</td>\n",
       "      <td>37.22</td>\n",
       "      <td>32.79</td>\n",
       "      <td>27.29</td>\n",
       "      <td>38.78</td>\n",
       "      <td>False</td>\n",
       "    </tr>\n",
       "    <tr>\n",
       "      <th>3</th>\n",
       "      <td>1455.0</td>\n",
       "      <td>500485.0</td>\n",
       "      <td>41.75</td>\n",
       "      <td>130.76</td>\n",
       "      <td>206.38</td>\n",
       "      <td>231.33</td>\n",
       "      <td>123.58</td>\n",
       "      <td>23.97</td>\n",
       "      <td>5.61</td>\n",
       "      <td>49.0</td>\n",
       "      <td>...</td>\n",
       "      <td>29.87</td>\n",
       "      <td>54.02</td>\n",
       "      <td>45.98</td>\n",
       "      <td>77.37</td>\n",
       "      <td>22.63</td>\n",
       "      <td>28.14</td>\n",
       "      <td>44.34</td>\n",
       "      <td>41.22</td>\n",
       "      <td>29.30</td>\n",
       "      <td>True</td>\n",
       "    </tr>\n",
       "    <tr>\n",
       "      <th>4</th>\n",
       "      <td>1518.0</td>\n",
       "      <td>521069.0</td>\n",
       "      <td>50.22</td>\n",
       "      <td>149.49</td>\n",
       "      <td>179.09</td>\n",
       "      <td>241.24</td>\n",
       "      <td>128.04</td>\n",
       "      <td>9.51</td>\n",
       "      <td>3.34</td>\n",
       "      <td>32.0</td>\n",
       "      <td>...</td>\n",
       "      <td>35.38</td>\n",
       "      <td>61.49</td>\n",
       "      <td>38.51</td>\n",
       "      <td>79.66</td>\n",
       "      <td>20.34</td>\n",
       "      <td>29.56</td>\n",
       "      <td>30.44</td>\n",
       "      <td>30.15</td>\n",
       "      <td>34.75</td>\n",
       "      <td>True</td>\n",
       "    </tr>\n",
       "  </tbody>\n",
       "</table>\n",
       "<p>5 rows × 45 columns</p>\n",
       "</div>"
      ],
      "text/plain": [
       "   movement_avg_speed  movement_total_distance  \\\n",
       "0              1468.0                 505882.0   \n",
       "1              1410.0                 474841.0   \n",
       "2              1355.0                 465999.0   \n",
       "3              1455.0                 500485.0   \n",
       "4              1518.0                 521069.0   \n",
       "\n",
       "   movement_time_supersonic_speed  movement_time_boost_speed  \\\n",
       "0                           40.34                     142.29   \n",
       "1                           41.74                     122.11   \n",
       "2                           35.87                     119.38   \n",
       "3                           41.75                     130.76   \n",
       "4                           50.22                     149.49   \n",
       "\n",
       "   movement_time_slow_speed  movement_time_ground  movement_time_low_air  \\\n",
       "0                    196.16                219.80                 143.43   \n",
       "1                    208.83                248.88                 115.01   \n",
       "2                    223.64                212.03                 145.07   \n",
       "3                    206.38                231.33                 123.58   \n",
       "4                    179.09                241.24                 128.04   \n",
       "\n",
       "   movement_time_high_air  movement_time_powerslide  \\\n",
       "0                   15.56                      8.01   \n",
       "1                    8.80                      5.41   \n",
       "2                   21.79                      7.24   \n",
       "3                   23.97                      5.61   \n",
       "4                    9.51                      3.34   \n",
       "\n",
       "   movement_count_powerslide  ...  positioning_percent_neutral_third  \\\n",
       "0                       68.0  ...                              26.72   \n",
       "1                       30.0  ...                              24.45   \n",
       "2                       36.0  ...                              26.17   \n",
       "3                       49.0  ...                              29.87   \n",
       "4                       32.0  ...                              35.38   \n",
       "\n",
       "   positioning_percent_defensive_half  positioning_percent_offensive_half  \\\n",
       "0                               83.53                               16.47   \n",
       "1                               79.52                               20.48   \n",
       "2                               80.77                               19.23   \n",
       "3                               54.02                               45.98   \n",
       "4                               61.49                               38.51   \n",
       "\n",
       "   positioning_percent_behind_ball  positioning_percent_infront_ball  \\\n",
       "0                            75.83                             24.17   \n",
       "1                            67.56                             32.44   \n",
       "2                            67.72                             32.28   \n",
       "3                            77.37                             22.63   \n",
       "4                            79.66                             20.34   \n",
       "\n",
       "   positioning_percent_most_back  positioning_percent_most_forward  \\\n",
       "0                          31.88                             28.71   \n",
       "1                          31.06                             36.93   \n",
       "2                          37.22                             32.79   \n",
       "3                          28.14                             44.34   \n",
       "4                          29.56                             30.44   \n",
       "\n",
       "   positioning_percent_closest_to_ball  \\\n",
       "0                                39.66   \n",
       "1                                31.49   \n",
       "2                                27.29   \n",
       "3                                41.22   \n",
       "4                                30.15   \n",
       "\n",
       "   positioning_percent_farthest_from_ball  winner  \n",
       "0                                   28.51   False  \n",
       "1                                   32.85   False  \n",
       "2                                   38.78   False  \n",
       "3                                   29.30    True  \n",
       "4                                   34.75    True  \n",
       "\n",
       "[5 rows x 45 columns]"
      ]
     },
     "execution_count": 5,
     "metadata": {},
     "output_type": "execute_result"
    }
   ],
   "source": [
    "players_all.head()"
   ]
  },
  {
   "cell_type": "code",
   "execution_count": 6,
   "metadata": {},
   "outputs": [
    {
     "data": {
      "text/html": [
       "<div>\n",
       "<style scoped>\n",
       "    .dataframe tbody tr th:only-of-type {\n",
       "        vertical-align: middle;\n",
       "    }\n",
       "\n",
       "    .dataframe tbody tr th {\n",
       "        vertical-align: top;\n",
       "    }\n",
       "\n",
       "    .dataframe thead th {\n",
       "        text-align: right;\n",
       "    }\n",
       "</style>\n",
       "<table border=\"1\" class=\"dataframe\">\n",
       "  <thead>\n",
       "    <tr style=\"text-align: right;\">\n",
       "      <th></th>\n",
       "      <th>movement_avg_speed_1</th>\n",
       "      <th>movement_total_distance_1</th>\n",
       "      <th>movement_time_supersonic_speed_1</th>\n",
       "      <th>movement_time_boost_speed_1</th>\n",
       "      <th>movement_time_slow_speed_1</th>\n",
       "      <th>movement_time_ground_1</th>\n",
       "      <th>movement_time_low_air_1</th>\n",
       "      <th>movement_time_high_air_1</th>\n",
       "      <th>movement_time_powerslide_1</th>\n",
       "      <th>movement_count_powerslide_1</th>\n",
       "      <th>...</th>\n",
       "      <th>avg_positioning_time_most_back</th>\n",
       "      <th>max_movement_percent_high_air</th>\n",
       "      <th>min_movement_percent_high_air</th>\n",
       "      <th>var_movement_percent_high_air</th>\n",
       "      <th>avg_movement_percent_high_air</th>\n",
       "      <th>max_movement_percent_supersonic_speed</th>\n",
       "      <th>min_movement_percent_supersonic_speed</th>\n",
       "      <th>var_movement_percent_supersonic_speed</th>\n",
       "      <th>avg_movement_percent_supersonic_speed</th>\n",
       "      <th>winner</th>\n",
       "    </tr>\n",
       "  </thead>\n",
       "  <tbody>\n",
       "    <tr>\n",
       "      <th>0</th>\n",
       "      <td>1468.0</td>\n",
       "      <td>505882.0</td>\n",
       "      <td>40.34</td>\n",
       "      <td>142.29</td>\n",
       "      <td>196.16</td>\n",
       "      <td>219.80</td>\n",
       "      <td>143.43</td>\n",
       "      <td>15.56</td>\n",
       "      <td>8.01</td>\n",
       "      <td>68.0</td>\n",
       "      <td>...</td>\n",
       "      <td>117.70</td>\n",
       "      <td>5.75</td>\n",
       "      <td>2.36</td>\n",
       "      <td>1.92</td>\n",
       "      <td>4.07</td>\n",
       "      <td>11.20</td>\n",
       "      <td>9.47</td>\n",
       "      <td>0.52</td>\n",
       "      <td>10.44</td>\n",
       "      <td>False</td>\n",
       "    </tr>\n",
       "    <tr>\n",
       "      <th>1</th>\n",
       "      <td>1455.0</td>\n",
       "      <td>500485.0</td>\n",
       "      <td>41.75</td>\n",
       "      <td>130.76</td>\n",
       "      <td>206.38</td>\n",
       "      <td>231.33</td>\n",
       "      <td>123.58</td>\n",
       "      <td>23.97</td>\n",
       "      <td>5.61</td>\n",
       "      <td>49.0</td>\n",
       "      <td>...</td>\n",
       "      <td>119.37</td>\n",
       "      <td>6.33</td>\n",
       "      <td>0.66</td>\n",
       "      <td>5.57</td>\n",
       "      <td>3.17</td>\n",
       "      <td>13.26</td>\n",
       "      <td>6.27</td>\n",
       "      <td>8.49</td>\n",
       "      <td>10.18</td>\n",
       "      <td>True</td>\n",
       "    </tr>\n",
       "    <tr>\n",
       "      <th>2</th>\n",
       "      <td>1430.0</td>\n",
       "      <td>561540.0</td>\n",
       "      <td>50.30</td>\n",
       "      <td>150.27</td>\n",
       "      <td>216.30</td>\n",
       "      <td>217.17</td>\n",
       "      <td>177.03</td>\n",
       "      <td>22.67</td>\n",
       "      <td>11.74</td>\n",
       "      <td>103.0</td>\n",
       "      <td>...</td>\n",
       "      <td>132.60</td>\n",
       "      <td>5.44</td>\n",
       "      <td>3.86</td>\n",
       "      <td>0.45</td>\n",
       "      <td>4.78</td>\n",
       "      <td>14.12</td>\n",
       "      <td>7.32</td>\n",
       "      <td>8.11</td>\n",
       "      <td>11.17</td>\n",
       "      <td>True</td>\n",
       "    </tr>\n",
       "    <tr>\n",
       "      <th>3</th>\n",
       "      <td>1559.0</td>\n",
       "      <td>609572.0</td>\n",
       "      <td>66.07</td>\n",
       "      <td>166.44</td>\n",
       "      <td>181.22</td>\n",
       "      <td>237.20</td>\n",
       "      <td>165.62</td>\n",
       "      <td>10.91</td>\n",
       "      <td>11.98</td>\n",
       "      <td>120.0</td>\n",
       "      <td>...</td>\n",
       "      <td>133.23</td>\n",
       "      <td>5.50</td>\n",
       "      <td>2.64</td>\n",
       "      <td>1.37</td>\n",
       "      <td>4.14</td>\n",
       "      <td>15.97</td>\n",
       "      <td>7.48</td>\n",
       "      <td>12.22</td>\n",
       "      <td>11.40</td>\n",
       "      <td>False</td>\n",
       "    </tr>\n",
       "    <tr>\n",
       "      <th>4</th>\n",
       "      <td>1486.0</td>\n",
       "      <td>486636.0</td>\n",
       "      <td>27.96</td>\n",
       "      <td>145.74</td>\n",
       "      <td>177.11</td>\n",
       "      <td>218.76</td>\n",
       "      <td>123.81</td>\n",
       "      <td>8.24</td>\n",
       "      <td>7.00</td>\n",
       "      <td>62.0</td>\n",
       "      <td>...</td>\n",
       "      <td>114.97</td>\n",
       "      <td>6.45</td>\n",
       "      <td>1.25</td>\n",
       "      <td>5.01</td>\n",
       "      <td>3.35</td>\n",
       "      <td>11.70</td>\n",
       "      <td>7.29</td>\n",
       "      <td>3.76</td>\n",
       "      <td>8.99</td>\n",
       "      <td>False</td>\n",
       "    </tr>\n",
       "  </tbody>\n",
       "</table>\n",
       "<p>5 rows × 201 columns</p>\n",
       "</div>"
      ],
      "text/plain": [
       "   movement_avg_speed_1  movement_total_distance_1  \\\n",
       "0                1468.0                   505882.0   \n",
       "1                1455.0                   500485.0   \n",
       "2                1430.0                   561540.0   \n",
       "3                1559.0                   609572.0   \n",
       "4                1486.0                   486636.0   \n",
       "\n",
       "   movement_time_supersonic_speed_1  movement_time_boost_speed_1  \\\n",
       "0                             40.34                       142.29   \n",
       "1                             41.75                       130.76   \n",
       "2                             50.30                       150.27   \n",
       "3                             66.07                       166.44   \n",
       "4                             27.96                       145.74   \n",
       "\n",
       "   movement_time_slow_speed_1  movement_time_ground_1  \\\n",
       "0                      196.16                  219.80   \n",
       "1                      206.38                  231.33   \n",
       "2                      216.30                  217.17   \n",
       "3                      181.22                  237.20   \n",
       "4                      177.11                  218.76   \n",
       "\n",
       "   movement_time_low_air_1  movement_time_high_air_1  \\\n",
       "0                   143.43                     15.56   \n",
       "1                   123.58                     23.97   \n",
       "2                   177.03                     22.67   \n",
       "3                   165.62                     10.91   \n",
       "4                   123.81                      8.24   \n",
       "\n",
       "   movement_time_powerslide_1  movement_count_powerslide_1  ...  \\\n",
       "0                        8.01                         68.0  ...   \n",
       "1                        5.61                         49.0  ...   \n",
       "2                       11.74                        103.0  ...   \n",
       "3                       11.98                        120.0  ...   \n",
       "4                        7.00                         62.0  ...   \n",
       "\n",
       "   avg_positioning_time_most_back  max_movement_percent_high_air  \\\n",
       "0                          117.70                           5.75   \n",
       "1                          119.37                           6.33   \n",
       "2                          132.60                           5.44   \n",
       "3                          133.23                           5.50   \n",
       "4                          114.97                           6.45   \n",
       "\n",
       "   min_movement_percent_high_air  var_movement_percent_high_air  \\\n",
       "0                           2.36                           1.92   \n",
       "1                           0.66                           5.57   \n",
       "2                           3.86                           0.45   \n",
       "3                           2.64                           1.37   \n",
       "4                           1.25                           5.01   \n",
       "\n",
       "   avg_movement_percent_high_air  max_movement_percent_supersonic_speed  \\\n",
       "0                           4.07                                  11.20   \n",
       "1                           3.17                                  13.26   \n",
       "2                           4.78                                  14.12   \n",
       "3                           4.14                                  15.97   \n",
       "4                           3.35                                  11.70   \n",
       "\n",
       "   min_movement_percent_supersonic_speed  \\\n",
       "0                                   9.47   \n",
       "1                                   6.27   \n",
       "2                                   7.32   \n",
       "3                                   7.48   \n",
       "4                                   7.29   \n",
       "\n",
       "   var_movement_percent_supersonic_speed  \\\n",
       "0                                   0.52   \n",
       "1                                   8.49   \n",
       "2                                   8.11   \n",
       "3                                  12.22   \n",
       "4                                   3.76   \n",
       "\n",
       "   avg_movement_percent_supersonic_speed  winner  \n",
       "0                                  10.44   False  \n",
       "1                                  10.18    True  \n",
       "2                                  11.17    True  \n",
       "3                                  11.40   False  \n",
       "4                                   8.99   False  \n",
       "\n",
       "[5 rows x 201 columns]"
      ]
     },
     "execution_count": 6,
     "metadata": {},
     "output_type": "execute_result"
    }
   ],
   "source": [
    "teams_all.head()"
   ]
  },
  {
   "cell_type": "markdown",
   "metadata": {},
   "source": [
    "### X,y division"
   ]
  },
  {
   "cell_type": "code",
   "execution_count": 7,
   "metadata": {},
   "outputs": [],
   "source": [
    "X_players_all = players_all.iloc[:, 0:44]\n",
    "X_players_ranked = players_ranked.iloc[:, 0:44]\n",
    "X_players_pro = players_pro.iloc[:, 0:44]\n",
    "X_small_file = small_file.iloc[:, 0:44]"
   ]
  },
  {
   "cell_type": "code",
   "execution_count": 8,
   "metadata": {},
   "outputs": [],
   "source": [
    "y_players_all = players_all.iloc[:, 44]\n",
    "y_players_ranked = players_ranked.iloc[:, 44]\n",
    "y_players_pro = players_pro.iloc[:, 44]\n",
    "y_small_file = small_file.iloc[:, 44]"
   ]
  },
  {
   "cell_type": "code",
   "execution_count": 9,
   "metadata": {},
   "outputs": [],
   "source": [
    "# team\n",
    "X_teams_all = teams_all.iloc[:, 0:200]\n",
    "X_teams_ranked = teams_ranked.iloc[:, 0:200]\n",
    "X_teams_pro = teams_pro.iloc[:, 0:200]"
   ]
  },
  {
   "cell_type": "code",
   "execution_count": 10,
   "metadata": {},
   "outputs": [],
   "source": [
    "# Team\n",
    "y_teams_all = teams_all.iloc[:, 200]\n",
    "y_teams_ranked = teams_ranked.iloc[:, 200]\n",
    "y_teams_pro = teams_pro.iloc[:, 200]"
   ]
  },
  {
   "cell_type": "markdown",
   "metadata": {},
   "source": [
    "### Train-test split"
   ]
  },
  {
   "cell_type": "code",
   "execution_count": 11,
   "metadata": {},
   "outputs": [],
   "source": [
    "from sklearn.model_selection import train_test_split"
   ]
  },
  {
   "cell_type": "code",
   "execution_count": 12,
   "metadata": {},
   "outputs": [],
   "source": [
    "X_train, X_test, y_train, y_test = train_test_split(X_players_pro, y_players_pro, random_state=20, test_size=0.2)"
   ]
  },
  {
   "cell_type": "markdown",
   "metadata": {},
   "source": [
    "# Model 1 -----------------------------------------------"
   ]
  },
  {
   "cell_type": "code",
   "execution_count": 14,
   "metadata": {},
   "outputs": [],
   "source": [
    "from sklearn.ensemble import RandomForestClassifier"
   ]
  },
  {
   "cell_type": "code",
   "execution_count": 15,
   "metadata": {},
   "outputs": [],
   "source": [
    "# random forests model\n",
    "rf = RandomForestClassifier(n_estimators=500,\n",
    "                             min_samples_split=10)"
   ]
  },
  {
   "cell_type": "code",
   "execution_count": 16,
   "metadata": {},
   "outputs": [],
   "source": [
    "#40 sec voor individueel / 55 sec voor teams / nu 7 min met extra HP / 4 min"
   ]
  },
  {
   "cell_type": "code",
   "execution_count": 17,
   "metadata": {},
   "outputs": [
    {
     "data": {
      "text/html": [
       "<style>#sk-container-id-1 {color: black;background-color: white;}#sk-container-id-1 pre{padding: 0;}#sk-container-id-1 div.sk-toggleable {background-color: white;}#sk-container-id-1 label.sk-toggleable__label {cursor: pointer;display: block;width: 100%;margin-bottom: 0;padding: 0.3em;box-sizing: border-box;text-align: center;}#sk-container-id-1 label.sk-toggleable__label-arrow:before {content: \"▸\";float: left;margin-right: 0.25em;color: #696969;}#sk-container-id-1 label.sk-toggleable__label-arrow:hover:before {color: black;}#sk-container-id-1 div.sk-estimator:hover label.sk-toggleable__label-arrow:before {color: black;}#sk-container-id-1 div.sk-toggleable__content {max-height: 0;max-width: 0;overflow: hidden;text-align: left;background-color: #f0f8ff;}#sk-container-id-1 div.sk-toggleable__content pre {margin: 0.2em;color: black;border-radius: 0.25em;background-color: #f0f8ff;}#sk-container-id-1 input.sk-toggleable__control:checked~div.sk-toggleable__content {max-height: 200px;max-width: 100%;overflow: auto;}#sk-container-id-1 input.sk-toggleable__control:checked~label.sk-toggleable__label-arrow:before {content: \"▾\";}#sk-container-id-1 div.sk-estimator input.sk-toggleable__control:checked~label.sk-toggleable__label {background-color: #d4ebff;}#sk-container-id-1 div.sk-label input.sk-toggleable__control:checked~label.sk-toggleable__label {background-color: #d4ebff;}#sk-container-id-1 input.sk-hidden--visually {border: 0;clip: rect(1px 1px 1px 1px);clip: rect(1px, 1px, 1px, 1px);height: 1px;margin: -1px;overflow: hidden;padding: 0;position: absolute;width: 1px;}#sk-container-id-1 div.sk-estimator {font-family: monospace;background-color: #f0f8ff;border: 1px dotted black;border-radius: 0.25em;box-sizing: border-box;margin-bottom: 0.5em;}#sk-container-id-1 div.sk-estimator:hover {background-color: #d4ebff;}#sk-container-id-1 div.sk-parallel-item::after {content: \"\";width: 100%;border-bottom: 1px solid gray;flex-grow: 1;}#sk-container-id-1 div.sk-label:hover label.sk-toggleable__label {background-color: #d4ebff;}#sk-container-id-1 div.sk-serial::before {content: \"\";position: absolute;border-left: 1px solid gray;box-sizing: border-box;top: 0;bottom: 0;left: 50%;z-index: 0;}#sk-container-id-1 div.sk-serial {display: flex;flex-direction: column;align-items: center;background-color: white;padding-right: 0.2em;padding-left: 0.2em;position: relative;}#sk-container-id-1 div.sk-item {position: relative;z-index: 1;}#sk-container-id-1 div.sk-parallel {display: flex;align-items: stretch;justify-content: center;background-color: white;position: relative;}#sk-container-id-1 div.sk-item::before, #sk-container-id-1 div.sk-parallel-item::before {content: \"\";position: absolute;border-left: 1px solid gray;box-sizing: border-box;top: 0;bottom: 0;left: 50%;z-index: -1;}#sk-container-id-1 div.sk-parallel-item {display: flex;flex-direction: column;z-index: 1;position: relative;background-color: white;}#sk-container-id-1 div.sk-parallel-item:first-child::after {align-self: flex-end;width: 50%;}#sk-container-id-1 div.sk-parallel-item:last-child::after {align-self: flex-start;width: 50%;}#sk-container-id-1 div.sk-parallel-item:only-child::after {width: 0;}#sk-container-id-1 div.sk-dashed-wrapped {border: 1px dashed gray;margin: 0 0.4em 0.5em 0.4em;box-sizing: border-box;padding-bottom: 0.4em;background-color: white;}#sk-container-id-1 div.sk-label label {font-family: monospace;font-weight: bold;display: inline-block;line-height: 1.2em;}#sk-container-id-1 div.sk-label-container {text-align: center;}#sk-container-id-1 div.sk-container {/* jupyter's `normalize.less` sets `[hidden] { display: none; }` but bootstrap.min.css set `[hidden] { display: none !important; }` so we also need the `!important` here to be able to override the default hidden behavior on the sphinx rendered scikit-learn.org. See: https://github.com/scikit-learn/scikit-learn/issues/21755 */display: inline-block !important;position: relative;}#sk-container-id-1 div.sk-text-repr-fallback {display: none;}</style><div id=\"sk-container-id-1\" class=\"sk-top-container\"><div class=\"sk-text-repr-fallback\"><pre>RandomForestClassifier(min_samples_split=10, n_estimators=500)</pre><b>In a Jupyter environment, please rerun this cell to show the HTML representation or trust the notebook. <br />On GitHub, the HTML representation is unable to render, please try loading this page with nbviewer.org.</b></div><div class=\"sk-container\" hidden><div class=\"sk-item\"><div class=\"sk-estimator sk-toggleable\"><input class=\"sk-toggleable__control sk-hidden--visually\" id=\"sk-estimator-id-1\" type=\"checkbox\" checked><label for=\"sk-estimator-id-1\" class=\"sk-toggleable__label sk-toggleable__label-arrow\">RandomForestClassifier</label><div class=\"sk-toggleable__content\"><pre>RandomForestClassifier(min_samples_split=10, n_estimators=500)</pre></div></div></div></div></div>"
      ],
      "text/plain": [
       "RandomForestClassifier(min_samples_split=10, n_estimators=500)"
      ]
     },
     "execution_count": 17,
     "metadata": {},
     "output_type": "execute_result"
    }
   ],
   "source": [
    "rf.fit(X_train, y_train)"
   ]
  },
  {
   "cell_type": "markdown",
   "metadata": {},
   "source": [
    "## Scores"
   ]
  },
  {
   "cell_type": "code",
   "execution_count": 18,
   "metadata": {},
   "outputs": [],
   "source": [
    "y_pred = rf.predict(X_test)"
   ]
  },
  {
   "cell_type": "code",
   "execution_count": 19,
   "metadata": {},
   "outputs": [
    {
     "data": {
      "text/plain": [
       "0.7528036719822079"
      ]
     },
     "execution_count": 19,
     "metadata": {},
     "output_type": "execute_result"
    }
   ],
   "source": [
    "rf.score(X_test, y_test)"
   ]
  },
  {
   "cell_type": "markdown",
   "metadata": {},
   "source": [
    "### F1 enzoo metrics"
   ]
  },
  {
   "cell_type": "code",
   "execution_count": 20,
   "metadata": {},
   "outputs": [],
   "source": [
    "from sklearn.metrics import classification_report"
   ]
  },
  {
   "cell_type": "code",
   "execution_count": 21,
   "metadata": {},
   "outputs": [
    {
     "name": "stdout",
     "output_type": "stream",
     "text": [
      "              precision    recall  f1-score   support\n",
      "\n",
      "       False       0.76      0.75      0.75     10728\n",
      "        True       0.74      0.76      0.75     10405\n",
      "\n",
      "    accuracy                           0.75     21133\n",
      "   macro avg       0.75      0.75      0.75     21133\n",
      "weighted avg       0.75      0.75      0.75     21133\n",
      "\n"
     ]
    }
   ],
   "source": [
    "print(classification_report(y_test, y_pred))"
   ]
  },
  {
   "cell_type": "code",
   "execution_count": 22,
   "metadata": {},
   "outputs": [],
   "source": [
    "from sklearn.metrics import accuracy_score, recall_score, precision_score, f1_score"
   ]
  },
  {
   "cell_type": "code",
   "execution_count": 23,
   "metadata": {},
   "outputs": [
    {
     "name": "stdout",
     "output_type": "stream",
     "text": [
      "accuracy 0.7528036719822079\n",
      "recall 0.7575204228736184\n",
      "precision 0.7447793631295474\n",
      "f1 0.7510958643034115\n"
     ]
    }
   ],
   "source": [
    "accuracy = accuracy_score(y_test, y_pred)\n",
    "recall = recall_score(y_test, y_pred)\n",
    "precision = precision_score(y_test, y_pred)\n",
    "f1 = f1_score(y_test, y_pred)\n",
    "\n",
    "print(\"accuracy\", accuracy)\n",
    "print(\"recall\", recall)\n",
    "print(\"precision\", precision)\n",
    "print(\"f1\", f1)"
   ]
  },
  {
   "cell_type": "markdown",
   "metadata": {},
   "source": [
    "## Conf matrix"
   ]
  },
  {
   "cell_type": "code",
   "execution_count": 24,
   "metadata": {},
   "outputs": [],
   "source": [
    "from sklearn.metrics import confusion_matrix"
   ]
  },
  {
   "cell_type": "code",
   "execution_count": 25,
   "metadata": {},
   "outputs": [
    {
     "name": "stdout",
     "output_type": "stream",
     "text": [
      "[[8027 2701]\n",
      " [2523 7882]]\n"
     ]
    }
   ],
   "source": [
    "print(confusion_matrix(y_test, y_pred))"
   ]
  },
  {
   "cell_type": "code",
   "execution_count": 26,
   "metadata": {},
   "outputs": [
    {
     "name": "stdout",
     "output_type": "stream",
     "text": [
      "[[8027 2701]\n",
      " [2523 7882]]\n",
      "0.7528036719822079\n"
     ]
    },
    {
     "data": {
      "image/png": "[encoded data removed]",
      "text/plain": [
       "<Figure size 640x480 with 2 Axes>"
      ]
     },
     "metadata": {},
     "output_type": "display_data"
    }
   ],
   "source": [
    "cm = confusion_matrix(y_test, y_pred)\n",
    "accuracy = accuracy_score(y_test, y_pred)\n",
    "print(cm)\n",
    "print(accuracy)\n",
    "labels = list(y_train.keys())\n",
    "\n",
    "s = sns.heatmap(cm, cmap='YlGnBu', annot=True, fmt=\".0f\")\n",
    "s.set_xlabel(\"predicted\")\n",
    "s.set_ylabel(\"true\")\n",
    "plt.show()"
   ]
  },
  {
   "cell_type": "markdown",
   "metadata": {},
   "source": [
    "## ROC curve"
   ]
  },
  {
   "cell_type": "code",
   "execution_count": 27,
   "metadata": {},
   "outputs": [
    {
     "name": "stdout",
     "output_type": "stream",
     "text": [
      "[0.67826853 0.94143127 0.16561145 0.10918045 0.38864103 0.94668334\n",
      " 0.09181948 0.36714919 0.64861665 0.19043398 0.45727814 0.68545207\n",
      " 0.6399921  0.41733287 0.77949255 0.63999119 0.94147692 0.69806916\n",
      " 0.07878862 0.70474438 0.2028483  0.94408642 0.75043329 0.38031887\n",
      " 0.25508678 0.5779516  0.04607346 0.71432547 0.72701828 0.88781483\n",
      " 0.17744438 0.87179966 0.7209555  0.57701107 0.53934889 0.88442515\n",
      " 0.81273187 0.20311879 0.97222011 0.11612521 0.44252695 0.4960682\n",
      " 0.60318889 0.14115398 0.45673814 0.25744837 0.78730302 0.43924415\n",
      " 0.38667169 0.66198846 0.40371149 0.40409298 0.7617082  0.33708237\n",
      " 0.58188455 0.1740002  0.46490654 0.85953436 0.05277542 0.12517536\n",
      " 0.24471787 0.64894579 0.06288403 0.20358904 0.67337686 0.14920547\n",
      " 0.09880302 0.18702147 0.56104063 0.62584235 0.13799667 0.42707955\n",
      " 0.91273714 0.39095933 0.11346927 0.64516158 0.65062163 0.24009803\n",
      " 0.44073851 0.74935542 0.79325336 0.66020694 0.52630259 0.68498585\n",
      " 0.95389134 0.94575332 0.03193004 0.53477964 0.28731268 0.97339269\n",
      " 0.19213709 0.58156095 0.49078718 0.82873925 0.40107449 0.90167413\n",
      " 0.40609729 0.90790974 0.58325619 0.66779303]\n",
      "ROC AUC Score: 0.84\n"
     ]
    },
    {
     "data": {
      "image/png": "[encoded data removed]",
      "text/plain": [
       "<Figure size 640x480 with 1 Axes>"
      ]
     },
     "metadata": {},
     "output_type": "display_data"
    }
   ],
   "source": [
    "from sklearn.metrics import roc_auc_score, roc_curve\n",
    "\n",
    "y_pred_proba = rf.predict_proba(X_test)[:, 1]\n",
    "roc_auc = roc_auc_score(y_test, y_pred_proba)\n",
    "print(f\"ROC AUC Score: {roc_auc:.3f}\")\n",
    "\n",
    "fpr, tpr, thresholds = roc_curve(y_test, y_pred_proba)\n",
    "\n",
    "plt.plot(fpr, tpr, label=f\"AUC = {roc_auc:.3f}\")\n",
    "plt.plot([0, 1], [0, 1], 'k--')\n",
    "plt.xlabel('False Positive Rate')\n",
    "plt.ylabel('True Positive Rate')\n",
    "plt.title('ROC Curve')\n",
    "plt.legend()\n",
    "plt.show()"
   ]
  },
  {
   "cell_type": "markdown",
   "metadata": {},
   "source": [
    "## Imporant features"
   ]
  },
  {
   "cell_type": "code",
   "execution_count": 28,
   "metadata": {},
   "outputs": [],
   "source": [
    "features = pd.DataFrame(rf.feature_importances_, index = X_train.columns)"
   ]
  },
  {
   "cell_type": "code",
   "execution_count": 29,
   "metadata": {},
   "outputs": [
    {
     "data": {
      "text/html": [
       "<div>\n",
       "<style scoped>\n",
       "    .dataframe tbody tr th:only-of-type {\n",
       "        vertical-align: middle;\n",
       "    }\n",
       "\n",
       "    .dataframe tbody tr th {\n",
       "        vertical-align: top;\n",
       "    }\n",
       "\n",
       "    .dataframe thead th {\n",
       "        text-align: right;\n",
       "    }\n",
       "</style>\n",
       "<table border=\"1\" class=\"dataframe\">\n",
       "  <thead>\n",
       "    <tr style=\"text-align: right;\">\n",
       "      <th></th>\n",
       "      <th>0</th>\n",
       "    </tr>\n",
       "  </thead>\n",
       "  <tbody>\n",
       "    <tr>\n",
       "      <th>positioning_percent_infront_ball</th>\n",
       "      <td>0.097989</td>\n",
       "    </tr>\n",
       "    <tr>\n",
       "      <th>positioning_percent_behind_ball</th>\n",
       "      <td>0.091815</td>\n",
       "    </tr>\n",
       "    <tr>\n",
       "      <th>positioning_time_infront_ball</th>\n",
       "      <td>0.073412</td>\n",
       "    </tr>\n",
       "    <tr>\n",
       "      <th>positioning_time_behind_ball</th>\n",
       "      <td>0.042279</td>\n",
       "    </tr>\n",
       "    <tr>\n",
       "      <th>positioning_percent_most_forward</th>\n",
       "      <td>0.039908</td>\n",
       "    </tr>\n",
       "    <tr>\n",
       "      <th>positioning_time_most_forward</th>\n",
       "      <td>0.036691</td>\n",
       "    </tr>\n",
       "    <tr>\n",
       "      <th>positioning_avg_distance_to_ball_possession</th>\n",
       "      <td>0.031919</td>\n",
       "    </tr>\n",
       "    <tr>\n",
       "      <th>positioning_percent_most_back</th>\n",
       "      <td>0.030368</td>\n",
       "    </tr>\n",
       "    <tr>\n",
       "      <th>positioning_time_most_back</th>\n",
       "      <td>0.029521</td>\n",
       "    </tr>\n",
       "    <tr>\n",
       "      <th>positioning_time_offensive_third</th>\n",
       "      <td>0.020524</td>\n",
       "    </tr>\n",
       "    <tr>\n",
       "      <th>positioning_percent_offensive_third</th>\n",
       "      <td>0.020436</td>\n",
       "    </tr>\n",
       "    <tr>\n",
       "      <th>positioning_time_offensive_half</th>\n",
       "      <td>0.019517</td>\n",
       "    </tr>\n",
       "    <tr>\n",
       "      <th>positioning_percent_defensive_third</th>\n",
       "      <td>0.019293</td>\n",
       "    </tr>\n",
       "    <tr>\n",
       "      <th>positioning_percent_offensive_half</th>\n",
       "      <td>0.019242</td>\n",
       "    </tr>\n",
       "    <tr>\n",
       "      <th>positioning_percent_defensive_half</th>\n",
       "      <td>0.019232</td>\n",
       "    </tr>\n",
       "    <tr>\n",
       "      <th>positioning_time_defensive_half</th>\n",
       "      <td>0.018535</td>\n",
       "    </tr>\n",
       "    <tr>\n",
       "      <th>positioning_time_defensive_third</th>\n",
       "      <td>0.018193</td>\n",
       "    </tr>\n",
       "    <tr>\n",
       "      <th>positioning_avg_distance_to_ball</th>\n",
       "      <td>0.017705</td>\n",
       "    </tr>\n",
       "    <tr>\n",
       "      <th>positioning_avg_distance_to_mates</th>\n",
       "      <td>0.017537</td>\n",
       "    </tr>\n",
       "    <tr>\n",
       "      <th>positioning_avg_distance_to_ball_no_possession</th>\n",
       "      <td>0.015828</td>\n",
       "    </tr>\n",
       "    <tr>\n",
       "      <th>positioning_percent_closest_to_ball</th>\n",
       "      <td>0.015488</td>\n",
       "    </tr>\n",
       "    <tr>\n",
       "      <th>positioning_time_closest_to_ball</th>\n",
       "      <td>0.015458</td>\n",
       "    </tr>\n",
       "    <tr>\n",
       "      <th>positioning_percent_farthest_from_ball</th>\n",
       "      <td>0.014692</td>\n",
       "    </tr>\n",
       "    <tr>\n",
       "      <th>movement_time_powerslide</th>\n",
       "      <td>0.014643</td>\n",
       "    </tr>\n",
       "    <tr>\n",
       "      <th>movement_time_low_air</th>\n",
       "      <td>0.014495</td>\n",
       "    </tr>\n",
       "    <tr>\n",
       "      <th>positioning_time_neutral_third</th>\n",
       "      <td>0.014425</td>\n",
       "    </tr>\n",
       "    <tr>\n",
       "      <th>positioning_time_farthest_from_ball</th>\n",
       "      <td>0.014333</td>\n",
       "    </tr>\n",
       "    <tr>\n",
       "      <th>movement_time_boost_speed</th>\n",
       "      <td>0.014231</td>\n",
       "    </tr>\n",
       "    <tr>\n",
       "      <th>positioning_percent_neutral_third</th>\n",
       "      <td>0.013973</td>\n",
       "    </tr>\n",
       "    <tr>\n",
       "      <th>movement_time_high_air</th>\n",
       "      <td>0.013937</td>\n",
       "    </tr>\n",
       "    <tr>\n",
       "      <th>movement_time_ground</th>\n",
       "      <td>0.013905</td>\n",
       "    </tr>\n",
       "    <tr>\n",
       "      <th>movement_percent_high_air</th>\n",
       "      <td>0.013884</td>\n",
       "    </tr>\n",
       "    <tr>\n",
       "      <th>movement_percent_boost_speed</th>\n",
       "      <td>0.013882</td>\n",
       "    </tr>\n",
       "    <tr>\n",
       "      <th>movement_total_distance</th>\n",
       "      <td>0.013794</td>\n",
       "    </tr>\n",
       "    <tr>\n",
       "      <th>movement_percent_ground</th>\n",
       "      <td>0.013583</td>\n",
       "    </tr>\n",
       "    <tr>\n",
       "      <th>movement_percent_low_air</th>\n",
       "      <td>0.013532</td>\n",
       "    </tr>\n",
       "    <tr>\n",
       "      <th>movement_count_powerslide</th>\n",
       "      <td>0.013092</td>\n",
       "    </tr>\n",
       "    <tr>\n",
       "      <th>movement_time_slow_speed</th>\n",
       "      <td>0.012763</td>\n",
       "    </tr>\n",
       "    <tr>\n",
       "      <th>movement_time_supersonic_speed</th>\n",
       "      <td>0.012693</td>\n",
       "    </tr>\n",
       "    <tr>\n",
       "      <th>movement_percent_supersonic_speed</th>\n",
       "      <td>0.012573</td>\n",
       "    </tr>\n",
       "    <tr>\n",
       "      <th>movement_percent_slow_speed</th>\n",
       "      <td>0.011805</td>\n",
       "    </tr>\n",
       "    <tr>\n",
       "      <th>movement_avg_speed_percentage</th>\n",
       "      <td>0.010882</td>\n",
       "    </tr>\n",
       "    <tr>\n",
       "      <th>movement_avg_speed</th>\n",
       "      <td>0.010776</td>\n",
       "    </tr>\n",
       "    <tr>\n",
       "      <th>movement_avg_powerslide_duration</th>\n",
       "      <td>0.007215</td>\n",
       "    </tr>\n",
       "  </tbody>\n",
       "</table>\n",
       "</div>"
      ],
      "text/plain": [
       "                                                       0\n",
       "positioning_percent_infront_ball                0.097989\n",
       "positioning_percent_behind_ball                 0.091815\n",
       "positioning_time_infront_ball                   0.073412\n",
       "positioning_time_behind_ball                    0.042279\n",
       "positioning_percent_most_forward                0.039908\n",
       "positioning_time_most_forward                   0.036691\n",
       "positioning_avg_distance_to_ball_possession     0.031919\n",
       "positioning_percent_most_back                   0.030368\n",
       "positioning_time_most_back                      0.029521\n",
       "positioning_time_offensive_third                0.020524\n",
       "positioning_percent_offensive_third             0.020436\n",
       "positioning_time_offensive_half                 0.019517\n",
       "positioning_percent_defensive_third             0.019293\n",
       "positioning_percent_offensive_half              0.019242\n",
       "positioning_percent_defensive_half              0.019232\n",
       "positioning_time_defensive_half                 0.018535\n",
       "positioning_time_defensive_third                0.018193\n",
       "positioning_avg_distance_to_ball                0.017705\n",
       "positioning_avg_distance_to_mates               0.017537\n",
       "positioning_avg_distance_to_ball_no_possession  0.015828\n",
       "positioning_percent_closest_to_ball             0.015488\n",
       "positioning_time_closest_to_ball                0.015458\n",
       "positioning_percent_farthest_from_ball          0.014692\n",
       "movement_time_powerslide                        0.014643\n",
       "movement_time_low_air                           0.014495\n",
       "positioning_time_neutral_third                  0.014425\n",
       "positioning_time_farthest_from_ball             0.014333\n",
       "movement_time_boost_speed                       0.014231\n",
       "positioning_percent_neutral_third               0.013973\n",
       "movement_time_high_air                          0.013937\n",
       "movement_time_ground                            0.013905\n",
       "movement_percent_high_air                       0.013884\n",
       "movement_percent_boost_speed                    0.013882\n",
       "movement_total_distance                         0.013794\n",
       "movement_percent_ground                         0.013583\n",
       "movement_percent_low_air                        0.013532\n",
       "movement_count_powerslide                       0.013092\n",
       "movement_time_slow_speed                        0.012763\n",
       "movement_time_supersonic_speed                  0.012693\n",
       "movement_percent_supersonic_speed               0.012573\n",
       "movement_percent_slow_speed                     0.011805\n",
       "movement_avg_speed_percentage                   0.010882\n",
       "movement_avg_speed                              0.010776\n",
       "movement_avg_powerslide_duration                0.007215"
      ]
     },
     "execution_count": 29,
     "metadata": {},
     "output_type": "execute_result"
    }
   ],
   "source": [
    "features.sort_values(0, ascending=False)"
   ]
  },
  {
   "cell_type": "code",
   "execution_count": 30,
   "metadata": {},
   "outputs": [
    {
     "data": {
      "text/html": [
       "<div>\n",
       "<style scoped>\n",
       "    .dataframe tbody tr th:only-of-type {\n",
       "        vertical-align: middle;\n",
       "    }\n",
       "\n",
       "    .dataframe tbody tr th {\n",
       "        vertical-align: top;\n",
       "    }\n",
       "\n",
       "    .dataframe thead th {\n",
       "        text-align: right;\n",
       "    }\n",
       "</style>\n",
       "<table border=\"1\" class=\"dataframe\">\n",
       "  <thead>\n",
       "    <tr style=\"text-align: right;\">\n",
       "      <th></th>\n",
       "      <th>0</th>\n",
       "    </tr>\n",
       "  </thead>\n",
       "  <tbody>\n",
       "    <tr>\n",
       "      <th>positioning_percent_behind_ball</th>\n",
       "      <td>0.418290</td>\n",
       "    </tr>\n",
       "    <tr>\n",
       "      <th>positioning_avg_distance_to_ball_possession</th>\n",
       "      <td>0.173905</td>\n",
       "    </tr>\n",
       "    <tr>\n",
       "      <th>positioning_percent_offensive_half</th>\n",
       "      <td>0.170828</td>\n",
       "    </tr>\n",
       "    <tr>\n",
       "      <th>positioning_percent_offensive_third</th>\n",
       "      <td>0.158610</td>\n",
       "    </tr>\n",
       "    <tr>\n",
       "      <th>positioning_time_behind_ball</th>\n",
       "      <td>0.157189</td>\n",
       "    </tr>\n",
       "    <tr>\n",
       "      <th>positioning_time_offensive_third</th>\n",
       "      <td>0.140912</td>\n",
       "    </tr>\n",
       "    <tr>\n",
       "      <th>positioning_time_offensive_half</th>\n",
       "      <td>0.137616</td>\n",
       "    </tr>\n",
       "    <tr>\n",
       "      <th>positioning_avg_distance_to_mates</th>\n",
       "      <td>0.120375</td>\n",
       "    </tr>\n",
       "    <tr>\n",
       "      <th>positioning_avg_distance_to_ball</th>\n",
       "      <td>0.119124</td>\n",
       "    </tr>\n",
       "    <tr>\n",
       "      <th>positioning_percent_neutral_third</th>\n",
       "      <td>0.105055</td>\n",
       "    </tr>\n",
       "    <tr>\n",
       "      <th>positioning_time_neutral_third</th>\n",
       "      <td>0.066801</td>\n",
       "    </tr>\n",
       "    <tr>\n",
       "      <th>positioning_avg_distance_to_ball_no_possession</th>\n",
       "      <td>0.048516</td>\n",
       "    </tr>\n",
       "    <tr>\n",
       "      <th>movement_percent_high_air</th>\n",
       "      <td>0.043080</td>\n",
       "    </tr>\n",
       "    <tr>\n",
       "      <th>movement_time_high_air</th>\n",
       "      <td>0.038950</td>\n",
       "    </tr>\n",
       "    <tr>\n",
       "      <th>movement_avg_speed</th>\n",
       "      <td>0.024264</td>\n",
       "    </tr>\n",
       "    <tr>\n",
       "      <th>movement_avg_speed_percentage</th>\n",
       "      <td>0.024263</td>\n",
       "    </tr>\n",
       "    <tr>\n",
       "      <th>movement_percent_supersonic_speed</th>\n",
       "      <td>0.023086</td>\n",
       "    </tr>\n",
       "    <tr>\n",
       "      <th>movement_time_supersonic_speed</th>\n",
       "      <td>0.022427</td>\n",
       "    </tr>\n",
       "    <tr>\n",
       "      <th>movement_percent_ground</th>\n",
       "      <td>0.015755</td>\n",
       "    </tr>\n",
       "    <tr>\n",
       "      <th>movement_total_distance</th>\n",
       "      <td>0.010844</td>\n",
       "    </tr>\n",
       "    <tr>\n",
       "      <th>movement_time_ground</th>\n",
       "      <td>0.009086</td>\n",
       "    </tr>\n",
       "    <tr>\n",
       "      <th>movement_count_powerslide</th>\n",
       "      <td>0.002045</td>\n",
       "    </tr>\n",
       "    <tr>\n",
       "      <th>movement_time_boost_speed</th>\n",
       "      <td>0.001608</td>\n",
       "    </tr>\n",
       "    <tr>\n",
       "      <th>positioning_time_closest_to_ball</th>\n",
       "      <td>-0.000041</td>\n",
       "    </tr>\n",
       "    <tr>\n",
       "      <th>positioning_time_most_forward</th>\n",
       "      <td>-0.000610</td>\n",
       "    </tr>\n",
       "    <tr>\n",
       "      <th>positioning_percent_closest_to_ball</th>\n",
       "      <td>-0.000690</td>\n",
       "    </tr>\n",
       "    <tr>\n",
       "      <th>movement_time_powerslide</th>\n",
       "      <td>-0.000695</td>\n",
       "    </tr>\n",
       "    <tr>\n",
       "      <th>positioning_percent_most_forward</th>\n",
       "      <td>-0.001269</td>\n",
       "    </tr>\n",
       "    <tr>\n",
       "      <th>positioning_time_most_back</th>\n",
       "      <td>-0.003063</td>\n",
       "    </tr>\n",
       "    <tr>\n",
       "      <th>positioning_time_farthest_from_ball</th>\n",
       "      <td>-0.003889</td>\n",
       "    </tr>\n",
       "    <tr>\n",
       "      <th>movement_percent_boost_speed</th>\n",
       "      <td>-0.004771</td>\n",
       "    </tr>\n",
       "    <tr>\n",
       "      <th>positioning_percent_most_back</th>\n",
       "      <td>-0.005000</td>\n",
       "    </tr>\n",
       "    <tr>\n",
       "      <th>positioning_percent_farthest_from_ball</th>\n",
       "      <td>-0.006656</td>\n",
       "    </tr>\n",
       "    <tr>\n",
       "      <th>movement_time_slow_speed</th>\n",
       "      <td>-0.007749</td>\n",
       "    </tr>\n",
       "    <tr>\n",
       "      <th>movement_avg_powerslide_duration</th>\n",
       "      <td>-0.009138</td>\n",
       "    </tr>\n",
       "    <tr>\n",
       "      <th>movement_percent_slow_speed</th>\n",
       "      <td>-0.013481</td>\n",
       "    </tr>\n",
       "    <tr>\n",
       "      <th>movement_time_low_air</th>\n",
       "      <td>-0.018954</td>\n",
       "    </tr>\n",
       "    <tr>\n",
       "      <th>movement_percent_low_air</th>\n",
       "      <td>-0.041330</td>\n",
       "    </tr>\n",
       "    <tr>\n",
       "      <th>positioning_time_defensive_half</th>\n",
       "      <td>-0.092598</td>\n",
       "    </tr>\n",
       "    <tr>\n",
       "      <th>positioning_time_defensive_third</th>\n",
       "      <td>-0.117957</td>\n",
       "    </tr>\n",
       "    <tr>\n",
       "      <th>positioning_percent_defensive_half</th>\n",
       "      <td>-0.170828</td>\n",
       "    </tr>\n",
       "    <tr>\n",
       "      <th>positioning_percent_defensive_third</th>\n",
       "      <td>-0.172815</td>\n",
       "    </tr>\n",
       "    <tr>\n",
       "      <th>positioning_time_infront_ball</th>\n",
       "      <td>-0.306313</td>\n",
       "    </tr>\n",
       "    <tr>\n",
       "      <th>positioning_percent_infront_ball</th>\n",
       "      <td>-0.418290</td>\n",
       "    </tr>\n",
       "  </tbody>\n",
       "</table>\n",
       "</div>"
      ],
      "text/plain": [
       "                                                       0\n",
       "positioning_percent_behind_ball                 0.418290\n",
       "positioning_avg_distance_to_ball_possession     0.173905\n",
       "positioning_percent_offensive_half              0.170828\n",
       "positioning_percent_offensive_third             0.158610\n",
       "positioning_time_behind_ball                    0.157189\n",
       "positioning_time_offensive_third                0.140912\n",
       "positioning_time_offensive_half                 0.137616\n",
       "positioning_avg_distance_to_mates               0.120375\n",
       "positioning_avg_distance_to_ball                0.119124\n",
       "positioning_percent_neutral_third               0.105055\n",
       "positioning_time_neutral_third                  0.066801\n",
       "positioning_avg_distance_to_ball_no_possession  0.048516\n",
       "movement_percent_high_air                       0.043080\n",
       "movement_time_high_air                          0.038950\n",
       "movement_avg_speed                              0.024264\n",
       "movement_avg_speed_percentage                   0.024263\n",
       "movement_percent_supersonic_speed               0.023086\n",
       "movement_time_supersonic_speed                  0.022427\n",
       "movement_percent_ground                         0.015755\n",
       "movement_total_distance                         0.010844\n",
       "movement_time_ground                            0.009086\n",
       "movement_count_powerslide                       0.002045\n",
       "movement_time_boost_speed                       0.001608\n",
       "positioning_time_closest_to_ball               -0.000041\n",
       "positioning_time_most_forward                  -0.000610\n",
       "positioning_percent_closest_to_ball            -0.000690\n",
       "movement_time_powerslide                       -0.000695\n",
       "positioning_percent_most_forward               -0.001269\n",
       "positioning_time_most_back                     -0.003063\n",
       "positioning_time_farthest_from_ball            -0.003889\n",
       "movement_percent_boost_speed                   -0.004771\n",
       "positioning_percent_most_back                  -0.005000\n",
       "positioning_percent_farthest_from_ball         -0.006656\n",
       "movement_time_slow_speed                       -0.007749\n",
       "movement_avg_powerslide_duration               -0.009138\n",
       "movement_percent_slow_speed                    -0.013481\n",
       "movement_time_low_air                          -0.018954\n",
       "movement_percent_low_air                       -0.041330\n",
       "positioning_time_defensive_half                -0.092598\n",
       "positioning_time_defensive_third               -0.117957\n",
       "positioning_percent_defensive_half             -0.170828\n",
       "positioning_percent_defensive_third            -0.172815\n",
       "positioning_time_infront_ball                  -0.306313\n",
       "positioning_percent_infront_ball               -0.418290"
      ]
     },
     "execution_count": 30,
     "metadata": {},
     "output_type": "execute_result"
    }
   ],
   "source": [
    "correlations = pd.DataFrame(X_train.corrwith(y_train))\n",
    "correlations.sort_values(0, ascending=False)"
   ]
  },
  {
   "cell_type": "markdown",
   "metadata": {},
   "source": [
    "## statistics"
   ]
  },
  {
   "cell_type": "code",
   "execution_count": 31,
   "metadata": {},
   "outputs": [
    {
     "data": {
      "text/plain": [
       "winner\n",
       "False    69.978273\n",
       "True     74.174662\n",
       "Name: positioning_percent_behind_ball, dtype: float64"
      ]
     },
     "execution_count": 31,
     "metadata": {},
     "output_type": "execute_result"
    }
   ],
   "source": [
    "# average for winners and average for losers\n",
    "X_train['positioning_percent_behind_ball'].groupby(y_train).mean()\n"
   ]
  },
  {
   "cell_type": "code",
   "execution_count": 32,
   "metadata": {},
   "outputs": [
    {
     "data": {
      "text/plain": [
       "winner\n",
       "False    30.021726\n",
       "True     25.825339\n",
       "Name: positioning_percent_infront_ball, dtype: float64"
      ]
     },
     "execution_count": 32,
     "metadata": {},
     "output_type": "execute_result"
    }
   ],
   "source": [
    "# average for winners and average for losers\n",
    "X_train['positioning_percent_infront_ball'].groupby(y_train).mean()"
   ]
  },
  {
   "cell_type": "code",
   "execution_count": 33,
   "metadata": {},
   "outputs": [
    {
     "data": {
      "text/plain": [
       "winner\n",
       "False    34.057017\n",
       "True     36.425687\n",
       "Name: positioning_percent_offensive_half, dtype: float64"
      ]
     },
     "execution_count": 33,
     "metadata": {},
     "output_type": "execute_result"
    }
   ],
   "source": [
    "# average for winners and average for losers\n",
    "X_train['positioning_percent_offensive_half'].groupby(y_train).mean()"
   ]
  },
  {
   "cell_type": "code",
   "execution_count": 34,
   "metadata": {},
   "outputs": [
    {
     "data": {
      "text/plain": [
       "winner\n",
       "False    65.942983\n",
       "True     63.574311\n",
       "Name: positioning_percent_defensive_half, dtype: float64"
      ]
     },
     "execution_count": 34,
     "metadata": {},
     "output_type": "execute_result"
    }
   ],
   "source": [
    "# average for winners and average for losers\n",
    "X_train['positioning_percent_defensive_half'].groupby(y_train).mean()"
   ]
  },
  {
   "cell_type": "markdown",
   "metadata": {},
   "source": [
    "# Model 2 -------------------------------"
   ]
  },
  {
   "cell_type": "markdown",
   "metadata": {},
   "source": [
    "## Model"
   ]
  },
  {
   "cell_type": "code",
   "execution_count": 35,
   "metadata": {},
   "outputs": [],
   "source": [
    "rf2 = RandomForestClassifier(n_estimators=500,\n",
    "                             criterion='entropy',\n",
    "                             min_samples_split=10,\n",
    "                             max_depth = 14,\n",
    "                             random_state = 42\n",
    ")"
   ]
  },
  {
   "cell_type": "code",
   "execution_count": 36,
   "metadata": {},
   "outputs": [],
   "source": [
    "#13 min de volgende / 8 min voor team / 4 op blauwe laptop"
   ]
  },
  {
   "cell_type": "code",
   "execution_count": 37,
   "metadata": {},
   "outputs": [
    {
     "data": {
      "text/html": [
       "<style>#sk-container-id-2 {color: black;background-color: white;}#sk-container-id-2 pre{padding: 0;}#sk-container-id-2 div.sk-toggleable {background-color: white;}#sk-container-id-2 label.sk-toggleable__label {cursor: pointer;display: block;width: 100%;margin-bottom: 0;padding: 0.3em;box-sizing: border-box;text-align: center;}#sk-container-id-2 label.sk-toggleable__label-arrow:before {content: \"▸\";float: left;margin-right: 0.25em;color: #696969;}#sk-container-id-2 label.sk-toggleable__label-arrow:hover:before {color: black;}#sk-container-id-2 div.sk-estimator:hover label.sk-toggleable__label-arrow:before {color: black;}#sk-container-id-2 div.sk-toggleable__content {max-height: 0;max-width: 0;overflow: hidden;text-align: left;background-color: #f0f8ff;}#sk-container-id-2 div.sk-toggleable__content pre {margin: 0.2em;color: black;border-radius: 0.25em;background-color: #f0f8ff;}#sk-container-id-2 input.sk-toggleable__control:checked~div.sk-toggleable__content {max-height: 200px;max-width: 100%;overflow: auto;}#sk-container-id-2 input.sk-toggleable__control:checked~label.sk-toggleable__label-arrow:before {content: \"▾\";}#sk-container-id-2 div.sk-estimator input.sk-toggleable__control:checked~label.sk-toggleable__label {background-color: #d4ebff;}#sk-container-id-2 div.sk-label input.sk-toggleable__control:checked~label.sk-toggleable__label {background-color: #d4ebff;}#sk-container-id-2 input.sk-hidden--visually {border: 0;clip: rect(1px 1px 1px 1px);clip: rect(1px, 1px, 1px, 1px);height: 1px;margin: -1px;overflow: hidden;padding: 0;position: absolute;width: 1px;}#sk-container-id-2 div.sk-estimator {font-family: monospace;background-color: #f0f8ff;border: 1px dotted black;border-radius: 0.25em;box-sizing: border-box;margin-bottom: 0.5em;}#sk-container-id-2 div.sk-estimator:hover {background-color: #d4ebff;}#sk-container-id-2 div.sk-parallel-item::after {content: \"\";width: 100%;border-bottom: 1px solid gray;flex-grow: 1;}#sk-container-id-2 div.sk-label:hover label.sk-toggleable__label {background-color: #d4ebff;}#sk-container-id-2 div.sk-serial::before {content: \"\";position: absolute;border-left: 1px solid gray;box-sizing: border-box;top: 0;bottom: 0;left: 50%;z-index: 0;}#sk-container-id-2 div.sk-serial {display: flex;flex-direction: column;align-items: center;background-color: white;padding-right: 0.2em;padding-left: 0.2em;position: relative;}#sk-container-id-2 div.sk-item {position: relative;z-index: 1;}#sk-container-id-2 div.sk-parallel {display: flex;align-items: stretch;justify-content: center;background-color: white;position: relative;}#sk-container-id-2 div.sk-item::before, #sk-container-id-2 div.sk-parallel-item::before {content: \"\";position: absolute;border-left: 1px solid gray;box-sizing: border-box;top: 0;bottom: 0;left: 50%;z-index: -1;}#sk-container-id-2 div.sk-parallel-item {display: flex;flex-direction: column;z-index: 1;position: relative;background-color: white;}#sk-container-id-2 div.sk-parallel-item:first-child::after {align-self: flex-end;width: 50%;}#sk-container-id-2 div.sk-parallel-item:last-child::after {align-self: flex-start;width: 50%;}#sk-container-id-2 div.sk-parallel-item:only-child::after {width: 0;}#sk-container-id-2 div.sk-dashed-wrapped {border: 1px dashed gray;margin: 0 0.4em 0.5em 0.4em;box-sizing: border-box;padding-bottom: 0.4em;background-color: white;}#sk-container-id-2 div.sk-label label {font-family: monospace;font-weight: bold;display: inline-block;line-height: 1.2em;}#sk-container-id-2 div.sk-label-container {text-align: center;}#sk-container-id-2 div.sk-container {/* jupyter's `normalize.less` sets `[hidden] { display: none; }` but bootstrap.min.css set `[hidden] { display: none !important; }` so we also need the `!important` here to be able to override the default hidden behavior on the sphinx rendered scikit-learn.org. See: https://github.com/scikit-learn/scikit-learn/issues/21755 */display: inline-block !important;position: relative;}#sk-container-id-2 div.sk-text-repr-fallback {display: none;}</style><div id=\"sk-container-id-2\" class=\"sk-top-container\"><div class=\"sk-text-repr-fallback\"><pre>RandomForestClassifier(criterion=&#x27;entropy&#x27;, max_depth=14, min_samples_split=10,\n",
       "                       n_estimators=500, random_state=42)</pre><b>In a Jupyter environment, please rerun this cell to show the HTML representation or trust the notebook. <br />On GitHub, the HTML representation is unable to render, please try loading this page with nbviewer.org.</b></div><div class=\"sk-container\" hidden><div class=\"sk-item\"><div class=\"sk-estimator sk-toggleable\"><input class=\"sk-toggleable__control sk-hidden--visually\" id=\"sk-estimator-id-2\" type=\"checkbox\" checked><label for=\"sk-estimator-id-2\" class=\"sk-toggleable__label sk-toggleable__label-arrow\">RandomForestClassifier</label><div class=\"sk-toggleable__content\"><pre>RandomForestClassifier(criterion=&#x27;entropy&#x27;, max_depth=14, min_samples_split=10,\n",
       "                       n_estimators=500, random_state=42)</pre></div></div></div></div></div>"
      ],
      "text/plain": [
       "RandomForestClassifier(criterion='entropy', max_depth=14, min_samples_split=10,\n",
       "                       n_estimators=500, random_state=42)"
      ]
     },
     "execution_count": 37,
     "metadata": {},
     "output_type": "execute_result"
    }
   ],
   "source": [
    "rf2.fit(X_train, y_train)"
   ]
  },
  {
   "cell_type": "markdown",
   "metadata": {},
   "source": [
    "## Scores"
   ]
  },
  {
   "cell_type": "code",
   "execution_count": 38,
   "metadata": {},
   "outputs": [],
   "source": [
    "y_pred2 = rf2.predict(X_test)"
   ]
  },
  {
   "cell_type": "code",
   "execution_count": 39,
   "metadata": {},
   "outputs": [
    {
     "data": {
      "text/plain": [
       "0.7515733686651209"
      ]
     },
     "execution_count": 39,
     "metadata": {},
     "output_type": "execute_result"
    }
   ],
   "source": [
    "rf2.score(X_test, y_test)"
   ]
  },
  {
   "cell_type": "code",
   "execution_count": 40,
   "metadata": {},
   "outputs": [
    {
     "name": "stdout",
     "output_type": "stream",
     "text": [
      "              precision    recall  f1-score   support\n",
      "\n",
      "       False       0.76      0.75      0.75     10728\n",
      "        True       0.74      0.76      0.75     10405\n",
      "\n",
      "    accuracy                           0.75     21133\n",
      "   macro avg       0.75      0.75      0.75     21133\n",
      "weighted avg       0.75      0.75      0.75     21133\n",
      "\n"
     ]
    }
   ],
   "source": [
    "print(classification_report(y_test, y_pred2))"
   ]
  },
  {
   "cell_type": "code",
   "execution_count": 41,
   "metadata": {},
   "outputs": [],
   "source": [
    "from sklearn.metrics import accuracy_score, recall_score, precision_score, f1_score"
   ]
  },
  {
   "cell_type": "code",
   "execution_count": 42,
   "metadata": {},
   "outputs": [
    {
     "name": "stdout",
     "output_type": "stream",
     "text": [
      "accuracy 0.7515733686651209\n",
      "recall 0.7570398846708313\n",
      "precision 0.7431833191810548\n",
      "f1 0.7500476099790516\n"
     ]
    }
   ],
   "source": [
    "accuracy = accuracy_score(y_test, y_pred2)\n",
    "recall = recall_score(y_test, y_pred2)\n",
    "precision = precision_score(y_test, y_pred2)\n",
    "f1 = f1_score(y_test, y_pred2)\n",
    "\n",
    "print(\"accuracy\", accuracy)\n",
    "print(\"recall\", recall)\n",
    "print(\"precision\", precision)\n",
    "print(\"f1\", f1)"
   ]
  },
  {
   "cell_type": "code",
   "execution_count": 43,
   "metadata": {},
   "outputs": [],
   "source": [
    "from sklearn.metrics import accuracy_score"
   ]
  },
  {
   "cell_type": "code",
   "execution_count": 44,
   "metadata": {},
   "outputs": [
    {
     "name": "stdout",
     "output_type": "stream",
     "text": [
      "DNN Accuracy: 0.7515733686651209\n"
     ]
    }
   ],
   "source": [
    "y_pred2 = rf2.predict(X_test)\n",
    "y_pred_classes2 = y_pred2\n",
    "y_test_classes2 = y_test\n",
    "print(\"DNN Accuracy:\", accuracy_score(y_test_classes2, y_pred_classes2))"
   ]
  },
  {
   "cell_type": "markdown",
   "metadata": {},
   "source": [
    "### Conf matrix"
   ]
  },
  {
   "cell_type": "code",
   "execution_count": 45,
   "metadata": {},
   "outputs": [],
   "source": [
    "from sklearn.metrics import confusion_matrix"
   ]
  },
  {
   "cell_type": "code",
   "execution_count": 46,
   "metadata": {},
   "outputs": [
    {
     "name": "stdout",
     "output_type": "stream",
     "text": [
      "[[8006 2722]\n",
      " [2528 7877]]\n"
     ]
    }
   ],
   "source": [
    "print(confusion_matrix(y_test, y_pred2))"
   ]
  },
  {
   "cell_type": "code",
   "execution_count": 47,
   "metadata": {},
   "outputs": [
    {
     "name": "stdout",
     "output_type": "stream",
     "text": [
      "[[8006 2722]\n",
      " [2528 7877]]\n",
      "0.7515733686651209\n"
     ]
    },
    {
     "data": {
      "image/png": "[encoded data removed]",
      "text/plain": [
       "<Figure size 640x480 with 2 Axes>"
      ]
     },
     "metadata": {},
     "output_type": "display_data"
    }
   ],
   "source": [
    "cm = confusion_matrix(y_test, y_pred2)\n",
    "accuracy = accuracy_score(y_test, y_pred2)\n",
    "print(cm)\n",
    "print(accuracy)\n",
    "labels = list(y_train.keys())\n",
    "\n",
    "s = sns.heatmap(cm, cmap='YlGnBu', annot=True, fmt=\".0f\")\n",
    "s.set_xlabel(\"predicted\")\n",
    "s.set_ylabel(\"true\")\n",
    "plt.show()\n"
   ]
  },
  {
   "cell_type": "markdown",
   "metadata": {},
   "source": [
    "### roc score"
   ]
  },
  {
   "cell_type": "code",
   "execution_count": 48,
   "metadata": {},
   "outputs": [
    {
     "name": "stdout",
     "output_type": "stream",
     "text": [
      "[0.74142325 0.92909305 0.09717954 0.11246872 0.36062946 0.89774625\n",
      " 0.09610184 0.35120649 0.66496974 0.18161592 0.46845829 0.72017213\n",
      " 0.604198   0.4304463  0.82568797 0.61865287 0.93387753 0.70936397\n",
      " 0.06236171 0.71188501 0.21447282 0.95346059 0.72258374 0.36390125\n",
      " 0.24875929 0.51312999 0.02887275 0.66055304 0.75342043 0.91736177\n",
      " 0.13869258 0.8498364  0.71255101 0.55807616 0.57333491 0.90464201\n",
      " 0.84469082 0.2355617  0.93695133 0.12220907 0.47710555 0.52631221\n",
      " 0.69979743 0.09120135 0.4463299  0.10151838 0.73876865 0.46109322\n",
      " 0.35592139 0.63258063 0.33385765 0.39120013 0.76594566 0.31400257\n",
      " 0.58494418 0.17381879 0.46421439 0.89326921 0.06867059 0.16180589\n",
      " 0.23756196 0.74327571 0.07464494 0.15749442 0.66603441 0.11312893\n",
      " 0.08208524 0.08621703 0.5213359  0.63602368 0.15739768 0.41431953\n",
      " 0.93767899 0.41222455 0.06068897 0.64803327 0.68734363 0.25269891\n",
      " 0.39399229 0.76928844 0.90085965 0.62702143 0.51544006 0.68718032\n",
      " 0.96447967 0.94492445 0.03834068 0.54469032 0.23501327 0.9473588\n",
      " 0.15675196 0.59047131 0.47861013 0.84501893 0.37342001 0.90292195\n",
      " 0.40228104 0.84425858 0.60432517 0.70654395]\n",
      "ROC AUC Score: 0.84\n"
     ]
    },
    {
     "data": {
      "image/png": "[encoded data removed]",
      "text/plain": [
       "<Figure size 640x480 with 1 Axes>"
      ]
     },
     "metadata": {},
     "output_type": "display_data"
    }
   ],
   "source": [
    "from sklearn.metrics import roc_auc_score, roc_curve\n",
    "\n",
    "y_pred_proba = rf2.predict_proba(X_test)[:, 1]\n",
    "roc_auc = roc_auc_score(y_test, y_pred_proba)\n",
    "print(f\"ROC AUC Score: {roc_auc:.3f}\")\n",
    "\n",
    "fpr, tpr, thresholds = roc_curve(y_test, y_pred_proba)\n",
    "\n",
    "plt.plot(fpr, tpr, label=f\"AUC = {roc_auc:.3f}\")\n",
    "plt.plot([0, 1], [0, 1], 'k--')\n",
    "plt.xlabel('False Positive Rate')\n",
    "plt.ylabel('True Positive Rate')\n",
    "plt.title('ROC Curve')\n",
    "plt.legend()\n",
    "plt.show()"
   ]
  },
  {
   "cell_type": "markdown",
   "metadata": {},
   "source": [
    "### Important features"
   ]
  },
  {
   "cell_type": "code",
   "execution_count": 51,
   "metadata": {},
   "outputs": [],
   "source": [
    "features = pd.DataFrame(rf2.feature_importances_, index = X_train.columns)"
   ]
  },
  {
   "cell_type": "code",
   "execution_count": 52,
   "metadata": {},
   "outputs": [
    {
     "data": {
      "text/html": [
       "<div>\n",
       "<style scoped>\n",
       "    .dataframe tbody tr th:only-of-type {\n",
       "        vertical-align: middle;\n",
       "    }\n",
       "\n",
       "    .dataframe tbody tr th {\n",
       "        vertical-align: top;\n",
       "    }\n",
       "\n",
       "    .dataframe thead th {\n",
       "        text-align: right;\n",
       "    }\n",
       "</style>\n",
       "<table border=\"1\" class=\"dataframe\">\n",
       "  <thead>\n",
       "    <tr style=\"text-align: right;\">\n",
       "      <th></th>\n",
       "      <th>0</th>\n",
       "    </tr>\n",
       "  </thead>\n",
       "  <tbody>\n",
       "    <tr>\n",
       "      <th>positioning_percent_behind_ball</th>\n",
       "      <td>0.116245</td>\n",
       "    </tr>\n",
       "    <tr>\n",
       "      <th>positioning_percent_infront_ball</th>\n",
       "      <td>0.113631</td>\n",
       "    </tr>\n",
       "    <tr>\n",
       "      <th>positioning_time_infront_ball</th>\n",
       "      <td>0.080148</td>\n",
       "    </tr>\n",
       "    <tr>\n",
       "      <th>positioning_time_behind_ball</th>\n",
       "      <td>0.047209</td>\n",
       "    </tr>\n",
       "    <tr>\n",
       "      <th>positioning_percent_most_forward</th>\n",
       "      <td>0.046953</td>\n",
       "    </tr>\n",
       "    <tr>\n",
       "      <th>positioning_time_most_forward</th>\n",
       "      <td>0.041250</td>\n",
       "    </tr>\n",
       "    <tr>\n",
       "      <th>positioning_avg_distance_to_ball_possession</th>\n",
       "      <td>0.033801</td>\n",
       "    </tr>\n",
       "    <tr>\n",
       "      <th>positioning_percent_most_back</th>\n",
       "      <td>0.032842</td>\n",
       "    </tr>\n",
       "    <tr>\n",
       "      <th>positioning_time_most_back</th>\n",
       "      <td>0.032151</td>\n",
       "    </tr>\n",
       "    <tr>\n",
       "      <th>positioning_time_offensive_third</th>\n",
       "      <td>0.020514</td>\n",
       "    </tr>\n",
       "    <tr>\n",
       "      <th>positioning_percent_offensive_third</th>\n",
       "      <td>0.019926</td>\n",
       "    </tr>\n",
       "    <tr>\n",
       "      <th>positioning_time_defensive_half</th>\n",
       "      <td>0.019002</td>\n",
       "    </tr>\n",
       "    <tr>\n",
       "      <th>positioning_percent_defensive_third</th>\n",
       "      <td>0.019000</td>\n",
       "    </tr>\n",
       "    <tr>\n",
       "      <th>positioning_time_offensive_half</th>\n",
       "      <td>0.018937</td>\n",
       "    </tr>\n",
       "    <tr>\n",
       "      <th>positioning_percent_offensive_half</th>\n",
       "      <td>0.018729</td>\n",
       "    </tr>\n",
       "    <tr>\n",
       "      <th>positioning_time_defensive_third</th>\n",
       "      <td>0.018105</td>\n",
       "    </tr>\n",
       "    <tr>\n",
       "      <th>positioning_percent_defensive_half</th>\n",
       "      <td>0.017725</td>\n",
       "    </tr>\n",
       "    <tr>\n",
       "      <th>positioning_avg_distance_to_ball</th>\n",
       "      <td>0.015869</td>\n",
       "    </tr>\n",
       "    <tr>\n",
       "      <th>positioning_avg_distance_to_mates</th>\n",
       "      <td>0.014506</td>\n",
       "    </tr>\n",
       "    <tr>\n",
       "      <th>positioning_time_closest_to_ball</th>\n",
       "      <td>0.013365</td>\n",
       "    </tr>\n",
       "    <tr>\n",
       "      <th>positioning_percent_closest_to_ball</th>\n",
       "      <td>0.013051</td>\n",
       "    </tr>\n",
       "    <tr>\n",
       "      <th>movement_total_distance</th>\n",
       "      <td>0.012616</td>\n",
       "    </tr>\n",
       "    <tr>\n",
       "      <th>positioning_avg_distance_to_ball_no_possession</th>\n",
       "      <td>0.012603</td>\n",
       "    </tr>\n",
       "    <tr>\n",
       "      <th>positioning_percent_farthest_from_ball</th>\n",
       "      <td>0.012138</td>\n",
       "    </tr>\n",
       "    <tr>\n",
       "      <th>movement_time_low_air</th>\n",
       "      <td>0.012134</td>\n",
       "    </tr>\n",
       "    <tr>\n",
       "      <th>positioning_time_neutral_third</th>\n",
       "      <td>0.012116</td>\n",
       "    </tr>\n",
       "    <tr>\n",
       "      <th>positioning_time_farthest_from_ball</th>\n",
       "      <td>0.012062</td>\n",
       "    </tr>\n",
       "    <tr>\n",
       "      <th>movement_time_ground</th>\n",
       "      <td>0.011839</td>\n",
       "    </tr>\n",
       "    <tr>\n",
       "      <th>movement_time_boost_speed</th>\n",
       "      <td>0.011779</td>\n",
       "    </tr>\n",
       "    <tr>\n",
       "      <th>movement_time_powerslide</th>\n",
       "      <td>0.011243</td>\n",
       "    </tr>\n",
       "    <tr>\n",
       "      <th>positioning_percent_neutral_third</th>\n",
       "      <td>0.011204</td>\n",
       "    </tr>\n",
       "    <tr>\n",
       "      <th>movement_time_high_air</th>\n",
       "      <td>0.011086</td>\n",
       "    </tr>\n",
       "    <tr>\n",
       "      <th>movement_percent_high_air</th>\n",
       "      <td>0.010899</td>\n",
       "    </tr>\n",
       "    <tr>\n",
       "      <th>movement_time_slow_speed</th>\n",
       "      <td>0.010869</td>\n",
       "    </tr>\n",
       "    <tr>\n",
       "      <th>movement_percent_ground</th>\n",
       "      <td>0.010769</td>\n",
       "    </tr>\n",
       "    <tr>\n",
       "      <th>movement_percent_boost_speed</th>\n",
       "      <td>0.010745</td>\n",
       "    </tr>\n",
       "    <tr>\n",
       "      <th>movement_percent_low_air</th>\n",
       "      <td>0.010692</td>\n",
       "    </tr>\n",
       "    <tr>\n",
       "      <th>movement_percent_supersonic_speed</th>\n",
       "      <td>0.010159</td>\n",
       "    </tr>\n",
       "    <tr>\n",
       "      <th>movement_time_supersonic_speed</th>\n",
       "      <td>0.010130</td>\n",
       "    </tr>\n",
       "    <tr>\n",
       "      <th>movement_count_powerslide</th>\n",
       "      <td>0.009839</td>\n",
       "    </tr>\n",
       "    <tr>\n",
       "      <th>movement_percent_slow_speed</th>\n",
       "      <td>0.009450</td>\n",
       "    </tr>\n",
       "    <tr>\n",
       "      <th>movement_avg_speed</th>\n",
       "      <td>0.008809</td>\n",
       "    </tr>\n",
       "    <tr>\n",
       "      <th>movement_avg_speed_percentage</th>\n",
       "      <td>0.008781</td>\n",
       "    </tr>\n",
       "    <tr>\n",
       "      <th>movement_avg_powerslide_duration</th>\n",
       "      <td>0.005081</td>\n",
       "    </tr>\n",
       "  </tbody>\n",
       "</table>\n",
       "</div>"
      ],
      "text/plain": [
       "                                                       0\n",
       "positioning_percent_behind_ball                 0.116245\n",
       "positioning_percent_infront_ball                0.113631\n",
       "positioning_time_infront_ball                   0.080148\n",
       "positioning_time_behind_ball                    0.047209\n",
       "positioning_percent_most_forward                0.046953\n",
       "positioning_time_most_forward                   0.041250\n",
       "positioning_avg_distance_to_ball_possession     0.033801\n",
       "positioning_percent_most_back                   0.032842\n",
       "positioning_time_most_back                      0.032151\n",
       "positioning_time_offensive_third                0.020514\n",
       "positioning_percent_offensive_third             0.019926\n",
       "positioning_time_defensive_half                 0.019002\n",
       "positioning_percent_defensive_third             0.019000\n",
       "positioning_time_offensive_half                 0.018937\n",
       "positioning_percent_offensive_half              0.018729\n",
       "positioning_time_defensive_third                0.018105\n",
       "positioning_percent_defensive_half              0.017725\n",
       "positioning_avg_distance_to_ball                0.015869\n",
       "positioning_avg_distance_to_mates               0.014506\n",
       "positioning_time_closest_to_ball                0.013365\n",
       "positioning_percent_closest_to_ball             0.013051\n",
       "movement_total_distance                         0.012616\n",
       "positioning_avg_distance_to_ball_no_possession  0.012603\n",
       "positioning_percent_farthest_from_ball          0.012138\n",
       "movement_time_low_air                           0.012134\n",
       "positioning_time_neutral_third                  0.012116\n",
       "positioning_time_farthest_from_ball             0.012062\n",
       "movement_time_ground                            0.011839\n",
       "movement_time_boost_speed                       0.011779\n",
       "movement_time_powerslide                        0.011243\n",
       "positioning_percent_neutral_third               0.011204\n",
       "movement_time_high_air                          0.011086\n",
       "movement_percent_high_air                       0.010899\n",
       "movement_time_slow_speed                        0.010869\n",
       "movement_percent_ground                         0.010769\n",
       "movement_percent_boost_speed                    0.010745\n",
       "movement_percent_low_air                        0.010692\n",
       "movement_percent_supersonic_speed               0.010159\n",
       "movement_time_supersonic_speed                  0.010130\n",
       "movement_count_powerslide                       0.009839\n",
       "movement_percent_slow_speed                     0.009450\n",
       "movement_avg_speed                              0.008809\n",
       "movement_avg_speed_percentage                   0.008781\n",
       "movement_avg_powerslide_duration                0.005081"
      ]
     },
     "execution_count": 52,
     "metadata": {},
     "output_type": "execute_result"
    }
   ],
   "source": [
    "features.sort_values(0, ascending=False)"
   ]
  }
 ],
 "metadata": {
  "kernelspec": {
   "display_name": "marleen-rocket-league-env",
   "language": "python",
   "name": "python3"
  },
  "language_info": {
   "codemirror_mode": {
    "name": "ipython",
    "version": 3
   },
   "file_extension": ".py",
   "mimetype": "text/x-python",
   "name": "python",
   "nbconvert_exporter": "python",
   "pygments_lexer": "ipython3",
   "version": "3.9.21"
  }
 },
 "nbformat": 4,
 "nbformat_minor": 2
}
