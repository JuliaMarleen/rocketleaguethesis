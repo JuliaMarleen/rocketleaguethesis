{
 "cells": [
  {
   "cell_type": "markdown",
   "metadata": {},
   "source": [
    "# GradBoost Model"
   ]
  },
  {
   "cell_type": "markdown",
   "metadata": {},
   "source": [
    "### Imports"
   ]
  },
  {
   "cell_type": "code",
   "execution_count": 1,
   "metadata": {},
   "outputs": [
    {
     "name": "stdout",
     "output_type": "stream",
     "text": [
      "pandas version: 2.2.3\n",
      "matplotlib version: 3.9.2\n",
      "seaborn version: 0.13.2\n",
      "numpy version: 1.26.4\n",
      "sklearn version: 1.1.3\n",
      "Python version: 3.9.21 (main, Dec 11 2024, 10:23:52) \n",
      "[Clang 14.0.6 ]\n"
     ]
    }
   ],
   "source": [
    "import pandas as pd\n",
    "import matplotlib.pyplot as plt\n",
    "import matplotlib\n",
    "import seaborn as sns\n",
    "import numpy as np\n",
    "\n",
    "print(f\"pandas version: {pd.__version__}\")\n",
    "print(f\"matplotlib version: {matplotlib.__version__}\")\n",
    "print(f\"seaborn version: {sns.__version__}\")\n",
    "print(f\"numpy version: {np.__version__}\")\n",
    "\n",
    "import sklearn\n",
    "print(f\"sklearn version: {sklearn.__version__}\")\n",
    "\n",
    "import sys\n",
    "print(f\"Python version: {sys.version}\")"
   ]
  },
  {
   "cell_type": "markdown",
   "metadata": {},
   "source": [
    "### Import data"
   ]
  },
  {
   "cell_type": "code",
   "execution_count": 2,
   "metadata": {},
   "outputs": [],
   "source": [
    "players_all = pd.read_csv('../games_by_players_all.csv', encoding='utf8')\n",
    "players_ranked = pd.read_csv('../games_by_players_ranked.csv', encoding='utf8')\n",
    "players_pro = pd.read_csv('../games_by_players_pro.csv', encoding='utf8')\n",
    "\n",
    "teams_all = pd.read_csv('../games_by_team_all_added_features.csv', encoding='utf8')\n",
    "teams_ranked = pd.read_csv('../games_by_team_ranked_added_features.csv', encoding='utf8')\n",
    "teams_pro = pd.read_csv('../games_by_team_pro_added_features.csv', encoding='utf8')\n",
    "\n",
    "small_file = pd.read_csv('../small_csv_file.csv', encoding='utf8')"
   ]
  },
  {
   "cell_type": "code",
   "execution_count": 3,
   "metadata": {},
   "outputs": [],
   "source": [
    "players_all = players_all.drop(columns = ['game_id', 'player_tag', 'pro'])\n",
    "players_ranked = players_ranked.drop(columns = ['game_id', 'player_tag', 'pro'])\n",
    "players_pro = players_pro.drop(columns = ['game_id', 'player_tag', 'pro'])\n",
    "\n",
    "small_file = small_file.drop(columns = ['game_id', 'player_tag', 'pro'])\n",
    "\n",
    "# Team\n",
    "teams_all = teams_all.drop(columns = ['pro'])\n",
    "teams_ranked = teams_ranked.drop(columns = ['pro'])\n",
    "teams_pro = teams_pro.drop(columns = ['pro'])"
   ]
  },
  {
   "cell_type": "code",
   "execution_count": 4,
   "metadata": {},
   "outputs": [
    {
     "data": {
      "text/html": [
       "<div>\n",
       "<style scoped>\n",
       "    .dataframe tbody tr th:only-of-type {\n",
       "        vertical-align: middle;\n",
       "    }\n",
       "\n",
       "    .dataframe tbody tr th {\n",
       "        vertical-align: top;\n",
       "    }\n",
       "\n",
       "    .dataframe thead th {\n",
       "        text-align: right;\n",
       "    }\n",
       "</style>\n",
       "<table border=\"1\" class=\"dataframe\">\n",
       "  <thead>\n",
       "    <tr style=\"text-align: right;\">\n",
       "      <th></th>\n",
       "      <th>movement_avg_speed</th>\n",
       "      <th>movement_total_distance</th>\n",
       "      <th>movement_time_supersonic_speed</th>\n",
       "      <th>movement_time_boost_speed</th>\n",
       "      <th>movement_time_slow_speed</th>\n",
       "      <th>movement_time_ground</th>\n",
       "      <th>movement_time_low_air</th>\n",
       "      <th>movement_time_high_air</th>\n",
       "      <th>movement_time_powerslide</th>\n",
       "      <th>movement_count_powerslide</th>\n",
       "      <th>...</th>\n",
       "      <th>positioning_percent_neutral_third</th>\n",
       "      <th>positioning_percent_defensive_half</th>\n",
       "      <th>positioning_percent_offensive_half</th>\n",
       "      <th>positioning_percent_behind_ball</th>\n",
       "      <th>positioning_percent_infront_ball</th>\n",
       "      <th>positioning_percent_most_back</th>\n",
       "      <th>positioning_percent_most_forward</th>\n",
       "      <th>positioning_percent_closest_to_ball</th>\n",
       "      <th>positioning_percent_farthest_from_ball</th>\n",
       "      <th>winner</th>\n",
       "    </tr>\n",
       "  </thead>\n",
       "  <tbody>\n",
       "    <tr>\n",
       "      <th>0</th>\n",
       "      <td>1468.0</td>\n",
       "      <td>505882.0</td>\n",
       "      <td>40.34</td>\n",
       "      <td>142.29</td>\n",
       "      <td>196.16</td>\n",
       "      <td>219.80</td>\n",
       "      <td>143.43</td>\n",
       "      <td>15.56</td>\n",
       "      <td>8.01</td>\n",
       "      <td>68.0</td>\n",
       "      <td>...</td>\n",
       "      <td>26.72</td>\n",
       "      <td>83.53</td>\n",
       "      <td>16.47</td>\n",
       "      <td>75.83</td>\n",
       "      <td>24.17</td>\n",
       "      <td>31.88</td>\n",
       "      <td>28.71</td>\n",
       "      <td>39.66</td>\n",
       "      <td>28.51</td>\n",
       "      <td>False</td>\n",
       "    </tr>\n",
       "    <tr>\n",
       "      <th>1</th>\n",
       "      <td>1410.0</td>\n",
       "      <td>474841.0</td>\n",
       "      <td>41.74</td>\n",
       "      <td>122.11</td>\n",
       "      <td>208.83</td>\n",
       "      <td>248.88</td>\n",
       "      <td>115.01</td>\n",
       "      <td>8.80</td>\n",
       "      <td>5.41</td>\n",
       "      <td>30.0</td>\n",
       "      <td>...</td>\n",
       "      <td>24.45</td>\n",
       "      <td>79.52</td>\n",
       "      <td>20.48</td>\n",
       "      <td>67.56</td>\n",
       "      <td>32.44</td>\n",
       "      <td>31.06</td>\n",
       "      <td>36.93</td>\n",
       "      <td>31.49</td>\n",
       "      <td>32.85</td>\n",
       "      <td>False</td>\n",
       "    </tr>\n",
       "    <tr>\n",
       "      <th>2</th>\n",
       "      <td>1355.0</td>\n",
       "      <td>465999.0</td>\n",
       "      <td>35.87</td>\n",
       "      <td>119.38</td>\n",
       "      <td>223.64</td>\n",
       "      <td>212.03</td>\n",
       "      <td>145.07</td>\n",
       "      <td>21.79</td>\n",
       "      <td>7.24</td>\n",
       "      <td>36.0</td>\n",
       "      <td>...</td>\n",
       "      <td>26.17</td>\n",
       "      <td>80.77</td>\n",
       "      <td>19.23</td>\n",
       "      <td>67.72</td>\n",
       "      <td>32.28</td>\n",
       "      <td>37.22</td>\n",
       "      <td>32.79</td>\n",
       "      <td>27.29</td>\n",
       "      <td>38.78</td>\n",
       "      <td>False</td>\n",
       "    </tr>\n",
       "    <tr>\n",
       "      <th>3</th>\n",
       "      <td>1455.0</td>\n",
       "      <td>500485.0</td>\n",
       "      <td>41.75</td>\n",
       "      <td>130.76</td>\n",
       "      <td>206.38</td>\n",
       "      <td>231.33</td>\n",
       "      <td>123.58</td>\n",
       "      <td>23.97</td>\n",
       "      <td>5.61</td>\n",
       "      <td>49.0</td>\n",
       "      <td>...</td>\n",
       "      <td>29.87</td>\n",
       "      <td>54.02</td>\n",
       "      <td>45.98</td>\n",
       "      <td>77.37</td>\n",
       "      <td>22.63</td>\n",
       "      <td>28.14</td>\n",
       "      <td>44.34</td>\n",
       "      <td>41.22</td>\n",
       "      <td>29.30</td>\n",
       "      <td>True</td>\n",
       "    </tr>\n",
       "    <tr>\n",
       "      <th>4</th>\n",
       "      <td>1518.0</td>\n",
       "      <td>521069.0</td>\n",
       "      <td>50.22</td>\n",
       "      <td>149.49</td>\n",
       "      <td>179.09</td>\n",
       "      <td>241.24</td>\n",
       "      <td>128.04</td>\n",
       "      <td>9.51</td>\n",
       "      <td>3.34</td>\n",
       "      <td>32.0</td>\n",
       "      <td>...</td>\n",
       "      <td>35.38</td>\n",
       "      <td>61.49</td>\n",
       "      <td>38.51</td>\n",
       "      <td>79.66</td>\n",
       "      <td>20.34</td>\n",
       "      <td>29.56</td>\n",
       "      <td>30.44</td>\n",
       "      <td>30.15</td>\n",
       "      <td>34.75</td>\n",
       "      <td>True</td>\n",
       "    </tr>\n",
       "  </tbody>\n",
       "</table>\n",
       "<p>5 rows × 45 columns</p>\n",
       "</div>"
      ],
      "text/plain": [
       "   movement_avg_speed  movement_total_distance  \\\n",
       "0              1468.0                 505882.0   \n",
       "1              1410.0                 474841.0   \n",
       "2              1355.0                 465999.0   \n",
       "3              1455.0                 500485.0   \n",
       "4              1518.0                 521069.0   \n",
       "\n",
       "   movement_time_supersonic_speed  movement_time_boost_speed  \\\n",
       "0                           40.34                     142.29   \n",
       "1                           41.74                     122.11   \n",
       "2                           35.87                     119.38   \n",
       "3                           41.75                     130.76   \n",
       "4                           50.22                     149.49   \n",
       "\n",
       "   movement_time_slow_speed  movement_time_ground  movement_time_low_air  \\\n",
       "0                    196.16                219.80                 143.43   \n",
       "1                    208.83                248.88                 115.01   \n",
       "2                    223.64                212.03                 145.07   \n",
       "3                    206.38                231.33                 123.58   \n",
       "4                    179.09                241.24                 128.04   \n",
       "\n",
       "   movement_time_high_air  movement_time_powerslide  \\\n",
       "0                   15.56                      8.01   \n",
       "1                    8.80                      5.41   \n",
       "2                   21.79                      7.24   \n",
       "3                   23.97                      5.61   \n",
       "4                    9.51                      3.34   \n",
       "\n",
       "   movement_count_powerslide  ...  positioning_percent_neutral_third  \\\n",
       "0                       68.0  ...                              26.72   \n",
       "1                       30.0  ...                              24.45   \n",
       "2                       36.0  ...                              26.17   \n",
       "3                       49.0  ...                              29.87   \n",
       "4                       32.0  ...                              35.38   \n",
       "\n",
       "   positioning_percent_defensive_half  positioning_percent_offensive_half  \\\n",
       "0                               83.53                               16.47   \n",
       "1                               79.52                               20.48   \n",
       "2                               80.77                               19.23   \n",
       "3                               54.02                               45.98   \n",
       "4                               61.49                               38.51   \n",
       "\n",
       "   positioning_percent_behind_ball  positioning_percent_infront_ball  \\\n",
       "0                            75.83                             24.17   \n",
       "1                            67.56                             32.44   \n",
       "2                            67.72                             32.28   \n",
       "3                            77.37                             22.63   \n",
       "4                            79.66                             20.34   \n",
       "\n",
       "   positioning_percent_most_back  positioning_percent_most_forward  \\\n",
       "0                          31.88                             28.71   \n",
       "1                          31.06                             36.93   \n",
       "2                          37.22                             32.79   \n",
       "3                          28.14                             44.34   \n",
       "4                          29.56                             30.44   \n",
       "\n",
       "   positioning_percent_closest_to_ball  \\\n",
       "0                                39.66   \n",
       "1                                31.49   \n",
       "2                                27.29   \n",
       "3                                41.22   \n",
       "4                                30.15   \n",
       "\n",
       "   positioning_percent_farthest_from_ball  winner  \n",
       "0                                   28.51   False  \n",
       "1                                   32.85   False  \n",
       "2                                   38.78   False  \n",
       "3                                   29.30    True  \n",
       "4                                   34.75    True  \n",
       "\n",
       "[5 rows x 45 columns]"
      ]
     },
     "execution_count": 4,
     "metadata": {},
     "output_type": "execute_result"
    }
   ],
   "source": [
    "players_all.head()"
   ]
  },
  {
   "cell_type": "markdown",
   "metadata": {},
   "source": [
    "### X,y division"
   ]
  },
  {
   "cell_type": "code",
   "execution_count": 5,
   "metadata": {},
   "outputs": [],
   "source": [
    "X_players_all = players_all.iloc[:, 0:44]\n",
    "X_players_ranked = players_ranked.iloc[:, 0:44]\n",
    "X_players_pro = players_pro.iloc[:, 0:44]\n",
    "\n",
    "X_small_file = small_file.iloc[:, 0:44]"
   ]
  },
  {
   "cell_type": "code",
   "execution_count": 6,
   "metadata": {},
   "outputs": [],
   "source": [
    "y_players_all = players_all.iloc[:, 44]\n",
    "y_players_ranked = players_ranked.iloc[:, 44]\n",
    "y_players_pro = players_pro.iloc[:, 44]\n",
    "\n",
    "y_small_file = small_file.iloc[:, 44]\n"
   ]
  },
  {
   "cell_type": "code",
   "execution_count": 7,
   "metadata": {},
   "outputs": [],
   "source": [
    "# team\n",
    "X_teams_all = teams_all.iloc[:, 0:200]\n",
    "X_teams_ranked = teams_ranked.iloc[:, 0:200]\n",
    "X_teams_pro = teams_pro.iloc[:, 0:200]"
   ]
  },
  {
   "cell_type": "code",
   "execution_count": 8,
   "metadata": {},
   "outputs": [],
   "source": [
    "# Team\n",
    "y_teams_all = teams_all.iloc[:, 200]\n",
    "y_teams_ranked = teams_ranked.iloc[:, 200]\n",
    "y_teams_pro = teams_pro.iloc[:, 200]"
   ]
  },
  {
   "cell_type": "markdown",
   "metadata": {},
   "source": [
    "### Normalisation?"
   ]
  },
  {
   "cell_type": "code",
   "execution_count": 9,
   "metadata": {},
   "outputs": [],
   "source": [
    "# Z-score\n",
    "from sklearn.preprocessing import StandardScaler\n",
    "scaler = StandardScaler()\n",
    "\n",
    "X_players_all_normalized = scaler.fit_transform(X_players_all)\n",
    "X_players_ranked_normalized =  scaler.fit_transform(X_players_ranked)\n",
    "X_players_pro_normalized = scaler.fit_transform(X_players_pro)\n",
    "X_small_file_normalized = scaler.fit_transform(X_small_file)\n",
    "\n",
    "X_players_all_normalized = pd.DataFrame(X_players_all_normalized, columns=X_players_all.columns)\n",
    "X_players_ranked_normalized = pd.DataFrame(X_players_ranked_normalized, columns=X_players_ranked.columns)\n",
    "X_players_pro_normalized = pd.DataFrame(X_players_pro_normalized, columns=X_players_pro.columns)\n",
    "X_small_file_normalized = pd.DataFrame(X_small_file_normalized, columns=X_small_file.columns)"
   ]
  },
  {
   "cell_type": "code",
   "execution_count": 10,
   "metadata": {},
   "outputs": [],
   "source": [
    "# Z-score for teams\n",
    "from sklearn.preprocessing import StandardScaler\n",
    "scaler = StandardScaler()\n",
    "\n",
    "X_teams_all_normalized = scaler.fit_transform(X_teams_all)\n",
    "X_teams_ranked_normalized =  scaler.fit_transform(X_teams_ranked)\n",
    "X_teams_pro_normalized = scaler.fit_transform(X_teams_pro)\n",
    "\n",
    "X_teams_all_normalized = pd.DataFrame(X_teams_all_normalized, columns=X_teams_all.columns)\n",
    "X_teams_ranked_normalized = pd.DataFrame(X_teams_ranked_normalized, columns=X_teams_ranked.columns)\n",
    "X_teams_pro_normalized = pd.DataFrame(X_teams_pro_normalized, columns=X_teams_pro.columns)"
   ]
  },
  {
   "cell_type": "code",
   "execution_count": 11,
   "metadata": {},
   "outputs": [
    {
     "data": {
      "text/html": [
       "<div>\n",
       "<style scoped>\n",
       "    .dataframe tbody tr th:only-of-type {\n",
       "        vertical-align: middle;\n",
       "    }\n",
       "\n",
       "    .dataframe tbody tr th {\n",
       "        vertical-align: top;\n",
       "    }\n",
       "\n",
       "    .dataframe thead th {\n",
       "        text-align: right;\n",
       "    }\n",
       "</style>\n",
       "<table border=\"1\" class=\"dataframe\">\n",
       "  <thead>\n",
       "    <tr style=\"text-align: right;\">\n",
       "      <th></th>\n",
       "      <th>movement_avg_speed</th>\n",
       "      <th>movement_total_distance</th>\n",
       "      <th>movement_time_supersonic_speed</th>\n",
       "      <th>movement_time_boost_speed</th>\n",
       "      <th>movement_time_slow_speed</th>\n",
       "      <th>movement_time_ground</th>\n",
       "      <th>movement_time_low_air</th>\n",
       "      <th>movement_time_high_air</th>\n",
       "      <th>movement_time_powerslide</th>\n",
       "      <th>movement_count_powerslide</th>\n",
       "      <th>...</th>\n",
       "      <th>positioning_percent_offensive_third</th>\n",
       "      <th>positioning_percent_neutral_third</th>\n",
       "      <th>positioning_percent_defensive_half</th>\n",
       "      <th>positioning_percent_offensive_half</th>\n",
       "      <th>positioning_percent_behind_ball</th>\n",
       "      <th>positioning_percent_infront_ball</th>\n",
       "      <th>positioning_percent_most_back</th>\n",
       "      <th>positioning_percent_most_forward</th>\n",
       "      <th>positioning_percent_closest_to_ball</th>\n",
       "      <th>positioning_percent_farthest_from_ball</th>\n",
       "    </tr>\n",
       "  </thead>\n",
       "  <tbody>\n",
       "    <tr>\n",
       "      <th>0</th>\n",
       "      <td>-0.244786</td>\n",
       "      <td>-0.006564</td>\n",
       "      <td>-0.105950</td>\n",
       "      <td>-0.028138</td>\n",
       "      <td>0.536498</td>\n",
       "      <td>0.210515</td>\n",
       "      <td>0.345503</td>\n",
       "      <td>0.088237</td>\n",
       "      <td>0.262826</td>\n",
       "      <td>0.215025</td>\n",
       "      <td>...</td>\n",
       "      <td>-2.540903</td>\n",
       "      <td>-1.018220</td>\n",
       "      <td>2.796536</td>\n",
       "      <td>-2.796536</td>\n",
       "      <td>0.839287</td>\n",
       "      <td>-0.839287</td>\n",
       "      <td>-0.364511</td>\n",
       "      <td>-0.855038</td>\n",
       "      <td>1.348097</td>\n",
       "      <td>-1.015858</td>\n",
       "    </tr>\n",
       "    <tr>\n",
       "      <th>1</th>\n",
       "      <td>-0.864632</td>\n",
       "      <td>-0.373041</td>\n",
       "      <td>-0.027812</td>\n",
       "      <td>-0.758952</td>\n",
       "      <td>0.873504</td>\n",
       "      <td>0.984698</td>\n",
       "      <td>-0.750224</td>\n",
       "      <td>-0.864637</td>\n",
       "      <td>-0.613178</td>\n",
       "      <td>-1.117797</td>\n",
       "      <td>...</td>\n",
       "      <td>-1.971989</td>\n",
       "      <td>-1.597289</td>\n",
       "      <td>2.192010</td>\n",
       "      <td>-2.192010</td>\n",
       "      <td>-0.759975</td>\n",
       "      <td>0.759975</td>\n",
       "      <td>-0.497711</td>\n",
       "      <td>0.621517</td>\n",
       "      <td>-0.427544</td>\n",
       "      <td>-0.227942</td>\n",
       "    </tr>\n",
       "    <tr>\n",
       "      <th>2</th>\n",
       "      <td>-1.452418</td>\n",
       "      <td>-0.477431</td>\n",
       "      <td>-0.355434</td>\n",
       "      <td>-0.857818</td>\n",
       "      <td>1.267432</td>\n",
       "      <td>0.003658</td>\n",
       "      <td>0.408733</td>\n",
       "      <td>0.966403</td>\n",
       "      <td>0.003394</td>\n",
       "      <td>-0.907351</td>\n",
       "      <td>...</td>\n",
       "      <td>-2.304965</td>\n",
       "      <td>-1.158523</td>\n",
       "      <td>2.380453</td>\n",
       "      <td>-2.380453</td>\n",
       "      <td>-0.729034</td>\n",
       "      <td>0.729034</td>\n",
       "      <td>0.502915</td>\n",
       "      <td>-0.122149</td>\n",
       "      <td>-1.340359</td>\n",
       "      <td>0.848635</td>\n",
       "    </tr>\n",
       "    <tr>\n",
       "      <th>3</th>\n",
       "      <td>-0.383717</td>\n",
       "      <td>-0.070282</td>\n",
       "      <td>-0.027254</td>\n",
       "      <td>-0.445694</td>\n",
       "      <td>0.808337</td>\n",
       "      <td>0.517473</td>\n",
       "      <td>-0.419809</td>\n",
       "      <td>1.273691</td>\n",
       "      <td>-0.545793</td>\n",
       "      <td>-0.451386</td>\n",
       "      <td>...</td>\n",
       "      <td>2.113161</td>\n",
       "      <td>-0.214666</td>\n",
       "      <td>-1.652232</td>\n",
       "      <td>1.652232</td>\n",
       "      <td>1.137094</td>\n",
       "      <td>-1.137094</td>\n",
       "      <td>-0.972034</td>\n",
       "      <td>1.952572</td>\n",
       "      <td>1.687142</td>\n",
       "      <td>-0.872435</td>\n",
       "    </tr>\n",
       "    <tr>\n",
       "      <th>4</th>\n",
       "      <td>0.289565</td>\n",
       "      <td>0.172737</td>\n",
       "      <td>0.445481</td>\n",
       "      <td>0.232608</td>\n",
       "      <td>0.082456</td>\n",
       "      <td>0.781302</td>\n",
       "      <td>-0.247855</td>\n",
       "      <td>-0.764557</td>\n",
       "      <td>-1.310612</td>\n",
       "      <td>-1.047648</td>\n",
       "      <td>...</td>\n",
       "      <td>0.370265</td>\n",
       "      <td>1.190915</td>\n",
       "      <td>-0.526095</td>\n",
       "      <td>0.526095</td>\n",
       "      <td>1.579936</td>\n",
       "      <td>-1.579936</td>\n",
       "      <td>-0.741370</td>\n",
       "      <td>-0.544279</td>\n",
       "      <td>-0.718776</td>\n",
       "      <td>0.116999</td>\n",
       "    </tr>\n",
       "  </tbody>\n",
       "</table>\n",
       "<p>5 rows × 44 columns</p>\n",
       "</div>"
      ],
      "text/plain": [
       "   movement_avg_speed  movement_total_distance  \\\n",
       "0           -0.244786                -0.006564   \n",
       "1           -0.864632                -0.373041   \n",
       "2           -1.452418                -0.477431   \n",
       "3           -0.383717                -0.070282   \n",
       "4            0.289565                 0.172737   \n",
       "\n",
       "   movement_time_supersonic_speed  movement_time_boost_speed  \\\n",
       "0                       -0.105950                  -0.028138   \n",
       "1                       -0.027812                  -0.758952   \n",
       "2                       -0.355434                  -0.857818   \n",
       "3                       -0.027254                  -0.445694   \n",
       "4                        0.445481                   0.232608   \n",
       "\n",
       "   movement_time_slow_speed  movement_time_ground  movement_time_low_air  \\\n",
       "0                  0.536498              0.210515               0.345503   \n",
       "1                  0.873504              0.984698              -0.750224   \n",
       "2                  1.267432              0.003658               0.408733   \n",
       "3                  0.808337              0.517473              -0.419809   \n",
       "4                  0.082456              0.781302              -0.247855   \n",
       "\n",
       "   movement_time_high_air  movement_time_powerslide  \\\n",
       "0                0.088237                  0.262826   \n",
       "1               -0.864637                 -0.613178   \n",
       "2                0.966403                  0.003394   \n",
       "3                1.273691                 -0.545793   \n",
       "4               -0.764557                 -1.310612   \n",
       "\n",
       "   movement_count_powerslide  ...  positioning_percent_offensive_third  \\\n",
       "0                   0.215025  ...                            -2.540903   \n",
       "1                  -1.117797  ...                            -1.971989   \n",
       "2                  -0.907351  ...                            -2.304965   \n",
       "3                  -0.451386  ...                             2.113161   \n",
       "4                  -1.047648  ...                             0.370265   \n",
       "\n",
       "   positioning_percent_neutral_third  positioning_percent_defensive_half  \\\n",
       "0                          -1.018220                            2.796536   \n",
       "1                          -1.597289                            2.192010   \n",
       "2                          -1.158523                            2.380453   \n",
       "3                          -0.214666                           -1.652232   \n",
       "4                           1.190915                           -0.526095   \n",
       "\n",
       "   positioning_percent_offensive_half  positioning_percent_behind_ball  \\\n",
       "0                           -2.796536                         0.839287   \n",
       "1                           -2.192010                        -0.759975   \n",
       "2                           -2.380453                        -0.729034   \n",
       "3                            1.652232                         1.137094   \n",
       "4                            0.526095                         1.579936   \n",
       "\n",
       "   positioning_percent_infront_ball  positioning_percent_most_back  \\\n",
       "0                         -0.839287                      -0.364511   \n",
       "1                          0.759975                      -0.497711   \n",
       "2                          0.729034                       0.502915   \n",
       "3                         -1.137094                      -0.972034   \n",
       "4                         -1.579936                      -0.741370   \n",
       "\n",
       "   positioning_percent_most_forward  positioning_percent_closest_to_ball  \\\n",
       "0                         -0.855038                             1.348097   \n",
       "1                          0.621517                            -0.427544   \n",
       "2                         -0.122149                            -1.340359   \n",
       "3                          1.952572                             1.687142   \n",
       "4                         -0.544279                            -0.718776   \n",
       "\n",
       "   positioning_percent_farthest_from_ball  \n",
       "0                               -1.015858  \n",
       "1                               -0.227942  \n",
       "2                                0.848635  \n",
       "3                               -0.872435  \n",
       "4                                0.116999  \n",
       "\n",
       "[5 rows x 44 columns]"
      ]
     },
     "execution_count": 11,
     "metadata": {},
     "output_type": "execute_result"
    }
   ],
   "source": [
    "X_players_ranked_normalized.head()"
   ]
  },
  {
   "cell_type": "markdown",
   "metadata": {},
   "source": [
    "### Train-test split"
   ]
  },
  {
   "cell_type": "code",
   "execution_count": 12,
   "metadata": {},
   "outputs": [
    {
     "name": "stdout",
     "output_type": "stream",
     "text": [
      "sklearn version: 1.1.3\n"
     ]
    }
   ],
   "source": [
    "from sklearn.model_selection import train_test_split\n",
    "import sklearn\n",
    "print(f\"sklearn version: {sklearn.__version__}\")"
   ]
  },
  {
   "cell_type": "code",
   "execution_count": 13,
   "metadata": {},
   "outputs": [],
   "source": [
    "X_train, X_test, y_train, y_test = train_test_split(X_teams_all_normalized, y_teams_all, random_state=20, test_size=0.4)"
   ]
  },
  {
   "cell_type": "code",
   "execution_count": 14,
   "metadata": {},
   "outputs": [],
   "source": [
    "X_val, X_test, y_val, y_test = train_test_split(X_test, y_test, random_state=20, test_size=0.5)"
   ]
  },
  {
   "cell_type": "markdown",
   "metadata": {},
   "source": [
    "## Model"
   ]
  },
  {
   "cell_type": "code",
   "execution_count": 15,
   "metadata": {},
   "outputs": [],
   "source": [
    "from sklearn.model_selection import cross_val_score\n",
    "from sklearn.ensemble import GradientBoostingClassifier"
   ]
  },
  {
   "cell_type": "code",
   "execution_count": 16,
   "metadata": {},
   "outputs": [],
   "source": [
    "gbr = GradientBoostingClassifier(\n",
    "    n_estimators=500,\n",
    "    min_samples_split=10\n",
    ")"
   ]
  },
  {
   "cell_type": "code",
   "execution_count": 17,
   "metadata": {},
   "outputs": [],
   "source": [
    "# next is 1 min / met parameters meer dan 17 min / now is 6 min / 14 min"
   ]
  },
  {
   "cell_type": "code",
   "execution_count": 18,
   "metadata": {},
   "outputs": [
    {
     "data": {
      "text/html": [
       "<style>#sk-container-id-1 {color: black;background-color: white;}#sk-container-id-1 pre{padding: 0;}#sk-container-id-1 div.sk-toggleable {background-color: white;}#sk-container-id-1 label.sk-toggleable__label {cursor: pointer;display: block;width: 100%;margin-bottom: 0;padding: 0.3em;box-sizing: border-box;text-align: center;}#sk-container-id-1 label.sk-toggleable__label-arrow:before {content: \"▸\";float: left;margin-right: 0.25em;color: #696969;}#sk-container-id-1 label.sk-toggleable__label-arrow:hover:before {color: black;}#sk-container-id-1 div.sk-estimator:hover label.sk-toggleable__label-arrow:before {color: black;}#sk-container-id-1 div.sk-toggleable__content {max-height: 0;max-width: 0;overflow: hidden;text-align: left;background-color: #f0f8ff;}#sk-container-id-1 div.sk-toggleable__content pre {margin: 0.2em;color: black;border-radius: 0.25em;background-color: #f0f8ff;}#sk-container-id-1 input.sk-toggleable__control:checked~div.sk-toggleable__content {max-height: 200px;max-width: 100%;overflow: auto;}#sk-container-id-1 input.sk-toggleable__control:checked~label.sk-toggleable__label-arrow:before {content: \"▾\";}#sk-container-id-1 div.sk-estimator input.sk-toggleable__control:checked~label.sk-toggleable__label {background-color: #d4ebff;}#sk-container-id-1 div.sk-label input.sk-toggleable__control:checked~label.sk-toggleable__label {background-color: #d4ebff;}#sk-container-id-1 input.sk-hidden--visually {border: 0;clip: rect(1px 1px 1px 1px);clip: rect(1px, 1px, 1px, 1px);height: 1px;margin: -1px;overflow: hidden;padding: 0;position: absolute;width: 1px;}#sk-container-id-1 div.sk-estimator {font-family: monospace;background-color: #f0f8ff;border: 1px dotted black;border-radius: 0.25em;box-sizing: border-box;margin-bottom: 0.5em;}#sk-container-id-1 div.sk-estimator:hover {background-color: #d4ebff;}#sk-container-id-1 div.sk-parallel-item::after {content: \"\";width: 100%;border-bottom: 1px solid gray;flex-grow: 1;}#sk-container-id-1 div.sk-label:hover label.sk-toggleable__label {background-color: #d4ebff;}#sk-container-id-1 div.sk-serial::before {content: \"\";position: absolute;border-left: 1px solid gray;box-sizing: border-box;top: 0;bottom: 0;left: 50%;z-index: 0;}#sk-container-id-1 div.sk-serial {display: flex;flex-direction: column;align-items: center;background-color: white;padding-right: 0.2em;padding-left: 0.2em;position: relative;}#sk-container-id-1 div.sk-item {position: relative;z-index: 1;}#sk-container-id-1 div.sk-parallel {display: flex;align-items: stretch;justify-content: center;background-color: white;position: relative;}#sk-container-id-1 div.sk-item::before, #sk-container-id-1 div.sk-parallel-item::before {content: \"\";position: absolute;border-left: 1px solid gray;box-sizing: border-box;top: 0;bottom: 0;left: 50%;z-index: -1;}#sk-container-id-1 div.sk-parallel-item {display: flex;flex-direction: column;z-index: 1;position: relative;background-color: white;}#sk-container-id-1 div.sk-parallel-item:first-child::after {align-self: flex-end;width: 50%;}#sk-container-id-1 div.sk-parallel-item:last-child::after {align-self: flex-start;width: 50%;}#sk-container-id-1 div.sk-parallel-item:only-child::after {width: 0;}#sk-container-id-1 div.sk-dashed-wrapped {border: 1px dashed gray;margin: 0 0.4em 0.5em 0.4em;box-sizing: border-box;padding-bottom: 0.4em;background-color: white;}#sk-container-id-1 div.sk-label label {font-family: monospace;font-weight: bold;display: inline-block;line-height: 1.2em;}#sk-container-id-1 div.sk-label-container {text-align: center;}#sk-container-id-1 div.sk-container {/* jupyter's `normalize.less` sets `[hidden] { display: none; }` but bootstrap.min.css set `[hidden] { display: none !important; }` so we also need the `!important` here to be able to override the default hidden behavior on the sphinx rendered scikit-learn.org. See: https://github.com/scikit-learn/scikit-learn/issues/21755 */display: inline-block !important;position: relative;}#sk-container-id-1 div.sk-text-repr-fallback {display: none;}</style><div id=\"sk-container-id-1\" class=\"sk-top-container\"><div class=\"sk-text-repr-fallback\"><pre>GradientBoostingClassifier(min_samples_split=10, n_estimators=500)</pre><b>In a Jupyter environment, please rerun this cell to show the HTML representation or trust the notebook. <br />On GitHub, the HTML representation is unable to render, please try loading this page with nbviewer.org.</b></div><div class=\"sk-container\" hidden><div class=\"sk-item\"><div class=\"sk-estimator sk-toggleable\"><input class=\"sk-toggleable__control sk-hidden--visually\" id=\"sk-estimator-id-1\" type=\"checkbox\" checked><label for=\"sk-estimator-id-1\" class=\"sk-toggleable__label sk-toggleable__label-arrow\">GradientBoostingClassifier</label><div class=\"sk-toggleable__content\"><pre>GradientBoostingClassifier(min_samples_split=10, n_estimators=500)</pre></div></div></div></div></div>"
      ],
      "text/plain": [
       "GradientBoostingClassifier(min_samples_split=10, n_estimators=500)"
      ]
     },
     "execution_count": 18,
     "metadata": {},
     "output_type": "execute_result"
    }
   ],
   "source": [
    "gbr.fit(X_train, y_train)"
   ]
  },
  {
   "cell_type": "markdown",
   "metadata": {},
   "source": [
    "### metrics"
   ]
  },
  {
   "cell_type": "code",
   "execution_count": 19,
   "metadata": {},
   "outputs": [],
   "source": [
    "# next is 2 min / met parameter meer dan 63 min n_jobs=1 / n_jobs=-1 zou 6 x zo snel moeten gaan dan / now is 10 min"
   ]
  },
  {
   "cell_type": "code",
   "execution_count": 20,
   "metadata": {},
   "outputs": [
    {
     "data": {
      "text/plain": [
       "0.7595307917888564"
      ]
     },
     "execution_count": 20,
     "metadata": {},
     "output_type": "execute_result"
    }
   ],
   "source": [
    "cross_val_score(gbr, X_train, y_train, cv=3, n_jobs=-1).mean()"
   ]
  },
  {
   "cell_type": "code",
   "execution_count": 21,
   "metadata": {},
   "outputs": [],
   "source": [
    "y_pred = gbr.predict(X_test)"
   ]
  },
  {
   "cell_type": "code",
   "execution_count": 22,
   "metadata": {},
   "outputs": [],
   "source": [
    "from sklearn.metrics import accuracy_score"
   ]
  },
  {
   "cell_type": "code",
   "execution_count": 23,
   "metadata": {},
   "outputs": [
    {
     "name": "stdout",
     "output_type": "stream",
     "text": [
      "DNN Accuracy: 0.7662709197539694\n"
     ]
    }
   ],
   "source": [
    "y_pred = gbr.predict(X_test)\n",
    "y_pred_classes = y_pred\n",
    "y_test_classes = y_test\n",
    "print(\"DNN Accuracy:\", accuracy_score(y_test_classes, y_pred_classes))"
   ]
  },
  {
   "cell_type": "code",
   "execution_count": 24,
   "metadata": {},
   "outputs": [
    {
     "data": {
      "text/plain": [
       "0.7662709197539694"
      ]
     },
     "execution_count": 24,
     "metadata": {},
     "output_type": "execute_result"
    }
   ],
   "source": [
    "gbr.score(X_test, y_test)"
   ]
  },
  {
   "cell_type": "code",
   "execution_count": 25,
   "metadata": {},
   "outputs": [],
   "source": [
    "from sklearn.metrics import classification_report"
   ]
  },
  {
   "cell_type": "code",
   "execution_count": 26,
   "metadata": {},
   "outputs": [
    {
     "name": "stdout",
     "output_type": "stream",
     "text": [
      "              precision    recall  f1-score   support\n",
      "\n",
      "       False       0.77      0.76      0.76      6957\n",
      "        True       0.76      0.77      0.77      7025\n",
      "\n",
      "    accuracy                           0.77     13982\n",
      "   macro avg       0.77      0.77      0.77     13982\n",
      "weighted avg       0.77      0.77      0.77     13982\n",
      "\n"
     ]
    }
   ],
   "source": [
    "print(classification_report(y_test, y_pred))"
   ]
  },
  {
   "cell_type": "code",
   "execution_count": 27,
   "metadata": {},
   "outputs": [],
   "source": [
    "from sklearn.metrics import accuracy_score, recall_score, precision_score, f1_score"
   ]
  },
  {
   "cell_type": "code",
   "execution_count": 28,
   "metadata": {},
   "outputs": [
    {
     "name": "stdout",
     "output_type": "stream",
     "text": [
      "accuracy 0.7662709197539694\n",
      "recall 0.7722419928825622\n",
      "precision 0.7648385732412237\n",
      "f1 0.7685224536053263\n"
     ]
    }
   ],
   "source": [
    "accuracy = accuracy_score(y_test, y_pred)\n",
    "recall = recall_score(y_test, y_pred)\n",
    "precision = precision_score(y_test, y_pred)\n",
    "f1 = f1_score(y_test, y_pred)\n",
    "\n",
    "print(\"accuracy\", accuracy)\n",
    "print(\"recall\", recall)\n",
    "print(\"precision\", precision)\n",
    "print(\"f1\", f1)"
   ]
  },
  {
   "cell_type": "markdown",
   "metadata": {},
   "source": [
    "### Confusion matrix"
   ]
  },
  {
   "cell_type": "code",
   "execution_count": 29,
   "metadata": {},
   "outputs": [],
   "source": [
    "from sklearn.metrics import confusion_matrix"
   ]
  },
  {
   "cell_type": "code",
   "execution_count": 30,
   "metadata": {},
   "outputs": [
    {
     "name": "stdout",
     "output_type": "stream",
     "text": [
      "[[5289 1668]\n",
      " [1600 5425]]\n"
     ]
    }
   ],
   "source": [
    "print(confusion_matrix(y_test, y_pred))"
   ]
  },
  {
   "cell_type": "code",
   "execution_count": 31,
   "metadata": {},
   "outputs": [
    {
     "name": "stdout",
     "output_type": "stream",
     "text": [
      "[[5289 1668]\n",
      " [1600 5425]]\n",
      "0.7662709197539694\n"
     ]
    },
    {
     "data": {
      "image/png": "[encoded data removed]",
      "text/plain": [
       "<Figure size 640x480 with 2 Axes>"
      ]
     },
     "metadata": {},
     "output_type": "display_data"
    }
   ],
   "source": [
    "cm = confusion_matrix(y_test, y_pred)\n",
    "accuracy = accuracy_score(y_test, y_pred)\n",
    "print(cm)\n",
    "print(accuracy)\n",
    "labels = list(y_train.keys())\n",
    "\n",
    "s = sns.heatmap(cm, cmap='YlGnBu', annot=True, fmt=\".0f\")\n",
    "s.set_xlabel(\"predicted\")\n",
    "s.set_ylabel(\"true\")\n",
    "plt.show()\n"
   ]
  },
  {
   "cell_type": "markdown",
   "metadata": {},
   "source": [
    "## ROC curve"
   ]
  },
  {
   "cell_type": "code",
   "execution_count": 56,
   "metadata": {},
   "outputs": [
    {
     "name": "stdout",
     "output_type": "stream",
     "text": [
      "[0.77175953 0.10773547 0.63841424 0.1822796  0.67589313 0.11725837\n",
      " 0.10527762 0.03623997 0.01775638 0.04284788 0.71865387 0.57915628\n",
      " 0.64212824 0.51699725 0.24423054 0.77817521 0.97726284 0.51645834\n",
      " 0.29257158 0.87715371 0.03335954 0.75608528 0.10277045 0.21346279\n",
      " 0.58832331 0.09971394 0.04042386 0.63128905 0.18311988 0.68633731\n",
      " 0.71343826 0.52224511 0.21919493 0.07312978 0.11253239 0.06767918\n",
      " 0.78696972 0.63778932 0.29090167 0.1102902  0.28499264 0.07920879\n",
      " 0.82240044 0.88284383 0.92186632 0.40851309 0.63799672 0.39052744\n",
      " 0.81448248 0.61306772 0.93623015 0.39164602 0.31296379 0.98358214\n",
      " 0.60174881 0.05588182 0.07995105 0.90591577 0.37859102 0.33430921\n",
      " 0.31340118 0.77153107 0.87138169 0.12241262 0.04721546 0.26889064\n",
      " 0.73380183 0.7361468  0.11940679 0.07290069 0.0928931  0.1685745\n",
      " 0.72676089 0.93670563 0.43484392 0.53319205 0.60036644 0.17064457\n",
      " 0.46802721 0.50307019 0.04389964 0.85636592 0.85025328 0.70448508\n",
      " 0.16364571 0.9537067  0.48851739 0.01778702 0.05090645 0.97398093\n",
      " 0.85720885 0.30958037 0.41600037 0.34338392 0.73785908 0.03454864\n",
      " 0.05766596 0.97233689 0.26249003 0.11601075]\n",
      "ROC AUC Score: 0.853\n"
     ]
    },
    {
     "data": {
      "image/png": "[encoded data removed]",
      "text/plain": [
       "<Figure size 640x480 with 1 Axes>"
      ]
     },
     "metadata": {},
     "output_type": "display_data"
    }
   ],
   "source": [
    "from sklearn.metrics import roc_auc_score, roc_curve\n",
    "\n",
    "y_pred_proba = gbr.predict_proba(X_test)[:, 1]\n",
    "print(y_pred_proba[:100]) \n",
    "\n",
    "roc_auc = roc_auc_score(y_test, y_pred_proba)\n",
    "print(f\"ROC AUC Score: {roc_auc:.3f}\")\n",
    "\n",
    "fpr, tpr, thresholds = roc_curve(y_test, y_pred_proba)\n",
    "\n",
    "plt.plot(fpr, tpr, label=f\"AUC = {roc_auc:.3f}\")\n",
    "plt.plot([0, 1], [0, 1], 'k--')\n",
    "plt.xlabel('False Positive Rate')\n",
    "plt.ylabel('True Positive Rate')\n",
    "plt.title('ROC Curve')\n",
    "plt.legend()\n",
    "plt.show()"
   ]
  },
  {
   "cell_type": "markdown",
   "metadata": {},
   "source": [
    "### features"
   ]
  },
  {
   "cell_type": "code",
   "execution_count": 33,
   "metadata": {},
   "outputs": [],
   "source": [
    "features = pd.DataFrame(gbr.feature_importances_, index = X_train.columns)"
   ]
  },
  {
   "cell_type": "code",
   "execution_count": 34,
   "metadata": {},
   "outputs": [
    {
     "data": {
      "text/html": [
       "<div>\n",
       "<style scoped>\n",
       "    .dataframe tbody tr th:only-of-type {\n",
       "        vertical-align: middle;\n",
       "    }\n",
       "\n",
       "    .dataframe tbody tr th {\n",
       "        vertical-align: top;\n",
       "    }\n",
       "\n",
       "    .dataframe thead th {\n",
       "        text-align: right;\n",
       "    }\n",
       "</style>\n",
       "<table border=\"1\" class=\"dataframe\">\n",
       "  <thead>\n",
       "    <tr style=\"text-align: right;\">\n",
       "      <th></th>\n",
       "      <th>0</th>\n",
       "    </tr>\n",
       "  </thead>\n",
       "  <tbody>\n",
       "    <tr>\n",
       "      <th>avg_positioning_percent_infront_ball</th>\n",
       "      <td>0.389936</td>\n",
       "    </tr>\n",
       "    <tr>\n",
       "      <th>avg_positioning_percent_behind_ball</th>\n",
       "      <td>0.272061</td>\n",
       "    </tr>\n",
       "    <tr>\n",
       "      <th>avg_positioning_time_front_of_ball</th>\n",
       "      <td>0.021208</td>\n",
       "    </tr>\n",
       "    <tr>\n",
       "      <th>avg_positioning_avg_distance_to_ball_possession</th>\n",
       "      <td>0.013500</td>\n",
       "    </tr>\n",
       "    <tr>\n",
       "      <th>min_positioning_percent_infront_ball</th>\n",
       "      <td>0.010717</td>\n",
       "    </tr>\n",
       "    <tr>\n",
       "      <th>...</th>\n",
       "      <td>...</td>\n",
       "    </tr>\n",
       "    <tr>\n",
       "      <th>movement_avg_speed_percentage_1</th>\n",
       "      <td>0.000254</td>\n",
       "    </tr>\n",
       "    <tr>\n",
       "      <th>min_positioning_percent_closest_to_ball</th>\n",
       "      <td>0.000250</td>\n",
       "    </tr>\n",
       "    <tr>\n",
       "      <th>positioning_percent_infront_ball_2</th>\n",
       "      <td>0.000229</td>\n",
       "    </tr>\n",
       "    <tr>\n",
       "      <th>min_positioning_percent_behind_ball</th>\n",
       "      <td>0.000088</td>\n",
       "    </tr>\n",
       "    <tr>\n",
       "      <th>positioning_percent_infront_ball_3</th>\n",
       "      <td>0.000075</td>\n",
       "    </tr>\n",
       "  </tbody>\n",
       "</table>\n",
       "<p>200 rows × 1 columns</p>\n",
       "</div>"
      ],
      "text/plain": [
       "                                                        0\n",
       "avg_positioning_percent_infront_ball             0.389936\n",
       "avg_positioning_percent_behind_ball              0.272061\n",
       "avg_positioning_time_front_of_ball               0.021208\n",
       "avg_positioning_avg_distance_to_ball_possession  0.013500\n",
       "min_positioning_percent_infront_ball             0.010717\n",
       "...                                                   ...\n",
       "movement_avg_speed_percentage_1                  0.000254\n",
       "min_positioning_percent_closest_to_ball          0.000250\n",
       "positioning_percent_infront_ball_2               0.000229\n",
       "min_positioning_percent_behind_ball              0.000088\n",
       "positioning_percent_infront_ball_3               0.000075\n",
       "\n",
       "[200 rows x 1 columns]"
      ]
     },
     "execution_count": 34,
     "metadata": {},
     "output_type": "execute_result"
    }
   ],
   "source": [
    "features.sort_values(0, ascending=False)"
   ]
  },
  {
   "cell_type": "markdown",
   "metadata": {},
   "source": [
    "# Model 2 -------------------------------------------------"
   ]
  },
  {
   "cell_type": "code",
   "execution_count": 35,
   "metadata": {},
   "outputs": [],
   "source": [
    "from sklearn.model_selection import cross_val_score\n",
    "from sklearn.ensemble import GradientBoostingClassifier"
   ]
  },
  {
   "cell_type": "code",
   "execution_count": 36,
   "metadata": {},
   "outputs": [],
   "source": [
    "gbr2 = GradientBoostingClassifier(\n",
    "    n_estimators=500,\n",
    "    min_samples_split=10,\n",
    "    learning_rate= 0.1,\n",
    "    max_depth=7\n",
    ")"
   ]
  },
  {
   "cell_type": "code",
   "execution_count": 37,
   "metadata": {},
   "outputs": [],
   "source": [
    "# next is 1 min / now depth=7 is 16 min / depth=9 24 min / 30 min"
   ]
  },
  {
   "cell_type": "code",
   "execution_count": 38,
   "metadata": {},
   "outputs": [
    {
     "data": {
      "text/html": [
       "<style>#sk-container-id-2 {color: black;background-color: white;}#sk-container-id-2 pre{padding: 0;}#sk-container-id-2 div.sk-toggleable {background-color: white;}#sk-container-id-2 label.sk-toggleable__label {cursor: pointer;display: block;width: 100%;margin-bottom: 0;padding: 0.3em;box-sizing: border-box;text-align: center;}#sk-container-id-2 label.sk-toggleable__label-arrow:before {content: \"▸\";float: left;margin-right: 0.25em;color: #696969;}#sk-container-id-2 label.sk-toggleable__label-arrow:hover:before {color: black;}#sk-container-id-2 div.sk-estimator:hover label.sk-toggleable__label-arrow:before {color: black;}#sk-container-id-2 div.sk-toggleable__content {max-height: 0;max-width: 0;overflow: hidden;text-align: left;background-color: #f0f8ff;}#sk-container-id-2 div.sk-toggleable__content pre {margin: 0.2em;color: black;border-radius: 0.25em;background-color: #f0f8ff;}#sk-container-id-2 input.sk-toggleable__control:checked~div.sk-toggleable__content {max-height: 200px;max-width: 100%;overflow: auto;}#sk-container-id-2 input.sk-toggleable__control:checked~label.sk-toggleable__label-arrow:before {content: \"▾\";}#sk-container-id-2 div.sk-estimator input.sk-toggleable__control:checked~label.sk-toggleable__label {background-color: #d4ebff;}#sk-container-id-2 div.sk-label input.sk-toggleable__control:checked~label.sk-toggleable__label {background-color: #d4ebff;}#sk-container-id-2 input.sk-hidden--visually {border: 0;clip: rect(1px 1px 1px 1px);clip: rect(1px, 1px, 1px, 1px);height: 1px;margin: -1px;overflow: hidden;padding: 0;position: absolute;width: 1px;}#sk-container-id-2 div.sk-estimator {font-family: monospace;background-color: #f0f8ff;border: 1px dotted black;border-radius: 0.25em;box-sizing: border-box;margin-bottom: 0.5em;}#sk-container-id-2 div.sk-estimator:hover {background-color: #d4ebff;}#sk-container-id-2 div.sk-parallel-item::after {content: \"\";width: 100%;border-bottom: 1px solid gray;flex-grow: 1;}#sk-container-id-2 div.sk-label:hover label.sk-toggleable__label {background-color: #d4ebff;}#sk-container-id-2 div.sk-serial::before {content: \"\";position: absolute;border-left: 1px solid gray;box-sizing: border-box;top: 0;bottom: 0;left: 50%;z-index: 0;}#sk-container-id-2 div.sk-serial {display: flex;flex-direction: column;align-items: center;background-color: white;padding-right: 0.2em;padding-left: 0.2em;position: relative;}#sk-container-id-2 div.sk-item {position: relative;z-index: 1;}#sk-container-id-2 div.sk-parallel {display: flex;align-items: stretch;justify-content: center;background-color: white;position: relative;}#sk-container-id-2 div.sk-item::before, #sk-container-id-2 div.sk-parallel-item::before {content: \"\";position: absolute;border-left: 1px solid gray;box-sizing: border-box;top: 0;bottom: 0;left: 50%;z-index: -1;}#sk-container-id-2 div.sk-parallel-item {display: flex;flex-direction: column;z-index: 1;position: relative;background-color: white;}#sk-container-id-2 div.sk-parallel-item:first-child::after {align-self: flex-end;width: 50%;}#sk-container-id-2 div.sk-parallel-item:last-child::after {align-self: flex-start;width: 50%;}#sk-container-id-2 div.sk-parallel-item:only-child::after {width: 0;}#sk-container-id-2 div.sk-dashed-wrapped {border: 1px dashed gray;margin: 0 0.4em 0.5em 0.4em;box-sizing: border-box;padding-bottom: 0.4em;background-color: white;}#sk-container-id-2 div.sk-label label {font-family: monospace;font-weight: bold;display: inline-block;line-height: 1.2em;}#sk-container-id-2 div.sk-label-container {text-align: center;}#sk-container-id-2 div.sk-container {/* jupyter's `normalize.less` sets `[hidden] { display: none; }` but bootstrap.min.css set `[hidden] { display: none !important; }` so we also need the `!important` here to be able to override the default hidden behavior on the sphinx rendered scikit-learn.org. See: https://github.com/scikit-learn/scikit-learn/issues/21755 */display: inline-block !important;position: relative;}#sk-container-id-2 div.sk-text-repr-fallback {display: none;}</style><div id=\"sk-container-id-2\" class=\"sk-top-container\"><div class=\"sk-text-repr-fallback\"><pre>GradientBoostingClassifier(max_depth=7, min_samples_split=10, n_estimators=500)</pre><b>In a Jupyter environment, please rerun this cell to show the HTML representation or trust the notebook. <br />On GitHub, the HTML representation is unable to render, please try loading this page with nbviewer.org.</b></div><div class=\"sk-container\" hidden><div class=\"sk-item\"><div class=\"sk-estimator sk-toggleable\"><input class=\"sk-toggleable__control sk-hidden--visually\" id=\"sk-estimator-id-2\" type=\"checkbox\" checked><label for=\"sk-estimator-id-2\" class=\"sk-toggleable__label sk-toggleable__label-arrow\">GradientBoostingClassifier</label><div class=\"sk-toggleable__content\"><pre>GradientBoostingClassifier(max_depth=7, min_samples_split=10, n_estimators=500)</pre></div></div></div></div></div>"
      ],
      "text/plain": [
       "GradientBoostingClassifier(max_depth=7, min_samples_split=10, n_estimators=500)"
      ]
     },
     "execution_count": 38,
     "metadata": {},
     "output_type": "execute_result"
    }
   ],
   "source": [
    "gbr2.fit(X_train, y_train)"
   ]
  },
  {
   "cell_type": "markdown",
   "metadata": {},
   "source": [
    "### metrics"
   ]
  },
  {
   "cell_type": "code",
   "execution_count": 39,
   "metadata": {},
   "outputs": [],
   "source": [
    "# next is 2 min / 11 min / 24 min"
   ]
  },
  {
   "cell_type": "code",
   "execution_count": 40,
   "metadata": {},
   "outputs": [
    {
     "data": {
      "text/plain": [
       "0.7588393772500774"
      ]
     },
     "execution_count": 40,
     "metadata": {},
     "output_type": "execute_result"
    }
   ],
   "source": [
    "cross_val_score(gbr2, X_train, y_train, cv=3, n_jobs=-1).mean()"
   ]
  },
  {
   "cell_type": "code",
   "execution_count": 41,
   "metadata": {},
   "outputs": [],
   "source": [
    "y_pred2 = gbr2.predict(X_test)"
   ]
  },
  {
   "cell_type": "code",
   "execution_count": 42,
   "metadata": {},
   "outputs": [],
   "source": [
    "from sklearn.metrics import accuracy_score"
   ]
  },
  {
   "cell_type": "code",
   "execution_count": 43,
   "metadata": {},
   "outputs": [
    {
     "name": "stdout",
     "output_type": "stream",
     "text": [
      "DNN Accuracy: 0.7671291660706623\n"
     ]
    }
   ],
   "source": [
    "y_pred2 = gbr2.predict(X_test)\n",
    "y_pred_classes = y_pred2\n",
    "y_test_classes = y_test\n",
    "print(\"DNN Accuracy:\", accuracy_score(y_test_classes, y_pred_classes))"
   ]
  },
  {
   "cell_type": "code",
   "execution_count": 44,
   "metadata": {},
   "outputs": [
    {
     "data": {
      "text/plain": [
       "0.7671291660706623"
      ]
     },
     "execution_count": 44,
     "metadata": {},
     "output_type": "execute_result"
    }
   ],
   "source": [
    "gbr2.score(X_test, y_test)"
   ]
  },
  {
   "cell_type": "code",
   "execution_count": 45,
   "metadata": {},
   "outputs": [],
   "source": [
    "from sklearn.metrics import classification_report"
   ]
  },
  {
   "cell_type": "code",
   "execution_count": 46,
   "metadata": {},
   "outputs": [
    {
     "name": "stdout",
     "output_type": "stream",
     "text": [
      "              precision    recall  f1-score   support\n",
      "\n",
      "       False       0.77      0.76      0.77      6957\n",
      "        True       0.77      0.77      0.77      7025\n",
      "\n",
      "    accuracy                           0.77     13982\n",
      "   macro avg       0.77      0.77      0.77     13982\n",
      "weighted avg       0.77      0.77      0.77     13982\n",
      "\n"
     ]
    }
   ],
   "source": [
    "print(classification_report(y_test, y_pred2))"
   ]
  },
  {
   "cell_type": "code",
   "execution_count": 47,
   "metadata": {},
   "outputs": [],
   "source": [
    "from sklearn.metrics import accuracy_score, recall_score, precision_score, f1_score"
   ]
  },
  {
   "cell_type": "code",
   "execution_count": 48,
   "metadata": {},
   "outputs": [
    {
     "name": "stdout",
     "output_type": "stream",
     "text": [
      "accuracy 0.7671291660706623\n",
      "recall 0.7698220640569395\n",
      "precision 0.7674187597559246\n",
      "f1 0.7686185332575327\n"
     ]
    }
   ],
   "source": [
    "accuracy = accuracy_score(y_test, y_pred2)\n",
    "recall = recall_score(y_test, y_pred2)\n",
    "precision = precision_score(y_test, y_pred2)\n",
    "f1 = f1_score(y_test, y_pred2)\n",
    "\n",
    "print(\"accuracy\", accuracy)\n",
    "print(\"recall\", recall)\n",
    "print(\"precision\", precision)\n",
    "print(\"f1\", f1)"
   ]
  },
  {
   "cell_type": "markdown",
   "metadata": {},
   "source": [
    "### Confusion matrix"
   ]
  },
  {
   "cell_type": "code",
   "execution_count": 49,
   "metadata": {},
   "outputs": [],
   "source": [
    "from sklearn.metrics import confusion_matrix"
   ]
  },
  {
   "cell_type": "code",
   "execution_count": 50,
   "metadata": {},
   "outputs": [
    {
     "name": "stdout",
     "output_type": "stream",
     "text": [
      "[[5318 1639]\n",
      " [1617 5408]]\n"
     ]
    }
   ],
   "source": [
    "print(confusion_matrix(y_test, y_pred2))"
   ]
  },
  {
   "cell_type": "code",
   "execution_count": 51,
   "metadata": {},
   "outputs": [
    {
     "name": "stdout",
     "output_type": "stream",
     "text": [
      "[[5318 1639]\n",
      " [1617 5408]]\n",
      "0.7671291660706623\n"
     ]
    },
    {
     "data": {
      "image/png": "[encoded data removed]",
      "text/plain": [
       "<Figure size 640x480 with 2 Axes>"
      ]
     },
     "metadata": {},
     "output_type": "display_data"
    }
   ],
   "source": [
    "cm = confusion_matrix(y_test, y_pred2)\n",
    "accuracy = accuracy_score(y_test, y_pred2)\n",
    "print(cm)\n",
    "print(accuracy)\n",
    "labels = list(y_train.keys())\n",
    "\n",
    "s = sns.heatmap(cm, cmap='YlGnBu', annot=True, fmt=\".0f\")\n",
    "s.set_xlabel(\"predicted\")\n",
    "s.set_ylabel(\"true\")\n",
    "plt.show()\n"
   ]
  },
  {
   "cell_type": "markdown",
   "metadata": {},
   "source": [
    "## ROC curve"
   ]
  },
  {
   "cell_type": "code",
   "execution_count": 55,
   "metadata": {},
   "outputs": [
    {
     "name": "stdout",
     "output_type": "stream",
     "text": [
      "[0.68944136 0.0326134  0.41365152 0.07809923 0.81412513 0.03381797\n",
      " 0.05567842 0.01789889 0.00422165 0.01293763 0.90855507 0.48912621\n",
      " 0.59255507 0.73820209 0.05407543 0.85517075 0.98637291 0.61494221\n",
      " 0.06895044 0.97468152 0.02042291 0.76719569 0.06819521 0.11069727\n",
      " 0.59502514 0.18389567 0.03349016 0.89028492 0.09316008 0.27934144\n",
      " 0.71426981 0.56850795 0.26770927 0.08464104 0.06457825 0.0367045\n",
      " 0.91222701 0.47338175 0.41099901 0.03430856 0.19211933 0.03251076\n",
      " 0.83086838 0.94244984 0.98035578 0.18554915 0.71686173 0.21642524\n",
      " 0.9381246  0.83177162 0.98074005 0.2866034  0.46973701 0.9956071\n",
      " 0.46025887 0.03240727 0.05407502 0.95123394 0.26375563 0.47796724\n",
      " 0.26158795 0.75812373 0.92802214 0.07424226 0.02144565 0.12782171\n",
      " 0.95287226 0.91424753 0.09916227 0.04422547 0.04238412 0.08261465\n",
      " 0.62397465 0.98078042 0.32424386 0.52389584 0.79167621 0.17278188\n",
      " 0.60268163 0.6492545  0.00771842 0.95161039 0.94813299 0.74054737\n",
      " 0.11168602 0.96317    0.84074679 0.00415341 0.02626724 0.99013169\n",
      " 0.92180301 0.47139177 0.18253106 0.21356317 0.87423922 0.02592099\n",
      " 0.01346622 0.98914288 0.13771525 0.05522502]\n",
      "ROC AUC Score: 0.854\n"
     ]
    },
    {
     "data": {
      "image/png": "[encoded data removed]",
      "text/plain": [
       "<Figure size 640x480 with 1 Axes>"
      ]
     },
     "metadata": {},
     "output_type": "display_data"
    }
   ],
   "source": [
    "from sklearn.metrics import roc_auc_score, roc_curve\n",
    "\n",
    "y_pred_proba = gbr2.predict_proba(X_test)[:, 1]\n",
    "print(y_pred_proba[:100]) \n",
    "\n",
    "roc_auc = roc_auc_score(y_test, y_pred_proba)\n",
    "print(f\"ROC AUC Score: {roc_auc:.3f}\")\n",
    "\n",
    "fpr, tpr, thresholds = roc_curve(y_test, y_pred_proba)\n",
    "\n",
    "plt.plot(fpr, tpr, label=f\"AUC = {roc_auc:.3f}\")\n",
    "plt.plot([0, 1], [0, 1], 'k--')\n",
    "plt.xlabel('False Positive Rate')\n",
    "plt.ylabel('True Positive Rate')\n",
    "plt.title('ROC Curve')\n",
    "plt.legend()\n",
    "plt.show()"
   ]
  },
  {
   "cell_type": "markdown",
   "metadata": {},
   "source": [
    "### features"
   ]
  },
  {
   "cell_type": "code",
   "execution_count": 53,
   "metadata": {},
   "outputs": [],
   "source": [
    "features = pd.DataFrame(gbr2.feature_importances_, index = X_train.columns)"
   ]
  },
  {
   "cell_type": "code",
   "execution_count": 54,
   "metadata": {},
   "outputs": [
    {
     "data": {
      "text/html": [
       "<div>\n",
       "<style scoped>\n",
       "    .dataframe tbody tr th:only-of-type {\n",
       "        vertical-align: middle;\n",
       "    }\n",
       "\n",
       "    .dataframe tbody tr th {\n",
       "        vertical-align: top;\n",
       "    }\n",
       "\n",
       "    .dataframe thead th {\n",
       "        text-align: right;\n",
       "    }\n",
       "</style>\n",
       "<table border=\"1\" class=\"dataframe\">\n",
       "  <thead>\n",
       "    <tr style=\"text-align: right;\">\n",
       "      <th></th>\n",
       "      <th>0</th>\n",
       "    </tr>\n",
       "  </thead>\n",
       "  <tbody>\n",
       "    <tr>\n",
       "      <th>avg_positioning_percent_behind_ball</th>\n",
       "      <td>0.211567</td>\n",
       "    </tr>\n",
       "    <tr>\n",
       "      <th>avg_positioning_percent_infront_ball</th>\n",
       "      <td>0.161662</td>\n",
       "    </tr>\n",
       "    <tr>\n",
       "      <th>avg_positioning_avg_distance_to_ball_possession</th>\n",
       "      <td>0.010328</td>\n",
       "    </tr>\n",
       "    <tr>\n",
       "      <th>avg_positioning_time_front_of_ball</th>\n",
       "      <td>0.010115</td>\n",
       "    </tr>\n",
       "    <tr>\n",
       "      <th>avg_positioning_avg_distance_to_ball_no_possession</th>\n",
       "      <td>0.007842</td>\n",
       "    </tr>\n",
       "    <tr>\n",
       "      <th>...</th>\n",
       "      <td>...</td>\n",
       "    </tr>\n",
       "    <tr>\n",
       "      <th>movement_avg_speed_percentage_3</th>\n",
       "      <td>0.001179</td>\n",
       "    </tr>\n",
       "    <tr>\n",
       "      <th>movement_avg_speed_3</th>\n",
       "      <td>0.001112</td>\n",
       "    </tr>\n",
       "    <tr>\n",
       "      <th>movement_avg_speed_1</th>\n",
       "      <td>0.001104</td>\n",
       "    </tr>\n",
       "    <tr>\n",
       "      <th>movement_avg_speed_2</th>\n",
       "      <td>0.000975</td>\n",
       "    </tr>\n",
       "    <tr>\n",
       "      <th>movement_avg_speed_percentage_2</th>\n",
       "      <td>0.000957</td>\n",
       "    </tr>\n",
       "  </tbody>\n",
       "</table>\n",
       "<p>200 rows × 1 columns</p>\n",
       "</div>"
      ],
      "text/plain": [
       "                                                           0\n",
       "avg_positioning_percent_behind_ball                 0.211567\n",
       "avg_positioning_percent_infront_ball                0.161662\n",
       "avg_positioning_avg_distance_to_ball_possession     0.010328\n",
       "avg_positioning_time_front_of_ball                  0.010115\n",
       "avg_positioning_avg_distance_to_ball_no_possession  0.007842\n",
       "...                                                      ...\n",
       "movement_avg_speed_percentage_3                     0.001179\n",
       "movement_avg_speed_3                                0.001112\n",
       "movement_avg_speed_1                                0.001104\n",
       "movement_avg_speed_2                                0.000975\n",
       "movement_avg_speed_percentage_2                     0.000957\n",
       "\n",
       "[200 rows x 1 columns]"
      ]
     },
     "execution_count": 54,
     "metadata": {},
     "output_type": "execute_result"
    }
   ],
   "source": [
    "features.sort_values(0, ascending=False)"
   ]
  }
 ],
 "metadata": {
  "kernelspec": {
   "display_name": "marleen-rocket-league-env",
   "language": "python",
   "name": "python3"
  },
  "language_info": {
   "codemirror_mode": {
    "name": "ipython",
    "version": 3
   },
   "file_extension": ".py",
   "mimetype": "text/x-python",
   "name": "python",
   "nbconvert_exporter": "python",
   "pygments_lexer": "ipython3",
   "version": "3.9.21"
  }
 },
 "nbformat": 4,
 "nbformat_minor": 2
}
