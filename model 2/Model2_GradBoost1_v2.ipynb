{
 "cells": [
  {
   "cell_type": "markdown",
   "metadata": {},
   "source": [
    "# GradBoost Model"
   ]
  },
  {
   "cell_type": "markdown",
   "metadata": {},
   "source": [
    "### Imports"
   ]
  },
  {
   "cell_type": "code",
   "execution_count": 1,
   "metadata": {},
   "outputs": [
    {
     "name": "stdout",
     "output_type": "stream",
     "text": [
      "pandas version: 2.2.3\n",
      "matplotlib version: 3.9.2\n",
      "seaborn version: 0.13.2\n",
      "numpy version: 1.26.4\n",
      "sklearn version: 1.1.3\n",
      "Python version: 3.9.21 (main, Dec 11 2024, 10:23:52) \n",
      "[Clang 14.0.6 ]\n"
     ]
    }
   ],
   "source": [
    "import pandas as pd\n",
    "import matplotlib.pyplot as plt\n",
    "import matplotlib\n",
    "import seaborn as sns\n",
    "import numpy as np\n",
    "\n",
    "print(f\"pandas version: {pd.__version__}\")\n",
    "print(f\"matplotlib version: {matplotlib.__version__}\")\n",
    "print(f\"seaborn version: {sns.__version__}\")\n",
    "print(f\"numpy version: {np.__version__}\")\n",
    "\n",
    "import sklearn\n",
    "print(f\"sklearn version: {sklearn.__version__}\")\n",
    "\n",
    "import sys\n",
    "print(f\"Python version: {sys.version}\")"
   ]
  },
  {
   "cell_type": "markdown",
   "metadata": {},
   "source": [
    "### Import data"
   ]
  },
  {
   "cell_type": "code",
   "execution_count": 2,
   "metadata": {},
   "outputs": [],
   "source": [
    "players_all = pd.read_csv('../games_by_players_all.csv', encoding='utf8')\n",
    "players_ranked = pd.read_csv('../games_by_players_ranked.csv', encoding='utf8')\n",
    "players_pro = pd.read_csv('../games_by_players_pro.csv', encoding='utf8')\n",
    "\n",
    "teams_all = pd.read_csv('../games_by_team_all_added_features.csv', encoding='utf8')\n",
    "teams_ranked = pd.read_csv('../games_by_team_ranked_added_features.csv', encoding='utf8')\n",
    "teams_pro = pd.read_csv('../games_by_team_pro_added_features.csv', encoding='utf8')\n",
    "\n",
    "small_file = pd.read_csv('../small_csv_file.csv', encoding='utf8')"
   ]
  },
  {
   "cell_type": "code",
   "execution_count": 3,
   "metadata": {},
   "outputs": [],
   "source": [
    "players_all = players_all.drop(columns = ['game_id', 'player_tag', 'pro'])\n",
    "players_ranked = players_ranked.drop(columns = ['game_id', 'player_tag', 'pro'])\n",
    "players_pro = players_pro.drop(columns = ['game_id', 'player_tag', 'pro'])\n",
    "\n",
    "small_file = small_file.drop(columns = ['game_id', 'player_tag', 'pro'])\n",
    "\n",
    "# Team\n",
    "teams_all = teams_all.drop(columns = ['pro'])\n",
    "teams_ranked = teams_ranked.drop(columns = ['pro'])\n",
    "teams_pro = teams_pro.drop(columns = ['pro'])"
   ]
  },
  {
   "cell_type": "code",
   "execution_count": 4,
   "metadata": {},
   "outputs": [
    {
     "data": {
      "text/html": [
       "<div>\n",
       "<style scoped>\n",
       "    .dataframe tbody tr th:only-of-type {\n",
       "        vertical-align: middle;\n",
       "    }\n",
       "\n",
       "    .dataframe tbody tr th {\n",
       "        vertical-align: top;\n",
       "    }\n",
       "\n",
       "    .dataframe thead th {\n",
       "        text-align: right;\n",
       "    }\n",
       "</style>\n",
       "<table border=\"1\" class=\"dataframe\">\n",
       "  <thead>\n",
       "    <tr style=\"text-align: right;\">\n",
       "      <th></th>\n",
       "      <th>movement_avg_speed</th>\n",
       "      <th>movement_total_distance</th>\n",
       "      <th>movement_time_supersonic_speed</th>\n",
       "      <th>movement_time_boost_speed</th>\n",
       "      <th>movement_time_slow_speed</th>\n",
       "      <th>movement_time_ground</th>\n",
       "      <th>movement_time_low_air</th>\n",
       "      <th>movement_time_high_air</th>\n",
       "      <th>movement_time_powerslide</th>\n",
       "      <th>movement_count_powerslide</th>\n",
       "      <th>...</th>\n",
       "      <th>positioning_percent_neutral_third</th>\n",
       "      <th>positioning_percent_defensive_half</th>\n",
       "      <th>positioning_percent_offensive_half</th>\n",
       "      <th>positioning_percent_behind_ball</th>\n",
       "      <th>positioning_percent_infront_ball</th>\n",
       "      <th>positioning_percent_most_back</th>\n",
       "      <th>positioning_percent_most_forward</th>\n",
       "      <th>positioning_percent_closest_to_ball</th>\n",
       "      <th>positioning_percent_farthest_from_ball</th>\n",
       "      <th>winner</th>\n",
       "    </tr>\n",
       "  </thead>\n",
       "  <tbody>\n",
       "    <tr>\n",
       "      <th>0</th>\n",
       "      <td>1468.0</td>\n",
       "      <td>505882.0</td>\n",
       "      <td>40.34</td>\n",
       "      <td>142.29</td>\n",
       "      <td>196.16</td>\n",
       "      <td>219.80</td>\n",
       "      <td>143.43</td>\n",
       "      <td>15.56</td>\n",
       "      <td>8.01</td>\n",
       "      <td>68.0</td>\n",
       "      <td>...</td>\n",
       "      <td>26.72</td>\n",
       "      <td>83.53</td>\n",
       "      <td>16.47</td>\n",
       "      <td>75.83</td>\n",
       "      <td>24.17</td>\n",
       "      <td>31.88</td>\n",
       "      <td>28.71</td>\n",
       "      <td>39.66</td>\n",
       "      <td>28.51</td>\n",
       "      <td>False</td>\n",
       "    </tr>\n",
       "    <tr>\n",
       "      <th>1</th>\n",
       "      <td>1410.0</td>\n",
       "      <td>474841.0</td>\n",
       "      <td>41.74</td>\n",
       "      <td>122.11</td>\n",
       "      <td>208.83</td>\n",
       "      <td>248.88</td>\n",
       "      <td>115.01</td>\n",
       "      <td>8.80</td>\n",
       "      <td>5.41</td>\n",
       "      <td>30.0</td>\n",
       "      <td>...</td>\n",
       "      <td>24.45</td>\n",
       "      <td>79.52</td>\n",
       "      <td>20.48</td>\n",
       "      <td>67.56</td>\n",
       "      <td>32.44</td>\n",
       "      <td>31.06</td>\n",
       "      <td>36.93</td>\n",
       "      <td>31.49</td>\n",
       "      <td>32.85</td>\n",
       "      <td>False</td>\n",
       "    </tr>\n",
       "    <tr>\n",
       "      <th>2</th>\n",
       "      <td>1355.0</td>\n",
       "      <td>465999.0</td>\n",
       "      <td>35.87</td>\n",
       "      <td>119.38</td>\n",
       "      <td>223.64</td>\n",
       "      <td>212.03</td>\n",
       "      <td>145.07</td>\n",
       "      <td>21.79</td>\n",
       "      <td>7.24</td>\n",
       "      <td>36.0</td>\n",
       "      <td>...</td>\n",
       "      <td>26.17</td>\n",
       "      <td>80.77</td>\n",
       "      <td>19.23</td>\n",
       "      <td>67.72</td>\n",
       "      <td>32.28</td>\n",
       "      <td>37.22</td>\n",
       "      <td>32.79</td>\n",
       "      <td>27.29</td>\n",
       "      <td>38.78</td>\n",
       "      <td>False</td>\n",
       "    </tr>\n",
       "    <tr>\n",
       "      <th>3</th>\n",
       "      <td>1455.0</td>\n",
       "      <td>500485.0</td>\n",
       "      <td>41.75</td>\n",
       "      <td>130.76</td>\n",
       "      <td>206.38</td>\n",
       "      <td>231.33</td>\n",
       "      <td>123.58</td>\n",
       "      <td>23.97</td>\n",
       "      <td>5.61</td>\n",
       "      <td>49.0</td>\n",
       "      <td>...</td>\n",
       "      <td>29.87</td>\n",
       "      <td>54.02</td>\n",
       "      <td>45.98</td>\n",
       "      <td>77.37</td>\n",
       "      <td>22.63</td>\n",
       "      <td>28.14</td>\n",
       "      <td>44.34</td>\n",
       "      <td>41.22</td>\n",
       "      <td>29.30</td>\n",
       "      <td>True</td>\n",
       "    </tr>\n",
       "    <tr>\n",
       "      <th>4</th>\n",
       "      <td>1518.0</td>\n",
       "      <td>521069.0</td>\n",
       "      <td>50.22</td>\n",
       "      <td>149.49</td>\n",
       "      <td>179.09</td>\n",
       "      <td>241.24</td>\n",
       "      <td>128.04</td>\n",
       "      <td>9.51</td>\n",
       "      <td>3.34</td>\n",
       "      <td>32.0</td>\n",
       "      <td>...</td>\n",
       "      <td>35.38</td>\n",
       "      <td>61.49</td>\n",
       "      <td>38.51</td>\n",
       "      <td>79.66</td>\n",
       "      <td>20.34</td>\n",
       "      <td>29.56</td>\n",
       "      <td>30.44</td>\n",
       "      <td>30.15</td>\n",
       "      <td>34.75</td>\n",
       "      <td>True</td>\n",
       "    </tr>\n",
       "  </tbody>\n",
       "</table>\n",
       "<p>5 rows × 45 columns</p>\n",
       "</div>"
      ],
      "text/plain": [
       "   movement_avg_speed  movement_total_distance  \\\n",
       "0              1468.0                 505882.0   \n",
       "1              1410.0                 474841.0   \n",
       "2              1355.0                 465999.0   \n",
       "3              1455.0                 500485.0   \n",
       "4              1518.0                 521069.0   \n",
       "\n",
       "   movement_time_supersonic_speed  movement_time_boost_speed  \\\n",
       "0                           40.34                     142.29   \n",
       "1                           41.74                     122.11   \n",
       "2                           35.87                     119.38   \n",
       "3                           41.75                     130.76   \n",
       "4                           50.22                     149.49   \n",
       "\n",
       "   movement_time_slow_speed  movement_time_ground  movement_time_low_air  \\\n",
       "0                    196.16                219.80                 143.43   \n",
       "1                    208.83                248.88                 115.01   \n",
       "2                    223.64                212.03                 145.07   \n",
       "3                    206.38                231.33                 123.58   \n",
       "4                    179.09                241.24                 128.04   \n",
       "\n",
       "   movement_time_high_air  movement_time_powerslide  \\\n",
       "0                   15.56                      8.01   \n",
       "1                    8.80                      5.41   \n",
       "2                   21.79                      7.24   \n",
       "3                   23.97                      5.61   \n",
       "4                    9.51                      3.34   \n",
       "\n",
       "   movement_count_powerslide  ...  positioning_percent_neutral_third  \\\n",
       "0                       68.0  ...                              26.72   \n",
       "1                       30.0  ...                              24.45   \n",
       "2                       36.0  ...                              26.17   \n",
       "3                       49.0  ...                              29.87   \n",
       "4                       32.0  ...                              35.38   \n",
       "\n",
       "   positioning_percent_defensive_half  positioning_percent_offensive_half  \\\n",
       "0                               83.53                               16.47   \n",
       "1                               79.52                               20.48   \n",
       "2                               80.77                               19.23   \n",
       "3                               54.02                               45.98   \n",
       "4                               61.49                               38.51   \n",
       "\n",
       "   positioning_percent_behind_ball  positioning_percent_infront_ball  \\\n",
       "0                            75.83                             24.17   \n",
       "1                            67.56                             32.44   \n",
       "2                            67.72                             32.28   \n",
       "3                            77.37                             22.63   \n",
       "4                            79.66                             20.34   \n",
       "\n",
       "   positioning_percent_most_back  positioning_percent_most_forward  \\\n",
       "0                          31.88                             28.71   \n",
       "1                          31.06                             36.93   \n",
       "2                          37.22                             32.79   \n",
       "3                          28.14                             44.34   \n",
       "4                          29.56                             30.44   \n",
       "\n",
       "   positioning_percent_closest_to_ball  \\\n",
       "0                                39.66   \n",
       "1                                31.49   \n",
       "2                                27.29   \n",
       "3                                41.22   \n",
       "4                                30.15   \n",
       "\n",
       "   positioning_percent_farthest_from_ball  winner  \n",
       "0                                   28.51   False  \n",
       "1                                   32.85   False  \n",
       "2                                   38.78   False  \n",
       "3                                   29.30    True  \n",
       "4                                   34.75    True  \n",
       "\n",
       "[5 rows x 45 columns]"
      ]
     },
     "execution_count": 4,
     "metadata": {},
     "output_type": "execute_result"
    }
   ],
   "source": [
    "players_all.head()"
   ]
  },
  {
   "cell_type": "markdown",
   "metadata": {},
   "source": [
    "### X,y division"
   ]
  },
  {
   "cell_type": "code",
   "execution_count": 5,
   "metadata": {},
   "outputs": [],
   "source": [
    "X_players_all = players_all.iloc[:, 0:44]\n",
    "X_players_ranked = players_ranked.iloc[:, 0:44]\n",
    "X_players_pro = players_pro.iloc[:, 0:44]\n",
    "\n",
    "X_small_file = small_file.iloc[:, 0:44]"
   ]
  },
  {
   "cell_type": "code",
   "execution_count": 6,
   "metadata": {},
   "outputs": [],
   "source": [
    "y_players_all = players_all.iloc[:, 44]\n",
    "y_players_ranked = players_ranked.iloc[:, 44]\n",
    "y_players_pro = players_pro.iloc[:, 44]\n",
    "\n",
    "y_small_file = small_file.iloc[:, 44]\n"
   ]
  },
  {
   "cell_type": "code",
   "execution_count": 7,
   "metadata": {},
   "outputs": [],
   "source": [
    "# team\n",
    "X_teams_all = teams_all.iloc[:, 0:200]\n",
    "X_teams_ranked = teams_ranked.iloc[:, 0:200]\n",
    "X_teams_pro = teams_pro.iloc[:, 0:200]"
   ]
  },
  {
   "cell_type": "code",
   "execution_count": 8,
   "metadata": {},
   "outputs": [],
   "source": [
    "# Team\n",
    "y_teams_all = teams_all.iloc[:, 200]\n",
    "y_teams_ranked = teams_ranked.iloc[:, 200]\n",
    "y_teams_pro = teams_pro.iloc[:, 200]"
   ]
  },
  {
   "cell_type": "markdown",
   "metadata": {},
   "source": [
    "### Normalisation?"
   ]
  },
  {
   "cell_type": "code",
   "execution_count": 9,
   "metadata": {},
   "outputs": [],
   "source": [
    "# Z-score\n",
    "from sklearn.preprocessing import StandardScaler\n",
    "scaler = StandardScaler()\n",
    "\n",
    "X_players_all_normalized = scaler.fit_transform(X_players_all)\n",
    "X_players_ranked_normalized =  scaler.fit_transform(X_players_ranked)\n",
    "X_players_pro_normalized = scaler.fit_transform(X_players_pro)\n",
    "X_small_file_normalized = scaler.fit_transform(X_small_file)\n",
    "\n",
    "X_players_all_normalized = pd.DataFrame(X_players_all_normalized, columns=X_players_all.columns)\n",
    "X_players_ranked_normalized = pd.DataFrame(X_players_ranked_normalized, columns=X_players_ranked.columns)\n",
    "X_players_pro_normalized = pd.DataFrame(X_players_pro_normalized, columns=X_players_pro.columns)\n",
    "X_small_file_normalized = pd.DataFrame(X_small_file_normalized, columns=X_small_file.columns)"
   ]
  },
  {
   "cell_type": "code",
   "execution_count": 10,
   "metadata": {},
   "outputs": [],
   "source": [
    "# Z-score for teams\n",
    "from sklearn.preprocessing import StandardScaler\n",
    "scaler = StandardScaler()\n",
    "\n",
    "X_teams_all_normalized = scaler.fit_transform(X_teams_all)\n",
    "X_teams_ranked_normalized =  scaler.fit_transform(X_teams_ranked)\n",
    "X_teams_pro_normalized = scaler.fit_transform(X_teams_pro)\n",
    "\n",
    "X_teams_all_normalized = pd.DataFrame(X_teams_all_normalized, columns=X_teams_all.columns)\n",
    "X_teams_ranked_normalized = pd.DataFrame(X_teams_ranked_normalized, columns=X_teams_ranked.columns)\n",
    "X_teams_pro_normalized = pd.DataFrame(X_teams_pro_normalized, columns=X_teams_pro.columns)"
   ]
  },
  {
   "cell_type": "code",
   "execution_count": 11,
   "metadata": {},
   "outputs": [
    {
     "data": {
      "text/html": [
       "<div>\n",
       "<style scoped>\n",
       "    .dataframe tbody tr th:only-of-type {\n",
       "        vertical-align: middle;\n",
       "    }\n",
       "\n",
       "    .dataframe tbody tr th {\n",
       "        vertical-align: top;\n",
       "    }\n",
       "\n",
       "    .dataframe thead th {\n",
       "        text-align: right;\n",
       "    }\n",
       "</style>\n",
       "<table border=\"1\" class=\"dataframe\">\n",
       "  <thead>\n",
       "    <tr style=\"text-align: right;\">\n",
       "      <th></th>\n",
       "      <th>movement_avg_speed</th>\n",
       "      <th>movement_total_distance</th>\n",
       "      <th>movement_time_supersonic_speed</th>\n",
       "      <th>movement_time_boost_speed</th>\n",
       "      <th>movement_time_slow_speed</th>\n",
       "      <th>movement_time_ground</th>\n",
       "      <th>movement_time_low_air</th>\n",
       "      <th>movement_time_high_air</th>\n",
       "      <th>movement_time_powerslide</th>\n",
       "      <th>movement_count_powerslide</th>\n",
       "      <th>...</th>\n",
       "      <th>positioning_percent_offensive_third</th>\n",
       "      <th>positioning_percent_neutral_third</th>\n",
       "      <th>positioning_percent_defensive_half</th>\n",
       "      <th>positioning_percent_offensive_half</th>\n",
       "      <th>positioning_percent_behind_ball</th>\n",
       "      <th>positioning_percent_infront_ball</th>\n",
       "      <th>positioning_percent_most_back</th>\n",
       "      <th>positioning_percent_most_forward</th>\n",
       "      <th>positioning_percent_closest_to_ball</th>\n",
       "      <th>positioning_percent_farthest_from_ball</th>\n",
       "    </tr>\n",
       "  </thead>\n",
       "  <tbody>\n",
       "    <tr>\n",
       "      <th>0</th>\n",
       "      <td>-0.244786</td>\n",
       "      <td>-0.006564</td>\n",
       "      <td>-0.105950</td>\n",
       "      <td>-0.028138</td>\n",
       "      <td>0.536498</td>\n",
       "      <td>0.210515</td>\n",
       "      <td>0.345503</td>\n",
       "      <td>0.088237</td>\n",
       "      <td>0.262826</td>\n",
       "      <td>0.215025</td>\n",
       "      <td>...</td>\n",
       "      <td>-2.540903</td>\n",
       "      <td>-1.018220</td>\n",
       "      <td>2.796536</td>\n",
       "      <td>-2.796536</td>\n",
       "      <td>0.839287</td>\n",
       "      <td>-0.839287</td>\n",
       "      <td>-0.364511</td>\n",
       "      <td>-0.855038</td>\n",
       "      <td>1.348097</td>\n",
       "      <td>-1.015858</td>\n",
       "    </tr>\n",
       "    <tr>\n",
       "      <th>1</th>\n",
       "      <td>-0.864632</td>\n",
       "      <td>-0.373041</td>\n",
       "      <td>-0.027812</td>\n",
       "      <td>-0.758952</td>\n",
       "      <td>0.873504</td>\n",
       "      <td>0.984698</td>\n",
       "      <td>-0.750224</td>\n",
       "      <td>-0.864637</td>\n",
       "      <td>-0.613178</td>\n",
       "      <td>-1.117797</td>\n",
       "      <td>...</td>\n",
       "      <td>-1.971989</td>\n",
       "      <td>-1.597289</td>\n",
       "      <td>2.192010</td>\n",
       "      <td>-2.192010</td>\n",
       "      <td>-0.759975</td>\n",
       "      <td>0.759975</td>\n",
       "      <td>-0.497711</td>\n",
       "      <td>0.621517</td>\n",
       "      <td>-0.427544</td>\n",
       "      <td>-0.227942</td>\n",
       "    </tr>\n",
       "    <tr>\n",
       "      <th>2</th>\n",
       "      <td>-1.452418</td>\n",
       "      <td>-0.477431</td>\n",
       "      <td>-0.355434</td>\n",
       "      <td>-0.857818</td>\n",
       "      <td>1.267432</td>\n",
       "      <td>0.003658</td>\n",
       "      <td>0.408733</td>\n",
       "      <td>0.966403</td>\n",
       "      <td>0.003394</td>\n",
       "      <td>-0.907351</td>\n",
       "      <td>...</td>\n",
       "      <td>-2.304965</td>\n",
       "      <td>-1.158523</td>\n",
       "      <td>2.380453</td>\n",
       "      <td>-2.380453</td>\n",
       "      <td>-0.729034</td>\n",
       "      <td>0.729034</td>\n",
       "      <td>0.502915</td>\n",
       "      <td>-0.122149</td>\n",
       "      <td>-1.340359</td>\n",
       "      <td>0.848635</td>\n",
       "    </tr>\n",
       "    <tr>\n",
       "      <th>3</th>\n",
       "      <td>-0.383717</td>\n",
       "      <td>-0.070282</td>\n",
       "      <td>-0.027254</td>\n",
       "      <td>-0.445694</td>\n",
       "      <td>0.808337</td>\n",
       "      <td>0.517473</td>\n",
       "      <td>-0.419809</td>\n",
       "      <td>1.273691</td>\n",
       "      <td>-0.545793</td>\n",
       "      <td>-0.451386</td>\n",
       "      <td>...</td>\n",
       "      <td>2.113161</td>\n",
       "      <td>-0.214666</td>\n",
       "      <td>-1.652232</td>\n",
       "      <td>1.652232</td>\n",
       "      <td>1.137094</td>\n",
       "      <td>-1.137094</td>\n",
       "      <td>-0.972034</td>\n",
       "      <td>1.952572</td>\n",
       "      <td>1.687142</td>\n",
       "      <td>-0.872435</td>\n",
       "    </tr>\n",
       "    <tr>\n",
       "      <th>4</th>\n",
       "      <td>0.289565</td>\n",
       "      <td>0.172737</td>\n",
       "      <td>0.445481</td>\n",
       "      <td>0.232608</td>\n",
       "      <td>0.082456</td>\n",
       "      <td>0.781302</td>\n",
       "      <td>-0.247855</td>\n",
       "      <td>-0.764557</td>\n",
       "      <td>-1.310612</td>\n",
       "      <td>-1.047648</td>\n",
       "      <td>...</td>\n",
       "      <td>0.370265</td>\n",
       "      <td>1.190915</td>\n",
       "      <td>-0.526095</td>\n",
       "      <td>0.526095</td>\n",
       "      <td>1.579936</td>\n",
       "      <td>-1.579936</td>\n",
       "      <td>-0.741370</td>\n",
       "      <td>-0.544279</td>\n",
       "      <td>-0.718776</td>\n",
       "      <td>0.116999</td>\n",
       "    </tr>\n",
       "  </tbody>\n",
       "</table>\n",
       "<p>5 rows × 44 columns</p>\n",
       "</div>"
      ],
      "text/plain": [
       "   movement_avg_speed  movement_total_distance  \\\n",
       "0           -0.244786                -0.006564   \n",
       "1           -0.864632                -0.373041   \n",
       "2           -1.452418                -0.477431   \n",
       "3           -0.383717                -0.070282   \n",
       "4            0.289565                 0.172737   \n",
       "\n",
       "   movement_time_supersonic_speed  movement_time_boost_speed  \\\n",
       "0                       -0.105950                  -0.028138   \n",
       "1                       -0.027812                  -0.758952   \n",
       "2                       -0.355434                  -0.857818   \n",
       "3                       -0.027254                  -0.445694   \n",
       "4                        0.445481                   0.232608   \n",
       "\n",
       "   movement_time_slow_speed  movement_time_ground  movement_time_low_air  \\\n",
       "0                  0.536498              0.210515               0.345503   \n",
       "1                  0.873504              0.984698              -0.750224   \n",
       "2                  1.267432              0.003658               0.408733   \n",
       "3                  0.808337              0.517473              -0.419809   \n",
       "4                  0.082456              0.781302              -0.247855   \n",
       "\n",
       "   movement_time_high_air  movement_time_powerslide  \\\n",
       "0                0.088237                  0.262826   \n",
       "1               -0.864637                 -0.613178   \n",
       "2                0.966403                  0.003394   \n",
       "3                1.273691                 -0.545793   \n",
       "4               -0.764557                 -1.310612   \n",
       "\n",
       "   movement_count_powerslide  ...  positioning_percent_offensive_third  \\\n",
       "0                   0.215025  ...                            -2.540903   \n",
       "1                  -1.117797  ...                            -1.971989   \n",
       "2                  -0.907351  ...                            -2.304965   \n",
       "3                  -0.451386  ...                             2.113161   \n",
       "4                  -1.047648  ...                             0.370265   \n",
       "\n",
       "   positioning_percent_neutral_third  positioning_percent_defensive_half  \\\n",
       "0                          -1.018220                            2.796536   \n",
       "1                          -1.597289                            2.192010   \n",
       "2                          -1.158523                            2.380453   \n",
       "3                          -0.214666                           -1.652232   \n",
       "4                           1.190915                           -0.526095   \n",
       "\n",
       "   positioning_percent_offensive_half  positioning_percent_behind_ball  \\\n",
       "0                           -2.796536                         0.839287   \n",
       "1                           -2.192010                        -0.759975   \n",
       "2                           -2.380453                        -0.729034   \n",
       "3                            1.652232                         1.137094   \n",
       "4                            0.526095                         1.579936   \n",
       "\n",
       "   positioning_percent_infront_ball  positioning_percent_most_back  \\\n",
       "0                         -0.839287                      -0.364511   \n",
       "1                          0.759975                      -0.497711   \n",
       "2                          0.729034                       0.502915   \n",
       "3                         -1.137094                      -0.972034   \n",
       "4                         -1.579936                      -0.741370   \n",
       "\n",
       "   positioning_percent_most_forward  positioning_percent_closest_to_ball  \\\n",
       "0                         -0.855038                             1.348097   \n",
       "1                          0.621517                            -0.427544   \n",
       "2                         -0.122149                            -1.340359   \n",
       "3                          1.952572                             1.687142   \n",
       "4                         -0.544279                            -0.718776   \n",
       "\n",
       "   positioning_percent_farthest_from_ball  \n",
       "0                               -1.015858  \n",
       "1                               -0.227942  \n",
       "2                                0.848635  \n",
       "3                               -0.872435  \n",
       "4                                0.116999  \n",
       "\n",
       "[5 rows x 44 columns]"
      ]
     },
     "execution_count": 11,
     "metadata": {},
     "output_type": "execute_result"
    }
   ],
   "source": [
    "X_players_ranked_normalized.head()"
   ]
  },
  {
   "cell_type": "markdown",
   "metadata": {},
   "source": [
    "### Train-test split"
   ]
  },
  {
   "cell_type": "code",
   "execution_count": 12,
   "metadata": {},
   "outputs": [
    {
     "name": "stdout",
     "output_type": "stream",
     "text": [
      "sklearn version: 1.1.3\n"
     ]
    }
   ],
   "source": [
    "from sklearn.model_selection import train_test_split\n",
    "import sklearn\n",
    "print(f\"sklearn version: {sklearn.__version__}\")"
   ]
  },
  {
   "cell_type": "code",
   "execution_count": 13,
   "metadata": {},
   "outputs": [],
   "source": [
    "X_train, X_test, y_train, y_test = train_test_split(X_players_all_normalized, y_players_all, random_state=20, test_size=0.4)"
   ]
  },
  {
   "cell_type": "code",
   "execution_count": 14,
   "metadata": {},
   "outputs": [],
   "source": [
    "X_val, X_test, y_val, y_test = train_test_split(X_test, y_test, random_state=20, test_size=0.5)"
   ]
  },
  {
   "cell_type": "markdown",
   "metadata": {},
   "source": [
    "## Model"
   ]
  },
  {
   "cell_type": "code",
   "execution_count": 15,
   "metadata": {},
   "outputs": [],
   "source": [
    "from sklearn.model_selection import cross_val_score\n",
    "from sklearn.ensemble import GradientBoostingClassifier"
   ]
  },
  {
   "cell_type": "code",
   "execution_count": 16,
   "metadata": {},
   "outputs": [],
   "source": [
    "gbr = GradientBoostingClassifier(\n",
    "    n_estimators=500,\n",
    "    min_samples_split=10\n",
    ")"
   ]
  },
  {
   "cell_type": "code",
   "execution_count": 17,
   "metadata": {},
   "outputs": [],
   "source": [
    "# next is 1 min / met parameters meer dan 17 min / now is 6 min"
   ]
  },
  {
   "cell_type": "code",
   "execution_count": 18,
   "metadata": {},
   "outputs": [
    {
     "data": {
      "text/html": [
       "<style>#sk-container-id-1 {color: black;background-color: white;}#sk-container-id-1 pre{padding: 0;}#sk-container-id-1 div.sk-toggleable {background-color: white;}#sk-container-id-1 label.sk-toggleable__label {cursor: pointer;display: block;width: 100%;margin-bottom: 0;padding: 0.3em;box-sizing: border-box;text-align: center;}#sk-container-id-1 label.sk-toggleable__label-arrow:before {content: \"▸\";float: left;margin-right: 0.25em;color: #696969;}#sk-container-id-1 label.sk-toggleable__label-arrow:hover:before {color: black;}#sk-container-id-1 div.sk-estimator:hover label.sk-toggleable__label-arrow:before {color: black;}#sk-container-id-1 div.sk-toggleable__content {max-height: 0;max-width: 0;overflow: hidden;text-align: left;background-color: #f0f8ff;}#sk-container-id-1 div.sk-toggleable__content pre {margin: 0.2em;color: black;border-radius: 0.25em;background-color: #f0f8ff;}#sk-container-id-1 input.sk-toggleable__control:checked~div.sk-toggleable__content {max-height: 200px;max-width: 100%;overflow: auto;}#sk-container-id-1 input.sk-toggleable__control:checked~label.sk-toggleable__label-arrow:before {content: \"▾\";}#sk-container-id-1 div.sk-estimator input.sk-toggleable__control:checked~label.sk-toggleable__label {background-color: #d4ebff;}#sk-container-id-1 div.sk-label input.sk-toggleable__control:checked~label.sk-toggleable__label {background-color: #d4ebff;}#sk-container-id-1 input.sk-hidden--visually {border: 0;clip: rect(1px 1px 1px 1px);clip: rect(1px, 1px, 1px, 1px);height: 1px;margin: -1px;overflow: hidden;padding: 0;position: absolute;width: 1px;}#sk-container-id-1 div.sk-estimator {font-family: monospace;background-color: #f0f8ff;border: 1px dotted black;border-radius: 0.25em;box-sizing: border-box;margin-bottom: 0.5em;}#sk-container-id-1 div.sk-estimator:hover {background-color: #d4ebff;}#sk-container-id-1 div.sk-parallel-item::after {content: \"\";width: 100%;border-bottom: 1px solid gray;flex-grow: 1;}#sk-container-id-1 div.sk-label:hover label.sk-toggleable__label {background-color: #d4ebff;}#sk-container-id-1 div.sk-serial::before {content: \"\";position: absolute;border-left: 1px solid gray;box-sizing: border-box;top: 0;bottom: 0;left: 50%;z-index: 0;}#sk-container-id-1 div.sk-serial {display: flex;flex-direction: column;align-items: center;background-color: white;padding-right: 0.2em;padding-left: 0.2em;position: relative;}#sk-container-id-1 div.sk-item {position: relative;z-index: 1;}#sk-container-id-1 div.sk-parallel {display: flex;align-items: stretch;justify-content: center;background-color: white;position: relative;}#sk-container-id-1 div.sk-item::before, #sk-container-id-1 div.sk-parallel-item::before {content: \"\";position: absolute;border-left: 1px solid gray;box-sizing: border-box;top: 0;bottom: 0;left: 50%;z-index: -1;}#sk-container-id-1 div.sk-parallel-item {display: flex;flex-direction: column;z-index: 1;position: relative;background-color: white;}#sk-container-id-1 div.sk-parallel-item:first-child::after {align-self: flex-end;width: 50%;}#sk-container-id-1 div.sk-parallel-item:last-child::after {align-self: flex-start;width: 50%;}#sk-container-id-1 div.sk-parallel-item:only-child::after {width: 0;}#sk-container-id-1 div.sk-dashed-wrapped {border: 1px dashed gray;margin: 0 0.4em 0.5em 0.4em;box-sizing: border-box;padding-bottom: 0.4em;background-color: white;}#sk-container-id-1 div.sk-label label {font-family: monospace;font-weight: bold;display: inline-block;line-height: 1.2em;}#sk-container-id-1 div.sk-label-container {text-align: center;}#sk-container-id-1 div.sk-container {/* jupyter's `normalize.less` sets `[hidden] { display: none; }` but bootstrap.min.css set `[hidden] { display: none !important; }` so we also need the `!important` here to be able to override the default hidden behavior on the sphinx rendered scikit-learn.org. See: https://github.com/scikit-learn/scikit-learn/issues/21755 */display: inline-block !important;position: relative;}#sk-container-id-1 div.sk-text-repr-fallback {display: none;}</style><div id=\"sk-container-id-1\" class=\"sk-top-container\"><div class=\"sk-text-repr-fallback\"><pre>GradientBoostingClassifier(min_samples_split=10, n_estimators=500)</pre><b>In a Jupyter environment, please rerun this cell to show the HTML representation or trust the notebook. <br />On GitHub, the HTML representation is unable to render, please try loading this page with nbviewer.org.</b></div><div class=\"sk-container\" hidden><div class=\"sk-item\"><div class=\"sk-estimator sk-toggleable\"><input class=\"sk-toggleable__control sk-hidden--visually\" id=\"sk-estimator-id-1\" type=\"checkbox\" checked><label for=\"sk-estimator-id-1\" class=\"sk-toggleable__label sk-toggleable__label-arrow\">GradientBoostingClassifier</label><div class=\"sk-toggleable__content\"><pre>GradientBoostingClassifier(min_samples_split=10, n_estimators=500)</pre></div></div></div></div></div>"
      ],
      "text/plain": [
       "GradientBoostingClassifier(min_samples_split=10, n_estimators=500)"
      ]
     },
     "execution_count": 18,
     "metadata": {},
     "output_type": "execute_result"
    }
   ],
   "source": [
    "gbr.fit(X_train, y_train)"
   ]
  },
  {
   "cell_type": "markdown",
   "metadata": {},
   "source": [
    "### metrics"
   ]
  },
  {
   "cell_type": "code",
   "execution_count": 19,
   "metadata": {},
   "outputs": [],
   "source": [
    "# next is 2 min / met parameter meer dan 63 min n_jobs=1 / n_jobs=-1 zou 6 x zo snel moeten gaan dan / now is 59 min"
   ]
  },
  {
   "cell_type": "code",
   "execution_count": 20,
   "metadata": {},
   "outputs": [
    {
     "data": {
      "text/plain": [
       "0.7283810159547199"
      ]
     },
     "execution_count": 20,
     "metadata": {},
     "output_type": "execute_result"
    }
   ],
   "source": [
    "cross_val_score(gbr, X_train, y_train, cv=3, n_jobs=-1).mean()"
   ]
  },
  {
   "cell_type": "code",
   "execution_count": 21,
   "metadata": {},
   "outputs": [],
   "source": [
    "y_pred = gbr.predict(X_test)"
   ]
  },
  {
   "cell_type": "code",
   "execution_count": 22,
   "metadata": {},
   "outputs": [],
   "source": [
    "from sklearn.metrics import accuracy_score"
   ]
  },
  {
   "cell_type": "code",
   "execution_count": 23,
   "metadata": {},
   "outputs": [
    {
     "name": "stdout",
     "output_type": "stream",
     "text": [
      "DNN Accuracy: 0.7338963641568852\n"
     ]
    }
   ],
   "source": [
    "y_pred = gbr.predict(X_test)\n",
    "y_pred_classes = y_pred\n",
    "y_test_classes = y_test\n",
    "print(\"DNN Accuracy:\", accuracy_score(y_test_classes, y_pred_classes))"
   ]
  },
  {
   "cell_type": "code",
   "execution_count": 24,
   "metadata": {},
   "outputs": [
    {
     "data": {
      "text/plain": [
       "0.7338963641568852"
      ]
     },
     "execution_count": 24,
     "metadata": {},
     "output_type": "execute_result"
    }
   ],
   "source": [
    "gbr.score(X_test, y_test)"
   ]
  },
  {
   "cell_type": "code",
   "execution_count": 25,
   "metadata": {},
   "outputs": [],
   "source": [
    "from sklearn.metrics import classification_report"
   ]
  },
  {
   "cell_type": "code",
   "execution_count": 26,
   "metadata": {},
   "outputs": [
    {
     "name": "stdout",
     "output_type": "stream",
     "text": [
      "              precision    recall  f1-score   support\n",
      "\n",
      "       False       0.73      0.74      0.73     20929\n",
      "        True       0.74      0.73      0.73     20987\n",
      "\n",
      "    accuracy                           0.73     41916\n",
      "   macro avg       0.73      0.73      0.73     41916\n",
      "weighted avg       0.73      0.73      0.73     41916\n",
      "\n"
     ]
    }
   ],
   "source": [
    "print(classification_report(y_test, y_pred))"
   ]
  },
  {
   "cell_type": "code",
   "execution_count": 27,
   "metadata": {},
   "outputs": [],
   "source": [
    "from sklearn.metrics import accuracy_score, recall_score, precision_score, f1_score"
   ]
  },
  {
   "cell_type": "code",
   "execution_count": 28,
   "metadata": {},
   "outputs": [
    {
     "name": "stdout",
     "output_type": "stream",
     "text": [
      "accuracy 0.7338963641568852\n",
      "recall 0.7324534235479107\n",
      "precision 0.7351154894553106\n",
      "f1 0.7337820421022483\n"
     ]
    }
   ],
   "source": [
    "accuracy = accuracy_score(y_test, y_pred)\n",
    "recall = recall_score(y_test, y_pred)\n",
    "precision = precision_score(y_test, y_pred)\n",
    "f1 = f1_score(y_test, y_pred)\n",
    "\n",
    "print(\"accuracy\", accuracy)\n",
    "print(\"recall\", recall)\n",
    "print(\"precision\", precision)\n",
    "print(\"f1\", f1)"
   ]
  },
  {
   "cell_type": "markdown",
   "metadata": {},
   "source": [
    "### Confusion matrix"
   ]
  },
  {
   "cell_type": "code",
   "execution_count": 29,
   "metadata": {},
   "outputs": [],
   "source": [
    "from sklearn.metrics import confusion_matrix"
   ]
  },
  {
   "cell_type": "code",
   "execution_count": 30,
   "metadata": {},
   "outputs": [
    {
     "name": "stdout",
     "output_type": "stream",
     "text": [
      "[[15390  5539]\n",
      " [ 5615 15372]]\n"
     ]
    }
   ],
   "source": [
    "print(confusion_matrix(y_test, y_pred))"
   ]
  },
  {
   "cell_type": "code",
   "execution_count": 31,
   "metadata": {},
   "outputs": [
    {
     "name": "stdout",
     "output_type": "stream",
     "text": [
      "[[15390  5539]\n",
      " [ 5615 15372]]\n",
      "0.7338963641568852\n"
     ]
    },
    {
     "data": {
      "image/png": "[encoded data removed]",
      "text/plain": [
       "<Figure size 640x480 with 2 Axes>"
      ]
     },
     "metadata": {},
     "output_type": "display_data"
    }
   ],
   "source": [
    "cm = confusion_matrix(y_test, y_pred)\n",
    "accuracy = accuracy_score(y_test, y_pred)\n",
    "print(cm)\n",
    "print(accuracy)\n",
    "labels = list(y_train.keys())\n",
    "\n",
    "s = sns.heatmap(cm, cmap='YlGnBu', annot=True, fmt=\".0f\")\n",
    "s.set_xlabel(\"predicted\")\n",
    "s.set_ylabel(\"true\")\n",
    "plt.show()\n"
   ]
  },
  {
   "cell_type": "markdown",
   "metadata": {},
   "source": [
    "## ROC curve"
   ]
  },
  {
   "cell_type": "code",
   "execution_count": 32,
   "metadata": {},
   "outputs": [
    {
     "name": "stdout",
     "output_type": "stream",
     "text": [
      "[0.4507268  0.84346911 0.2068101  0.93204383 0.09894656 0.8065704\n",
      " 0.27540947 0.69324092 0.45212743 0.32415368 0.86426851 0.846485\n",
      " 0.12114665 0.70073114 0.21648489 0.16412517 0.94107166 0.28113004\n",
      " 0.0394069  0.52267748 0.76469396 0.85951493 0.24541797 0.27028556\n",
      " 0.77842326 0.56552023 0.70145923 0.6918179  0.47462652 0.26934789\n",
      " 0.46922431 0.59478455 0.08798903 0.76021363 0.37841088 0.66560857\n",
      " 0.45027219 0.60462669 0.85382143 0.58485452 0.26340708 0.79150955\n",
      " 0.74052303 0.14641054 0.67952086 0.10199049 0.36573844 0.60309257\n",
      " 0.46363973 0.41568867 0.87661966 0.4841007  0.5918185  0.73204657\n",
      " 0.14754039 0.921427   0.52945897 0.62950255 0.85694186 0.15342216\n",
      " 0.35967572 0.23250027 0.1275811  0.42804814 0.12760681 0.86376545\n",
      " 0.71918561 0.37321896 0.64046601 0.74562949 0.01411682 0.42546598\n",
      " 0.62856624 0.84072402 0.37507028 0.04774563 0.57179351 0.90739291\n",
      " 0.77105403 0.21461136 0.73255764 0.93161833 0.08730227 0.37337542\n",
      " 0.15443608 0.79981964 0.14092525 0.91692317 0.13630402 0.91489765\n",
      " 0.79235229 0.19446402 0.75234162 0.53340309 0.61957178 0.67793004\n",
      " 0.84740619 0.11536478 0.34847747 0.25641157]\n",
      "ROC AUC Score: 0.812\n"
     ]
    },
    {
     "data": {
      "image/png": "[encoded data removed]",
      "text/plain": [
       "<Figure size 640x480 with 1 Axes>"
      ]
     },
     "metadata": {},
     "output_type": "display_data"
    }
   ],
   "source": [
    "from sklearn.metrics import roc_auc_score, roc_curve\n",
    "\n",
    "y_pred_proba = gbr.predict_proba(X_test)[:, 1]\n",
    "print(y_pred_proba[:100]) \n",
    "\n",
    "roc_auc = roc_auc_score(y_test, y_pred_proba)\n",
    "print(f\"ROC AUC Score: {roc_auc:.3f}\")\n",
    "\n",
    "fpr, tpr, thresholds = roc_curve(y_test, y_pred_proba)\n",
    "\n",
    "plt.plot(fpr, tpr, label=f\"AUC = {roc_auc:.3f}\")\n",
    "plt.plot([0, 1], [0, 1], 'k--')\n",
    "plt.xlabel('False Positive Rate')\n",
    "plt.ylabel('True Positive Rate')\n",
    "plt.title('ROC Curve')\n",
    "plt.legend()\n",
    "plt.show()"
   ]
  },
  {
   "cell_type": "markdown",
   "metadata": {},
   "source": [
    "### features"
   ]
  },
  {
   "cell_type": "code",
   "execution_count": 33,
   "metadata": {},
   "outputs": [],
   "source": [
    "features = pd.DataFrame(gbr.feature_importances_, index = X_players_ranked.columns)"
   ]
  },
  {
   "cell_type": "code",
   "execution_count": 34,
   "metadata": {},
   "outputs": [
    {
     "data": {
      "text/html": [
       "<div>\n",
       "<style scoped>\n",
       "    .dataframe tbody tr th:only-of-type {\n",
       "        vertical-align: middle;\n",
       "    }\n",
       "\n",
       "    .dataframe tbody tr th {\n",
       "        vertical-align: top;\n",
       "    }\n",
       "\n",
       "    .dataframe thead th {\n",
       "        text-align: right;\n",
       "    }\n",
       "</style>\n",
       "<table border=\"1\" class=\"dataframe\">\n",
       "  <thead>\n",
       "    <tr style=\"text-align: right;\">\n",
       "      <th></th>\n",
       "      <th>0</th>\n",
       "    </tr>\n",
       "  </thead>\n",
       "  <tbody>\n",
       "    <tr>\n",
       "      <th>positioning_percent_behind_ball</th>\n",
       "      <td>0.252790</td>\n",
       "    </tr>\n",
       "    <tr>\n",
       "      <th>positioning_percent_infront_ball</th>\n",
       "      <td>0.222326</td>\n",
       "    </tr>\n",
       "    <tr>\n",
       "      <th>positioning_percent_most_forward</th>\n",
       "      <td>0.090112</td>\n",
       "    </tr>\n",
       "    <tr>\n",
       "      <th>positioning_time_infront_ball</th>\n",
       "      <td>0.065119</td>\n",
       "    </tr>\n",
       "    <tr>\n",
       "      <th>positioning_time_most_forward</th>\n",
       "      <td>0.048666</td>\n",
       "    </tr>\n",
       "    <tr>\n",
       "      <th>positioning_avg_distance_to_ball_possession</th>\n",
       "      <td>0.044720</td>\n",
       "    </tr>\n",
       "    <tr>\n",
       "      <th>positioning_percent_offensive_third</th>\n",
       "      <td>0.039322</td>\n",
       "    </tr>\n",
       "    <tr>\n",
       "      <th>positioning_time_most_back</th>\n",
       "      <td>0.036888</td>\n",
       "    </tr>\n",
       "    <tr>\n",
       "      <th>positioning_time_offensive_third</th>\n",
       "      <td>0.036189</td>\n",
       "    </tr>\n",
       "    <tr>\n",
       "      <th>positioning_percent_most_back</th>\n",
       "      <td>0.030703</td>\n",
       "    </tr>\n",
       "    <tr>\n",
       "      <th>positioning_time_defensive_third</th>\n",
       "      <td>0.017811</td>\n",
       "    </tr>\n",
       "    <tr>\n",
       "      <th>positioning_time_behind_ball</th>\n",
       "      <td>0.015587</td>\n",
       "    </tr>\n",
       "    <tr>\n",
       "      <th>positioning_avg_distance_to_ball_no_possession</th>\n",
       "      <td>0.010342</td>\n",
       "    </tr>\n",
       "    <tr>\n",
       "      <th>positioning_percent_offensive_half</th>\n",
       "      <td>0.009694</td>\n",
       "    </tr>\n",
       "    <tr>\n",
       "      <th>positioning_percent_closest_to_ball</th>\n",
       "      <td>0.006884</td>\n",
       "    </tr>\n",
       "    <tr>\n",
       "      <th>positioning_avg_distance_to_ball</th>\n",
       "      <td>0.006719</td>\n",
       "    </tr>\n",
       "    <tr>\n",
       "      <th>positioning_time_closest_to_ball</th>\n",
       "      <td>0.005876</td>\n",
       "    </tr>\n",
       "    <tr>\n",
       "      <th>positioning_time_offensive_half</th>\n",
       "      <td>0.004847</td>\n",
       "    </tr>\n",
       "    <tr>\n",
       "      <th>movement_time_high_air</th>\n",
       "      <td>0.004272</td>\n",
       "    </tr>\n",
       "    <tr>\n",
       "      <th>positioning_percent_defensive_half</th>\n",
       "      <td>0.003541</td>\n",
       "    </tr>\n",
       "    <tr>\n",
       "      <th>movement_percent_high_air</th>\n",
       "      <td>0.003302</td>\n",
       "    </tr>\n",
       "    <tr>\n",
       "      <th>movement_percent_ground</th>\n",
       "      <td>0.003182</td>\n",
       "    </tr>\n",
       "    <tr>\n",
       "      <th>positioning_time_defensive_half</th>\n",
       "      <td>0.003037</td>\n",
       "    </tr>\n",
       "    <tr>\n",
       "      <th>positioning_avg_distance_to_mates</th>\n",
       "      <td>0.003022</td>\n",
       "    </tr>\n",
       "    <tr>\n",
       "      <th>movement_total_distance</th>\n",
       "      <td>0.002962</td>\n",
       "    </tr>\n",
       "    <tr>\n",
       "      <th>positioning_time_neutral_third</th>\n",
       "      <td>0.002323</td>\n",
       "    </tr>\n",
       "    <tr>\n",
       "      <th>movement_time_ground</th>\n",
       "      <td>0.002286</td>\n",
       "    </tr>\n",
       "    <tr>\n",
       "      <th>movement_time_supersonic_speed</th>\n",
       "      <td>0.002258</td>\n",
       "    </tr>\n",
       "    <tr>\n",
       "      <th>movement_count_powerslide</th>\n",
       "      <td>0.002241</td>\n",
       "    </tr>\n",
       "    <tr>\n",
       "      <th>movement_time_low_air</th>\n",
       "      <td>0.002003</td>\n",
       "    </tr>\n",
       "    <tr>\n",
       "      <th>movement_percent_supersonic_speed</th>\n",
       "      <td>0.001910</td>\n",
       "    </tr>\n",
       "    <tr>\n",
       "      <th>positioning_percent_defensive_third</th>\n",
       "      <td>0.001883</td>\n",
       "    </tr>\n",
       "    <tr>\n",
       "      <th>movement_percent_boost_speed</th>\n",
       "      <td>0.001868</td>\n",
       "    </tr>\n",
       "    <tr>\n",
       "      <th>positioning_percent_neutral_third</th>\n",
       "      <td>0.001820</td>\n",
       "    </tr>\n",
       "    <tr>\n",
       "      <th>positioning_percent_farthest_from_ball</th>\n",
       "      <td>0.001776</td>\n",
       "    </tr>\n",
       "    <tr>\n",
       "      <th>movement_percent_slow_speed</th>\n",
       "      <td>0.001773</td>\n",
       "    </tr>\n",
       "    <tr>\n",
       "      <th>movement_time_boost_speed</th>\n",
       "      <td>0.001642</td>\n",
       "    </tr>\n",
       "    <tr>\n",
       "      <th>movement_percent_low_air</th>\n",
       "      <td>0.001640</td>\n",
       "    </tr>\n",
       "    <tr>\n",
       "      <th>movement_time_powerslide</th>\n",
       "      <td>0.001517</td>\n",
       "    </tr>\n",
       "    <tr>\n",
       "      <th>movement_time_slow_speed</th>\n",
       "      <td>0.001242</td>\n",
       "    </tr>\n",
       "    <tr>\n",
       "      <th>positioning_time_farthest_from_ball</th>\n",
       "      <td>0.001208</td>\n",
       "    </tr>\n",
       "    <tr>\n",
       "      <th>movement_avg_speed</th>\n",
       "      <td>0.001139</td>\n",
       "    </tr>\n",
       "    <tr>\n",
       "      <th>movement_avg_powerslide_duration</th>\n",
       "      <td>0.000940</td>\n",
       "    </tr>\n",
       "    <tr>\n",
       "      <th>movement_avg_speed_percentage</th>\n",
       "      <td>0.000616</td>\n",
       "    </tr>\n",
       "  </tbody>\n",
       "</table>\n",
       "</div>"
      ],
      "text/plain": [
       "                                                       0\n",
       "positioning_percent_behind_ball                 0.252790\n",
       "positioning_percent_infront_ball                0.222326\n",
       "positioning_percent_most_forward                0.090112\n",
       "positioning_time_infront_ball                   0.065119\n",
       "positioning_time_most_forward                   0.048666\n",
       "positioning_avg_distance_to_ball_possession     0.044720\n",
       "positioning_percent_offensive_third             0.039322\n",
       "positioning_time_most_back                      0.036888\n",
       "positioning_time_offensive_third                0.036189\n",
       "positioning_percent_most_back                   0.030703\n",
       "positioning_time_defensive_third                0.017811\n",
       "positioning_time_behind_ball                    0.015587\n",
       "positioning_avg_distance_to_ball_no_possession  0.010342\n",
       "positioning_percent_offensive_half              0.009694\n",
       "positioning_percent_closest_to_ball             0.006884\n",
       "positioning_avg_distance_to_ball                0.006719\n",
       "positioning_time_closest_to_ball                0.005876\n",
       "positioning_time_offensive_half                 0.004847\n",
       "movement_time_high_air                          0.004272\n",
       "positioning_percent_defensive_half              0.003541\n",
       "movement_percent_high_air                       0.003302\n",
       "movement_percent_ground                         0.003182\n",
       "positioning_time_defensive_half                 0.003037\n",
       "positioning_avg_distance_to_mates               0.003022\n",
       "movement_total_distance                         0.002962\n",
       "positioning_time_neutral_third                  0.002323\n",
       "movement_time_ground                            0.002286\n",
       "movement_time_supersonic_speed                  0.002258\n",
       "movement_count_powerslide                       0.002241\n",
       "movement_time_low_air                           0.002003\n",
       "movement_percent_supersonic_speed               0.001910\n",
       "positioning_percent_defensive_third             0.001883\n",
       "movement_percent_boost_speed                    0.001868\n",
       "positioning_percent_neutral_third               0.001820\n",
       "positioning_percent_farthest_from_ball          0.001776\n",
       "movement_percent_slow_speed                     0.001773\n",
       "movement_time_boost_speed                       0.001642\n",
       "movement_percent_low_air                        0.001640\n",
       "movement_time_powerslide                        0.001517\n",
       "movement_time_slow_speed                        0.001242\n",
       "positioning_time_farthest_from_ball             0.001208\n",
       "movement_avg_speed                              0.001139\n",
       "movement_avg_powerslide_duration                0.000940\n",
       "movement_avg_speed_percentage                   0.000616"
      ]
     },
     "execution_count": 34,
     "metadata": {},
     "output_type": "execute_result"
    }
   ],
   "source": [
    "features.sort_values(0, ascending=False)"
   ]
  },
  {
   "cell_type": "markdown",
   "metadata": {},
   "source": [
    "# Model 2 -------------------------------------------------"
   ]
  },
  {
   "cell_type": "code",
   "execution_count": 35,
   "metadata": {},
   "outputs": [],
   "source": [
    "from sklearn.model_selection import cross_val_score\n",
    "from sklearn.ensemble import GradientBoostingClassifier"
   ]
  },
  {
   "cell_type": "code",
   "execution_count": 36,
   "metadata": {},
   "outputs": [],
   "source": [
    "gbr2 = GradientBoostingClassifier(\n",
    "    n_estimators=500,\n",
    "    min_samples_split=10,\n",
    "    learning_rate= 0.1,\n",
    "    max_depth=7\n",
    ")"
   ]
  },
  {
   "cell_type": "code",
   "execution_count": 37,
   "metadata": {},
   "outputs": [],
   "source": [
    "# next is 1 min / now depth=7 is 16 min / depth=9 21 min"
   ]
  },
  {
   "cell_type": "code",
   "execution_count": 38,
   "metadata": {},
   "outputs": [
    {
     "data": {
      "text/html": [
       "<style>#sk-container-id-2 {color: black;background-color: white;}#sk-container-id-2 pre{padding: 0;}#sk-container-id-2 div.sk-toggleable {background-color: white;}#sk-container-id-2 label.sk-toggleable__label {cursor: pointer;display: block;width: 100%;margin-bottom: 0;padding: 0.3em;box-sizing: border-box;text-align: center;}#sk-container-id-2 label.sk-toggleable__label-arrow:before {content: \"▸\";float: left;margin-right: 0.25em;color: #696969;}#sk-container-id-2 label.sk-toggleable__label-arrow:hover:before {color: black;}#sk-container-id-2 div.sk-estimator:hover label.sk-toggleable__label-arrow:before {color: black;}#sk-container-id-2 div.sk-toggleable__content {max-height: 0;max-width: 0;overflow: hidden;text-align: left;background-color: #f0f8ff;}#sk-container-id-2 div.sk-toggleable__content pre {margin: 0.2em;color: black;border-radius: 0.25em;background-color: #f0f8ff;}#sk-container-id-2 input.sk-toggleable__control:checked~div.sk-toggleable__content {max-height: 200px;max-width: 100%;overflow: auto;}#sk-container-id-2 input.sk-toggleable__control:checked~label.sk-toggleable__label-arrow:before {content: \"▾\";}#sk-container-id-2 div.sk-estimator input.sk-toggleable__control:checked~label.sk-toggleable__label {background-color: #d4ebff;}#sk-container-id-2 div.sk-label input.sk-toggleable__control:checked~label.sk-toggleable__label {background-color: #d4ebff;}#sk-container-id-2 input.sk-hidden--visually {border: 0;clip: rect(1px 1px 1px 1px);clip: rect(1px, 1px, 1px, 1px);height: 1px;margin: -1px;overflow: hidden;padding: 0;position: absolute;width: 1px;}#sk-container-id-2 div.sk-estimator {font-family: monospace;background-color: #f0f8ff;border: 1px dotted black;border-radius: 0.25em;box-sizing: border-box;margin-bottom: 0.5em;}#sk-container-id-2 div.sk-estimator:hover {background-color: #d4ebff;}#sk-container-id-2 div.sk-parallel-item::after {content: \"\";width: 100%;border-bottom: 1px solid gray;flex-grow: 1;}#sk-container-id-2 div.sk-label:hover label.sk-toggleable__label {background-color: #d4ebff;}#sk-container-id-2 div.sk-serial::before {content: \"\";position: absolute;border-left: 1px solid gray;box-sizing: border-box;top: 0;bottom: 0;left: 50%;z-index: 0;}#sk-container-id-2 div.sk-serial {display: flex;flex-direction: column;align-items: center;background-color: white;padding-right: 0.2em;padding-left: 0.2em;position: relative;}#sk-container-id-2 div.sk-item {position: relative;z-index: 1;}#sk-container-id-2 div.sk-parallel {display: flex;align-items: stretch;justify-content: center;background-color: white;position: relative;}#sk-container-id-2 div.sk-item::before, #sk-container-id-2 div.sk-parallel-item::before {content: \"\";position: absolute;border-left: 1px solid gray;box-sizing: border-box;top: 0;bottom: 0;left: 50%;z-index: -1;}#sk-container-id-2 div.sk-parallel-item {display: flex;flex-direction: column;z-index: 1;position: relative;background-color: white;}#sk-container-id-2 div.sk-parallel-item:first-child::after {align-self: flex-end;width: 50%;}#sk-container-id-2 div.sk-parallel-item:last-child::after {align-self: flex-start;width: 50%;}#sk-container-id-2 div.sk-parallel-item:only-child::after {width: 0;}#sk-container-id-2 div.sk-dashed-wrapped {border: 1px dashed gray;margin: 0 0.4em 0.5em 0.4em;box-sizing: border-box;padding-bottom: 0.4em;background-color: white;}#sk-container-id-2 div.sk-label label {font-family: monospace;font-weight: bold;display: inline-block;line-height: 1.2em;}#sk-container-id-2 div.sk-label-container {text-align: center;}#sk-container-id-2 div.sk-container {/* jupyter's `normalize.less` sets `[hidden] { display: none; }` but bootstrap.min.css set `[hidden] { display: none !important; }` so we also need the `!important` here to be able to override the default hidden behavior on the sphinx rendered scikit-learn.org. See: https://github.com/scikit-learn/scikit-learn/issues/21755 */display: inline-block !important;position: relative;}#sk-container-id-2 div.sk-text-repr-fallback {display: none;}</style><div id=\"sk-container-id-2\" class=\"sk-top-container\"><div class=\"sk-text-repr-fallback\"><pre>GradientBoostingClassifier(max_depth=7, min_samples_split=10, n_estimators=500)</pre><b>In a Jupyter environment, please rerun this cell to show the HTML representation or trust the notebook. <br />On GitHub, the HTML representation is unable to render, please try loading this page with nbviewer.org.</b></div><div class=\"sk-container\" hidden><div class=\"sk-item\"><div class=\"sk-estimator sk-toggleable\"><input class=\"sk-toggleable__control sk-hidden--visually\" id=\"sk-estimator-id-2\" type=\"checkbox\" checked><label for=\"sk-estimator-id-2\" class=\"sk-toggleable__label sk-toggleable__label-arrow\">GradientBoostingClassifier</label><div class=\"sk-toggleable__content\"><pre>GradientBoostingClassifier(max_depth=7, min_samples_split=10, n_estimators=500)</pre></div></div></div></div></div>"
      ],
      "text/plain": [
       "GradientBoostingClassifier(max_depth=7, min_samples_split=10, n_estimators=500)"
      ]
     },
     "execution_count": 38,
     "metadata": {},
     "output_type": "execute_result"
    }
   ],
   "source": [
    "gbr2.fit(X_train, y_train)"
   ]
  },
  {
   "cell_type": "markdown",
   "metadata": {},
   "source": [
    "### metrics"
   ]
  },
  {
   "cell_type": "code",
   "execution_count": 39,
   "metadata": {},
   "outputs": [],
   "source": [
    "# next is 2 min / 11 min"
   ]
  },
  {
   "cell_type": "code",
   "execution_count": 40,
   "metadata": {},
   "outputs": [
    {
     "data": {
      "text/plain": [
       "0.7267745843703676"
      ]
     },
     "execution_count": 40,
     "metadata": {},
     "output_type": "execute_result"
    }
   ],
   "source": [
    "cross_val_score(gbr2, X_train, y_train, cv=3, n_jobs=-1).mean()"
   ]
  },
  {
   "cell_type": "code",
   "execution_count": 41,
   "metadata": {},
   "outputs": [],
   "source": [
    "y_pred2 = gbr2.predict(X_test)"
   ]
  },
  {
   "cell_type": "code",
   "execution_count": 42,
   "metadata": {},
   "outputs": [],
   "source": [
    "from sklearn.metrics import accuracy_score"
   ]
  },
  {
   "cell_type": "code",
   "execution_count": 43,
   "metadata": {},
   "outputs": [
    {
     "name": "stdout",
     "output_type": "stream",
     "text": [
      "DNN Accuracy: 0.7358049432197729\n"
     ]
    }
   ],
   "source": [
    "y_pred2 = gbr2.predict(X_test)\n",
    "y_pred_classes = y_pred2\n",
    "y_test_classes = y_test\n",
    "print(\"DNN Accuracy:\", accuracy_score(y_test_classes, y_pred_classes))"
   ]
  },
  {
   "cell_type": "code",
   "execution_count": 44,
   "metadata": {},
   "outputs": [
    {
     "data": {
      "text/plain": [
       "0.7358049432197729"
      ]
     },
     "execution_count": 44,
     "metadata": {},
     "output_type": "execute_result"
    }
   ],
   "source": [
    "gbr2.score(X_test, y_test)"
   ]
  },
  {
   "cell_type": "code",
   "execution_count": 45,
   "metadata": {},
   "outputs": [],
   "source": [
    "from sklearn.metrics import classification_report"
   ]
  },
  {
   "cell_type": "code",
   "execution_count": 46,
   "metadata": {},
   "outputs": [
    {
     "name": "stdout",
     "output_type": "stream",
     "text": [
      "              precision    recall  f1-score   support\n",
      "\n",
      "       False       0.73      0.74      0.74     20929\n",
      "        True       0.74      0.73      0.74     20987\n",
      "\n",
      "    accuracy                           0.74     41916\n",
      "   macro avg       0.74      0.74      0.74     41916\n",
      "weighted avg       0.74      0.74      0.74     41916\n",
      "\n"
     ]
    }
   ],
   "source": [
    "print(classification_report(y_test, y_pred2))"
   ]
  },
  {
   "cell_type": "code",
   "execution_count": 47,
   "metadata": {},
   "outputs": [],
   "source": [
    "from sklearn.metrics import accuracy_score, recall_score, precision_score, f1_score"
   ]
  },
  {
   "cell_type": "code",
   "execution_count": 48,
   "metadata": {},
   "outputs": [
    {
     "name": "stdout",
     "output_type": "stream",
     "text": [
      "accuracy 0.7358049432197729\n",
      "recall 0.7346452565874112\n",
      "precision 0.7368924150456435\n",
      "f1 0.7357671200190886\n"
     ]
    }
   ],
   "source": [
    "accuracy = accuracy_score(y_test, y_pred2)\n",
    "recall = recall_score(y_test, y_pred2)\n",
    "precision = precision_score(y_test, y_pred2)\n",
    "f1 = f1_score(y_test, y_pred2)\n",
    "\n",
    "print(\"accuracy\", accuracy)\n",
    "print(\"recall\", recall)\n",
    "print(\"precision\", precision)\n",
    "print(\"f1\", f1)"
   ]
  },
  {
   "cell_type": "markdown",
   "metadata": {},
   "source": [
    "### Confusion matrix"
   ]
  },
  {
   "cell_type": "code",
   "execution_count": 49,
   "metadata": {},
   "outputs": [],
   "source": [
    "from sklearn.metrics import confusion_matrix"
   ]
  },
  {
   "cell_type": "code",
   "execution_count": 50,
   "metadata": {},
   "outputs": [
    {
     "name": "stdout",
     "output_type": "stream",
     "text": [
      "[[15424  5505]\n",
      " [ 5569 15418]]\n"
     ]
    }
   ],
   "source": [
    "print(confusion_matrix(y_test, y_pred2))"
   ]
  },
  {
   "cell_type": "code",
   "execution_count": 51,
   "metadata": {},
   "outputs": [
    {
     "name": "stdout",
     "output_type": "stream",
     "text": [
      "[[15424  5505]\n",
      " [ 5569 15418]]\n",
      "0.7358049432197729\n"
     ]
    },
    {
     "data": {
      "image/png": "[encoded data removed]",
      "text/plain": [
       "<Figure size 640x480 with 2 Axes>"
      ]
     },
     "metadata": {},
     "output_type": "display_data"
    }
   ],
   "source": [
    "cm = confusion_matrix(y_test, y_pred2)\n",
    "accuracy = accuracy_score(y_test, y_pred2)\n",
    "print(cm)\n",
    "print(accuracy)\n",
    "labels = list(y_train.keys())\n",
    "\n",
    "s = sns.heatmap(cm, cmap='YlGnBu', annot=True, fmt=\".0f\")\n",
    "s.set_xlabel(\"predicted\")\n",
    "s.set_ylabel(\"true\")\n",
    "plt.show()\n"
   ]
  },
  {
   "cell_type": "markdown",
   "metadata": {},
   "source": [
    "## ROC curve"
   ]
  },
  {
   "cell_type": "code",
   "execution_count": 52,
   "metadata": {},
   "outputs": [
    {
     "name": "stdout",
     "output_type": "stream",
     "text": [
      "[0.35053052 0.88392338 0.32299837 0.91078454 0.06737315 0.86963349\n",
      " 0.32693639 0.73733196 0.34508332 0.21671125 0.93724564 0.89488493\n",
      " 0.03753734 0.68424762 0.13106372 0.06642517 0.96432441 0.19025466\n",
      " 0.02852508 0.35762047 0.80428677 0.9076526  0.19340879 0.37809588\n",
      " 0.69032981 0.60167724 0.7960978  0.76304648 0.43451637 0.25993885\n",
      " 0.41960104 0.63753888 0.07626337 0.79830726 0.06265542 0.71222328\n",
      " 0.52104654 0.43075534 0.92842028 0.58735606 0.21370407 0.78601335\n",
      " 0.86702176 0.11406787 0.68917305 0.07414641 0.24328991 0.60766713\n",
      " 0.38742407 0.46942457 0.86439734 0.63168011 0.47879104 0.63192979\n",
      " 0.06243566 0.96429375 0.70066947 0.6330559  0.88652836 0.19416356\n",
      " 0.32944496 0.26193394 0.11299354 0.38973872 0.11001117 0.79853049\n",
      " 0.74711503 0.29765807 0.71064104 0.73775052 0.00812117 0.49232515\n",
      " 0.52762335 0.9284748  0.32194108 0.05406886 0.47970953 0.93671144\n",
      " 0.72613831 0.22971432 0.81284359 0.91892976 0.12187033 0.45978458\n",
      " 0.13660497 0.84752759 0.10293301 0.96380186 0.11591375 0.94296154\n",
      " 0.80036173 0.12687448 0.64533897 0.67202478 0.5797212  0.71544111\n",
      " 0.76577624 0.13761122 0.55270693 0.28555224]\n",
      "ROC AUC Score: 0.814\n"
     ]
    },
    {
     "data": {
      "image/png": "[encoded data removed]",
      "text/plain": [
       "<Figure size 640x480 with 1 Axes>"
      ]
     },
     "metadata": {},
     "output_type": "display_data"
    }
   ],
   "source": [
    "from sklearn.metrics import roc_auc_score, roc_curve\n",
    "\n",
    "y_pred_proba = gbr2.predict_proba(X_test)[:, 1]\n",
    "print(y_pred_proba[:100]) \n",
    "\n",
    "roc_auc = roc_auc_score(y_test, y_pred_proba)\n",
    "print(f\"ROC AUC Score: {roc_auc:.3f}\")\n",
    "\n",
    "fpr, tpr, thresholds = roc_curve(y_test, y_pred_proba)\n",
    "\n",
    "plt.plot(fpr, tpr, label=f\"AUC = {roc_auc:.3f}\")\n",
    "plt.plot([0, 1], [0, 1], 'k--')\n",
    "plt.xlabel('False Positive Rate')\n",
    "plt.ylabel('True Positive Rate')\n",
    "plt.title('ROC Curve')\n",
    "plt.legend()\n",
    "plt.show()"
   ]
  },
  {
   "cell_type": "markdown",
   "metadata": {},
   "source": [
    "### features"
   ]
  },
  {
   "cell_type": "code",
   "execution_count": 53,
   "metadata": {},
   "outputs": [],
   "source": [
    "features = pd.DataFrame(gbr2.feature_importances_, index = X_players_ranked.columns)"
   ]
  },
  {
   "cell_type": "code",
   "execution_count": 54,
   "metadata": {},
   "outputs": [
    {
     "data": {
      "text/html": [
       "<div>\n",
       "<style scoped>\n",
       "    .dataframe tbody tr th:only-of-type {\n",
       "        vertical-align: middle;\n",
       "    }\n",
       "\n",
       "    .dataframe tbody tr th {\n",
       "        vertical-align: top;\n",
       "    }\n",
       "\n",
       "    .dataframe thead th {\n",
       "        text-align: right;\n",
       "    }\n",
       "</style>\n",
       "<table border=\"1\" class=\"dataframe\">\n",
       "  <thead>\n",
       "    <tr style=\"text-align: right;\">\n",
       "      <th></th>\n",
       "      <th>0</th>\n",
       "    </tr>\n",
       "  </thead>\n",
       "  <tbody>\n",
       "    <tr>\n",
       "      <th>positioning_percent_behind_ball</th>\n",
       "      <td>0.163410</td>\n",
       "    </tr>\n",
       "    <tr>\n",
       "      <th>positioning_percent_infront_ball</th>\n",
       "      <td>0.127924</td>\n",
       "    </tr>\n",
       "    <tr>\n",
       "      <th>positioning_percent_most_forward</th>\n",
       "      <td>0.089265</td>\n",
       "    </tr>\n",
       "    <tr>\n",
       "      <th>positioning_avg_distance_to_ball_possession</th>\n",
       "      <td>0.049329</td>\n",
       "    </tr>\n",
       "    <tr>\n",
       "      <th>positioning_time_offensive_third</th>\n",
       "      <td>0.041245</td>\n",
       "    </tr>\n",
       "    <tr>\n",
       "      <th>positioning_time_most_back</th>\n",
       "      <td>0.037937</td>\n",
       "    </tr>\n",
       "    <tr>\n",
       "      <th>positioning_time_infront_ball</th>\n",
       "      <td>0.030698</td>\n",
       "    </tr>\n",
       "    <tr>\n",
       "      <th>positioning_percent_most_back</th>\n",
       "      <td>0.029301</td>\n",
       "    </tr>\n",
       "    <tr>\n",
       "      <th>positioning_time_most_forward</th>\n",
       "      <td>0.029099</td>\n",
       "    </tr>\n",
       "    <tr>\n",
       "      <th>positioning_percent_offensive_third</th>\n",
       "      <td>0.027146</td>\n",
       "    </tr>\n",
       "    <tr>\n",
       "      <th>positioning_avg_distance_to_ball_no_possession</th>\n",
       "      <td>0.021384</td>\n",
       "    </tr>\n",
       "    <tr>\n",
       "      <th>positioning_percent_closest_to_ball</th>\n",
       "      <td>0.016196</td>\n",
       "    </tr>\n",
       "    <tr>\n",
       "      <th>positioning_avg_distance_to_ball</th>\n",
       "      <td>0.015759</td>\n",
       "    </tr>\n",
       "    <tr>\n",
       "      <th>positioning_time_defensive_third</th>\n",
       "      <td>0.015574</td>\n",
       "    </tr>\n",
       "    <tr>\n",
       "      <th>positioning_time_closest_to_ball</th>\n",
       "      <td>0.015095</td>\n",
       "    </tr>\n",
       "    <tr>\n",
       "      <th>positioning_time_defensive_half</th>\n",
       "      <td>0.014886</td>\n",
       "    </tr>\n",
       "    <tr>\n",
       "      <th>positioning_avg_distance_to_mates</th>\n",
       "      <td>0.014033</td>\n",
       "    </tr>\n",
       "    <tr>\n",
       "      <th>positioning_time_behind_ball</th>\n",
       "      <td>0.013598</td>\n",
       "    </tr>\n",
       "    <tr>\n",
       "      <th>movement_total_distance</th>\n",
       "      <td>0.012340</td>\n",
       "    </tr>\n",
       "    <tr>\n",
       "      <th>movement_time_high_air</th>\n",
       "      <td>0.012199</td>\n",
       "    </tr>\n",
       "    <tr>\n",
       "      <th>positioning_percent_neutral_third</th>\n",
       "      <td>0.011986</td>\n",
       "    </tr>\n",
       "    <tr>\n",
       "      <th>movement_time_powerslide</th>\n",
       "      <td>0.011619</td>\n",
       "    </tr>\n",
       "    <tr>\n",
       "      <th>movement_percent_ground</th>\n",
       "      <td>0.011583</td>\n",
       "    </tr>\n",
       "    <tr>\n",
       "      <th>positioning_percent_farthest_from_ball</th>\n",
       "      <td>0.011423</td>\n",
       "    </tr>\n",
       "    <tr>\n",
       "      <th>movement_time_boost_speed</th>\n",
       "      <td>0.011357</td>\n",
       "    </tr>\n",
       "    <tr>\n",
       "      <th>positioning_time_neutral_third</th>\n",
       "      <td>0.011152</td>\n",
       "    </tr>\n",
       "    <tr>\n",
       "      <th>movement_percent_boost_speed</th>\n",
       "      <td>0.011088</td>\n",
       "    </tr>\n",
       "    <tr>\n",
       "      <th>positioning_time_offensive_half</th>\n",
       "      <td>0.010791</td>\n",
       "    </tr>\n",
       "    <tr>\n",
       "      <th>movement_percent_high_air</th>\n",
       "      <td>0.010640</td>\n",
       "    </tr>\n",
       "    <tr>\n",
       "      <th>movement_time_low_air</th>\n",
       "      <td>0.010571</td>\n",
       "    </tr>\n",
       "    <tr>\n",
       "      <th>movement_count_powerslide</th>\n",
       "      <td>0.010270</td>\n",
       "    </tr>\n",
       "    <tr>\n",
       "      <th>movement_percent_low_air</th>\n",
       "      <td>0.010069</td>\n",
       "    </tr>\n",
       "    <tr>\n",
       "      <th>movement_time_supersonic_speed</th>\n",
       "      <td>0.010056</td>\n",
       "    </tr>\n",
       "    <tr>\n",
       "      <th>movement_percent_supersonic_speed</th>\n",
       "      <td>0.009948</td>\n",
       "    </tr>\n",
       "    <tr>\n",
       "      <th>movement_time_ground</th>\n",
       "      <td>0.009940</td>\n",
       "    </tr>\n",
       "    <tr>\n",
       "      <th>positioning_percent_defensive_third</th>\n",
       "      <td>0.009877</td>\n",
       "    </tr>\n",
       "    <tr>\n",
       "      <th>movement_time_slow_speed</th>\n",
       "      <td>0.008909</td>\n",
       "    </tr>\n",
       "    <tr>\n",
       "      <th>positioning_time_farthest_from_ball</th>\n",
       "      <td>0.008873</td>\n",
       "    </tr>\n",
       "    <tr>\n",
       "      <th>movement_percent_slow_speed</th>\n",
       "      <td>0.008347</td>\n",
       "    </tr>\n",
       "    <tr>\n",
       "      <th>movement_avg_powerslide_duration</th>\n",
       "      <td>0.005698</td>\n",
       "    </tr>\n",
       "    <tr>\n",
       "      <th>positioning_percent_defensive_half</th>\n",
       "      <td>0.005460</td>\n",
       "    </tr>\n",
       "    <tr>\n",
       "      <th>positioning_percent_offensive_half</th>\n",
       "      <td>0.005252</td>\n",
       "    </tr>\n",
       "    <tr>\n",
       "      <th>movement_avg_speed</th>\n",
       "      <td>0.004433</td>\n",
       "    </tr>\n",
       "    <tr>\n",
       "      <th>movement_avg_speed_percentage</th>\n",
       "      <td>0.004243</td>\n",
       "    </tr>\n",
       "  </tbody>\n",
       "</table>\n",
       "</div>"
      ],
      "text/plain": [
       "                                                       0\n",
       "positioning_percent_behind_ball                 0.163410\n",
       "positioning_percent_infront_ball                0.127924\n",
       "positioning_percent_most_forward                0.089265\n",
       "positioning_avg_distance_to_ball_possession     0.049329\n",
       "positioning_time_offensive_third                0.041245\n",
       "positioning_time_most_back                      0.037937\n",
       "positioning_time_infront_ball                   0.030698\n",
       "positioning_percent_most_back                   0.029301\n",
       "positioning_time_most_forward                   0.029099\n",
       "positioning_percent_offensive_third             0.027146\n",
       "positioning_avg_distance_to_ball_no_possession  0.021384\n",
       "positioning_percent_closest_to_ball             0.016196\n",
       "positioning_avg_distance_to_ball                0.015759\n",
       "positioning_time_defensive_third                0.015574\n",
       "positioning_time_closest_to_ball                0.015095\n",
       "positioning_time_defensive_half                 0.014886\n",
       "positioning_avg_distance_to_mates               0.014033\n",
       "positioning_time_behind_ball                    0.013598\n",
       "movement_total_distance                         0.012340\n",
       "movement_time_high_air                          0.012199\n",
       "positioning_percent_neutral_third               0.011986\n",
       "movement_time_powerslide                        0.011619\n",
       "movement_percent_ground                         0.011583\n",
       "positioning_percent_farthest_from_ball          0.011423\n",
       "movement_time_boost_speed                       0.011357\n",
       "positioning_time_neutral_third                  0.011152\n",
       "movement_percent_boost_speed                    0.011088\n",
       "positioning_time_offensive_half                 0.010791\n",
       "movement_percent_high_air                       0.010640\n",
       "movement_time_low_air                           0.010571\n",
       "movement_count_powerslide                       0.010270\n",
       "movement_percent_low_air                        0.010069\n",
       "movement_time_supersonic_speed                  0.010056\n",
       "movement_percent_supersonic_speed               0.009948\n",
       "movement_time_ground                            0.009940\n",
       "positioning_percent_defensive_third             0.009877\n",
       "movement_time_slow_speed                        0.008909\n",
       "positioning_time_farthest_from_ball             0.008873\n",
       "movement_percent_slow_speed                     0.008347\n",
       "movement_avg_powerslide_duration                0.005698\n",
       "positioning_percent_defensive_half              0.005460\n",
       "positioning_percent_offensive_half              0.005252\n",
       "movement_avg_speed                              0.004433\n",
       "movement_avg_speed_percentage                   0.004243"
      ]
     },
     "execution_count": 54,
     "metadata": {},
     "output_type": "execute_result"
    }
   ],
   "source": [
    "features.sort_values(0, ascending=False)"
   ]
  }
 ],
 "metadata": {
  "kernelspec": {
   "display_name": "marleen-rocket-league-env",
   "language": "python",
   "name": "python3"
  },
  "language_info": {
   "codemirror_mode": {
    "name": "ipython",
    "version": 3
   },
   "file_extension": ".py",
   "mimetype": "text/x-python",
   "name": "python",
   "nbconvert_exporter": "python",
   "pygments_lexer": "ipython3",
   "version": "3.9.21"
  }
 },
 "nbformat": 4,
 "nbformat_minor": 2
}
