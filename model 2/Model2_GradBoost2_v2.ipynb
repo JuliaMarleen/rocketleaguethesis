{
 "cells": [
  {
   "cell_type": "markdown",
   "metadata": {},
   "source": [
    "# GradBoost Model"
   ]
  },
  {
   "cell_type": "markdown",
   "metadata": {},
   "source": [
    "### Imports"
   ]
  },
  {
   "cell_type": "code",
   "execution_count": 1,
   "metadata": {},
   "outputs": [
    {
     "name": "stdout",
     "output_type": "stream",
     "text": [
      "pandas version: 2.2.3\n",
      "matplotlib version: 3.9.2\n",
      "seaborn version: 0.13.2\n",
      "numpy version: 1.26.4\n",
      "sklearn version: 1.1.3\n",
      "Python version: 3.9.21 (main, Dec 11 2024, 10:23:52) \n",
      "[Clang 14.0.6 ]\n"
     ]
    }
   ],
   "source": [
    "import pandas as pd\n",
    "import matplotlib.pyplot as plt\n",
    "import matplotlib\n",
    "import seaborn as sns\n",
    "import numpy as np\n",
    "\n",
    "print(f\"pandas version: {pd.__version__}\")\n",
    "print(f\"matplotlib version: {matplotlib.__version__}\")\n",
    "print(f\"seaborn version: {sns.__version__}\")\n",
    "print(f\"numpy version: {np.__version__}\")\n",
    "\n",
    "import sklearn\n",
    "print(f\"sklearn version: {sklearn.__version__}\")\n",
    "\n",
    "import sys\n",
    "print(f\"Python version: {sys.version}\")"
   ]
  },
  {
   "cell_type": "markdown",
   "metadata": {},
   "source": [
    "### Import data"
   ]
  },
  {
   "cell_type": "code",
   "execution_count": 2,
   "metadata": {},
   "outputs": [],
   "source": [
    "players_all = pd.read_csv('../games_by_players_all.csv', encoding='utf8')\n",
    "players_ranked = pd.read_csv('../games_by_players_ranked.csv', encoding='utf8')\n",
    "players_pro = pd.read_csv('../games_by_players_pro.csv', encoding='utf8')\n",
    "\n",
    "teams_all = pd.read_csv('../games_by_team_all_added_features.csv', encoding='utf8')\n",
    "teams_ranked = pd.read_csv('../games_by_team_ranked_added_features.csv', encoding='utf8')\n",
    "teams_pro = pd.read_csv('../games_by_team_pro_added_features.csv', encoding='utf8')\n",
    "\n",
    "small_file = pd.read_csv('../small_csv_file.csv', encoding='utf8')"
   ]
  },
  {
   "cell_type": "code",
   "execution_count": 3,
   "metadata": {},
   "outputs": [],
   "source": [
    "players_all = players_all.drop(columns = ['game_id', 'player_tag', 'pro'])\n",
    "players_ranked = players_ranked.drop(columns = ['game_id', 'player_tag', 'pro'])\n",
    "players_pro = players_pro.drop(columns = ['game_id', 'player_tag', 'pro'])\n",
    "\n",
    "small_file = small_file.drop(columns = ['game_id', 'player_tag', 'pro'])\n",
    "\n",
    "# Team\n",
    "teams_all = teams_all.drop(columns = ['pro'])\n",
    "teams_ranked = teams_ranked.drop(columns = ['pro'])\n",
    "teams_pro = teams_pro.drop(columns = ['pro'])"
   ]
  },
  {
   "cell_type": "code",
   "execution_count": 4,
   "metadata": {},
   "outputs": [
    {
     "data": {
      "text/html": [
       "<div>\n",
       "<style scoped>\n",
       "    .dataframe tbody tr th:only-of-type {\n",
       "        vertical-align: middle;\n",
       "    }\n",
       "\n",
       "    .dataframe tbody tr th {\n",
       "        vertical-align: top;\n",
       "    }\n",
       "\n",
       "    .dataframe thead th {\n",
       "        text-align: right;\n",
       "    }\n",
       "</style>\n",
       "<table border=\"1\" class=\"dataframe\">\n",
       "  <thead>\n",
       "    <tr style=\"text-align: right;\">\n",
       "      <th></th>\n",
       "      <th>movement_avg_speed</th>\n",
       "      <th>movement_total_distance</th>\n",
       "      <th>movement_time_supersonic_speed</th>\n",
       "      <th>movement_time_boost_speed</th>\n",
       "      <th>movement_time_slow_speed</th>\n",
       "      <th>movement_time_ground</th>\n",
       "      <th>movement_time_low_air</th>\n",
       "      <th>movement_time_high_air</th>\n",
       "      <th>movement_time_powerslide</th>\n",
       "      <th>movement_count_powerslide</th>\n",
       "      <th>...</th>\n",
       "      <th>positioning_percent_neutral_third</th>\n",
       "      <th>positioning_percent_defensive_half</th>\n",
       "      <th>positioning_percent_offensive_half</th>\n",
       "      <th>positioning_percent_behind_ball</th>\n",
       "      <th>positioning_percent_infront_ball</th>\n",
       "      <th>positioning_percent_most_back</th>\n",
       "      <th>positioning_percent_most_forward</th>\n",
       "      <th>positioning_percent_closest_to_ball</th>\n",
       "      <th>positioning_percent_farthest_from_ball</th>\n",
       "      <th>winner</th>\n",
       "    </tr>\n",
       "  </thead>\n",
       "  <tbody>\n",
       "    <tr>\n",
       "      <th>0</th>\n",
       "      <td>1468.0</td>\n",
       "      <td>505882.0</td>\n",
       "      <td>40.34</td>\n",
       "      <td>142.29</td>\n",
       "      <td>196.16</td>\n",
       "      <td>219.80</td>\n",
       "      <td>143.43</td>\n",
       "      <td>15.56</td>\n",
       "      <td>8.01</td>\n",
       "      <td>68.0</td>\n",
       "      <td>...</td>\n",
       "      <td>26.72</td>\n",
       "      <td>83.53</td>\n",
       "      <td>16.47</td>\n",
       "      <td>75.83</td>\n",
       "      <td>24.17</td>\n",
       "      <td>31.88</td>\n",
       "      <td>28.71</td>\n",
       "      <td>39.66</td>\n",
       "      <td>28.51</td>\n",
       "      <td>False</td>\n",
       "    </tr>\n",
       "    <tr>\n",
       "      <th>1</th>\n",
       "      <td>1410.0</td>\n",
       "      <td>474841.0</td>\n",
       "      <td>41.74</td>\n",
       "      <td>122.11</td>\n",
       "      <td>208.83</td>\n",
       "      <td>248.88</td>\n",
       "      <td>115.01</td>\n",
       "      <td>8.80</td>\n",
       "      <td>5.41</td>\n",
       "      <td>30.0</td>\n",
       "      <td>...</td>\n",
       "      <td>24.45</td>\n",
       "      <td>79.52</td>\n",
       "      <td>20.48</td>\n",
       "      <td>67.56</td>\n",
       "      <td>32.44</td>\n",
       "      <td>31.06</td>\n",
       "      <td>36.93</td>\n",
       "      <td>31.49</td>\n",
       "      <td>32.85</td>\n",
       "      <td>False</td>\n",
       "    </tr>\n",
       "    <tr>\n",
       "      <th>2</th>\n",
       "      <td>1355.0</td>\n",
       "      <td>465999.0</td>\n",
       "      <td>35.87</td>\n",
       "      <td>119.38</td>\n",
       "      <td>223.64</td>\n",
       "      <td>212.03</td>\n",
       "      <td>145.07</td>\n",
       "      <td>21.79</td>\n",
       "      <td>7.24</td>\n",
       "      <td>36.0</td>\n",
       "      <td>...</td>\n",
       "      <td>26.17</td>\n",
       "      <td>80.77</td>\n",
       "      <td>19.23</td>\n",
       "      <td>67.72</td>\n",
       "      <td>32.28</td>\n",
       "      <td>37.22</td>\n",
       "      <td>32.79</td>\n",
       "      <td>27.29</td>\n",
       "      <td>38.78</td>\n",
       "      <td>False</td>\n",
       "    </tr>\n",
       "    <tr>\n",
       "      <th>3</th>\n",
       "      <td>1455.0</td>\n",
       "      <td>500485.0</td>\n",
       "      <td>41.75</td>\n",
       "      <td>130.76</td>\n",
       "      <td>206.38</td>\n",
       "      <td>231.33</td>\n",
       "      <td>123.58</td>\n",
       "      <td>23.97</td>\n",
       "      <td>5.61</td>\n",
       "      <td>49.0</td>\n",
       "      <td>...</td>\n",
       "      <td>29.87</td>\n",
       "      <td>54.02</td>\n",
       "      <td>45.98</td>\n",
       "      <td>77.37</td>\n",
       "      <td>22.63</td>\n",
       "      <td>28.14</td>\n",
       "      <td>44.34</td>\n",
       "      <td>41.22</td>\n",
       "      <td>29.30</td>\n",
       "      <td>True</td>\n",
       "    </tr>\n",
       "    <tr>\n",
       "      <th>4</th>\n",
       "      <td>1518.0</td>\n",
       "      <td>521069.0</td>\n",
       "      <td>50.22</td>\n",
       "      <td>149.49</td>\n",
       "      <td>179.09</td>\n",
       "      <td>241.24</td>\n",
       "      <td>128.04</td>\n",
       "      <td>9.51</td>\n",
       "      <td>3.34</td>\n",
       "      <td>32.0</td>\n",
       "      <td>...</td>\n",
       "      <td>35.38</td>\n",
       "      <td>61.49</td>\n",
       "      <td>38.51</td>\n",
       "      <td>79.66</td>\n",
       "      <td>20.34</td>\n",
       "      <td>29.56</td>\n",
       "      <td>30.44</td>\n",
       "      <td>30.15</td>\n",
       "      <td>34.75</td>\n",
       "      <td>True</td>\n",
       "    </tr>\n",
       "  </tbody>\n",
       "</table>\n",
       "<p>5 rows × 45 columns</p>\n",
       "</div>"
      ],
      "text/plain": [
       "   movement_avg_speed  movement_total_distance  \\\n",
       "0              1468.0                 505882.0   \n",
       "1              1410.0                 474841.0   \n",
       "2              1355.0                 465999.0   \n",
       "3              1455.0                 500485.0   \n",
       "4              1518.0                 521069.0   \n",
       "\n",
       "   movement_time_supersonic_speed  movement_time_boost_speed  \\\n",
       "0                           40.34                     142.29   \n",
       "1                           41.74                     122.11   \n",
       "2                           35.87                     119.38   \n",
       "3                           41.75                     130.76   \n",
       "4                           50.22                     149.49   \n",
       "\n",
       "   movement_time_slow_speed  movement_time_ground  movement_time_low_air  \\\n",
       "0                    196.16                219.80                 143.43   \n",
       "1                    208.83                248.88                 115.01   \n",
       "2                    223.64                212.03                 145.07   \n",
       "3                    206.38                231.33                 123.58   \n",
       "4                    179.09                241.24                 128.04   \n",
       "\n",
       "   movement_time_high_air  movement_time_powerslide  \\\n",
       "0                   15.56                      8.01   \n",
       "1                    8.80                      5.41   \n",
       "2                   21.79                      7.24   \n",
       "3                   23.97                      5.61   \n",
       "4                    9.51                      3.34   \n",
       "\n",
       "   movement_count_powerslide  ...  positioning_percent_neutral_third  \\\n",
       "0                       68.0  ...                              26.72   \n",
       "1                       30.0  ...                              24.45   \n",
       "2                       36.0  ...                              26.17   \n",
       "3                       49.0  ...                              29.87   \n",
       "4                       32.0  ...                              35.38   \n",
       "\n",
       "   positioning_percent_defensive_half  positioning_percent_offensive_half  \\\n",
       "0                               83.53                               16.47   \n",
       "1                               79.52                               20.48   \n",
       "2                               80.77                               19.23   \n",
       "3                               54.02                               45.98   \n",
       "4                               61.49                               38.51   \n",
       "\n",
       "   positioning_percent_behind_ball  positioning_percent_infront_ball  \\\n",
       "0                            75.83                             24.17   \n",
       "1                            67.56                             32.44   \n",
       "2                            67.72                             32.28   \n",
       "3                            77.37                             22.63   \n",
       "4                            79.66                             20.34   \n",
       "\n",
       "   positioning_percent_most_back  positioning_percent_most_forward  \\\n",
       "0                          31.88                             28.71   \n",
       "1                          31.06                             36.93   \n",
       "2                          37.22                             32.79   \n",
       "3                          28.14                             44.34   \n",
       "4                          29.56                             30.44   \n",
       "\n",
       "   positioning_percent_closest_to_ball  \\\n",
       "0                                39.66   \n",
       "1                                31.49   \n",
       "2                                27.29   \n",
       "3                                41.22   \n",
       "4                                30.15   \n",
       "\n",
       "   positioning_percent_farthest_from_ball  winner  \n",
       "0                                   28.51   False  \n",
       "1                                   32.85   False  \n",
       "2                                   38.78   False  \n",
       "3                                   29.30    True  \n",
       "4                                   34.75    True  \n",
       "\n",
       "[5 rows x 45 columns]"
      ]
     },
     "execution_count": 4,
     "metadata": {},
     "output_type": "execute_result"
    }
   ],
   "source": [
    "players_all.head()"
   ]
  },
  {
   "cell_type": "markdown",
   "metadata": {},
   "source": [
    "### X,y division"
   ]
  },
  {
   "cell_type": "code",
   "execution_count": 5,
   "metadata": {},
   "outputs": [],
   "source": [
    "X_players_all = players_all.iloc[:, 0:44]\n",
    "X_players_ranked = players_ranked.iloc[:, 0:44]\n",
    "X_players_pro = players_pro.iloc[:, 0:44]\n",
    "\n",
    "X_small_file = small_file.iloc[:, 0:44]"
   ]
  },
  {
   "cell_type": "code",
   "execution_count": 6,
   "metadata": {},
   "outputs": [],
   "source": [
    "y_players_all = players_all.iloc[:, 44]\n",
    "y_players_ranked = players_ranked.iloc[:, 44]\n",
    "y_players_pro = players_pro.iloc[:, 44]\n",
    "\n",
    "y_small_file = small_file.iloc[:, 44]\n"
   ]
  },
  {
   "cell_type": "code",
   "execution_count": 7,
   "metadata": {},
   "outputs": [],
   "source": [
    "# team\n",
    "X_teams_all = teams_all.iloc[:, 0:200]\n",
    "X_teams_ranked = teams_ranked.iloc[:, 0:200]\n",
    "X_teams_pro = teams_pro.iloc[:, 0:200]"
   ]
  },
  {
   "cell_type": "code",
   "execution_count": 8,
   "metadata": {},
   "outputs": [],
   "source": [
    "# Team\n",
    "y_teams_all = teams_all.iloc[:, 200]\n",
    "y_teams_ranked = teams_ranked.iloc[:, 200]\n",
    "y_teams_pro = teams_pro.iloc[:, 200]"
   ]
  },
  {
   "cell_type": "markdown",
   "metadata": {},
   "source": [
    "### Normalisation?"
   ]
  },
  {
   "cell_type": "code",
   "execution_count": 9,
   "metadata": {},
   "outputs": [],
   "source": [
    "# Z-score\n",
    "from sklearn.preprocessing import StandardScaler\n",
    "scaler = StandardScaler()\n",
    "\n",
    "X_players_all_normalized = scaler.fit_transform(X_players_all)\n",
    "X_players_ranked_normalized =  scaler.fit_transform(X_players_ranked)\n",
    "X_players_pro_normalized = scaler.fit_transform(X_players_pro)\n",
    "X_small_file_normalized = scaler.fit_transform(X_small_file)\n",
    "\n",
    "X_players_all_normalized = pd.DataFrame(X_players_all_normalized, columns=X_players_all.columns)\n",
    "X_players_ranked_normalized = pd.DataFrame(X_players_ranked_normalized, columns=X_players_ranked.columns)\n",
    "X_players_pro_normalized = pd.DataFrame(X_players_pro_normalized, columns=X_players_pro.columns)\n",
    "X_small_file_normalized = pd.DataFrame(X_small_file_normalized, columns=X_small_file.columns)"
   ]
  },
  {
   "cell_type": "code",
   "execution_count": 10,
   "metadata": {},
   "outputs": [],
   "source": [
    "# Z-score for teams\n",
    "from sklearn.preprocessing import StandardScaler\n",
    "scaler = StandardScaler()\n",
    "\n",
    "X_teams_all_normalized = scaler.fit_transform(X_teams_all)\n",
    "X_teams_ranked_normalized =  scaler.fit_transform(X_teams_ranked)\n",
    "X_teams_pro_normalized = scaler.fit_transform(X_teams_pro)\n",
    "\n",
    "X_teams_all_normalized = pd.DataFrame(X_teams_all_normalized, columns=X_teams_all.columns)\n",
    "X_teams_ranked_normalized = pd.DataFrame(X_teams_ranked_normalized, columns=X_teams_ranked.columns)\n",
    "X_teams_pro_normalized = pd.DataFrame(X_teams_pro_normalized, columns=X_teams_pro.columns)"
   ]
  },
  {
   "cell_type": "code",
   "execution_count": 11,
   "metadata": {},
   "outputs": [
    {
     "data": {
      "text/html": [
       "<div>\n",
       "<style scoped>\n",
       "    .dataframe tbody tr th:only-of-type {\n",
       "        vertical-align: middle;\n",
       "    }\n",
       "\n",
       "    .dataframe tbody tr th {\n",
       "        vertical-align: top;\n",
       "    }\n",
       "\n",
       "    .dataframe thead th {\n",
       "        text-align: right;\n",
       "    }\n",
       "</style>\n",
       "<table border=\"1\" class=\"dataframe\">\n",
       "  <thead>\n",
       "    <tr style=\"text-align: right;\">\n",
       "      <th></th>\n",
       "      <th>movement_avg_speed</th>\n",
       "      <th>movement_total_distance</th>\n",
       "      <th>movement_time_supersonic_speed</th>\n",
       "      <th>movement_time_boost_speed</th>\n",
       "      <th>movement_time_slow_speed</th>\n",
       "      <th>movement_time_ground</th>\n",
       "      <th>movement_time_low_air</th>\n",
       "      <th>movement_time_high_air</th>\n",
       "      <th>movement_time_powerslide</th>\n",
       "      <th>movement_count_powerslide</th>\n",
       "      <th>...</th>\n",
       "      <th>positioning_percent_offensive_third</th>\n",
       "      <th>positioning_percent_neutral_third</th>\n",
       "      <th>positioning_percent_defensive_half</th>\n",
       "      <th>positioning_percent_offensive_half</th>\n",
       "      <th>positioning_percent_behind_ball</th>\n",
       "      <th>positioning_percent_infront_ball</th>\n",
       "      <th>positioning_percent_most_back</th>\n",
       "      <th>positioning_percent_most_forward</th>\n",
       "      <th>positioning_percent_closest_to_ball</th>\n",
       "      <th>positioning_percent_farthest_from_ball</th>\n",
       "    </tr>\n",
       "  </thead>\n",
       "  <tbody>\n",
       "    <tr>\n",
       "      <th>0</th>\n",
       "      <td>-0.244786</td>\n",
       "      <td>-0.006564</td>\n",
       "      <td>-0.105950</td>\n",
       "      <td>-0.028138</td>\n",
       "      <td>0.536498</td>\n",
       "      <td>0.210515</td>\n",
       "      <td>0.345503</td>\n",
       "      <td>0.088237</td>\n",
       "      <td>0.262826</td>\n",
       "      <td>0.215025</td>\n",
       "      <td>...</td>\n",
       "      <td>-2.540903</td>\n",
       "      <td>-1.018220</td>\n",
       "      <td>2.796536</td>\n",
       "      <td>-2.796536</td>\n",
       "      <td>0.839287</td>\n",
       "      <td>-0.839287</td>\n",
       "      <td>-0.364511</td>\n",
       "      <td>-0.855038</td>\n",
       "      <td>1.348097</td>\n",
       "      <td>-1.015858</td>\n",
       "    </tr>\n",
       "    <tr>\n",
       "      <th>1</th>\n",
       "      <td>-0.864632</td>\n",
       "      <td>-0.373041</td>\n",
       "      <td>-0.027812</td>\n",
       "      <td>-0.758952</td>\n",
       "      <td>0.873504</td>\n",
       "      <td>0.984698</td>\n",
       "      <td>-0.750224</td>\n",
       "      <td>-0.864637</td>\n",
       "      <td>-0.613178</td>\n",
       "      <td>-1.117797</td>\n",
       "      <td>...</td>\n",
       "      <td>-1.971989</td>\n",
       "      <td>-1.597289</td>\n",
       "      <td>2.192010</td>\n",
       "      <td>-2.192010</td>\n",
       "      <td>-0.759975</td>\n",
       "      <td>0.759975</td>\n",
       "      <td>-0.497711</td>\n",
       "      <td>0.621517</td>\n",
       "      <td>-0.427544</td>\n",
       "      <td>-0.227942</td>\n",
       "    </tr>\n",
       "    <tr>\n",
       "      <th>2</th>\n",
       "      <td>-1.452418</td>\n",
       "      <td>-0.477431</td>\n",
       "      <td>-0.355434</td>\n",
       "      <td>-0.857818</td>\n",
       "      <td>1.267432</td>\n",
       "      <td>0.003658</td>\n",
       "      <td>0.408733</td>\n",
       "      <td>0.966403</td>\n",
       "      <td>0.003394</td>\n",
       "      <td>-0.907351</td>\n",
       "      <td>...</td>\n",
       "      <td>-2.304965</td>\n",
       "      <td>-1.158523</td>\n",
       "      <td>2.380453</td>\n",
       "      <td>-2.380453</td>\n",
       "      <td>-0.729034</td>\n",
       "      <td>0.729034</td>\n",
       "      <td>0.502915</td>\n",
       "      <td>-0.122149</td>\n",
       "      <td>-1.340359</td>\n",
       "      <td>0.848635</td>\n",
       "    </tr>\n",
       "    <tr>\n",
       "      <th>3</th>\n",
       "      <td>-0.383717</td>\n",
       "      <td>-0.070282</td>\n",
       "      <td>-0.027254</td>\n",
       "      <td>-0.445694</td>\n",
       "      <td>0.808337</td>\n",
       "      <td>0.517473</td>\n",
       "      <td>-0.419809</td>\n",
       "      <td>1.273691</td>\n",
       "      <td>-0.545793</td>\n",
       "      <td>-0.451386</td>\n",
       "      <td>...</td>\n",
       "      <td>2.113161</td>\n",
       "      <td>-0.214666</td>\n",
       "      <td>-1.652232</td>\n",
       "      <td>1.652232</td>\n",
       "      <td>1.137094</td>\n",
       "      <td>-1.137094</td>\n",
       "      <td>-0.972034</td>\n",
       "      <td>1.952572</td>\n",
       "      <td>1.687142</td>\n",
       "      <td>-0.872435</td>\n",
       "    </tr>\n",
       "    <tr>\n",
       "      <th>4</th>\n",
       "      <td>0.289565</td>\n",
       "      <td>0.172737</td>\n",
       "      <td>0.445481</td>\n",
       "      <td>0.232608</td>\n",
       "      <td>0.082456</td>\n",
       "      <td>0.781302</td>\n",
       "      <td>-0.247855</td>\n",
       "      <td>-0.764557</td>\n",
       "      <td>-1.310612</td>\n",
       "      <td>-1.047648</td>\n",
       "      <td>...</td>\n",
       "      <td>0.370265</td>\n",
       "      <td>1.190915</td>\n",
       "      <td>-0.526095</td>\n",
       "      <td>0.526095</td>\n",
       "      <td>1.579936</td>\n",
       "      <td>-1.579936</td>\n",
       "      <td>-0.741370</td>\n",
       "      <td>-0.544279</td>\n",
       "      <td>-0.718776</td>\n",
       "      <td>0.116999</td>\n",
       "    </tr>\n",
       "  </tbody>\n",
       "</table>\n",
       "<p>5 rows × 44 columns</p>\n",
       "</div>"
      ],
      "text/plain": [
       "   movement_avg_speed  movement_total_distance  \\\n",
       "0           -0.244786                -0.006564   \n",
       "1           -0.864632                -0.373041   \n",
       "2           -1.452418                -0.477431   \n",
       "3           -0.383717                -0.070282   \n",
       "4            0.289565                 0.172737   \n",
       "\n",
       "   movement_time_supersonic_speed  movement_time_boost_speed  \\\n",
       "0                       -0.105950                  -0.028138   \n",
       "1                       -0.027812                  -0.758952   \n",
       "2                       -0.355434                  -0.857818   \n",
       "3                       -0.027254                  -0.445694   \n",
       "4                        0.445481                   0.232608   \n",
       "\n",
       "   movement_time_slow_speed  movement_time_ground  movement_time_low_air  \\\n",
       "0                  0.536498              0.210515               0.345503   \n",
       "1                  0.873504              0.984698              -0.750224   \n",
       "2                  1.267432              0.003658               0.408733   \n",
       "3                  0.808337              0.517473              -0.419809   \n",
       "4                  0.082456              0.781302              -0.247855   \n",
       "\n",
       "   movement_time_high_air  movement_time_powerslide  \\\n",
       "0                0.088237                  0.262826   \n",
       "1               -0.864637                 -0.613178   \n",
       "2                0.966403                  0.003394   \n",
       "3                1.273691                 -0.545793   \n",
       "4               -0.764557                 -1.310612   \n",
       "\n",
       "   movement_count_powerslide  ...  positioning_percent_offensive_third  \\\n",
       "0                   0.215025  ...                            -2.540903   \n",
       "1                  -1.117797  ...                            -1.971989   \n",
       "2                  -0.907351  ...                            -2.304965   \n",
       "3                  -0.451386  ...                             2.113161   \n",
       "4                  -1.047648  ...                             0.370265   \n",
       "\n",
       "   positioning_percent_neutral_third  positioning_percent_defensive_half  \\\n",
       "0                          -1.018220                            2.796536   \n",
       "1                          -1.597289                            2.192010   \n",
       "2                          -1.158523                            2.380453   \n",
       "3                          -0.214666                           -1.652232   \n",
       "4                           1.190915                           -0.526095   \n",
       "\n",
       "   positioning_percent_offensive_half  positioning_percent_behind_ball  \\\n",
       "0                           -2.796536                         0.839287   \n",
       "1                           -2.192010                        -0.759975   \n",
       "2                           -2.380453                        -0.729034   \n",
       "3                            1.652232                         1.137094   \n",
       "4                            0.526095                         1.579936   \n",
       "\n",
       "   positioning_percent_infront_ball  positioning_percent_most_back  \\\n",
       "0                         -0.839287                      -0.364511   \n",
       "1                          0.759975                      -0.497711   \n",
       "2                          0.729034                       0.502915   \n",
       "3                         -1.137094                      -0.972034   \n",
       "4                         -1.579936                      -0.741370   \n",
       "\n",
       "   positioning_percent_most_forward  positioning_percent_closest_to_ball  \\\n",
       "0                         -0.855038                             1.348097   \n",
       "1                          0.621517                            -0.427544   \n",
       "2                         -0.122149                            -1.340359   \n",
       "3                          1.952572                             1.687142   \n",
       "4                         -0.544279                            -0.718776   \n",
       "\n",
       "   positioning_percent_farthest_from_ball  \n",
       "0                               -1.015858  \n",
       "1                               -0.227942  \n",
       "2                                0.848635  \n",
       "3                               -0.872435  \n",
       "4                                0.116999  \n",
       "\n",
       "[5 rows x 44 columns]"
      ]
     },
     "execution_count": 11,
     "metadata": {},
     "output_type": "execute_result"
    }
   ],
   "source": [
    "X_players_ranked_normalized.head()"
   ]
  },
  {
   "cell_type": "markdown",
   "metadata": {},
   "source": [
    "### Train-test split"
   ]
  },
  {
   "cell_type": "code",
   "execution_count": 12,
   "metadata": {},
   "outputs": [
    {
     "name": "stdout",
     "output_type": "stream",
     "text": [
      "sklearn version: 1.1.3\n"
     ]
    }
   ],
   "source": [
    "from sklearn.model_selection import train_test_split\n",
    "import sklearn\n",
    "print(f\"sklearn version: {sklearn.__version__}\")"
   ]
  },
  {
   "cell_type": "code",
   "execution_count": 13,
   "metadata": {},
   "outputs": [],
   "source": [
    "X_train, X_test, y_train, y_test = train_test_split(X_players_ranked_normalized, y_players_ranked, random_state=20, test_size=0.4)"
   ]
  },
  {
   "cell_type": "code",
   "execution_count": 14,
   "metadata": {},
   "outputs": [],
   "source": [
    "X_val, X_test, y_val, y_test = train_test_split(X_test, y_test, random_state=20, test_size=0.5)"
   ]
  },
  {
   "cell_type": "markdown",
   "metadata": {},
   "source": [
    "## Model"
   ]
  },
  {
   "cell_type": "code",
   "execution_count": 15,
   "metadata": {},
   "outputs": [],
   "source": [
    "from sklearn.model_selection import cross_val_score\n",
    "from sklearn.ensemble import GradientBoostingClassifier"
   ]
  },
  {
   "cell_type": "code",
   "execution_count": 16,
   "metadata": {},
   "outputs": [],
   "source": [
    "gbr = GradientBoostingClassifier(\n",
    "    n_estimators=500,\n",
    "    min_samples_split=10\n",
    ")"
   ]
  },
  {
   "cell_type": "code",
   "execution_count": 17,
   "metadata": {},
   "outputs": [],
   "source": [
    "# next is 1 min / met parameters meer dan 17 min / now is 4 min"
   ]
  },
  {
   "cell_type": "code",
   "execution_count": 18,
   "metadata": {},
   "outputs": [
    {
     "data": {
      "text/html": [
       "<style>#sk-container-id-1 {color: black;background-color: white;}#sk-container-id-1 pre{padding: 0;}#sk-container-id-1 div.sk-toggleable {background-color: white;}#sk-container-id-1 label.sk-toggleable__label {cursor: pointer;display: block;width: 100%;margin-bottom: 0;padding: 0.3em;box-sizing: border-box;text-align: center;}#sk-container-id-1 label.sk-toggleable__label-arrow:before {content: \"▸\";float: left;margin-right: 0.25em;color: #696969;}#sk-container-id-1 label.sk-toggleable__label-arrow:hover:before {color: black;}#sk-container-id-1 div.sk-estimator:hover label.sk-toggleable__label-arrow:before {color: black;}#sk-container-id-1 div.sk-toggleable__content {max-height: 0;max-width: 0;overflow: hidden;text-align: left;background-color: #f0f8ff;}#sk-container-id-1 div.sk-toggleable__content pre {margin: 0.2em;color: black;border-radius: 0.25em;background-color: #f0f8ff;}#sk-container-id-1 input.sk-toggleable__control:checked~div.sk-toggleable__content {max-height: 200px;max-width: 100%;overflow: auto;}#sk-container-id-1 input.sk-toggleable__control:checked~label.sk-toggleable__label-arrow:before {content: \"▾\";}#sk-container-id-1 div.sk-estimator input.sk-toggleable__control:checked~label.sk-toggleable__label {background-color: #d4ebff;}#sk-container-id-1 div.sk-label input.sk-toggleable__control:checked~label.sk-toggleable__label {background-color: #d4ebff;}#sk-container-id-1 input.sk-hidden--visually {border: 0;clip: rect(1px 1px 1px 1px);clip: rect(1px, 1px, 1px, 1px);height: 1px;margin: -1px;overflow: hidden;padding: 0;position: absolute;width: 1px;}#sk-container-id-1 div.sk-estimator {font-family: monospace;background-color: #f0f8ff;border: 1px dotted black;border-radius: 0.25em;box-sizing: border-box;margin-bottom: 0.5em;}#sk-container-id-1 div.sk-estimator:hover {background-color: #d4ebff;}#sk-container-id-1 div.sk-parallel-item::after {content: \"\";width: 100%;border-bottom: 1px solid gray;flex-grow: 1;}#sk-container-id-1 div.sk-label:hover label.sk-toggleable__label {background-color: #d4ebff;}#sk-container-id-1 div.sk-serial::before {content: \"\";position: absolute;border-left: 1px solid gray;box-sizing: border-box;top: 0;bottom: 0;left: 50%;z-index: 0;}#sk-container-id-1 div.sk-serial {display: flex;flex-direction: column;align-items: center;background-color: white;padding-right: 0.2em;padding-left: 0.2em;position: relative;}#sk-container-id-1 div.sk-item {position: relative;z-index: 1;}#sk-container-id-1 div.sk-parallel {display: flex;align-items: stretch;justify-content: center;background-color: white;position: relative;}#sk-container-id-1 div.sk-item::before, #sk-container-id-1 div.sk-parallel-item::before {content: \"\";position: absolute;border-left: 1px solid gray;box-sizing: border-box;top: 0;bottom: 0;left: 50%;z-index: -1;}#sk-container-id-1 div.sk-parallel-item {display: flex;flex-direction: column;z-index: 1;position: relative;background-color: white;}#sk-container-id-1 div.sk-parallel-item:first-child::after {align-self: flex-end;width: 50%;}#sk-container-id-1 div.sk-parallel-item:last-child::after {align-self: flex-start;width: 50%;}#sk-container-id-1 div.sk-parallel-item:only-child::after {width: 0;}#sk-container-id-1 div.sk-dashed-wrapped {border: 1px dashed gray;margin: 0 0.4em 0.5em 0.4em;box-sizing: border-box;padding-bottom: 0.4em;background-color: white;}#sk-container-id-1 div.sk-label label {font-family: monospace;font-weight: bold;display: inline-block;line-height: 1.2em;}#sk-container-id-1 div.sk-label-container {text-align: center;}#sk-container-id-1 div.sk-container {/* jupyter's `normalize.less` sets `[hidden] { display: none; }` but bootstrap.min.css set `[hidden] { display: none !important; }` so we also need the `!important` here to be able to override the default hidden behavior on the sphinx rendered scikit-learn.org. See: https://github.com/scikit-learn/scikit-learn/issues/21755 */display: inline-block !important;position: relative;}#sk-container-id-1 div.sk-text-repr-fallback {display: none;}</style><div id=\"sk-container-id-1\" class=\"sk-top-container\"><div class=\"sk-text-repr-fallback\"><pre>GradientBoostingClassifier(min_samples_split=10, n_estimators=500)</pre><b>In a Jupyter environment, please rerun this cell to show the HTML representation or trust the notebook. <br />On GitHub, the HTML representation is unable to render, please try loading this page with nbviewer.org.</b></div><div class=\"sk-container\" hidden><div class=\"sk-item\"><div class=\"sk-estimator sk-toggleable\"><input class=\"sk-toggleable__control sk-hidden--visually\" id=\"sk-estimator-id-1\" type=\"checkbox\" checked><label for=\"sk-estimator-id-1\" class=\"sk-toggleable__label sk-toggleable__label-arrow\">GradientBoostingClassifier</label><div class=\"sk-toggleable__content\"><pre>GradientBoostingClassifier(min_samples_split=10, n_estimators=500)</pre></div></div></div></div></div>"
      ],
      "text/plain": [
       "GradientBoostingClassifier(min_samples_split=10, n_estimators=500)"
      ]
     },
     "execution_count": 18,
     "metadata": {},
     "output_type": "execute_result"
    }
   ],
   "source": [
    "gbr.fit(X_train, y_train)"
   ]
  },
  {
   "cell_type": "markdown",
   "metadata": {},
   "source": [
    "### metrics"
   ]
  },
  {
   "cell_type": "code",
   "execution_count": 19,
   "metadata": {},
   "outputs": [],
   "source": [
    "# next is 2 min / met parameter meer dan 63 min n_jobs=1 / n_jobs=-1 zou 6 x zo snel moeten gaan dan / now is 5 min"
   ]
  },
  {
   "cell_type": "code",
   "execution_count": 20,
   "metadata": {},
   "outputs": [
    {
     "data": {
      "text/plain": [
       "0.6972365234406325"
      ]
     },
     "execution_count": 20,
     "metadata": {},
     "output_type": "execute_result"
    }
   ],
   "source": [
    "cross_val_score(gbr, X_train, y_train, cv=3, n_jobs=-1).mean()"
   ]
  },
  {
   "cell_type": "code",
   "execution_count": 21,
   "metadata": {},
   "outputs": [],
   "source": [
    "y_pred = gbr.predict(X_test)"
   ]
  },
  {
   "cell_type": "code",
   "execution_count": 22,
   "metadata": {},
   "outputs": [],
   "source": [
    "from sklearn.metrics import accuracy_score"
   ]
  },
  {
   "cell_type": "code",
   "execution_count": 23,
   "metadata": {},
   "outputs": [
    {
     "name": "stdout",
     "output_type": "stream",
     "text": [
      "DNN Accuracy: 0.7035076745416927\n"
     ]
    }
   ],
   "source": [
    "y_pred = gbr.predict(X_test)\n",
    "y_pred_classes = y_pred\n",
    "y_test_classes = y_test\n",
    "print(\"DNN Accuracy:\", accuracy_score(y_test_classes, y_pred_classes))"
   ]
  },
  {
   "cell_type": "code",
   "execution_count": 24,
   "metadata": {},
   "outputs": [
    {
     "data": {
      "text/plain": [
       "0.7035076745416927"
      ]
     },
     "execution_count": 24,
     "metadata": {},
     "output_type": "execute_result"
    }
   ],
   "source": [
    "gbr.score(X_test, y_test)"
   ]
  },
  {
   "cell_type": "code",
   "execution_count": 25,
   "metadata": {},
   "outputs": [],
   "source": [
    "from sklearn.metrics import classification_report"
   ]
  },
  {
   "cell_type": "code",
   "execution_count": 26,
   "metadata": {},
   "outputs": [
    {
     "name": "stdout",
     "output_type": "stream",
     "text": [
      "              precision    recall  f1-score   support\n",
      "\n",
      "       False       0.70      0.70      0.70     10322\n",
      "        True       0.71      0.70      0.70     10461\n",
      "\n",
      "    accuracy                           0.70     20783\n",
      "   macro avg       0.70      0.70      0.70     20783\n",
      "weighted avg       0.70      0.70      0.70     20783\n",
      "\n"
     ]
    }
   ],
   "source": [
    "print(classification_report(y_test, y_pred))"
   ]
  },
  {
   "cell_type": "code",
   "execution_count": 27,
   "metadata": {},
   "outputs": [],
   "source": [
    "from sklearn.metrics import accuracy_score, recall_score, precision_score, f1_score"
   ]
  },
  {
   "cell_type": "code",
   "execution_count": 28,
   "metadata": {},
   "outputs": [
    {
     "name": "stdout",
     "output_type": "stream",
     "text": [
      "accuracy 0.7035076745416927\n",
      "recall 0.7031832520791511\n",
      "precision 0.7064246614808413\n",
      "f1 0.7048002299511353\n"
     ]
    }
   ],
   "source": [
    "accuracy = accuracy_score(y_test, y_pred)\n",
    "recall = recall_score(y_test, y_pred)\n",
    "precision = precision_score(y_test, y_pred)\n",
    "f1 = f1_score(y_test, y_pred)\n",
    "\n",
    "print(\"accuracy\", accuracy)\n",
    "print(\"recall\", recall)\n",
    "print(\"precision\", precision)\n",
    "print(\"f1\", f1)"
   ]
  },
  {
   "cell_type": "markdown",
   "metadata": {},
   "source": [
    "### Confusion matrix"
   ]
  },
  {
   "cell_type": "code",
   "execution_count": 29,
   "metadata": {},
   "outputs": [],
   "source": [
    "from sklearn.metrics import confusion_matrix"
   ]
  },
  {
   "cell_type": "code",
   "execution_count": 30,
   "metadata": {},
   "outputs": [
    {
     "name": "stdout",
     "output_type": "stream",
     "text": [
      "[[7265 3057]\n",
      " [3105 7356]]\n"
     ]
    }
   ],
   "source": [
    "print(confusion_matrix(y_test, y_pred))"
   ]
  },
  {
   "cell_type": "code",
   "execution_count": 31,
   "metadata": {},
   "outputs": [
    {
     "name": "stdout",
     "output_type": "stream",
     "text": [
      "[[7265 3057]\n",
      " [3105 7356]]\n",
      "0.7035076745416927\n"
     ]
    },
    {
     "data": {
      "image/png": "[encoded data removed]",
      "text/plain": [
       "<Figure size 640x480 with 2 Axes>"
      ]
     },
     "metadata": {},
     "output_type": "display_data"
    }
   ],
   "source": [
    "cm = confusion_matrix(y_test, y_pred)\n",
    "accuracy = accuracy_score(y_test, y_pred)\n",
    "print(cm)\n",
    "print(accuracy)\n",
    "labels = list(y_train.keys())\n",
    "\n",
    "s = sns.heatmap(cm, cmap='YlGnBu', annot=True, fmt=\".0f\")\n",
    "s.set_xlabel(\"predicted\")\n",
    "s.set_ylabel(\"true\")\n",
    "plt.show()\n"
   ]
  },
  {
   "cell_type": "markdown",
   "metadata": {},
   "source": [
    "## ROC curve"
   ]
  },
  {
   "cell_type": "code",
   "execution_count": 32,
   "metadata": {},
   "outputs": [
    {
     "name": "stdout",
     "output_type": "stream",
     "text": [
      "[0.11441466 0.3650892  0.76869271 0.54579104 0.58222631 0.79220984\n",
      " 0.79340616 0.22325509 0.52335824 0.45343332 0.60294455 0.50171561\n",
      " 0.08172351 0.89017661 0.7742607  0.91319874 0.25299084 0.37130872\n",
      " 0.18228435 0.75493392 0.06445253 0.07853441 0.77759045 0.87176621\n",
      " 0.55061859 0.4210469  0.58796825 0.41178186 0.2605967  0.55082454\n",
      " 0.48497706 0.74706957 0.84734525 0.500854   0.35758383 0.68299941\n",
      " 0.38250701 0.77752984 0.18506429 0.68107262 0.76483951 0.13884263\n",
      " 0.18548565 0.82674181 0.13706488 0.47510402 0.3450763  0.73426664\n",
      " 0.05284555 0.49660936 0.66898146 0.49396612 0.5869002  0.27350771\n",
      " 0.23706429 0.91695782 0.22854572 0.56573482 0.59273425 0.10462153\n",
      " 0.42434087 0.50525067 0.15621825 0.46727466 0.61363401 0.674668\n",
      " 0.58556998 0.63925692 0.73898619 0.65731637 0.36956891 0.68374666\n",
      " 0.06982055 0.74415984 0.56887334 0.3913033  0.64418452 0.33549892\n",
      " 0.64259523 0.35470715 0.51606054 0.76173808 0.25777741 0.52272055\n",
      " 0.67112337 0.16326991 0.21997522 0.45803257 0.44160649 0.46622451\n",
      " 0.111229   0.31026707 0.67733369 0.41941579 0.61060329 0.34385125\n",
      " 0.3551136  0.72805809 0.96601719 0.71058825]\n",
      "ROC AUC Score: 0.778\n"
     ]
    },
    {
     "data": {
      "image/png": "[encoded data removed]",
      "text/plain": [
       "<Figure size 640x480 with 1 Axes>"
      ]
     },
     "metadata": {},
     "output_type": "display_data"
    }
   ],
   "source": [
    "from sklearn.metrics import roc_auc_score, roc_curve\n",
    "\n",
    "y_pred_proba = gbr.predict_proba(X_test)[:, 1]\n",
    "print(y_pred_proba[:100]) \n",
    "\n",
    "roc_auc = roc_auc_score(y_test, y_pred_proba)\n",
    "print(f\"ROC AUC Score: {roc_auc:.3f}\")\n",
    "\n",
    "fpr, tpr, thresholds = roc_curve(y_test, y_pred_proba)\n",
    "\n",
    "plt.plot(fpr, tpr, label=f\"AUC = {roc_auc:.3f}\")\n",
    "plt.plot([0, 1], [0, 1], 'k--')\n",
    "plt.xlabel('False Positive Rate')\n",
    "plt.ylabel('True Positive Rate')\n",
    "plt.title('ROC Curve')\n",
    "plt.legend()\n",
    "plt.show()"
   ]
  },
  {
   "cell_type": "markdown",
   "metadata": {},
   "source": [
    "### features"
   ]
  },
  {
   "cell_type": "code",
   "execution_count": 33,
   "metadata": {},
   "outputs": [],
   "source": [
    "features = pd.DataFrame(gbr.feature_importances_, index = X_players_ranked.columns)"
   ]
  },
  {
   "cell_type": "code",
   "execution_count": 34,
   "metadata": {},
   "outputs": [
    {
     "data": {
      "text/html": [
       "<div>\n",
       "<style scoped>\n",
       "    .dataframe tbody tr th:only-of-type {\n",
       "        vertical-align: middle;\n",
       "    }\n",
       "\n",
       "    .dataframe tbody tr th {\n",
       "        vertical-align: top;\n",
       "    }\n",
       "\n",
       "    .dataframe thead th {\n",
       "        text-align: right;\n",
       "    }\n",
       "</style>\n",
       "<table border=\"1\" class=\"dataframe\">\n",
       "  <thead>\n",
       "    <tr style=\"text-align: right;\">\n",
       "      <th></th>\n",
       "      <th>0</th>\n",
       "    </tr>\n",
       "  </thead>\n",
       "  <tbody>\n",
       "    <tr>\n",
       "      <th>positioning_percent_infront_ball</th>\n",
       "      <td>0.212265</td>\n",
       "    </tr>\n",
       "    <tr>\n",
       "      <th>positioning_percent_behind_ball</th>\n",
       "      <td>0.170882</td>\n",
       "    </tr>\n",
       "    <tr>\n",
       "      <th>positioning_time_infront_ball</th>\n",
       "      <td>0.106202</td>\n",
       "    </tr>\n",
       "    <tr>\n",
       "      <th>positioning_percent_most_forward</th>\n",
       "      <td>0.075080</td>\n",
       "    </tr>\n",
       "    <tr>\n",
       "      <th>positioning_time_most_forward</th>\n",
       "      <td>0.058641</td>\n",
       "    </tr>\n",
       "    <tr>\n",
       "      <th>positioning_percent_offensive_third</th>\n",
       "      <td>0.049528</td>\n",
       "    </tr>\n",
       "    <tr>\n",
       "      <th>positioning_percent_most_back</th>\n",
       "      <td>0.035642</td>\n",
       "    </tr>\n",
       "    <tr>\n",
       "      <th>positioning_avg_distance_to_ball_possession</th>\n",
       "      <td>0.031096</td>\n",
       "    </tr>\n",
       "    <tr>\n",
       "      <th>positioning_time_offensive_third</th>\n",
       "      <td>0.028832</td>\n",
       "    </tr>\n",
       "    <tr>\n",
       "      <th>positioning_time_most_back</th>\n",
       "      <td>0.027643</td>\n",
       "    </tr>\n",
       "    <tr>\n",
       "      <th>positioning_percent_closest_to_ball</th>\n",
       "      <td>0.014016</td>\n",
       "    </tr>\n",
       "    <tr>\n",
       "      <th>positioning_avg_distance_to_ball_no_possession</th>\n",
       "      <td>0.013456</td>\n",
       "    </tr>\n",
       "    <tr>\n",
       "      <th>positioning_time_offensive_half</th>\n",
       "      <td>0.012346</td>\n",
       "    </tr>\n",
       "    <tr>\n",
       "      <th>positioning_percent_offensive_half</th>\n",
       "      <td>0.011959</td>\n",
       "    </tr>\n",
       "    <tr>\n",
       "      <th>positioning_time_behind_ball</th>\n",
       "      <td>0.009927</td>\n",
       "    </tr>\n",
       "    <tr>\n",
       "      <th>positioning_avg_distance_to_ball</th>\n",
       "      <td>0.009740</td>\n",
       "    </tr>\n",
       "    <tr>\n",
       "      <th>positioning_time_closest_to_ball</th>\n",
       "      <td>0.009672</td>\n",
       "    </tr>\n",
       "    <tr>\n",
       "      <th>positioning_avg_distance_to_mates</th>\n",
       "      <td>0.008739</td>\n",
       "    </tr>\n",
       "    <tr>\n",
       "      <th>positioning_percent_defensive_third</th>\n",
       "      <td>0.008664</td>\n",
       "    </tr>\n",
       "    <tr>\n",
       "      <th>movement_time_high_air</th>\n",
       "      <td>0.008104</td>\n",
       "    </tr>\n",
       "    <tr>\n",
       "      <th>movement_total_distance</th>\n",
       "      <td>0.007625</td>\n",
       "    </tr>\n",
       "    <tr>\n",
       "      <th>positioning_time_defensive_third</th>\n",
       "      <td>0.005988</td>\n",
       "    </tr>\n",
       "    <tr>\n",
       "      <th>movement_percent_ground</th>\n",
       "      <td>0.005741</td>\n",
       "    </tr>\n",
       "    <tr>\n",
       "      <th>movement_count_powerslide</th>\n",
       "      <td>0.005417</td>\n",
       "    </tr>\n",
       "    <tr>\n",
       "      <th>movement_percent_high_air</th>\n",
       "      <td>0.005296</td>\n",
       "    </tr>\n",
       "    <tr>\n",
       "      <th>positioning_time_neutral_third</th>\n",
       "      <td>0.005138</td>\n",
       "    </tr>\n",
       "    <tr>\n",
       "      <th>positioning_percent_farthest_from_ball</th>\n",
       "      <td>0.004538</td>\n",
       "    </tr>\n",
       "    <tr>\n",
       "      <th>movement_time_boost_speed</th>\n",
       "      <td>0.004495</td>\n",
       "    </tr>\n",
       "    <tr>\n",
       "      <th>movement_time_powerslide</th>\n",
       "      <td>0.004485</td>\n",
       "    </tr>\n",
       "    <tr>\n",
       "      <th>positioning_time_defensive_half</th>\n",
       "      <td>0.004465</td>\n",
       "    </tr>\n",
       "    <tr>\n",
       "      <th>movement_percent_supersonic_speed</th>\n",
       "      <td>0.004146</td>\n",
       "    </tr>\n",
       "    <tr>\n",
       "      <th>movement_time_supersonic_speed</th>\n",
       "      <td>0.003952</td>\n",
       "    </tr>\n",
       "    <tr>\n",
       "      <th>movement_time_ground</th>\n",
       "      <td>0.003782</td>\n",
       "    </tr>\n",
       "    <tr>\n",
       "      <th>positioning_percent_neutral_third</th>\n",
       "      <td>0.003716</td>\n",
       "    </tr>\n",
       "    <tr>\n",
       "      <th>movement_percent_low_air</th>\n",
       "      <td>0.003623</td>\n",
       "    </tr>\n",
       "    <tr>\n",
       "      <th>positioning_time_farthest_from_ball</th>\n",
       "      <td>0.003603</td>\n",
       "    </tr>\n",
       "    <tr>\n",
       "      <th>movement_time_low_air</th>\n",
       "      <td>0.003291</td>\n",
       "    </tr>\n",
       "    <tr>\n",
       "      <th>movement_time_slow_speed</th>\n",
       "      <td>0.003276</td>\n",
       "    </tr>\n",
       "    <tr>\n",
       "      <th>movement_avg_powerslide_duration</th>\n",
       "      <td>0.003185</td>\n",
       "    </tr>\n",
       "    <tr>\n",
       "      <th>positioning_percent_defensive_half</th>\n",
       "      <td>0.002958</td>\n",
       "    </tr>\n",
       "    <tr>\n",
       "      <th>movement_percent_slow_speed</th>\n",
       "      <td>0.002601</td>\n",
       "    </tr>\n",
       "    <tr>\n",
       "      <th>movement_percent_boost_speed</th>\n",
       "      <td>0.002463</td>\n",
       "    </tr>\n",
       "    <tr>\n",
       "      <th>movement_avg_speed</th>\n",
       "      <td>0.002019</td>\n",
       "    </tr>\n",
       "    <tr>\n",
       "      <th>movement_avg_speed_percentage</th>\n",
       "      <td>0.001763</td>\n",
       "    </tr>\n",
       "  </tbody>\n",
       "</table>\n",
       "</div>"
      ],
      "text/plain": [
       "                                                       0\n",
       "positioning_percent_infront_ball                0.212265\n",
       "positioning_percent_behind_ball                 0.170882\n",
       "positioning_time_infront_ball                   0.106202\n",
       "positioning_percent_most_forward                0.075080\n",
       "positioning_time_most_forward                   0.058641\n",
       "positioning_percent_offensive_third             0.049528\n",
       "positioning_percent_most_back                   0.035642\n",
       "positioning_avg_distance_to_ball_possession     0.031096\n",
       "positioning_time_offensive_third                0.028832\n",
       "positioning_time_most_back                      0.027643\n",
       "positioning_percent_closest_to_ball             0.014016\n",
       "positioning_avg_distance_to_ball_no_possession  0.013456\n",
       "positioning_time_offensive_half                 0.012346\n",
       "positioning_percent_offensive_half              0.011959\n",
       "positioning_time_behind_ball                    0.009927\n",
       "positioning_avg_distance_to_ball                0.009740\n",
       "positioning_time_closest_to_ball                0.009672\n",
       "positioning_avg_distance_to_mates               0.008739\n",
       "positioning_percent_defensive_third             0.008664\n",
       "movement_time_high_air                          0.008104\n",
       "movement_total_distance                         0.007625\n",
       "positioning_time_defensive_third                0.005988\n",
       "movement_percent_ground                         0.005741\n",
       "movement_count_powerslide                       0.005417\n",
       "movement_percent_high_air                       0.005296\n",
       "positioning_time_neutral_third                  0.005138\n",
       "positioning_percent_farthest_from_ball          0.004538\n",
       "movement_time_boost_speed                       0.004495\n",
       "movement_time_powerslide                        0.004485\n",
       "positioning_time_defensive_half                 0.004465\n",
       "movement_percent_supersonic_speed               0.004146\n",
       "movement_time_supersonic_speed                  0.003952\n",
       "movement_time_ground                            0.003782\n",
       "positioning_percent_neutral_third               0.003716\n",
       "movement_percent_low_air                        0.003623\n",
       "positioning_time_farthest_from_ball             0.003603\n",
       "movement_time_low_air                           0.003291\n",
       "movement_time_slow_speed                        0.003276\n",
       "movement_avg_powerslide_duration                0.003185\n",
       "positioning_percent_defensive_half              0.002958\n",
       "movement_percent_slow_speed                     0.002601\n",
       "movement_percent_boost_speed                    0.002463\n",
       "movement_avg_speed                              0.002019\n",
       "movement_avg_speed_percentage                   0.001763"
      ]
     },
     "execution_count": 34,
     "metadata": {},
     "output_type": "execute_result"
    }
   ],
   "source": [
    "features.sort_values(0, ascending=False)"
   ]
  },
  {
   "cell_type": "markdown",
   "metadata": {},
   "source": [
    "# Model 2 -------------------------------------------------"
   ]
  },
  {
   "cell_type": "code",
   "execution_count": 35,
   "metadata": {},
   "outputs": [],
   "source": [
    "from sklearn.model_selection import cross_val_score\n",
    "from sklearn.ensemble import GradientBoostingClassifier"
   ]
  },
  {
   "cell_type": "code",
   "execution_count": 36,
   "metadata": {},
   "outputs": [],
   "source": [
    "gbr2 = GradientBoostingClassifier(\n",
    "    n_estimators=500,\n",
    "    min_samples_split=10,\n",
    "    learning_rate= 0.1,\n",
    "    max_depth=7\n",
    ")"
   ]
  },
  {
   "cell_type": "code",
   "execution_count": 37,
   "metadata": {},
   "outputs": [],
   "source": [
    "# next is 1 min / now depth=7 is 16 min / depth=9 9 min"
   ]
  },
  {
   "cell_type": "code",
   "execution_count": 38,
   "metadata": {},
   "outputs": [
    {
     "data": {
      "text/html": [
       "<style>#sk-container-id-2 {color: black;background-color: white;}#sk-container-id-2 pre{padding: 0;}#sk-container-id-2 div.sk-toggleable {background-color: white;}#sk-container-id-2 label.sk-toggleable__label {cursor: pointer;display: block;width: 100%;margin-bottom: 0;padding: 0.3em;box-sizing: border-box;text-align: center;}#sk-container-id-2 label.sk-toggleable__label-arrow:before {content: \"▸\";float: left;margin-right: 0.25em;color: #696969;}#sk-container-id-2 label.sk-toggleable__label-arrow:hover:before {color: black;}#sk-container-id-2 div.sk-estimator:hover label.sk-toggleable__label-arrow:before {color: black;}#sk-container-id-2 div.sk-toggleable__content {max-height: 0;max-width: 0;overflow: hidden;text-align: left;background-color: #f0f8ff;}#sk-container-id-2 div.sk-toggleable__content pre {margin: 0.2em;color: black;border-radius: 0.25em;background-color: #f0f8ff;}#sk-container-id-2 input.sk-toggleable__control:checked~div.sk-toggleable__content {max-height: 200px;max-width: 100%;overflow: auto;}#sk-container-id-2 input.sk-toggleable__control:checked~label.sk-toggleable__label-arrow:before {content: \"▾\";}#sk-container-id-2 div.sk-estimator input.sk-toggleable__control:checked~label.sk-toggleable__label {background-color: #d4ebff;}#sk-container-id-2 div.sk-label input.sk-toggleable__control:checked~label.sk-toggleable__label {background-color: #d4ebff;}#sk-container-id-2 input.sk-hidden--visually {border: 0;clip: rect(1px 1px 1px 1px);clip: rect(1px, 1px, 1px, 1px);height: 1px;margin: -1px;overflow: hidden;padding: 0;position: absolute;width: 1px;}#sk-container-id-2 div.sk-estimator {font-family: monospace;background-color: #f0f8ff;border: 1px dotted black;border-radius: 0.25em;box-sizing: border-box;margin-bottom: 0.5em;}#sk-container-id-2 div.sk-estimator:hover {background-color: #d4ebff;}#sk-container-id-2 div.sk-parallel-item::after {content: \"\";width: 100%;border-bottom: 1px solid gray;flex-grow: 1;}#sk-container-id-2 div.sk-label:hover label.sk-toggleable__label {background-color: #d4ebff;}#sk-container-id-2 div.sk-serial::before {content: \"\";position: absolute;border-left: 1px solid gray;box-sizing: border-box;top: 0;bottom: 0;left: 50%;z-index: 0;}#sk-container-id-2 div.sk-serial {display: flex;flex-direction: column;align-items: center;background-color: white;padding-right: 0.2em;padding-left: 0.2em;position: relative;}#sk-container-id-2 div.sk-item {position: relative;z-index: 1;}#sk-container-id-2 div.sk-parallel {display: flex;align-items: stretch;justify-content: center;background-color: white;position: relative;}#sk-container-id-2 div.sk-item::before, #sk-container-id-2 div.sk-parallel-item::before {content: \"\";position: absolute;border-left: 1px solid gray;box-sizing: border-box;top: 0;bottom: 0;left: 50%;z-index: -1;}#sk-container-id-2 div.sk-parallel-item {display: flex;flex-direction: column;z-index: 1;position: relative;background-color: white;}#sk-container-id-2 div.sk-parallel-item:first-child::after {align-self: flex-end;width: 50%;}#sk-container-id-2 div.sk-parallel-item:last-child::after {align-self: flex-start;width: 50%;}#sk-container-id-2 div.sk-parallel-item:only-child::after {width: 0;}#sk-container-id-2 div.sk-dashed-wrapped {border: 1px dashed gray;margin: 0 0.4em 0.5em 0.4em;box-sizing: border-box;padding-bottom: 0.4em;background-color: white;}#sk-container-id-2 div.sk-label label {font-family: monospace;font-weight: bold;display: inline-block;line-height: 1.2em;}#sk-container-id-2 div.sk-label-container {text-align: center;}#sk-container-id-2 div.sk-container {/* jupyter's `normalize.less` sets `[hidden] { display: none; }` but bootstrap.min.css set `[hidden] { display: none !important; }` so we also need the `!important` here to be able to override the default hidden behavior on the sphinx rendered scikit-learn.org. See: https://github.com/scikit-learn/scikit-learn/issues/21755 */display: inline-block !important;position: relative;}#sk-container-id-2 div.sk-text-repr-fallback {display: none;}</style><div id=\"sk-container-id-2\" class=\"sk-top-container\"><div class=\"sk-text-repr-fallback\"><pre>GradientBoostingClassifier(max_depth=7, min_samples_split=10, n_estimators=500)</pre><b>In a Jupyter environment, please rerun this cell to show the HTML representation or trust the notebook. <br />On GitHub, the HTML representation is unable to render, please try loading this page with nbviewer.org.</b></div><div class=\"sk-container\" hidden><div class=\"sk-item\"><div class=\"sk-estimator sk-toggleable\"><input class=\"sk-toggleable__control sk-hidden--visually\" id=\"sk-estimator-id-2\" type=\"checkbox\" checked><label for=\"sk-estimator-id-2\" class=\"sk-toggleable__label sk-toggleable__label-arrow\">GradientBoostingClassifier</label><div class=\"sk-toggleable__content\"><pre>GradientBoostingClassifier(max_depth=7, min_samples_split=10, n_estimators=500)</pre></div></div></div></div></div>"
      ],
      "text/plain": [
       "GradientBoostingClassifier(max_depth=7, min_samples_split=10, n_estimators=500)"
      ]
     },
     "execution_count": 38,
     "metadata": {},
     "output_type": "execute_result"
    }
   ],
   "source": [
    "gbr2.fit(X_train, y_train)"
   ]
  },
  {
   "cell_type": "markdown",
   "metadata": {},
   "source": [
    "### metrics"
   ]
  },
  {
   "cell_type": "code",
   "execution_count": 39,
   "metadata": {},
   "outputs": [],
   "source": [
    "# next is 2 min / 11 min / "
   ]
  },
  {
   "cell_type": "code",
   "execution_count": 40,
   "metadata": {},
   "outputs": [
    {
     "data": {
      "text/plain": [
       "0.6973969109368233"
      ]
     },
     "execution_count": 40,
     "metadata": {},
     "output_type": "execute_result"
    }
   ],
   "source": [
    "cross_val_score(gbr2, X_train, y_train, cv=3, n_jobs=-1).mean()"
   ]
  },
  {
   "cell_type": "code",
   "execution_count": 41,
   "metadata": {},
   "outputs": [],
   "source": [
    "y_pred2 = gbr2.predict(X_test)"
   ]
  },
  {
   "cell_type": "code",
   "execution_count": 42,
   "metadata": {},
   "outputs": [],
   "source": [
    "from sklearn.metrics import accuracy_score"
   ]
  },
  {
   "cell_type": "code",
   "execution_count": 43,
   "metadata": {},
   "outputs": [
    {
     "name": "stdout",
     "output_type": "stream",
     "text": [
      "DNN Accuracy: 0.7104364143771351\n"
     ]
    }
   ],
   "source": [
    "y_pred2 = gbr2.predict(X_test)\n",
    "y_pred_classes = y_pred2\n",
    "y_test_classes = y_test\n",
    "print(\"DNN Accuracy:\", accuracy_score(y_test_classes, y_pred_classes))"
   ]
  },
  {
   "cell_type": "code",
   "execution_count": 44,
   "metadata": {},
   "outputs": [
    {
     "data": {
      "text/plain": [
       "0.7104364143771351"
      ]
     },
     "execution_count": 44,
     "metadata": {},
     "output_type": "execute_result"
    }
   ],
   "source": [
    "gbr2.score(X_test, y_test)"
   ]
  },
  {
   "cell_type": "code",
   "execution_count": 45,
   "metadata": {},
   "outputs": [],
   "source": [
    "from sklearn.metrics import classification_report"
   ]
  },
  {
   "cell_type": "code",
   "execution_count": 46,
   "metadata": {},
   "outputs": [
    {
     "name": "stdout",
     "output_type": "stream",
     "text": [
      "              precision    recall  f1-score   support\n",
      "\n",
      "       False       0.71      0.71      0.71     10322\n",
      "        True       0.71      0.71      0.71     10461\n",
      "\n",
      "    accuracy                           0.71     20783\n",
      "   macro avg       0.71      0.71      0.71     20783\n",
      "weighted avg       0.71      0.71      0.71     20783\n",
      "\n"
     ]
    }
   ],
   "source": [
    "print(classification_report(y_test, y_pred2))"
   ]
  },
  {
   "cell_type": "code",
   "execution_count": 47,
   "metadata": {},
   "outputs": [],
   "source": [
    "from sklearn.metrics import accuracy_score, recall_score, precision_score, f1_score"
   ]
  },
  {
   "cell_type": "code",
   "execution_count": 48,
   "metadata": {},
   "outputs": [
    {
     "name": "stdout",
     "output_type": "stream",
     "text": [
      "accuracy 0.7104364143771351\n",
      "recall 0.7109262976770864\n",
      "precision 0.7129709519700892\n",
      "f1 0.7119471568064332\n"
     ]
    }
   ],
   "source": [
    "accuracy = accuracy_score(y_test, y_pred2)\n",
    "recall = recall_score(y_test, y_pred2)\n",
    "precision = precision_score(y_test, y_pred2)\n",
    "f1 = f1_score(y_test, y_pred2)\n",
    "\n",
    "print(\"accuracy\", accuracy)\n",
    "print(\"recall\", recall)\n",
    "print(\"precision\", precision)\n",
    "print(\"f1\", f1)"
   ]
  },
  {
   "cell_type": "markdown",
   "metadata": {},
   "source": [
    "### Confusion matrix"
   ]
  },
  {
   "cell_type": "code",
   "execution_count": 49,
   "metadata": {},
   "outputs": [],
   "source": [
    "from sklearn.metrics import confusion_matrix"
   ]
  },
  {
   "cell_type": "code",
   "execution_count": 50,
   "metadata": {},
   "outputs": [
    {
     "name": "stdout",
     "output_type": "stream",
     "text": [
      "[[7328 2994]\n",
      " [3024 7437]]\n"
     ]
    }
   ],
   "source": [
    "print(confusion_matrix(y_test, y_pred2))"
   ]
  },
  {
   "cell_type": "code",
   "execution_count": 51,
   "metadata": {},
   "outputs": [
    {
     "name": "stdout",
     "output_type": "stream",
     "text": [
      "[[7328 2994]\n",
      " [3024 7437]]\n",
      "0.7104364143771351\n"
     ]
    },
    {
     "data": {
      "image/png": "[encoded data removed]",
      "text/plain": [
       "<Figure size 640x480 with 2 Axes>"
      ]
     },
     "metadata": {},
     "output_type": "display_data"
    }
   ],
   "source": [
    "cm = confusion_matrix(y_test, y_pred2)\n",
    "accuracy = accuracy_score(y_test, y_pred2)\n",
    "print(cm)\n",
    "print(accuracy)\n",
    "labels = list(y_train.keys())\n",
    "\n",
    "s = sns.heatmap(cm, cmap='YlGnBu', annot=True, fmt=\".0f\")\n",
    "s.set_xlabel(\"predicted\")\n",
    "s.set_ylabel(\"true\")\n",
    "plt.show()\n"
   ]
  },
  {
   "cell_type": "markdown",
   "metadata": {},
   "source": [
    "## ROC curve"
   ]
  },
  {
   "cell_type": "code",
   "execution_count": 52,
   "metadata": {},
   "outputs": [
    {
     "name": "stdout",
     "output_type": "stream",
     "text": [
      "[0.08893931 0.22613498 0.75444887 0.49838905 0.78754443 0.74947051\n",
      " 0.82366314 0.27148174 0.74946139 0.13712187 0.59162331 0.42787575\n",
      " 0.07503832 0.9427587  0.79380472 0.9668915  0.13043365 0.51970874\n",
      " 0.40145351 0.68440089 0.07589464 0.06979562 0.43175883 0.84407249\n",
      " 0.39793511 0.33635626 0.55720657 0.20549881 0.09482247 0.59203234\n",
      " 0.6342573  0.91687903 0.82292882 0.71009384 0.33638733 0.61447874\n",
      " 0.32694234 0.30270856 0.18390459 0.80829269 0.87732357 0.16230648\n",
      " 0.12099368 0.77365232 0.06993687 0.34742059 0.45203801 0.8122087\n",
      " 0.0307571  0.51306579 0.71761158 0.56292503 0.52498601 0.27830675\n",
      " 0.17865708 0.96614348 0.09085281 0.55413102 0.50651452 0.06106386\n",
      " 0.41707955 0.69731356 0.13456318 0.47287153 0.58686177 0.84240424\n",
      " 0.47066442 0.78090332 0.88943651 0.56703236 0.35788148 0.7174801\n",
      " 0.04719771 0.93399707 0.55910138 0.25806021 0.52195033 0.36895656\n",
      " 0.56512268 0.25323288 0.3251368  0.96160694 0.17643199 0.51281821\n",
      " 0.84068837 0.1489037  0.15428736 0.47545883 0.44062487 0.40264371\n",
      " 0.06795696 0.66005947 0.83285776 0.38584898 0.56652677 0.22997364\n",
      " 0.53769189 0.65656974 0.99255932 0.61527502]\n",
      "ROC AUC Score: 0.783\n"
     ]
    },
    {
     "data": {
      "image/png": "[encoded data removed]",
      "text/plain": [
       "<Figure size 640x480 with 1 Axes>"
      ]
     },
     "metadata": {},
     "output_type": "display_data"
    }
   ],
   "source": [
    "from sklearn.metrics import roc_auc_score, roc_curve\n",
    "\n",
    "y_pred_proba = gbr2.predict_proba(X_test)[:, 1]\n",
    "print(y_pred_proba[:100]) \n",
    "\n",
    "roc_auc = roc_auc_score(y_test, y_pred_proba)\n",
    "print(f\"ROC AUC Score: {roc_auc:.3f}\")\n",
    "\n",
    "fpr, tpr, thresholds = roc_curve(y_test, y_pred_proba)\n",
    "\n",
    "plt.plot(fpr, tpr, label=f\"AUC = {roc_auc:.3f}\")\n",
    "plt.plot([0, 1], [0, 1], 'k--')\n",
    "plt.xlabel('False Positive Rate')\n",
    "plt.ylabel('True Positive Rate')\n",
    "plt.title('ROC Curve')\n",
    "plt.legend()\n",
    "plt.show()"
   ]
  },
  {
   "cell_type": "markdown",
   "metadata": {},
   "source": [
    "### features"
   ]
  },
  {
   "cell_type": "code",
   "execution_count": 53,
   "metadata": {},
   "outputs": [],
   "source": [
    "features = pd.DataFrame(gbr2.feature_importances_, index = X_players_ranked.columns)"
   ]
  },
  {
   "cell_type": "code",
   "execution_count": 54,
   "metadata": {},
   "outputs": [
    {
     "data": {
      "text/html": [
       "<div>\n",
       "<style scoped>\n",
       "    .dataframe tbody tr th:only-of-type {\n",
       "        vertical-align: middle;\n",
       "    }\n",
       "\n",
       "    .dataframe tbody tr th {\n",
       "        vertical-align: top;\n",
       "    }\n",
       "\n",
       "    .dataframe thead th {\n",
       "        text-align: right;\n",
       "    }\n",
       "</style>\n",
       "<table border=\"1\" class=\"dataframe\">\n",
       "  <thead>\n",
       "    <tr style=\"text-align: right;\">\n",
       "      <th></th>\n",
       "      <th>0</th>\n",
       "    </tr>\n",
       "  </thead>\n",
       "  <tbody>\n",
       "    <tr>\n",
       "      <th>positioning_percent_infront_ball</th>\n",
       "      <td>0.142792</td>\n",
       "    </tr>\n",
       "    <tr>\n",
       "      <th>positioning_percent_most_forward</th>\n",
       "      <td>0.063683</td>\n",
       "    </tr>\n",
       "    <tr>\n",
       "      <th>positioning_percent_behind_ball</th>\n",
       "      <td>0.050522</td>\n",
       "    </tr>\n",
       "    <tr>\n",
       "      <th>positioning_time_infront_ball</th>\n",
       "      <td>0.041656</td>\n",
       "    </tr>\n",
       "    <tr>\n",
       "      <th>positioning_avg_distance_to_ball_possession</th>\n",
       "      <td>0.034706</td>\n",
       "    </tr>\n",
       "    <tr>\n",
       "      <th>positioning_percent_most_back</th>\n",
       "      <td>0.034086</td>\n",
       "    </tr>\n",
       "    <tr>\n",
       "      <th>positioning_percent_offensive_third</th>\n",
       "      <td>0.033232</td>\n",
       "    </tr>\n",
       "    <tr>\n",
       "      <th>positioning_time_most_forward</th>\n",
       "      <td>0.031160</td>\n",
       "    </tr>\n",
       "    <tr>\n",
       "      <th>positioning_time_offensive_third</th>\n",
       "      <td>0.026807</td>\n",
       "    </tr>\n",
       "    <tr>\n",
       "      <th>positioning_avg_distance_to_ball_no_possession</th>\n",
       "      <td>0.026201</td>\n",
       "    </tr>\n",
       "    <tr>\n",
       "      <th>positioning_time_most_back</th>\n",
       "      <td>0.024628</td>\n",
       "    </tr>\n",
       "    <tr>\n",
       "      <th>positioning_percent_closest_to_ball</th>\n",
       "      <td>0.024482</td>\n",
       "    </tr>\n",
       "    <tr>\n",
       "      <th>positioning_avg_distance_to_mates</th>\n",
       "      <td>0.023115</td>\n",
       "    </tr>\n",
       "    <tr>\n",
       "      <th>movement_time_powerslide</th>\n",
       "      <td>0.020298</td>\n",
       "    </tr>\n",
       "    <tr>\n",
       "      <th>positioning_time_offensive_half</th>\n",
       "      <td>0.020085</td>\n",
       "    </tr>\n",
       "    <tr>\n",
       "      <th>movement_total_distance</th>\n",
       "      <td>0.019159</td>\n",
       "    </tr>\n",
       "    <tr>\n",
       "      <th>positioning_time_closest_to_ball</th>\n",
       "      <td>0.019078</td>\n",
       "    </tr>\n",
       "    <tr>\n",
       "      <th>positioning_avg_distance_to_ball</th>\n",
       "      <td>0.018774</td>\n",
       "    </tr>\n",
       "    <tr>\n",
       "      <th>movement_time_high_air</th>\n",
       "      <td>0.017902</td>\n",
       "    </tr>\n",
       "    <tr>\n",
       "      <th>positioning_percent_neutral_third</th>\n",
       "      <td>0.017106</td>\n",
       "    </tr>\n",
       "    <tr>\n",
       "      <th>movement_time_low_air</th>\n",
       "      <td>0.017085</td>\n",
       "    </tr>\n",
       "    <tr>\n",
       "      <th>positioning_time_behind_ball</th>\n",
       "      <td>0.016321</td>\n",
       "    </tr>\n",
       "    <tr>\n",
       "      <th>positioning_time_neutral_third</th>\n",
       "      <td>0.015459</td>\n",
       "    </tr>\n",
       "    <tr>\n",
       "      <th>movement_percent_high_air</th>\n",
       "      <td>0.015362</td>\n",
       "    </tr>\n",
       "    <tr>\n",
       "      <th>movement_percent_boost_speed</th>\n",
       "      <td>0.015335</td>\n",
       "    </tr>\n",
       "    <tr>\n",
       "      <th>movement_time_boost_speed</th>\n",
       "      <td>0.015178</td>\n",
       "    </tr>\n",
       "    <tr>\n",
       "      <th>positioning_percent_defensive_third</th>\n",
       "      <td>0.014940</td>\n",
       "    </tr>\n",
       "    <tr>\n",
       "      <th>movement_count_powerslide</th>\n",
       "      <td>0.014889</td>\n",
       "    </tr>\n",
       "    <tr>\n",
       "      <th>positioning_time_defensive_third</th>\n",
       "      <td>0.014746</td>\n",
       "    </tr>\n",
       "    <tr>\n",
       "      <th>positioning_percent_farthest_from_ball</th>\n",
       "      <td>0.014732</td>\n",
       "    </tr>\n",
       "    <tr>\n",
       "      <th>positioning_time_defensive_half</th>\n",
       "      <td>0.014410</td>\n",
       "    </tr>\n",
       "    <tr>\n",
       "      <th>movement_time_supersonic_speed</th>\n",
       "      <td>0.014129</td>\n",
       "    </tr>\n",
       "    <tr>\n",
       "      <th>movement_percent_ground</th>\n",
       "      <td>0.013757</td>\n",
       "    </tr>\n",
       "    <tr>\n",
       "      <th>movement_time_ground</th>\n",
       "      <td>0.013675</td>\n",
       "    </tr>\n",
       "    <tr>\n",
       "      <th>movement_percent_low_air</th>\n",
       "      <td>0.013078</td>\n",
       "    </tr>\n",
       "    <tr>\n",
       "      <th>movement_percent_supersonic_speed</th>\n",
       "      <td>0.012629</td>\n",
       "    </tr>\n",
       "    <tr>\n",
       "      <th>movement_time_slow_speed</th>\n",
       "      <td>0.012479</td>\n",
       "    </tr>\n",
       "    <tr>\n",
       "      <th>positioning_time_farthest_from_ball</th>\n",
       "      <td>0.012046</td>\n",
       "    </tr>\n",
       "    <tr>\n",
       "      <th>movement_percent_slow_speed</th>\n",
       "      <td>0.011912</td>\n",
       "    </tr>\n",
       "    <tr>\n",
       "      <th>positioning_percent_defensive_half</th>\n",
       "      <td>0.010098</td>\n",
       "    </tr>\n",
       "    <tr>\n",
       "      <th>movement_avg_powerslide_duration</th>\n",
       "      <td>0.008805</td>\n",
       "    </tr>\n",
       "    <tr>\n",
       "      <th>positioning_percent_offensive_half</th>\n",
       "      <td>0.007583</td>\n",
       "    </tr>\n",
       "    <tr>\n",
       "      <th>movement_avg_speed_percentage</th>\n",
       "      <td>0.006331</td>\n",
       "    </tr>\n",
       "    <tr>\n",
       "      <th>movement_avg_speed</th>\n",
       "      <td>0.005548</td>\n",
       "    </tr>\n",
       "  </tbody>\n",
       "</table>\n",
       "</div>"
      ],
      "text/plain": [
       "                                                       0\n",
       "positioning_percent_infront_ball                0.142792\n",
       "positioning_percent_most_forward                0.063683\n",
       "positioning_percent_behind_ball                 0.050522\n",
       "positioning_time_infront_ball                   0.041656\n",
       "positioning_avg_distance_to_ball_possession     0.034706\n",
       "positioning_percent_most_back                   0.034086\n",
       "positioning_percent_offensive_third             0.033232\n",
       "positioning_time_most_forward                   0.031160\n",
       "positioning_time_offensive_third                0.026807\n",
       "positioning_avg_distance_to_ball_no_possession  0.026201\n",
       "positioning_time_most_back                      0.024628\n",
       "positioning_percent_closest_to_ball             0.024482\n",
       "positioning_avg_distance_to_mates               0.023115\n",
       "movement_time_powerslide                        0.020298\n",
       "positioning_time_offensive_half                 0.020085\n",
       "movement_total_distance                         0.019159\n",
       "positioning_time_closest_to_ball                0.019078\n",
       "positioning_avg_distance_to_ball                0.018774\n",
       "movement_time_high_air                          0.017902\n",
       "positioning_percent_neutral_third               0.017106\n",
       "movement_time_low_air                           0.017085\n",
       "positioning_time_behind_ball                    0.016321\n",
       "positioning_time_neutral_third                  0.015459\n",
       "movement_percent_high_air                       0.015362\n",
       "movement_percent_boost_speed                    0.015335\n",
       "movement_time_boost_speed                       0.015178\n",
       "positioning_percent_defensive_third             0.014940\n",
       "movement_count_powerslide                       0.014889\n",
       "positioning_time_defensive_third                0.014746\n",
       "positioning_percent_farthest_from_ball          0.014732\n",
       "positioning_time_defensive_half                 0.014410\n",
       "movement_time_supersonic_speed                  0.014129\n",
       "movement_percent_ground                         0.013757\n",
       "movement_time_ground                            0.013675\n",
       "movement_percent_low_air                        0.013078\n",
       "movement_percent_supersonic_speed               0.012629\n",
       "movement_time_slow_speed                        0.012479\n",
       "positioning_time_farthest_from_ball             0.012046\n",
       "movement_percent_slow_speed                     0.011912\n",
       "positioning_percent_defensive_half              0.010098\n",
       "movement_avg_powerslide_duration                0.008805\n",
       "positioning_percent_offensive_half              0.007583\n",
       "movement_avg_speed_percentage                   0.006331\n",
       "movement_avg_speed                              0.005548"
      ]
     },
     "execution_count": 54,
     "metadata": {},
     "output_type": "execute_result"
    }
   ],
   "source": [
    "features.sort_values(0, ascending=False)"
   ]
  }
 ],
 "metadata": {
  "kernelspec": {
   "display_name": "marleen-rocket-league-env",
   "language": "python",
   "name": "python3"
  },
  "language_info": {
   "codemirror_mode": {
    "name": "ipython",
    "version": 3
   },
   "file_extension": ".py",
   "mimetype": "text/x-python",
   "name": "python",
   "nbconvert_exporter": "python",
   "pygments_lexer": "ipython3",
   "version": "3.9.21"
  }
 },
 "nbformat": 4,
 "nbformat_minor": 2
}
